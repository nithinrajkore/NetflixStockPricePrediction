{
 "cells": [
  {
   "cell_type": "markdown",
   "id": "17b63802",
   "metadata": {},
   "source": [
    "#### Import Required Packages"
   ]
  },
  {
   "cell_type": "code",
   "execution_count": 262,
   "id": "f2afc63a",
   "metadata": {},
   "outputs": [],
   "source": [
    "import numpy as np\n",
    "import pandas as pd\n",
    "import matplotlib.pyplot as plt\n",
    "import seaborn as sns\n",
    "\n",
    "from sklearn.model_selection import train_test_split\n",
    "from sklearn.preprocessing import StandardScaler\n",
    "\n",
    "from sklearn.linear_model import LinearRegression\n",
    "from sklearn.svm import SVR\n",
    "\n",
    "from sklearn.metrics import mean_squared_error, r2_score, mean_absolute_error\n",
    "\n",
    "\n",
    "import tensorflow as tf\n",
    "from tensorflow.keras.models import load_model, save_model\n",
    "\n",
    "import pickle\n"
   ]
  },
  {
   "cell_type": "markdown",
   "id": "e8462c74",
   "metadata": {},
   "source": [
    "#### Loading the dataset"
   ]
  },
  {
   "cell_type": "code",
   "execution_count": 2,
   "id": "aa92f39e",
   "metadata": {},
   "outputs": [
    {
     "data": {
      "text/html": [
       "<div>\n",
       "<style scoped>\n",
       "    .dataframe tbody tr th:only-of-type {\n",
       "        vertical-align: middle;\n",
       "    }\n",
       "\n",
       "    .dataframe tbody tr th {\n",
       "        vertical-align: top;\n",
       "    }\n",
       "\n",
       "    .dataframe thead th {\n",
       "        text-align: right;\n",
       "    }\n",
       "</style>\n",
       "<table border=\"1\" class=\"dataframe\">\n",
       "  <thead>\n",
       "    <tr style=\"text-align: right;\">\n",
       "      <th></th>\n",
       "      <th>Date</th>\n",
       "      <th>Open</th>\n",
       "      <th>High</th>\n",
       "      <th>Low</th>\n",
       "      <th>Close</th>\n",
       "      <th>Adj Close</th>\n",
       "      <th>Volume</th>\n",
       "    </tr>\n",
       "  </thead>\n",
       "  <tbody>\n",
       "    <tr>\n",
       "      <th>0</th>\n",
       "      <td>2018-02-05</td>\n",
       "      <td>262.000000</td>\n",
       "      <td>267.899994</td>\n",
       "      <td>250.029999</td>\n",
       "      <td>254.259995</td>\n",
       "      <td>254.259995</td>\n",
       "      <td>11896100</td>\n",
       "    </tr>\n",
       "    <tr>\n",
       "      <th>1</th>\n",
       "      <td>2018-02-06</td>\n",
       "      <td>247.699997</td>\n",
       "      <td>266.700012</td>\n",
       "      <td>245.000000</td>\n",
       "      <td>265.720001</td>\n",
       "      <td>265.720001</td>\n",
       "      <td>12595800</td>\n",
       "    </tr>\n",
       "    <tr>\n",
       "      <th>2</th>\n",
       "      <td>2018-02-07</td>\n",
       "      <td>266.579987</td>\n",
       "      <td>272.450012</td>\n",
       "      <td>264.329987</td>\n",
       "      <td>264.559998</td>\n",
       "      <td>264.559998</td>\n",
       "      <td>8981500</td>\n",
       "    </tr>\n",
       "    <tr>\n",
       "      <th>3</th>\n",
       "      <td>2018-02-08</td>\n",
       "      <td>267.079987</td>\n",
       "      <td>267.619995</td>\n",
       "      <td>250.000000</td>\n",
       "      <td>250.100006</td>\n",
       "      <td>250.100006</td>\n",
       "      <td>9306700</td>\n",
       "    </tr>\n",
       "    <tr>\n",
       "      <th>4</th>\n",
       "      <td>2018-02-09</td>\n",
       "      <td>253.850006</td>\n",
       "      <td>255.800003</td>\n",
       "      <td>236.110001</td>\n",
       "      <td>249.470001</td>\n",
       "      <td>249.470001</td>\n",
       "      <td>16906900</td>\n",
       "    </tr>\n",
       "  </tbody>\n",
       "</table>\n",
       "</div>"
      ],
      "text/plain": [
       "         Date        Open        High         Low       Close   Adj Close  \\\n",
       "0  2018-02-05  262.000000  267.899994  250.029999  254.259995  254.259995   \n",
       "1  2018-02-06  247.699997  266.700012  245.000000  265.720001  265.720001   \n",
       "2  2018-02-07  266.579987  272.450012  264.329987  264.559998  264.559998   \n",
       "3  2018-02-08  267.079987  267.619995  250.000000  250.100006  250.100006   \n",
       "4  2018-02-09  253.850006  255.800003  236.110001  249.470001  249.470001   \n",
       "\n",
       "     Volume  \n",
       "0  11896100  \n",
       "1  12595800  \n",
       "2   8981500  \n",
       "3   9306700  \n",
       "4  16906900  "
      ]
     },
     "execution_count": 2,
     "metadata": {},
     "output_type": "execute_result"
    }
   ],
   "source": [
    "dataset = pd.read_csv('NFLX.csv')\n",
    "dataset.head()"
   ]
  },
  {
   "cell_type": "code",
   "execution_count": 19,
   "id": "b24d0837",
   "metadata": {},
   "outputs": [
    {
     "data": {
      "text/html": [
       "<div>\n",
       "<style scoped>\n",
       "    .dataframe tbody tr th:only-of-type {\n",
       "        vertical-align: middle;\n",
       "    }\n",
       "\n",
       "    .dataframe tbody tr th {\n",
       "        vertical-align: top;\n",
       "    }\n",
       "\n",
       "    .dataframe thead th {\n",
       "        text-align: right;\n",
       "    }\n",
       "</style>\n",
       "<table border=\"1\" class=\"dataframe\">\n",
       "  <thead>\n",
       "    <tr style=\"text-align: right;\">\n",
       "      <th></th>\n",
       "      <th>Date</th>\n",
       "      <th>Open</th>\n",
       "      <th>High</th>\n",
       "      <th>Low</th>\n",
       "      <th>Close</th>\n",
       "      <th>Adj Close</th>\n",
       "      <th>Volume</th>\n",
       "    </tr>\n",
       "  </thead>\n",
       "  <tbody>\n",
       "    <tr>\n",
       "      <th>1004</th>\n",
       "      <td>2022-01-31</td>\n",
       "      <td>401.970001</td>\n",
       "      <td>427.700012</td>\n",
       "      <td>398.200012</td>\n",
       "      <td>427.140015</td>\n",
       "      <td>427.140015</td>\n",
       "      <td>20047500</td>\n",
       "    </tr>\n",
       "    <tr>\n",
       "      <th>1005</th>\n",
       "      <td>2022-02-01</td>\n",
       "      <td>432.959991</td>\n",
       "      <td>458.480011</td>\n",
       "      <td>425.540009</td>\n",
       "      <td>457.130005</td>\n",
       "      <td>457.130005</td>\n",
       "      <td>22542300</td>\n",
       "    </tr>\n",
       "    <tr>\n",
       "      <th>1006</th>\n",
       "      <td>2022-02-02</td>\n",
       "      <td>448.250000</td>\n",
       "      <td>451.980011</td>\n",
       "      <td>426.480011</td>\n",
       "      <td>429.480011</td>\n",
       "      <td>429.480011</td>\n",
       "      <td>14346000</td>\n",
       "    </tr>\n",
       "    <tr>\n",
       "      <th>1007</th>\n",
       "      <td>2022-02-03</td>\n",
       "      <td>421.440002</td>\n",
       "      <td>429.260010</td>\n",
       "      <td>404.279999</td>\n",
       "      <td>405.600006</td>\n",
       "      <td>405.600006</td>\n",
       "      <td>9905200</td>\n",
       "    </tr>\n",
       "    <tr>\n",
       "      <th>1008</th>\n",
       "      <td>2022-02-04</td>\n",
       "      <td>407.309998</td>\n",
       "      <td>412.769989</td>\n",
       "      <td>396.640015</td>\n",
       "      <td>410.170013</td>\n",
       "      <td>410.170013</td>\n",
       "      <td>7782400</td>\n",
       "    </tr>\n",
       "  </tbody>\n",
       "</table>\n",
       "</div>"
      ],
      "text/plain": [
       "            Date        Open        High         Low       Close   Adj Close  \\\n",
       "1004  2022-01-31  401.970001  427.700012  398.200012  427.140015  427.140015   \n",
       "1005  2022-02-01  432.959991  458.480011  425.540009  457.130005  457.130005   \n",
       "1006  2022-02-02  448.250000  451.980011  426.480011  429.480011  429.480011   \n",
       "1007  2022-02-03  421.440002  429.260010  404.279999  405.600006  405.600006   \n",
       "1008  2022-02-04  407.309998  412.769989  396.640015  410.170013  410.170013   \n",
       "\n",
       "        Volume  \n",
       "1004  20047500  \n",
       "1005  22542300  \n",
       "1006  14346000  \n",
       "1007   9905200  \n",
       "1008   7782400  "
      ]
     },
     "execution_count": 19,
     "metadata": {},
     "output_type": "execute_result"
    }
   ],
   "source": [
    "dataset.tail()"
   ]
  },
  {
   "cell_type": "code",
   "execution_count": 9,
   "id": "fac4e746",
   "metadata": {},
   "outputs": [],
   "source": [
    "# Making a copy of the dataset\n",
    "viz = dataset.copy()"
   ]
  },
  {
   "cell_type": "markdown",
   "id": "bdba1ec9",
   "metadata": {},
   "source": [
    "#### Dataset Meta Data Information"
   ]
  },
  {
   "cell_type": "code",
   "execution_count": 5,
   "id": "6fc85e3b",
   "metadata": {},
   "outputs": [
    {
     "name": "stdout",
     "output_type": "stream",
     "text": [
      "<class 'pandas.core.frame.DataFrame'>\n",
      "RangeIndex: 1009 entries, 0 to 1008\n",
      "Data columns (total 7 columns):\n",
      " #   Column     Non-Null Count  Dtype  \n",
      "---  ------     --------------  -----  \n",
      " 0   Date       1009 non-null   object \n",
      " 1   Open       1009 non-null   float64\n",
      " 2   High       1009 non-null   float64\n",
      " 3   Low        1009 non-null   float64\n",
      " 4   Close      1009 non-null   float64\n",
      " 5   Adj Close  1009 non-null   float64\n",
      " 6   Volume     1009 non-null   int64  \n",
      "dtypes: float64(5), int64(1), object(1)\n",
      "memory usage: 55.3+ KB\n",
      "None\n"
     ]
    }
   ],
   "source": [
    "print(dataset.info())"
   ]
  },
  {
   "cell_type": "markdown",
   "id": "d28c1d4f",
   "metadata": {},
   "source": [
    "#### Check for any nulls in the dataset"
   ]
  },
  {
   "cell_type": "code",
   "execution_count": 6,
   "id": "991becb2",
   "metadata": {},
   "outputs": [
    {
     "data": {
      "text/plain": [
       "Date         0\n",
       "Open         0\n",
       "High         0\n",
       "Low          0\n",
       "Close        0\n",
       "Adj Close    0\n",
       "Volume       0\n",
       "dtype: int64"
      ]
     },
     "execution_count": 6,
     "metadata": {},
     "output_type": "execute_result"
    }
   ],
   "source": [
    "dataset.isnull().sum()"
   ]
  },
  {
   "cell_type": "markdown",
   "id": "830b1b8c",
   "metadata": {},
   "source": [
    "There are no nulls in the dataset"
   ]
  },
  {
   "cell_type": "markdown",
   "id": "85ad34dd",
   "metadata": {},
   "source": [
    "#### Statisctical information "
   ]
  },
  {
   "cell_type": "code",
   "execution_count": 8,
   "id": "9f089212",
   "metadata": {},
   "outputs": [
    {
     "data": {
      "text/html": [
       "<div>\n",
       "<style scoped>\n",
       "    .dataframe tbody tr th:only-of-type {\n",
       "        vertical-align: middle;\n",
       "    }\n",
       "\n",
       "    .dataframe tbody tr th {\n",
       "        vertical-align: top;\n",
       "    }\n",
       "\n",
       "    .dataframe thead th {\n",
       "        text-align: right;\n",
       "    }\n",
       "</style>\n",
       "<table border=\"1\" class=\"dataframe\">\n",
       "  <thead>\n",
       "    <tr style=\"text-align: right;\">\n",
       "      <th></th>\n",
       "      <th>Open</th>\n",
       "      <th>High</th>\n",
       "      <th>Low</th>\n",
       "      <th>Close</th>\n",
       "      <th>Adj Close</th>\n",
       "      <th>Volume</th>\n",
       "    </tr>\n",
       "  </thead>\n",
       "  <tbody>\n",
       "    <tr>\n",
       "      <th>count</th>\n",
       "      <td>1009.000000</td>\n",
       "      <td>1009.000000</td>\n",
       "      <td>1009.000000</td>\n",
       "      <td>1009.000000</td>\n",
       "      <td>1009.000000</td>\n",
       "      <td>1.009000e+03</td>\n",
       "    </tr>\n",
       "    <tr>\n",
       "      <th>mean</th>\n",
       "      <td>419.059673</td>\n",
       "      <td>425.320703</td>\n",
       "      <td>412.374044</td>\n",
       "      <td>419.000733</td>\n",
       "      <td>419.000733</td>\n",
       "      <td>7.570685e+06</td>\n",
       "    </tr>\n",
       "    <tr>\n",
       "      <th>std</th>\n",
       "      <td>108.537532</td>\n",
       "      <td>109.262960</td>\n",
       "      <td>107.555867</td>\n",
       "      <td>108.289999</td>\n",
       "      <td>108.289999</td>\n",
       "      <td>5.465535e+06</td>\n",
       "    </tr>\n",
       "    <tr>\n",
       "      <th>min</th>\n",
       "      <td>233.919998</td>\n",
       "      <td>250.649994</td>\n",
       "      <td>231.229996</td>\n",
       "      <td>233.880005</td>\n",
       "      <td>233.880005</td>\n",
       "      <td>1.144000e+06</td>\n",
       "    </tr>\n",
       "    <tr>\n",
       "      <th>25%</th>\n",
       "      <td>331.489990</td>\n",
       "      <td>336.299988</td>\n",
       "      <td>326.000000</td>\n",
       "      <td>331.619995</td>\n",
       "      <td>331.619995</td>\n",
       "      <td>4.091900e+06</td>\n",
       "    </tr>\n",
       "    <tr>\n",
       "      <th>50%</th>\n",
       "      <td>377.769989</td>\n",
       "      <td>383.010010</td>\n",
       "      <td>370.880005</td>\n",
       "      <td>378.670013</td>\n",
       "      <td>378.670013</td>\n",
       "      <td>5.934500e+06</td>\n",
       "    </tr>\n",
       "    <tr>\n",
       "      <th>75%</th>\n",
       "      <td>509.130005</td>\n",
       "      <td>515.630005</td>\n",
       "      <td>502.529999</td>\n",
       "      <td>509.079987</td>\n",
       "      <td>509.079987</td>\n",
       "      <td>9.322400e+06</td>\n",
       "    </tr>\n",
       "    <tr>\n",
       "      <th>max</th>\n",
       "      <td>692.349976</td>\n",
       "      <td>700.989990</td>\n",
       "      <td>686.090027</td>\n",
       "      <td>691.690002</td>\n",
       "      <td>691.690002</td>\n",
       "      <td>5.890430e+07</td>\n",
       "    </tr>\n",
       "  </tbody>\n",
       "</table>\n",
       "</div>"
      ],
      "text/plain": [
       "              Open         High          Low        Close    Adj Close  \\\n",
       "count  1009.000000  1009.000000  1009.000000  1009.000000  1009.000000   \n",
       "mean    419.059673   425.320703   412.374044   419.000733   419.000733   \n",
       "std     108.537532   109.262960   107.555867   108.289999   108.289999   \n",
       "min     233.919998   250.649994   231.229996   233.880005   233.880005   \n",
       "25%     331.489990   336.299988   326.000000   331.619995   331.619995   \n",
       "50%     377.769989   383.010010   370.880005   378.670013   378.670013   \n",
       "75%     509.130005   515.630005   502.529999   509.079987   509.079987   \n",
       "max     692.349976   700.989990   686.090027   691.690002   691.690002   \n",
       "\n",
       "             Volume  \n",
       "count  1.009000e+03  \n",
       "mean   7.570685e+06  \n",
       "std    5.465535e+06  \n",
       "min    1.144000e+06  \n",
       "25%    4.091900e+06  \n",
       "50%    5.934500e+06  \n",
       "75%    9.322400e+06  \n",
       "max    5.890430e+07  "
      ]
     },
     "execution_count": 8,
     "metadata": {},
     "output_type": "execute_result"
    }
   ],
   "source": [
    "dataset.describe()"
   ]
  },
  {
   "cell_type": "markdown",
   "id": "b71fc5b5",
   "metadata": {},
   "source": [
    "#### EDA"
   ]
  },
  {
   "cell_type": "code",
   "execution_count": 11,
   "id": "cff6c809",
   "metadata": {},
   "outputs": [
    {
     "data": {
      "text/html": [
       "<div>\n",
       "<style scoped>\n",
       "    .dataframe tbody tr th:only-of-type {\n",
       "        vertical-align: middle;\n",
       "    }\n",
       "\n",
       "    .dataframe tbody tr th {\n",
       "        vertical-align: top;\n",
       "    }\n",
       "\n",
       "    .dataframe thead th {\n",
       "        text-align: right;\n",
       "    }\n",
       "</style>\n",
       "<table border=\"1\" class=\"dataframe\">\n",
       "  <thead>\n",
       "    <tr style=\"text-align: right;\">\n",
       "      <th></th>\n",
       "      <th>Open</th>\n",
       "      <th>High</th>\n",
       "      <th>Low</th>\n",
       "      <th>Close</th>\n",
       "      <th>Adj Close</th>\n",
       "      <th>Volume</th>\n",
       "    </tr>\n",
       "  </thead>\n",
       "  <tbody>\n",
       "    <tr>\n",
       "      <th>Open</th>\n",
       "      <td>1.000000</td>\n",
       "      <td>0.998605</td>\n",
       "      <td>0.998508</td>\n",
       "      <td>0.996812</td>\n",
       "      <td>0.996812</td>\n",
       "      <td>-0.415838</td>\n",
       "    </tr>\n",
       "    <tr>\n",
       "      <th>High</th>\n",
       "      <td>0.998605</td>\n",
       "      <td>1.000000</td>\n",
       "      <td>0.998203</td>\n",
       "      <td>0.998551</td>\n",
       "      <td>0.998551</td>\n",
       "      <td>-0.400699</td>\n",
       "    </tr>\n",
       "    <tr>\n",
       "      <th>Low</th>\n",
       "      <td>0.998508</td>\n",
       "      <td>0.998203</td>\n",
       "      <td>1.000000</td>\n",
       "      <td>0.998544</td>\n",
       "      <td>0.998544</td>\n",
       "      <td>-0.432116</td>\n",
       "    </tr>\n",
       "    <tr>\n",
       "      <th>Close</th>\n",
       "      <td>0.996812</td>\n",
       "      <td>0.998551</td>\n",
       "      <td>0.998544</td>\n",
       "      <td>1.000000</td>\n",
       "      <td>1.000000</td>\n",
       "      <td>-0.413362</td>\n",
       "    </tr>\n",
       "    <tr>\n",
       "      <th>Adj Close</th>\n",
       "      <td>0.996812</td>\n",
       "      <td>0.998551</td>\n",
       "      <td>0.998544</td>\n",
       "      <td>1.000000</td>\n",
       "      <td>1.000000</td>\n",
       "      <td>-0.413362</td>\n",
       "    </tr>\n",
       "    <tr>\n",
       "      <th>Volume</th>\n",
       "      <td>-0.415838</td>\n",
       "      <td>-0.400699</td>\n",
       "      <td>-0.432116</td>\n",
       "      <td>-0.413362</td>\n",
       "      <td>-0.413362</td>\n",
       "      <td>1.000000</td>\n",
       "    </tr>\n",
       "  </tbody>\n",
       "</table>\n",
       "</div>"
      ],
      "text/plain": [
       "               Open      High       Low     Close  Adj Close    Volume\n",
       "Open       1.000000  0.998605  0.998508  0.996812   0.996812 -0.415838\n",
       "High       0.998605  1.000000  0.998203  0.998551   0.998551 -0.400699\n",
       "Low        0.998508  0.998203  1.000000  0.998544   0.998544 -0.432116\n",
       "Close      0.996812  0.998551  0.998544  1.000000   1.000000 -0.413362\n",
       "Adj Close  0.996812  0.998551  0.998544  1.000000   1.000000 -0.413362\n",
       "Volume    -0.415838 -0.400699 -0.432116 -0.413362  -0.413362  1.000000"
      ]
     },
     "execution_count": 11,
     "metadata": {},
     "output_type": "execute_result"
    }
   ],
   "source": [
    "cor = dataset.iloc[:,1:].corr()\n",
    "cor"
   ]
  },
  {
   "cell_type": "code",
   "execution_count": 13,
   "id": "a7c37679",
   "metadata": {},
   "outputs": [
    {
     "data": {
      "text/plain": [
       "<Axes: >"
      ]
     },
     "execution_count": 13,
     "metadata": {},
     "output_type": "execute_result"
    },
    {
     "data": {
      "image/png": "[encoded data removed]",
      "text/plain": [
       "<Figure size 640x480 with 2 Axes>"
      ]
     },
     "metadata": {},
     "output_type": "display_data"
    }
   ],
   "source": [
    "sns.heatmap(cor)"
   ]
  },
  {
   "cell_type": "raw",
   "id": "5cb4db3f",
   "metadata": {},
   "source": [
    "The target variable is \"Close\". We see that the columns Open, High, and Low are highly correlated with the target column, indicates that there is a linear relationship b/w those features and the target variable. \n",
    "\n",
    "And also we see that Volume is having negative correlation value of -0.41, indicating some negative linear relastionship."
   ]
  },
  {
   "cell_type": "markdown",
   "id": "9305ab8e",
   "metadata": {},
   "source": [
    "##### Relation b/w Open and Close variables"
   ]
  },
  {
   "cell_type": "code",
   "execution_count": 29,
   "id": "900d25a6",
   "metadata": {},
   "outputs": [
    {
     "data": {
      "text/plain": [
       "<Axes: xlabel='Open', ylabel='Close'>"
      ]
     },
     "execution_count": 29,
     "metadata": {},
     "output_type": "execute_result"
    },
    {
     "data": {
      "image/png": "[encoded data removed]",
      "text/plain": [
       "<Figure size 640x480 with 1 Axes>"
      ]
     },
     "metadata": {},
     "output_type": "display_data"
    }
   ],
   "source": [
    "sns.scatterplot(data = dataset, \n",
    "                x= 'Open', \n",
    "                y = 'Close',\n",
    "               )"
   ]
  },
  {
   "cell_type": "markdown",
   "id": "3730216f",
   "metadata": {},
   "source": [
    "We see that as value of Open increases, the close value also increases, showing positive correlation."
   ]
  },
  {
   "cell_type": "markdown",
   "id": "34c7162b",
   "metadata": {},
   "source": [
    "##### Relation b/w High and Close Variables"
   ]
  },
  {
   "cell_type": "code",
   "execution_count": 32,
   "id": "4ef769d3",
   "metadata": {},
   "outputs": [
    {
     "data": {
      "text/plain": [
       "<Axes: xlabel='High', ylabel='Close'>"
      ]
     },
     "execution_count": 32,
     "metadata": {},
     "output_type": "execute_result"
    },
    {
     "data": {
      "image/png": "[encoded data removed]",
      "text/plain": [
       "<Figure size 640x480 with 1 Axes>"
      ]
     },
     "metadata": {},
     "output_type": "display_data"
    }
   ],
   "source": [
    "sns.scatterplot(data = dataset, \n",
    "                x= 'High', \n",
    "                y = 'Close',\n",
    "               )"
   ]
  },
  {
   "cell_type": "markdown",
   "id": "103c765e",
   "metadata": {},
   "source": [
    "We see that as value of High increases, the close value also increases, showing positive correlation."
   ]
  },
  {
   "cell_type": "markdown",
   "id": "8adfbf7c",
   "metadata": {},
   "source": [
    "##### Relation b/w Low and Close Variables"
   ]
  },
  {
   "cell_type": "code",
   "execution_count": 31,
   "id": "603c4ad0",
   "metadata": {},
   "outputs": [
    {
     "data": {
      "text/plain": [
       "<Axes: xlabel='Low', ylabel='Close'>"
      ]
     },
     "execution_count": 31,
     "metadata": {},
     "output_type": "execute_result"
    },
    {
     "data": {
      "image/png": "[encoded data removed]",
      "text/plain": [
       "<Figure size 640x480 with 1 Axes>"
      ]
     },
     "metadata": {},
     "output_type": "display_data"
    }
   ],
   "source": [
    "sns.scatterplot(data = dataset, \n",
    "                x= 'Low', \n",
    "                y = 'Close',\n",
    "               )"
   ]
  },
  {
   "cell_type": "markdown",
   "id": "15b891c1",
   "metadata": {},
   "source": [
    "We see that as value of Low increases, the close value also increases, showing positive correlation."
   ]
  },
  {
   "cell_type": "markdown",
   "id": "4cc7aca6",
   "metadata": {},
   "source": [
    "##### Relation b/w Volume and Close Variables"
   ]
  },
  {
   "cell_type": "code",
   "execution_count": 33,
   "id": "9c189f36",
   "metadata": {},
   "outputs": [
    {
     "data": {
      "text/plain": [
       "<Axes: xlabel='Volume', ylabel='Close'>"
      ]
     },
     "execution_count": 33,
     "metadata": {},
     "output_type": "execute_result"
    },
    {
     "data": {
      "image/png": "[encoded data removed]",
      "text/plain": [
       "<Figure size 640x480 with 1 Axes>"
      ]
     },
     "metadata": {},
     "output_type": "display_data"
    }
   ],
   "source": [
    "sns.scatterplot(data = dataset, \n",
    "                x= 'Volume', \n",
    "                y = 'Close',\n",
    "               )"
   ]
  },
  {
   "cell_type": "markdown",
   "id": "5f84dee2",
   "metadata": {},
   "source": [
    "As we see, most of the observations have value of close to be high at lower values of Volume, and there are only few observations at high volume region, that have low close values. This kind of behavior implies slightly negative correlation"
   ]
  },
  {
   "cell_type": "markdown",
   "id": "3f7dd2a5",
   "metadata": {},
   "source": [
    "##### Boxplot"
   ]
  },
  {
   "cell_type": "code",
   "execution_count": 36,
   "id": "16ca9f60",
   "metadata": {},
   "outputs": [
    {
     "data": {
      "text/plain": [
       "<Axes: >"
      ]
     },
     "execution_count": 36,
     "metadata": {},
     "output_type": "execute_result"
    },
    {
     "data": {
      "image/png": "[encoded data removed]",
      "text/plain": [
       "<Figure size 640x480 with 1 Axes>"
      ]
     },
     "metadata": {},
     "output_type": "display_data"
    }
   ],
   "source": [
    "sns.boxplot(data = dataset.iloc[:,:-1])"
   ]
  },
  {
   "cell_type": "markdown",
   "id": "3ede1fa5",
   "metadata": {},
   "source": [
    "And from above we see that all the variables are equally distributed, their means are close to each other."
   ]
  },
  {
   "cell_type": "markdown",
   "id": "e6a302c3",
   "metadata": {},
   "source": [
    "##### Relation b/w Open and High Variables"
   ]
  },
  {
   "cell_type": "code",
   "execution_count": 39,
   "id": "a8e59df7",
   "metadata": {},
   "outputs": [
    {
     "data": {
      "text/plain": [
       "<Axes: xlabel='Open', ylabel='High'>"
      ]
     },
     "execution_count": 39,
     "metadata": {},
     "output_type": "execute_result"
    },
    {
     "data": {
      "image/png": "[encoded data removed]",
      "text/plain": [
       "<Figure size 640x480 with 1 Axes>"
      ]
     },
     "metadata": {},
     "output_type": "display_data"
    }
   ],
   "source": [
    "sns.scatterplot(data = dataset, \n",
    "                x= 'Open', \n",
    "                y = 'High',\n",
    "               )"
   ]
  },
  {
   "cell_type": "markdown",
   "id": "779bee79",
   "metadata": {},
   "source": [
    "##### Relation b/w Open and Low Variables"
   ]
  },
  {
   "cell_type": "code",
   "execution_count": 40,
   "id": "e4ed9089",
   "metadata": {},
   "outputs": [
    {
     "data": {
      "text/plain": [
       "<Axes: xlabel='Open', ylabel='Low'>"
      ]
     },
     "execution_count": 40,
     "metadata": {},
     "output_type": "execute_result"
    },
    {
     "data": {
      "image/png": "[encoded data removed]",
      "text/plain": [
       "<Figure size 640x480 with 1 Axes>"
      ]
     },
     "metadata": {},
     "output_type": "display_data"
    }
   ],
   "source": [
    "sns.scatterplot(data = dataset, \n",
    "                x= 'Open', \n",
    "                y = 'Low',\n",
    "               )"
   ]
  },
  {
   "cell_type": "markdown",
   "id": "dd0ee59a",
   "metadata": {},
   "source": [
    "##### Relation b/w High and Low Variables"
   ]
  },
  {
   "cell_type": "code",
   "execution_count": 42,
   "id": "9aac1cdc",
   "metadata": {},
   "outputs": [
    {
     "data": {
      "text/plain": [
       "<Axes: xlabel='High', ylabel='Low'>"
      ]
     },
     "execution_count": 42,
     "metadata": {},
     "output_type": "execute_result"
    },
    {
     "data": {
      "image/png": "[encoded data removed]",
      "text/plain": [
       "<Figure size 640x480 with 1 Axes>"
      ]
     },
     "metadata": {},
     "output_type": "display_data"
    }
   ],
   "source": [
    "sns.scatterplot(data = dataset, \n",
    "                x= 'High', \n",
    "                y = 'Low',\n",
    "               )"
   ]
  },
  {
   "cell_type": "markdown",
   "id": "480af2f3",
   "metadata": {},
   "source": [
    "As we see, most of the relationships are linear."
   ]
  },
  {
   "cell_type": "markdown",
   "id": "20f83e1b",
   "metadata": {},
   "source": [
    "#### Train Test Split"
   ]
  },
  {
   "cell_type": "code",
   "execution_count": 14,
   "id": "0dedc37d",
   "metadata": {},
   "outputs": [],
   "source": [
    "X = dataset[['Open', 'High', 'Low', 'Volume']]\n",
    "y = dataset['Close']"
   ]
  },
  {
   "cell_type": "code",
   "execution_count": 15,
   "id": "5278b835",
   "metadata": {},
   "outputs": [
    {
     "data": {
      "text/html": [
       "<div>\n",
       "<style scoped>\n",
       "    .dataframe tbody tr th:only-of-type {\n",
       "        vertical-align: middle;\n",
       "    }\n",
       "\n",
       "    .dataframe tbody tr th {\n",
       "        vertical-align: top;\n",
       "    }\n",
       "\n",
       "    .dataframe thead th {\n",
       "        text-align: right;\n",
       "    }\n",
       "</style>\n",
       "<table border=\"1\" class=\"dataframe\">\n",
       "  <thead>\n",
       "    <tr style=\"text-align: right;\">\n",
       "      <th></th>\n",
       "      <th>Open</th>\n",
       "      <th>High</th>\n",
       "      <th>Low</th>\n",
       "      <th>Volume</th>\n",
       "    </tr>\n",
       "  </thead>\n",
       "  <tbody>\n",
       "    <tr>\n",
       "      <th>0</th>\n",
       "      <td>262.000000</td>\n",
       "      <td>267.899994</td>\n",
       "      <td>250.029999</td>\n",
       "      <td>11896100</td>\n",
       "    </tr>\n",
       "    <tr>\n",
       "      <th>1</th>\n",
       "      <td>247.699997</td>\n",
       "      <td>266.700012</td>\n",
       "      <td>245.000000</td>\n",
       "      <td>12595800</td>\n",
       "    </tr>\n",
       "    <tr>\n",
       "      <th>2</th>\n",
       "      <td>266.579987</td>\n",
       "      <td>272.450012</td>\n",
       "      <td>264.329987</td>\n",
       "      <td>8981500</td>\n",
       "    </tr>\n",
       "    <tr>\n",
       "      <th>3</th>\n",
       "      <td>267.079987</td>\n",
       "      <td>267.619995</td>\n",
       "      <td>250.000000</td>\n",
       "      <td>9306700</td>\n",
       "    </tr>\n",
       "    <tr>\n",
       "      <th>4</th>\n",
       "      <td>253.850006</td>\n",
       "      <td>255.800003</td>\n",
       "      <td>236.110001</td>\n",
       "      <td>16906900</td>\n",
       "    </tr>\n",
       "  </tbody>\n",
       "</table>\n",
       "</div>"
      ],
      "text/plain": [
       "         Open        High         Low    Volume\n",
       "0  262.000000  267.899994  250.029999  11896100\n",
       "1  247.699997  266.700012  245.000000  12595800\n",
       "2  266.579987  272.450012  264.329987   8981500\n",
       "3  267.079987  267.619995  250.000000   9306700\n",
       "4  253.850006  255.800003  236.110001  16906900"
      ]
     },
     "execution_count": 15,
     "metadata": {},
     "output_type": "execute_result"
    }
   ],
   "source": [
    "X.head()"
   ]
  },
  {
   "cell_type": "code",
   "execution_count": 17,
   "id": "0b28f92a",
   "metadata": {},
   "outputs": [
    {
     "data": {
      "text/plain": [
       "0    254.259995\n",
       "1    265.720001\n",
       "2    264.559998\n",
       "3    250.100006\n",
       "4    249.470001\n",
       "Name: Close, dtype: float64"
      ]
     },
     "execution_count": 17,
     "metadata": {},
     "output_type": "execute_result"
    }
   ],
   "source": [
    "y[:5]"
   ]
  },
  {
   "cell_type": "code",
   "execution_count": 18,
   "id": "f16410f1",
   "metadata": {},
   "outputs": [
    {
     "data": {
      "text/plain": [
       "((756, 4), (253, 4), (756,), (253,))"
      ]
     },
     "execution_count": 18,
     "metadata": {},
     "output_type": "execute_result"
    }
   ],
   "source": [
    "X_train, X_test, y_train, y_test = train_test_split(X, y, test_size = 0.25, random_state = 121)\n",
    "\n",
    "X_train.shape, X_test.shape, y_train.shape, y_test.shape"
   ]
  },
  {
   "cell_type": "markdown",
   "id": "c89e3d05",
   "metadata": {},
   "source": [
    "#### Feature Scaling"
   ]
  },
  {
   "cell_type": "code",
   "execution_count": 21,
   "id": "6118a5a8",
   "metadata": {},
   "outputs": [
    {
     "data": {
      "text/plain": [
       "array([[ 0.60274087,  0.65476309,  0.64920688,  0.10003629],\n",
       "       [ 1.84268394,  1.77661361,  1.81608365, -0.905156  ],\n",
       "       [ 0.36228902,  0.37703955,  0.38187437, -0.63267406],\n",
       "       ...,\n",
       "       [-0.49874313, -0.50989311, -0.46998237,  0.0423014 ],\n",
       "       [-1.11894897, -1.12068056, -1.08529103, -0.52962377],\n",
       "       [-0.59829849, -0.62010965, -0.56441279, -0.5165558 ]])"
      ]
     },
     "execution_count": 21,
     "metadata": {},
     "output_type": "execute_result"
    }
   ],
   "source": [
    "sc = StandardScaler()\n",
    "X_train = sc.fit_transform(X_train)\n",
    "X_test = sc.transform(X_test)\n",
    "X_train"
   ]
  },
  {
   "cell_type": "code",
   "execution_count": 126,
   "id": "4702a21f",
   "metadata": {},
   "outputs": [
    {
     "data": {
      "text/plain": [
       "array([ 6.54763093e-01,  1.77661361e+00,  3.77039548e-01,  1.10426482e+00,\n",
       "        1.06210916e+00, -5.35798914e-01, -4.81944248e-01, -1.82360233e-02,\n",
       "        5.42874983e-01,  2.41195468e-01, -6.81578337e-01,  8.82902860e-01,\n",
       "        1.74170076e+00, -8.31257432e-01, -5.09428672e-01, -6.70343200e-01,\n",
       "        6.14186072e-01,  8.48268853e-01, -4.79529975e-01,  1.19693200e+00,\n",
       "       -1.08669631e+00, -7.87709326e-01,  7.02396483e-01,  6.72405120e-01,\n",
       "       -8.80283841e-01, -1.35996281e+00,  2.44723931e-01, -1.34120659e+00,\n",
       "        1.01299010e+00,  1.23364901e-01, -7.28004870e-01,  8.45018652e-01,\n",
       "       -1.14695785e+00,  8.26912759e-01,  6.34706803e-01,  1.06405928e+00,\n",
       "       -5.77582793e-01,  9.92191103e-01, -5.11285854e-01,  5.61724146e-01,\n",
       "        1.97461749e-01,  7.64329598e-01,  8.67674827e-01, -6.52793832e-01,\n",
       "        8.75845934e-01, -1.10043837e+00, -1.02420609e+00,  7.15860289e-01,\n",
       "        1.00296181e+00,  7.33502316e-01,  1.20779564e+00,  9.97019639e-01,\n",
       "       -5.07014687e-01,  2.17207506e+00, -8.97740263e-01,  7.12053276e-01,\n",
       "        1.38319522e+00, -5.88910877e-01, -7.15562596e-01,  1.96157676e+00,\n",
       "        6.36192480e-01, -1.96049578e-01, -9.82515158e-01, -6.91792230e-01,\n",
       "       -1.40267528e+00, -4.60866704e-01, -5.19735510e-01,  2.13186953e+00,\n",
       "       -1.17063555e+00, -1.48382876e+00,  8.24591432e-01,  9.57742412e-01,\n",
       "        1.70363124e+00,  2.78150802e-01, -8.36643067e-01,  8.87638459e-01,\n",
       "       -1.18140627e+00, -7.70531453e-01, -6.36265995e-01, -3.88719687e-01,\n",
       "       -6.16581192e-01,  7.71293578e-01,  7.11296553e-03, -1.42950966e+00,\n",
       "        2.18238161e+00,  9.80398578e-01, -1.23117565e+00, -8.78891100e-01,\n",
       "       -8.36643067e-01, -1.29505860e+00, -9.93471745e-01, -6.16674138e-01,\n",
       "        7.30716835e-01,  7.42509072e-01,  2.14639343e-01,  1.31466961e+00,\n",
       "       -8.59670451e-01, -6.90585094e-01, -8.45835428e-01, -5.79439966e-01,\n",
       "        6.93482663e-01, -8.80469723e-01, -6.75914440e-01, -8.90497733e-01,\n",
       "        2.89571831e-01,  8.04070701e-01,  5.75187952e-01, -5.27720744e-01,\n",
       "       -5.11564394e-01,  6.35542444e-01, -1.42458846e+00, -5.48201495e-02,\n",
       "        9.27751048e-01, -1.64851087e-01,  1.10584316e+00, -5.01774962e-02,\n",
       "        6.53834507e-01, -1.35476306e+00,  8.09177508e-01,  7.73098640e-02,\n",
       "       -9.16589426e-01, -5.67740387e-01, -1.18149920e+00, -7.94394756e-01,\n",
       "        8.50497233e-01, -1.01129966e+00,  7.08432155e-01, -4.47124349e-01,\n",
       "        2.38573006e+00,  1.75674292e+00,  1.08123688e+00,  5.74073761e-01,\n",
       "       -1.05317620e+00,  6.06107901e-01, -7.69231649e-01, -4.64023671e-01,\n",
       "        9.28308148e-01, -6.15985253e-02, -1.01584937e+00, -5.57247944e-01,\n",
       "       -4.89558264e-01, -1.01770654e+00, -6.91049248e-01,  9.20137032e-01,\n",
       "       -9.19746393e-01, -1.01928489e+00,  1.91240473e-01, -5.25028209e-01,\n",
       "        1.99258993e+00,  1.29619194e+00,  7.42044918e-01, -6.73685771e-01,\n",
       "       -5.90025355e-01, -2.96570524e-02, -5.42020190e-01,  2.11339186e+00,\n",
       "        4.82799041e-01,  8.18462814e-01, -2.91316915e-01, -7.35525950e-01,\n",
       "        6.79183217e-01,  1.06080965e+00,  7.33595262e-01,  2.32212537e+00,\n",
       "        5.35260967e-01, -5.54276869e-01,  1.09107927e+00, -4.13233036e-01,\n",
       "        1.71648615e-01, -6.12402693e-01, -5.84082619e-01, -1.15661465e+00,\n",
       "       -6.68950460e-01,  9.10572897e-01,  9.64149292e-01,  4.26755687e-02,\n",
       "        1.77243511e+00,  5.55595806e-01,  9.86248368e-01, -1.01770654e+00,\n",
       "       -1.25308884e+00,  5.81130399e-01, -1.32031465e+00,  8.49568925e-01,\n",
       "       -1.00238557e+00,  7.55601392e-01, -1.50332796e+00,  1.18783258e+00,\n",
       "       -1.33619244e+00, -5.34127624e-01,  1.60037868e+00, -1.49404266e+00,\n",
       "        8.10384644e-01, -4.68016288e-01,  7.00632247e-01,  1.13267784e+00,\n",
       "       -3.75256169e-01,  7.26631282e-01,  1.97791899e+00, -5.61426453e-01,\n",
       "        8.76403034e-01, -4.85751261e-01,  1.19916038e+00,  6.22821620e-01,\n",
       "       -6.21780945e-01, -8.90961887e-01, -8.83812304e-01, -1.47036524e+00,\n",
       "        7.76214781e-01,  6.27649878e-01,  9.55514031e-01, -5.56226700e-01,\n",
       "       -1.01752066e+00,  8.65075229e-01, -1.23544681e+00, -8.81769527e-01,\n",
       "       -4.17875689e-01,  6.01186698e-01, -8.84276457e-01,  2.37481401e-01,\n",
       "       -5.15371407e-01,  7.69622297e-01, -1.06459723e+00,  7.25052650e-01,\n",
       "       -7.46668429e-01, -1.41493195e+00,  1.16443343e+00,  1.17176861e+00,\n",
       "       -1.12736599e+00,  7.00075157e-01,  1.27353578e+00, -9.38224348e-01,\n",
       "        1.02273956e+00, -9.08511247e-01,  8.67117728e-01, -1.21325508e+00,\n",
       "       -8.33578758e-01, -4.30875062e-01, -1.15698614e+00, -7.90216535e-01,\n",
       "       -1.20749824e+00,  7.80671831e-01,  1.05941663e+00,  6.08150678e-01,\n",
       "        1.63315551e+00,  1.01289715e+00, -6.40537162e-01, -9.33767299e-01,\n",
       "       -4.25118219e-01, -8.76105620e-01, -1.18437763e+00,  1.06405928e+00,\n",
       "       -4.89929472e-01, -1.31762183e+00, -5.25585300e-01, -5.51584047e-01,\n",
       "       -1.38011205e+00, -9.78893749e-01, -1.55300441e+00,  1.02218246e+00,\n",
       "        6.44827750e-01, -1.02049202e+00, -4.68758992e-01, -9.60880236e-01,\n",
       "        2.41049557e-02,  2.22138002e+00,  2.14121332e-02, -7.55860789e-01,\n",
       "        1.53649572e+00,  9.37593455e-01,  6.57362970e-01, -6.88170822e-01,\n",
       "       -3.74141979e-01,  6.35078011e-01, -4.77301595e-01, -3.98376490e-01,\n",
       "        2.22871521e+00,  1.17687598e+00,  1.52832461e+00, -4.23446929e-01,\n",
       "       -5.80368552e-01, -1.24333938e+00, -1.40202523e+00,  7.77143368e-01,\n",
       "       -7.93002015e-01, -1.24445357e+00, -6.15374056e-01, -1.21687620e+00,\n",
       "        1.17947558e+00, -7.77216883e-01, -9.88086398e-01,  9.32579593e-01,\n",
       "        9.75848871e-01, -1.49868531e+00,  1.04548867e+00,  1.98692603e+00,\n",
       "       -6.44065616e-01,  6.48913313e-01, -1.26367422e+00,  3.91710202e-01,\n",
       "       -1.02114206e+00, -4.02926197e-01, -5.74425817e-01, -2.73953438e-01,\n",
       "       -1.09709580e+00, -7.29304952e-01, -4.45824266e-01, -1.39338997e+00,\n",
       "        7.92557014e-01, -6.20295259e-01, -6.53722418e-01,  2.44729112e+00,\n",
       "       -4.53067084e-01,  1.44813940e-01, -8.58184765e-01,  1.60762092e+00,\n",
       "       -4.68944875e-01, -8.95325991e-01, -6.82042491e-01,  8.17162732e-01,\n",
       "       -6.39051754e-01,  6.39720665e-01, -7.15005497e-01,  1.49564014e+00,\n",
       "       -5.48520016e-01, -9.49830981e-01, -1.01092817e+00, -5.98010579e-01,\n",
       "       -1.05586902e+00,  2.97835893e-01, -4.70337615e-01, -8.02287322e-01,\n",
       "       -2.55754321e-01,  1.54540982e+00,  1.35645349e+00, -4.82037194e-01,\n",
       "       -9.28381663e-01,  5.80666245e-01,  1.88014501e+00, -1.58606008e+00,\n",
       "        1.20798153e+00, -6.49079765e-01, -1.21650471e+00, -8.20857935e-01,\n",
       "        1.20723855e+00, -7.38775863e-01, -9.53266498e-01,  1.15895485e+00,\n",
       "       -1.35132754e+00, -1.23488971e+00,  1.16749774e+00, -1.25058191e+00,\n",
       "       -9.02661466e-01,  5.20775907e-01, -5.19085474e-01, -5.63654834e-01,\n",
       "        1.18569657e+00, -1.14073685e+00,  6.03600971e-01,  7.69250801e-01,\n",
       "        1.12914937e+00, -1.52737687e+00,  1.21123117e+00, -1.46080138e+00,\n",
       "       -1.09561012e+00, -8.83440808e-01,  6.59776954e-01, -5.51955542e-01,\n",
       "       -3.25022624e-01, -2.60211083e-01, -1.04909065e+00, -8.92685530e-02,\n",
       "        9.28215202e-01, -9.88550551e-01, -1.17434962e+00,  1.55228086e+00,\n",
       "       -1.16784979e+00, -1.47175798e+00, -8.41285721e-01,  1.85451747e+00,\n",
       "       -1.45337297e+00, -3.40807478e-01, -1.09245315e+00,  1.57150150e+00,\n",
       "        2.21970873e+00, -8.98390300e-01,  1.52163946e+00, -1.28633040e+00,\n",
       "        6.73519310e-01,  1.27167860e+00, -8.39428548e-01,  9.90333930e-01,\n",
       "       -7.97047059e-02,  2.48619657e+00,  7.55137238e-01, -1.47602914e+00,\n",
       "        1.22172360e+00,  6.65998240e-01,  8.98873884e-01, -5.33013434e-01,\n",
       "        1.50743267e+00, -5.65140511e-01,  1.18634661e+00,  8.87174305e-01,\n",
       "       -3.08680392e-01, -5.04693360e-01, -1.01668501e+00, -5.38770277e-01,\n",
       "       -1.26595671e-01,  2.24320026e+00, -2.52225858e-01, -5.10264321e-01,\n",
       "        8.50311341e-01,  2.40355769e+00, -3.84169980e-01,  1.84866768e+00,\n",
       "        5.92458482e-01, -3.90576869e-01,  7.12610376e-01, -5.88725273e-01,\n",
       "       -6.17973932e-01, -3.63463644e-01,  6.23378720e-01,  6.50491648e-01,\n",
       "       -1.17899227e+00, -1.36571965e+00, -1.24194664e+00, -2.93452638e-01,\n",
       "       -1.18159215e+00, -8.42214028e-01, -1.37552267e-01,  1.19284644e+00,\n",
       "       -5.66773222e-02, -9.56887619e-01,  8.69067846e-01, -5.21313855e-01,\n",
       "       -7.26147697e-01, -4.18339843e-01,  1.67934260e-01,  1.78831319e+00,\n",
       "       -5.93553530e-01,  8.58297141e-01, -9.70537029e-01,  5.70080866e-01,\n",
       "       -6.82785474e-01,  2.31181881e+00, -7.10176961e-01,  5.69895262e-01,\n",
       "       -4.61887949e-01, -6.55672249e-01,  1.11479727e-01, -1.58411010e+00,\n",
       "        7.60336991e-01, -9.85950675e-01, -2.32819596e-01,  6.00165454e-01,\n",
       "       -3.84448530e-01,  1.16053376e+00,  8.82438706e-01,  7.64793752e-01,\n",
       "        8.77981945e-01,  6.94782746e-01, -4.12304449e-01,  1.23815878e+00,\n",
       "        6.59869900e-01, -1.12727305e+00,  2.11812746e+00,  5.77230728e-01,\n",
       "        1.04121722e+00, -6.54279518e-01, -1.42078145e+00,  1.23565156e+00,\n",
       "        4.42036694e-01, -6.86963695e-01, -1.06339009e+00, -2.13970442e-01,\n",
       "       -1.28354464e+00, -6.28466375e-01, -1.24036802e+00,  1.44364266e+00,\n",
       "       -3.91412510e-01, -5.37098987e-01,  7.82993157e-01,  2.01858868e+00,\n",
       "        8.17998661e-01,  1.33101184e+00,  1.21763805e+00, -7.31161837e-01,\n",
       "        7.26352732e-01,  6.92647023e-01, -3.67735090e-01,  6.32292531e-01,\n",
       "       -6.56043745e-01, -1.19821293e+00,  9.37407563e-01, -7.21040890e-01,\n",
       "        1.17631889e+00, -4.31710703e-01, -6.55579591e-01, -5.39234710e-01,\n",
       "        9.65635257e-01, -4.92065195e-01, -8.35528598e-01, -3.05337821e-01,\n",
       "       -1.24120366e+00,  4.69799667e-01, -4.48424431e-01, -4.33289335e-01,\n",
       "        1.68450353e+00,  2.54961537e+00,  1.29554191e+00, -9.47416709e-01,\n",
       "        5.19608752e-02, -5.72344220e-02,  1.02728926e+00,  1.18476827e+00,\n",
       "       -5.15835561e-01, -6.92999367e-01, -1.41047490e+00,  1.95433452e+00,\n",
       "       -1.23414702e+00, -1.27472376e+00,  1.19405357e+00, -1.25494601e+00,\n",
       "        1.72925878e+00, -1.53201952e+00, -8.34043191e-01, -6.61614984e-01,\n",
       "       -3.86305703e-01, -7.09898411e-01, -8.35157390e-01,  8.93859457e-01,\n",
       "       -5.74982917e-01,  9.30722421e-01, -1.29775114e+00, -1.04008388e+00,\n",
       "       -1.44297347e+00, -9.79041109e-02,  4.26715706e-01, -4.28182240e-01,\n",
       "        2.22305130e+00, -4.79158767e-01, -1.26172439e+00,  1.20222469e+00,\n",
       "       -4.40160369e-01, -8.44071201e-01,  7.30716835e-01,  9.12708898e-01,\n",
       "       -8.77683964e-01,  6.52348830e-01, -1.21251210e+00,  1.21624560e+00,\n",
       "       -9.33674353e-01,  8.04999009e-01,  8.28491103e-01, -1.26070286e+00,\n",
       "       -4.01161970e-01,  8.85317133e-01, -1.08103212e+00, -4.18247185e-01,\n",
       "        6.64698158e-01,  1.91329362e+00,  1.60557842e+00, -6.12774179e-01,\n",
       "       -5.13607180e-01, -1.21037665e+00,  1.10175761e+00,  6.52720316e-01,\n",
       "        1.24107604e-01,  9.44557434e-01, -9.38131402e-01, -5.14442821e-01,\n",
       "        1.75107902e+00, -1.06701150e+00, -5.47869980e-01, -1.23034001e+00,\n",
       "       -7.08691553e-01, -1.20369122e+00, -1.18354199e+00,  8.03977755e-01,\n",
       "        1.98209749e+00,  9.71113272e-01,  8.05091945e-01, -6.76339188e-02,\n",
       "       -4.60495209e-01,  1.21169588e+00,  1.19851033e+00, -5.95689252e-01,\n",
       "        1.15208380e+00,  5.91065751e-01,  1.25208674e+00,  6.12461817e-02,\n",
       "        1.02106827e+00,  7.98035029e-01, -5.92771987e-02, -1.01937783e+00,\n",
       "       -5.19456970e-01,  2.44190605e+00, -5.22613937e-01, -5.59662217e-01,\n",
       "       -6.43840059e-02,  1.14428447e+00, -1.09542451e+00,  6.46292908e-03,\n",
       "        1.94623025e-02,  1.19637490e+00,  1.01883989e+00,  1.64963176e-01,\n",
       "       -8.96533127e-01,  8.48268853e-01, -7.23269271e-01, -4.51302848e-01,\n",
       "       -9.61066119e-01, -5.23821073e-01, -8.32928722e-01, -6.26052103e-01,\n",
       "        1.69963862e+00,  4.92084347e-01, -1.18344904e+00,  5.38975312e-01,\n",
       "       -7.70717335e-01, -1.12105177e+00,  9.46785815e-01, -6.69878758e-01,\n",
       "        1.08374409e+00, -1.20201965e+00,  9.07694471e-01, -1.03869114e+00,\n",
       "       -5.72568932e-01, -1.45133019e+00, -5.34406174e-01,  1.08132981e+00,\n",
       "       -1.31845747e+00,  1.15843830e-01, -1.23990386e+00, -6.17695382e-01,\n",
       "       -3.65877917e-01, -8.76012674e-01, -5.80925652e-01,  1.18003267e+00,\n",
       "        7.21803025e-01, -9.08325643e-01, -9.93564691e-01, -6.00331906e-01,\n",
       "        8.05834928e-01, -6.58086521e-01,  1.07148742e+00, -6.86220991e-01,\n",
       "       -3.86676911e-01, -6.90863644e-01,  1.45410993e-02,  1.09442242e+00,\n",
       "       -3.62906554e-01, -1.02179211e+00,  1.16601176e+00,  1.17793661e-01,\n",
       "        7.18367220e-01, -1.04379824e+00, -7.17790977e-01,  5.49467476e-01,\n",
       "       -1.15057926e+00, -4.12304449e-01,  6.20685898e-01,  1.00751152e+00,\n",
       "        1.61569909e+00,  7.41116332e-01,  6.38235266e-01, -5.93646476e-01,\n",
       "        1.30696265e+00,  1.63863409e+00, -5.68761919e-01, -1.05679761e+00,\n",
       "       -7.44625652e-01, -8.18815158e-01, -8.44256805e-01,  7.98743558e-04,\n",
       "        1.21865986e+00,  2.93446619e-03, -1.46302977e+00,  8.79560289e-01,\n",
       "       -1.32950702e+00,  5.64231355e-01, -4.71266201e-01,  1.69954568e+00,\n",
       "       -6.86778091e-01,  1.91069346e+00,  1.70465248e+00, -9.61066119e-01,\n",
       "       -3.10630232e-01, -1.21409072e+00, -1.30369387e+00, -1.02764161e+00,\n",
       "       -1.45458010e+00, -1.48290018e+00, -1.05401184e+00, -5.38398791e-01,\n",
       "        1.49378354e+00,  5.56152906e-01, -1.14073685e+00,  3.02385600e-01,\n",
       "        1.74049364e+00, -2.45354536e-01, -8.42028424e-01, -1.48707868e+00,\n",
       "       -5.61054957e-01,  5.75002069e-01,  2.45657643e+00,  2.31646147e+00,\n",
       "       -5.70154660e-01, -1.39023299e+00, -7.10548447e-01, -4.28739340e-01,\n",
       "        7.83828798e-01, -5.20346689e-02, -5.63933384e-01, -4.74980268e-01,\n",
       "        9.93676501e-01,  1.07301218e-01, -6.49729801e-01, -1.12727305e+00,\n",
       "       -1.30545810e+00,  1.18885382e+00, -4.76001513e-01,  9.00452229e-01,\n",
       "        1.46908431e+00,  1.03861764e+00,  8.76403034e-01,  1.76862839e+00,\n",
       "        5.97751181e-01, -5.22613937e-01,  7.25145596e-01,  8.55418715e-01,\n",
       "       -5.53998319e-01, -8.16215282e-01,  8.63032174e-01, -7.55860789e-01,\n",
       "       -1.01167087e+00, -8.34692949e-01,  1.08903678e+00, -4.97543498e-01,\n",
       "       -9.85672125e-01, -1.01492078e+00,  2.17365341e+00,  1.07139447e+00,\n",
       "       -9.78429595e-01, -1.07035407e+00,  7.28116959e-01, -3.42293155e-01,\n",
       "       -6.75914440e-01,  6.39813610e-01, -8.77033928e-01, -7.33668768e-01,\n",
       "        6.78719063e-01, -5.09893113e-01, -1.12068056e+00, -6.20109655e-01])"
      ]
     },
     "execution_count": 126,
     "metadata": {},
     "output_type": "execute_result"
    }
   ],
   "source": [
    "X_train[:,1]"
   ]
  },
  {
   "cell_type": "markdown",
   "id": "63072631",
   "metadata": {},
   "source": [
    "#### We try building various models to predict the stock price, and then select the model with better performance"
   ]
  },
  {
   "cell_type": "markdown",
   "id": "acda04e2",
   "metadata": {},
   "source": [
    "#### 1. Simple Linear Regression"
   ]
  },
  {
   "cell_type": "markdown",
   "id": "e800359e",
   "metadata": {},
   "source": [
    "As we see, most of the features have linear relationship with each other, we start using a single column to predict the stock price."
   ]
  },
  {
   "cell_type": "code",
   "execution_count": 209,
   "id": "7919435e",
   "metadata": {},
   "outputs": [
    {
     "data": {
      "text/plain": [
       "Index(['Open', 'High', 'Low', 'Volume'], dtype='object')"
      ]
     },
     "execution_count": 209,
     "metadata": {},
     "output_type": "execute_result"
    }
   ],
   "source": [
    "colList = X.columns\n",
    "colList"
   ]
  },
  {
   "cell_type": "code",
   "execution_count": 210,
   "id": "94748f0f",
   "metadata": {},
   "outputs": [],
   "source": [
    "train_r2score = []\n",
    "test_r2score = []\n",
    "train_error = []\n",
    "test_error = []\n",
    "abs_train = []\n",
    "abs_test = []\n",
    "for i,col in enumerate(colList):\n",
    "#     print(i,col)\n",
    "    train_x = X_train[:,i].reshape(-1,1)\n",
    "    test_x = X_test[:,i].reshape(-1,1)\n",
    "    \n",
    "    LinearRegressor = LinearRegression()\n",
    "    LinearRegressor.fit(train_x,y_train)\n",
    "    \n",
    "    train_err = mean_squared_error(y_train, LinearRegressor.predict(train_x))\n",
    "    test_err = mean_squared_error(y_test, LinearRegressor.predict(test_x))\n",
    "    \n",
    "    train_r2 = r2_score(y_train, LinearRegressor.predict(train_x))\n",
    "    test_r2 = r2_score(y_test, LinearRegressor.predict(test_x))\n",
    "    \n",
    "    abs_train.append(mean_absolute_error(y_train, LinearRegressor.predict(train_x)))\n",
    "    abs_test.append(mean_absolute_error(y_test, LinearRegressor.predict(test_x)))\n",
    "    train_error.append(train_err)\n",
    "    test_error.append(test_err)\n",
    "    train_r2score.append(train_r2)\n",
    "    test_r2score.append(test_r2)\n",
    "    "
   ]
  },
  {
   "cell_type": "code",
   "execution_count": 211,
   "id": "e2dd70f6",
   "metadata": {},
   "outputs": [
    {
     "data": {
      "text/html": [
       "<div>\n",
       "<style scoped>\n",
       "    .dataframe tbody tr th:only-of-type {\n",
       "        vertical-align: middle;\n",
       "    }\n",
       "\n",
       "    .dataframe tbody tr th {\n",
       "        vertical-align: top;\n",
       "    }\n",
       "\n",
       "    .dataframe thead th {\n",
       "        text-align: right;\n",
       "    }\n",
       "</style>\n",
       "<table border=\"1\" class=\"dataframe\">\n",
       "  <thead>\n",
       "    <tr style=\"text-align: right;\">\n",
       "      <th></th>\n",
       "      <th>Features</th>\n",
       "      <th>train_error</th>\n",
       "      <th>test_error</th>\n",
       "    </tr>\n",
       "  </thead>\n",
       "  <tbody>\n",
       "    <tr>\n",
       "      <th>0</th>\n",
       "      <td>Open</td>\n",
       "      <td>71.385733</td>\n",
       "      <td>84.425377</td>\n",
       "    </tr>\n",
       "    <tr>\n",
       "      <th>1</th>\n",
       "      <td>High</td>\n",
       "      <td>32.260445</td>\n",
       "      <td>39.009717</td>\n",
       "    </tr>\n",
       "    <tr>\n",
       "      <th>2</th>\n",
       "      <td>Low</td>\n",
       "      <td>31.678438</td>\n",
       "      <td>41.338110</td>\n",
       "    </tr>\n",
       "    <tr>\n",
       "      <th>3</th>\n",
       "      <td>Volume</td>\n",
       "      <td>9143.830249</td>\n",
       "      <td>11565.041714</td>\n",
       "    </tr>\n",
       "  </tbody>\n",
       "</table>\n",
       "</div>"
      ],
      "text/plain": [
       "  Features  train_error    test_error\n",
       "0     Open    71.385733     84.425377\n",
       "1     High    32.260445     39.009717\n",
       "2      Low    31.678438     41.338110\n",
       "3   Volume  9143.830249  11565.041714"
      ]
     },
     "execution_count": 211,
     "metadata": {},
     "output_type": "execute_result"
    }
   ],
   "source": [
    "error_df = pd.DataFrame(zip(colList,train_error, test_error), columns = [\"Features\",\"train_error\",\"test_error\"])\n",
    "error_df"
   ]
  },
  {
   "cell_type": "code",
   "execution_count": 212,
   "id": "be269e03",
   "metadata": {},
   "outputs": [
    {
     "data": {
      "text/plain": [
       "<Axes: >"
      ]
     },
     "execution_count": 212,
     "metadata": {},
     "output_type": "execute_result"
    },
    {
     "data": {
      "image/png": "[encoded data removed]",
      "text/plain": [
       "<Figure size 640x480 with 1 Axes>"
      ]
     },
     "metadata": {},
     "output_type": "display_data"
    }
   ],
   "source": [
    "sns.lineplot(x=colList, y = train_error, marker='o', color='r', label='Train Error')\n",
    "sns.lineplot(x=colList, y = test_error, marker='v', label='Test Error')\n"
   ]
  },
  {
   "cell_type": "raw",
   "id": "66832538",
   "metadata": {},
   "source": [
    "From above,\n",
    "    Both train and test errors are low when we used one of the Open, High, or low features.\n",
    "    And the errors are very high when Volume column is used"
   ]
  },
  {
   "cell_type": "code",
   "execution_count": 213,
   "id": "2953c2e7",
   "metadata": {},
   "outputs": [
    {
     "data": {
      "text/html": [
       "<div>\n",
       "<style scoped>\n",
       "    .dataframe tbody tr th:only-of-type {\n",
       "        vertical-align: middle;\n",
       "    }\n",
       "\n",
       "    .dataframe tbody tr th {\n",
       "        vertical-align: top;\n",
       "    }\n",
       "\n",
       "    .dataframe thead th {\n",
       "        text-align: right;\n",
       "    }\n",
       "</style>\n",
       "<table border=\"1\" class=\"dataframe\">\n",
       "  <thead>\n",
       "    <tr style=\"text-align: right;\">\n",
       "      <th></th>\n",
       "      <th>Features</th>\n",
       "      <th>train_r2</th>\n",
       "      <th>test_r2</th>\n",
       "    </tr>\n",
       "  </thead>\n",
       "  <tbody>\n",
       "    <tr>\n",
       "      <th>0</th>\n",
       "      <td>Open</td>\n",
       "      <td>0.993730</td>\n",
       "      <td>0.993344</td>\n",
       "    </tr>\n",
       "    <tr>\n",
       "      <th>1</th>\n",
       "      <td>High</td>\n",
       "      <td>0.997166</td>\n",
       "      <td>0.996925</td>\n",
       "    </tr>\n",
       "    <tr>\n",
       "      <th>2</th>\n",
       "      <td>Low</td>\n",
       "      <td>0.997217</td>\n",
       "      <td>0.996741</td>\n",
       "    </tr>\n",
       "    <tr>\n",
       "      <th>3</th>\n",
       "      <td>Volume</td>\n",
       "      <td>0.196835</td>\n",
       "      <td>0.088258</td>\n",
       "    </tr>\n",
       "  </tbody>\n",
       "</table>\n",
       "</div>"
      ],
      "text/plain": [
       "  Features  train_r2   test_r2\n",
       "0     Open  0.993730  0.993344\n",
       "1     High  0.997166  0.996925\n",
       "2      Low  0.997217  0.996741\n",
       "3   Volume  0.196835  0.088258"
      ]
     },
     "execution_count": 213,
     "metadata": {},
     "output_type": "execute_result"
    }
   ],
   "source": [
    "r2_df = pd.DataFrame(zip(colList,train_r2score, test_r2score), columns = [\"Features\",\"train_r2\",\"test_r2\"])\n",
    "r2_df"
   ]
  },
  {
   "cell_type": "code",
   "execution_count": 214,
   "id": "5f26c113",
   "metadata": {},
   "outputs": [
    {
     "data": {
      "text/plain": [
       "<Axes: >"
      ]
     },
     "execution_count": 214,
     "metadata": {},
     "output_type": "execute_result"
    },
    {
     "data": {
      "image/png": "[encoded data removed]",
      "text/plain": [
       "<Figure size 640x480 with 1 Axes>"
      ]
     },
     "metadata": {},
     "output_type": "display_data"
    }
   ],
   "source": [
    "sns.lineplot(x=colList, y = train_r2score, marker='o', color='r', label='Train R2')\n",
    "sns.lineplot(x=colList, y = test_r2score, marker='v', label='Test R2')\n"
   ]
  },
  {
   "cell_type": "code",
   "execution_count": 215,
   "id": "e8fa4720",
   "metadata": {},
   "outputs": [
    {
     "data": {
      "text/html": [
       "<div>\n",
       "<style scoped>\n",
       "    .dataframe tbody tr th:only-of-type {\n",
       "        vertical-align: middle;\n",
       "    }\n",
       "\n",
       "    .dataframe tbody tr th {\n",
       "        vertical-align: top;\n",
       "    }\n",
       "\n",
       "    .dataframe thead th {\n",
       "        text-align: right;\n",
       "    }\n",
       "</style>\n",
       "<table border=\"1\" class=\"dataframe\">\n",
       "  <thead>\n",
       "    <tr style=\"text-align: right;\">\n",
       "      <th></th>\n",
       "      <th>Features</th>\n",
       "      <th>train_mae</th>\n",
       "      <th>test_mae</th>\n",
       "    </tr>\n",
       "  </thead>\n",
       "  <tbody>\n",
       "    <tr>\n",
       "      <th>0</th>\n",
       "      <td>Open</td>\n",
       "      <td>6.317449</td>\n",
       "      <td>6.529204</td>\n",
       "    </tr>\n",
       "    <tr>\n",
       "      <th>1</th>\n",
       "      <td>High</td>\n",
       "      <td>4.113193</td>\n",
       "      <td>4.485450</td>\n",
       "    </tr>\n",
       "    <tr>\n",
       "      <th>2</th>\n",
       "      <td>Low</td>\n",
       "      <td>4.092418</td>\n",
       "      <td>4.407517</td>\n",
       "    </tr>\n",
       "    <tr>\n",
       "      <th>3</th>\n",
       "      <td>Volume</td>\n",
       "      <td>81.123318</td>\n",
       "      <td>88.444595</td>\n",
       "    </tr>\n",
       "  </tbody>\n",
       "</table>\n",
       "</div>"
      ],
      "text/plain": [
       "  Features  train_mae   test_mae\n",
       "0     Open   6.317449   6.529204\n",
       "1     High   4.113193   4.485450\n",
       "2      Low   4.092418   4.407517\n",
       "3   Volume  81.123318  88.444595"
      ]
     },
     "execution_count": 215,
     "metadata": {},
     "output_type": "execute_result"
    }
   ],
   "source": [
    "mae_df = pd.DataFrame(zip(colList,abs_train, abs_test), columns = [\"Features\",\"train_mae\",\"test_mae\"])\n",
    "mae_df"
   ]
  },
  {
   "cell_type": "code",
   "execution_count": 217,
   "id": "0daa9311",
   "metadata": {},
   "outputs": [
    {
     "data": {
      "text/plain": [
       "<Axes: >"
      ]
     },
     "execution_count": 217,
     "metadata": {},
     "output_type": "execute_result"
    },
    {
     "data": {
      "image/png": "[encoded data removed]",
      "text/plain": [
       "<Figure size 640x480 with 1 Axes>"
      ]
     },
     "metadata": {},
     "output_type": "display_data"
    }
   ],
   "source": [
    "sns.lineplot(x=colList, y = abs_train, marker='o', color='r', label='Train mae')\n",
    "sns.lineplot(x=colList, y = abs_test, marker='v', label='Test mae')\n"
   ]
  },
  {
   "cell_type": "raw",
   "id": "43cddfbd",
   "metadata": {},
   "source": [
    "We see that,\n",
    "    the r2 scores of the models are high and close to 1, when either of the one feature from High, Open, and Low are selected. This indicates either of the columns can perfectly explains the variablity in the target variable."
   ]
  },
  {
   "cell_type": "raw",
   "id": "873f6dbf",
   "metadata": {},
   "source": [
    "Therefore, we can proceed with a feature with low training and test loss and high train r2 and test r2 scores.\n",
    "From the above data, we see that High feature can be selected"
   ]
  },
  {
   "cell_type": "markdown",
   "id": "4557525f",
   "metadata": {},
   "source": [
    "#### Fitting a model with only one column i.e., using feature High"
   ]
  },
  {
   "cell_type": "code",
   "execution_count": 119,
   "id": "81c934cc",
   "metadata": {},
   "outputs": [
    {
     "data": {
      "text/html": [
       "<style>#sk-container-id-4 {color: black;background-color: white;}#sk-container-id-4 pre{padding: 0;}#sk-container-id-4 div.sk-toggleable {background-color: white;}#sk-container-id-4 label.sk-toggleable__label {cursor: pointer;display: block;width: 100%;margin-bottom: 0;padding: 0.3em;box-sizing: border-box;text-align: center;}#sk-container-id-4 label.sk-toggleable__label-arrow:before {content: \"▸\";float: left;margin-right: 0.25em;color: #696969;}#sk-container-id-4 label.sk-toggleable__label-arrow:hover:before {color: black;}#sk-container-id-4 div.sk-estimator:hover label.sk-toggleable__label-arrow:before {color: black;}#sk-container-id-4 div.sk-toggleable__content {max-height: 0;max-width: 0;overflow: hidden;text-align: left;background-color: #f0f8ff;}#sk-container-id-4 div.sk-toggleable__content pre {margin: 0.2em;color: black;border-radius: 0.25em;background-color: #f0f8ff;}#sk-container-id-4 input.sk-toggleable__control:checked~div.sk-toggleable__content {max-height: 200px;max-width: 100%;overflow: auto;}#sk-container-id-4 input.sk-toggleable__control:checked~label.sk-toggleable__label-arrow:before {content: \"▾\";}#sk-container-id-4 div.sk-estimator input.sk-toggleable__control:checked~label.sk-toggleable__label {background-color: #d4ebff;}#sk-container-id-4 div.sk-label input.sk-toggleable__control:checked~label.sk-toggleable__label {background-color: #d4ebff;}#sk-container-id-4 input.sk-hidden--visually {border: 0;clip: rect(1px 1px 1px 1px);clip: rect(1px, 1px, 1px, 1px);height: 1px;margin: -1px;overflow: hidden;padding: 0;position: absolute;width: 1px;}#sk-container-id-4 div.sk-estimator {font-family: monospace;background-color: #f0f8ff;border: 1px dotted black;border-radius: 0.25em;box-sizing: border-box;margin-bottom: 0.5em;}#sk-container-id-4 div.sk-estimator:hover {background-color: #d4ebff;}#sk-container-id-4 div.sk-parallel-item::after {content: \"\";width: 100%;border-bottom: 1px solid gray;flex-grow: 1;}#sk-container-id-4 div.sk-label:hover label.sk-toggleable__label {background-color: #d4ebff;}#sk-container-id-4 div.sk-serial::before {content: \"\";position: absolute;border-left: 1px solid gray;box-sizing: border-box;top: 0;bottom: 0;left: 50%;z-index: 0;}#sk-container-id-4 div.sk-serial {display: flex;flex-direction: column;align-items: center;background-color: white;padding-right: 0.2em;padding-left: 0.2em;position: relative;}#sk-container-id-4 div.sk-item {position: relative;z-index: 1;}#sk-container-id-4 div.sk-parallel {display: flex;align-items: stretch;justify-content: center;background-color: white;position: relative;}#sk-container-id-4 div.sk-item::before, #sk-container-id-4 div.sk-parallel-item::before {content: \"\";position: absolute;border-left: 1px solid gray;box-sizing: border-box;top: 0;bottom: 0;left: 50%;z-index: -1;}#sk-container-id-4 div.sk-parallel-item {display: flex;flex-direction: column;z-index: 1;position: relative;background-color: white;}#sk-container-id-4 div.sk-parallel-item:first-child::after {align-self: flex-end;width: 50%;}#sk-container-id-4 div.sk-parallel-item:last-child::after {align-self: flex-start;width: 50%;}#sk-container-id-4 div.sk-parallel-item:only-child::after {width: 0;}#sk-container-id-4 div.sk-dashed-wrapped {border: 1px dashed gray;margin: 0 0.4em 0.5em 0.4em;box-sizing: border-box;padding-bottom: 0.4em;background-color: white;}#sk-container-id-4 div.sk-label label {font-family: monospace;font-weight: bold;display: inline-block;line-height: 1.2em;}#sk-container-id-4 div.sk-label-container {text-align: center;}#sk-container-id-4 div.sk-container {/* jupyter's `normalize.less` sets `[hidden] { display: none; }` but bootstrap.min.css set `[hidden] { display: none !important; }` so we also need the `!important` here to be able to override the default hidden behavior on the sphinx rendered scikit-learn.org. See: https://github.com/scikit-learn/scikit-learn/issues/21755 */display: inline-block !important;position: relative;}#sk-container-id-4 div.sk-text-repr-fallback {display: none;}</style><div id=\"sk-container-id-4\" class=\"sk-top-container\"><div class=\"sk-text-repr-fallback\"><pre>LinearRegression()</pre><b>In a Jupyter environment, please rerun this cell to show the HTML representation or trust the notebook. <br />On GitHub, the HTML representation is unable to render, please try loading this page with nbviewer.org.</b></div><div class=\"sk-container\" hidden><div class=\"sk-item\"><div class=\"sk-estimator sk-toggleable\"><input class=\"sk-toggleable__control sk-hidden--visually\" id=\"sk-estimator-id-4\" type=\"checkbox\" checked><label for=\"sk-estimator-id-4\" class=\"sk-toggleable__label sk-toggleable__label-arrow\">LinearRegression</label><div class=\"sk-toggleable__content\"><pre>LinearRegression()</pre></div></div></div></div></div>"
      ],
      "text/plain": [
       "LinearRegression()"
      ]
     },
     "execution_count": 119,
     "metadata": {},
     "output_type": "execute_result"
    }
   ],
   "source": [
    "LinearRegressor = LinearRegression()\n",
    "train_x = X_train[:,1].reshape(-1,1)\n",
    "test_x = X_test[:,1].reshape(-1,1)\n",
    "LinearRegressor.fit(train_x, y_train)"
   ]
  },
  {
   "cell_type": "code",
   "execution_count": 120,
   "id": "89b1fd17",
   "metadata": {},
   "outputs": [
    {
     "data": {
      "text/plain": [
       "array([361.48824577, 357.76834976, 269.36170831, 548.86760896,\n",
       "       265.38457722])"
      ]
     },
     "execution_count": 120,
     "metadata": {},
     "output_type": "execute_result"
    }
   ],
   "source": [
    "y_pred = LinearRegressor.predict(X_test[:,1].reshape(-1,1))\n",
    "y_pred[0:5]"
   ]
  },
  {
   "cell_type": "markdown",
   "id": "dbc624b5",
   "metadata": {},
   "source": [
    "#### Vizualize train set results"
   ]
  },
  {
   "cell_type": "code",
   "execution_count": 152,
   "id": "16757938",
   "metadata": {},
   "outputs": [
    {
     "data": {
      "text/plain": [
       "<Axes: ylabel='Close'>"
      ]
     },
     "execution_count": 152,
     "metadata": {},
     "output_type": "execute_result"
    },
    {
     "data": {
      "image/png": "[encoded data removed]",
      "text/plain": [
       "<Figure size 640x480 with 1 Axes>"
      ]
     },
     "metadata": {},
     "output_type": "display_data"
    }
   ],
   "source": [
    "sns.scatterplot(\n",
    "    x = sc.inverse_transform(\n",
    "        X_train)[:,1],\n",
    "        y = y_train,\n",
    "    color = 'orange'\n",
    ")\n",
    "sns.lineplot(\n",
    "    x = sc.inverse_transform(\n",
    "        X_train)[:,1],\n",
    "    y = LinearRegressor.predict(train_x),\n",
    "    color = 'red'\n",
    ")"
   ]
  },
  {
   "cell_type": "markdown",
   "id": "b1cb695e",
   "metadata": {},
   "source": [
    "#### Vizualize test set results"
   ]
  },
  {
   "cell_type": "code",
   "execution_count": 153,
   "id": "4f44f3fa",
   "metadata": {},
   "outputs": [
    {
     "data": {
      "text/plain": [
       "<Axes: ylabel='Close'>"
      ]
     },
     "execution_count": 153,
     "metadata": {},
     "output_type": "execute_result"
    },
    {
     "data": {
      "image/png": "[encoded data removed]",
      "text/plain": [
       "<Figure size 640x480 with 1 Axes>"
      ]
     },
     "metadata": {},
     "output_type": "display_data"
    }
   ],
   "source": [
    "sns.scatterplot(\n",
    "    x = sc.inverse_transform(\n",
    "        X_test)[:,1],\n",
    "        y = y_test,\n",
    "    color = 'orange'\n",
    ")\n",
    "sns.lineplot(\n",
    "    x = sc.inverse_transform(\n",
    "        X_test)[:,1],\n",
    "    y = LinearRegressor.predict(test_x),\n",
    "    color = 'red'\n",
    ")"
   ]
  },
  {
   "cell_type": "markdown",
   "id": "0c8cc347",
   "metadata": {},
   "source": [
    "#### 2. Multiple Linear Regression"
   ]
  },
  {
   "cell_type": "markdown",
   "id": "8da56732",
   "metadata": {},
   "source": [
    "Now we use all the existing features to build the model and check the train and test loss and r_squared value"
   ]
  },
  {
   "cell_type": "code",
   "execution_count": 218,
   "id": "0edb2170",
   "metadata": {},
   "outputs": [
    {
     "data": {
      "text/html": [
       "<style>#sk-container-id-7 {color: black;background-color: white;}#sk-container-id-7 pre{padding: 0;}#sk-container-id-7 div.sk-toggleable {background-color: white;}#sk-container-id-7 label.sk-toggleable__label {cursor: pointer;display: block;width: 100%;margin-bottom: 0;padding: 0.3em;box-sizing: border-box;text-align: center;}#sk-container-id-7 label.sk-toggleable__label-arrow:before {content: \"▸\";float: left;margin-right: 0.25em;color: #696969;}#sk-container-id-7 label.sk-toggleable__label-arrow:hover:before {color: black;}#sk-container-id-7 div.sk-estimator:hover label.sk-toggleable__label-arrow:before {color: black;}#sk-container-id-7 div.sk-toggleable__content {max-height: 0;max-width: 0;overflow: hidden;text-align: left;background-color: #f0f8ff;}#sk-container-id-7 div.sk-toggleable__content pre {margin: 0.2em;color: black;border-radius: 0.25em;background-color: #f0f8ff;}#sk-container-id-7 input.sk-toggleable__control:checked~div.sk-toggleable__content {max-height: 200px;max-width: 100%;overflow: auto;}#sk-container-id-7 input.sk-toggleable__control:checked~label.sk-toggleable__label-arrow:before {content: \"▾\";}#sk-container-id-7 div.sk-estimator input.sk-toggleable__control:checked~label.sk-toggleable__label {background-color: #d4ebff;}#sk-container-id-7 div.sk-label input.sk-toggleable__control:checked~label.sk-toggleable__label {background-color: #d4ebff;}#sk-container-id-7 input.sk-hidden--visually {border: 0;clip: rect(1px 1px 1px 1px);clip: rect(1px, 1px, 1px, 1px);height: 1px;margin: -1px;overflow: hidden;padding: 0;position: absolute;width: 1px;}#sk-container-id-7 div.sk-estimator {font-family: monospace;background-color: #f0f8ff;border: 1px dotted black;border-radius: 0.25em;box-sizing: border-box;margin-bottom: 0.5em;}#sk-container-id-7 div.sk-estimator:hover {background-color: #d4ebff;}#sk-container-id-7 div.sk-parallel-item::after {content: \"\";width: 100%;border-bottom: 1px solid gray;flex-grow: 1;}#sk-container-id-7 div.sk-label:hover label.sk-toggleable__label {background-color: #d4ebff;}#sk-container-id-7 div.sk-serial::before {content: \"\";position: absolute;border-left: 1px solid gray;box-sizing: border-box;top: 0;bottom: 0;left: 50%;z-index: 0;}#sk-container-id-7 div.sk-serial {display: flex;flex-direction: column;align-items: center;background-color: white;padding-right: 0.2em;padding-left: 0.2em;position: relative;}#sk-container-id-7 div.sk-item {position: relative;z-index: 1;}#sk-container-id-7 div.sk-parallel {display: flex;align-items: stretch;justify-content: center;background-color: white;position: relative;}#sk-container-id-7 div.sk-item::before, #sk-container-id-7 div.sk-parallel-item::before {content: \"\";position: absolute;border-left: 1px solid gray;box-sizing: border-box;top: 0;bottom: 0;left: 50%;z-index: -1;}#sk-container-id-7 div.sk-parallel-item {display: flex;flex-direction: column;z-index: 1;position: relative;background-color: white;}#sk-container-id-7 div.sk-parallel-item:first-child::after {align-self: flex-end;width: 50%;}#sk-container-id-7 div.sk-parallel-item:last-child::after {align-self: flex-start;width: 50%;}#sk-container-id-7 div.sk-parallel-item:only-child::after {width: 0;}#sk-container-id-7 div.sk-dashed-wrapped {border: 1px dashed gray;margin: 0 0.4em 0.5em 0.4em;box-sizing: border-box;padding-bottom: 0.4em;background-color: white;}#sk-container-id-7 div.sk-label label {font-family: monospace;font-weight: bold;display: inline-block;line-height: 1.2em;}#sk-container-id-7 div.sk-label-container {text-align: center;}#sk-container-id-7 div.sk-container {/* jupyter's `normalize.less` sets `[hidden] { display: none; }` but bootstrap.min.css set `[hidden] { display: none !important; }` so we also need the `!important` here to be able to override the default hidden behavior on the sphinx rendered scikit-learn.org. See: https://github.com/scikit-learn/scikit-learn/issues/21755 */display: inline-block !important;position: relative;}#sk-container-id-7 div.sk-text-repr-fallback {display: none;}</style><div id=\"sk-container-id-7\" class=\"sk-top-container\"><div class=\"sk-text-repr-fallback\"><pre>LinearRegression()</pre><b>In a Jupyter environment, please rerun this cell to show the HTML representation or trust the notebook. <br />On GitHub, the HTML representation is unable to render, please try loading this page with nbviewer.org.</b></div><div class=\"sk-container\" hidden><div class=\"sk-item\"><div class=\"sk-estimator sk-toggleable\"><input class=\"sk-toggleable__control sk-hidden--visually\" id=\"sk-estimator-id-7\" type=\"checkbox\" checked><label for=\"sk-estimator-id-7\" class=\"sk-toggleable__label sk-toggleable__label-arrow\">LinearRegression</label><div class=\"sk-toggleable__content\"><pre>LinearRegression()</pre></div></div></div></div></div>"
      ],
      "text/plain": [
       "LinearRegression()"
      ]
     },
     "execution_count": 218,
     "metadata": {},
     "output_type": "execute_result"
    }
   ],
   "source": [
    "MultipleRegressor = LinearRegression()\n",
    "MultipleRegressor.fit(X_train,y_train)"
   ]
  },
  {
   "cell_type": "code",
   "execution_count": 219,
   "id": "5b3b8a33",
   "metadata": {},
   "outputs": [
    {
     "data": {
      "text/plain": [
       "array([-61.00325074,  84.50526387,  83.24649151,   0.31850984])"
      ]
     },
     "execution_count": 219,
     "metadata": {},
     "output_type": "execute_result"
    }
   ],
   "source": [
    "MultipleRegressor.coef_"
   ]
  },
  {
   "cell_type": "code",
   "execution_count": 220,
   "id": "fd0cf05f",
   "metadata": {},
   "outputs": [
    {
     "data": {
      "text/plain": [
       "420.21887505423285"
      ]
     },
     "execution_count": 220,
     "metadata": {},
     "output_type": "execute_result"
    }
   ],
   "source": [
    "MultipleRegressor.intercept_"
   ]
  },
  {
   "cell_type": "code",
   "execution_count": 221,
   "id": "54c423b7",
   "metadata": {},
   "outputs": [],
   "source": [
    "y_pred = MultipleRegressor.predict(X_test)"
   ]
  },
  {
   "cell_type": "code",
   "execution_count": 222,
   "id": "d3901a2e",
   "metadata": {},
   "outputs": [
    {
     "data": {
      "text/plain": [
       "14.543984735254213"
      ]
     },
     "execution_count": 222,
     "metadata": {},
     "output_type": "execute_result"
    }
   ],
   "source": [
    "mean_squared_error(y_train, MultipleRegressor.predict(X_train))"
   ]
  },
  {
   "cell_type": "code",
   "execution_count": 223,
   "id": "8447f8d1",
   "metadata": {},
   "outputs": [
    {
     "data": {
      "text/plain": [
       "16.62026384511313"
      ]
     },
     "execution_count": 223,
     "metadata": {},
     "output_type": "execute_result"
    }
   ],
   "source": [
    "mean_squared_error(y_test, y_pred)"
   ]
  },
  {
   "cell_type": "code",
   "execution_count": 224,
   "id": "bd80d2d1",
   "metadata": {},
   "outputs": [
    {
     "data": {
      "text/plain": [
       "3.0537774971199956"
      ]
     },
     "execution_count": 224,
     "metadata": {},
     "output_type": "execute_result"
    }
   ],
   "source": [
    "mean_absolute_error(y_test, y_pred)"
   ]
  },
  {
   "cell_type": "code",
   "execution_count": 225,
   "id": "1e1ff607",
   "metadata": {},
   "outputs": [
    {
     "data": {
      "text/plain": [
       "0.9987225029389595"
      ]
     },
     "execution_count": 225,
     "metadata": {},
     "output_type": "execute_result"
    }
   ],
   "source": [
    "r2_score(y_train, MultipleRegressor.predict(X_train))"
   ]
  },
  {
   "cell_type": "code",
   "execution_count": 226,
   "id": "f8c65e9f",
   "metadata": {},
   "outputs": [
    {
     "data": {
      "text/plain": [
       "0.9986897244272149"
      ]
     },
     "execution_count": 226,
     "metadata": {},
     "output_type": "execute_result"
    }
   ],
   "source": [
    "r2_score(y_test, y_pred)"
   ]
  },
  {
   "cell_type": "markdown",
   "id": "80b1c273",
   "metadata": {},
   "source": [
    "#### 3. Artificial Neural Networks"
   ]
  },
  {
   "cell_type": "code",
   "execution_count": 227,
   "id": "ce78609b",
   "metadata": {},
   "outputs": [
    {
     "data": {
      "text/plain": [
       "<keras.src.engine.sequential.Sequential at 0x292a92530>"
      ]
     },
     "execution_count": 227,
     "metadata": {},
     "output_type": "execute_result"
    }
   ],
   "source": [
    "# Initialize an ANN\n",
    "# Sequential() allows to build sequential layers\n",
    "ann = tf.keras.models.Sequential()\n",
    "ann"
   ]
  },
  {
   "cell_type": "code",
   "execution_count": 228,
   "id": "eefd254b",
   "metadata": {},
   "outputs": [],
   "source": [
    "# Adding input layer and first input layer\n",
    "# dense class is used to create a fully connnected layer as a dense class object at any phase in an ann.\n",
    "# add method is used to add any layer( hidden/ dropout/ conv2D) created using dense class\n",
    "# When you create a first hidden layer, it automatically creates an input layer by assining\n",
    "# # of neurons == # of input features. So in below, we mention # of neurons req for the first hidden layer\n",
    "ann.add(tf.keras.layers.Dense(units = 8, activation = 'relu'))"
   ]
  },
  {
   "cell_type": "code",
   "execution_count": 229,
   "id": "1b80df92",
   "metadata": {},
   "outputs": [],
   "source": [
    "# Add second sequnetial layer\n",
    "ann.add(tf.keras.layers.Dense(units = 8, activation = 'relu'))"
   ]
  },
  {
   "cell_type": "code",
   "execution_count": 230,
   "id": "6f9fba63",
   "metadata": {},
   "outputs": [],
   "source": [
    "# Add output layer\n",
    "# When doing multiclass classification, use softmax instead of sigmoid\n",
    "ann.add(tf.keras.layers.Dense(units = 1, activation = 'linear'))"
   ]
  },
  {
   "cell_type": "code",
   "execution_count": 231,
   "id": "0a235c15",
   "metadata": {},
   "outputs": [],
   "source": [
    "# Compiling an ANN\n",
    "# in this step, we mention the optimizer, loss function and metrics required to evaluate our model\n",
    "\n",
    "ann.compile(optimizer = 'adam', \n",
    "            loss = tf.keras.losses.MeanSquaredError(), \n",
    "            metrics = tf.keras.metrics.R2Score())"
   ]
  },
  {
   "cell_type": "code",
   "execution_count": 232,
   "id": "52a6050d",
   "metadata": {},
   "outputs": [
    {
     "data": {
      "text/plain": [
       "array([[ 0.60274087,  0.65476309,  0.64920688,  0.10003629],\n",
       "       [ 1.84268394,  1.77661361,  1.81608365, -0.905156  ],\n",
       "       [ 0.36228902,  0.37703955,  0.38187437, -0.63267406],\n",
       "       ...,\n",
       "       [-0.49874313, -0.50989311, -0.46998237,  0.0423014 ],\n",
       "       [-1.11894897, -1.12068056, -1.08529103, -0.52962377],\n",
       "       [-0.59829849, -0.62010965, -0.56441279, -0.5165558 ]])"
      ]
     },
     "execution_count": 232,
     "metadata": {},
     "output_type": "execute_result"
    }
   ],
   "source": [
    "X_train"
   ]
  },
  {
   "cell_type": "code",
   "execution_count": 233,
   "id": "9360336a",
   "metadata": {},
   "outputs": [
    {
     "name": "stdout",
     "output_type": "stream",
     "text": [
      "Epoch 1/300\n",
      "48/48 [==============================] - 0s 336us/step - loss: 187825.4531 - r2_score: -15.4980\n",
      "Epoch 2/300\n",
      "48/48 [==============================] - 0s 322us/step - loss: 187134.2188 - r2_score: -15.4373\n",
      "Epoch 3/300\n",
      "48/48 [==============================] - 0s 295us/step - loss: 185890.7500 - r2_score: -15.3280\n",
      "Epoch 4/300\n",
      "48/48 [==============================] - 0s 298us/step - loss: 183794.3281 - r2_score: -15.1440\n",
      "Epoch 5/300\n",
      "48/48 [==============================] - 0s 308us/step - loss: 180580.5781 - r2_score: -14.8617\n",
      "Epoch 6/300\n",
      "48/48 [==============================] - 0s 326us/step - loss: 175924.1406 - r2_score: -14.4525\n",
      "Epoch 7/300\n",
      "48/48 [==============================] - 0s 308us/step - loss: 169448.3750 - r2_score: -13.8838\n",
      "Epoch 8/300\n",
      "48/48 [==============================] - 0s 302us/step - loss: 160997.6406 - r2_score: -13.1414\n",
      "Epoch 9/300\n",
      "48/48 [==============================] - 0s 347us/step - loss: 150479.4219 - r2_score: -12.2177\n",
      "Epoch 10/300\n",
      "48/48 [==============================] - 0s 281us/step - loss: 137866.9688 - r2_score: -11.1098\n",
      "Epoch 11/300\n",
      "48/48 [==============================] - 0s 286us/step - loss: 123703.5469 - r2_score: -9.8657\n",
      "Epoch 12/300\n",
      "48/48 [==============================] - 0s 294us/step - loss: 109119.8438 - r2_score: -8.5848\n",
      "Epoch 13/300\n",
      "48/48 [==============================] - 0s 281us/step - loss: 94577.3516 - r2_score: -7.3074\n",
      "Epoch 14/300\n",
      "48/48 [==============================] - 0s 282us/step - loss: 80945.2578 - r2_score: -6.1100\n",
      "Epoch 15/300\n",
      "48/48 [==============================] - 0s 401us/step - loss: 68994.4766 - r2_score: -5.0603\n",
      "Epoch 16/300\n",
      "48/48 [==============================] - 0s 298us/step - loss: 59176.5273 - r2_score: -4.1979\n",
      "Epoch 17/300\n",
      "48/48 [==============================] - 0s 335us/step - loss: 51493.7773 - r2_score: -3.5230\n",
      "Epoch 18/300\n",
      "48/48 [==============================] - 0s 355us/step - loss: 45701.4453 - r2_score: -3.0143\n",
      "Epoch 19/300\n",
      "48/48 [==============================] - 0s 336us/step - loss: 41357.2578 - r2_score: -2.6327\n",
      "Epoch 20/300\n",
      "48/48 [==============================] - 0s 316us/step - loss: 37888.0352 - r2_score: -2.3280\n",
      "Epoch 21/300\n",
      "48/48 [==============================] - 0s 321us/step - loss: 35038.6094 - r2_score: -2.0777\n",
      "Epoch 22/300\n",
      "48/48 [==============================] - 0s 297us/step - loss: 32513.5723 - r2_score: -1.8559\n",
      "Epoch 23/300\n",
      "48/48 [==============================] - 0s 311us/step - loss: 30168.0742 - r2_score: -1.6499\n",
      "Epoch 24/300\n",
      "48/48 [==============================] - 0s 313us/step - loss: 27958.7012 - r2_score: -1.4558\n",
      "Epoch 25/300\n",
      "48/48 [==============================] - 0s 316us/step - loss: 25891.6641 - r2_score: -1.2743\n",
      "Epoch 26/300\n",
      "48/48 [==============================] - 0s 312us/step - loss: 24000.1426 - r2_score: -1.1081\n",
      "Epoch 27/300\n",
      "48/48 [==============================] - 0s 308us/step - loss: 22227.3945 - r2_score: -0.9524\n",
      "Epoch 28/300\n",
      "48/48 [==============================] - 0s 309us/step - loss: 20582.7852 - r2_score: -0.8079\n",
      "Epoch 29/300\n",
      "48/48 [==============================] - 0s 293us/step - loss: 19088.5137 - r2_score: -0.6767\n",
      "Epoch 30/300\n",
      "48/48 [==============================] - 0s 297us/step - loss: 17736.0762 - r2_score: -0.5579\n",
      "Epoch 31/300\n",
      "48/48 [==============================] - 0s 297us/step - loss: 16515.8223 - r2_score: -0.4507\n",
      "Epoch 32/300\n",
      "48/48 [==============================] - 0s 303us/step - loss: 15381.6904 - r2_score: -0.3511\n",
      "Epoch 33/300\n",
      "48/48 [==============================] - 0s 317us/step - loss: 14338.2686 - r2_score: -0.2594\n",
      "Epoch 34/300\n",
      "48/48 [==============================] - 0s 310us/step - loss: 13406.9707 - r2_score: -0.1776\n",
      "Epoch 35/300\n",
      "48/48 [==============================] - 0s 304us/step - loss: 12553.6953 - r2_score: -0.1027\n",
      "Epoch 36/300\n",
      "48/48 [==============================] - 0s 307us/step - loss: 11751.6943 - r2_score: -0.0322\n",
      "Epoch 37/300\n",
      "48/48 [==============================] - 0s 306us/step - loss: 11019.8047 - r2_score: 0.0321\n",
      "Epoch 38/300\n",
      "48/48 [==============================] - 0s 317us/step - loss: 10337.3408 - r2_score: 0.0920\n",
      "Epoch 39/300\n",
      "48/48 [==============================] - 0s 309us/step - loss: 9694.2822 - r2_score: 0.1485\n",
      "Epoch 40/300\n",
      "48/48 [==============================] - 0s 306us/step - loss: 9089.2734 - r2_score: 0.2016\n",
      "Epoch 41/300\n",
      "48/48 [==============================] - 0s 309us/step - loss: 8511.3457 - r2_score: 0.2524\n",
      "Epoch 42/300\n",
      "48/48 [==============================] - 0s 320us/step - loss: 7948.4307 - r2_score: 0.3018\n",
      "Epoch 43/300\n",
      "48/48 [==============================] - 0s 318us/step - loss: 7410.3120 - r2_score: 0.3491\n",
      "Epoch 44/300\n",
      "48/48 [==============================] - 0s 341us/step - loss: 6898.5430 - r2_score: 0.3941\n",
      "Epoch 45/300\n",
      "48/48 [==============================] - 0s 338us/step - loss: 6427.3452 - r2_score: 0.4354\n",
      "Epoch 46/300\n",
      "48/48 [==============================] - 0s 325us/step - loss: 5974.7476 - r2_score: 0.4752\n",
      "Epoch 47/300\n",
      "48/48 [==============================] - 0s 305us/step - loss: 5554.6973 - r2_score: 0.5121\n",
      "Epoch 48/300\n",
      "48/48 [==============================] - 0s 303us/step - loss: 5166.4526 - r2_score: 0.5462\n",
      "Epoch 49/300\n",
      "48/48 [==============================] - 0s 315us/step - loss: 4790.0444 - r2_score: 0.5793\n",
      "Epoch 50/300\n",
      "48/48 [==============================] - 0s 296us/step - loss: 4447.6748 - r2_score: 0.6093\n",
      "Epoch 51/300\n",
      "48/48 [==============================] - 0s 306us/step - loss: 4144.5601 - r2_score: 0.6360\n",
      "Epoch 52/300\n",
      "48/48 [==============================] - 0s 302us/step - loss: 3854.4702 - r2_score: 0.6614\n",
      "Epoch 53/300\n",
      "48/48 [==============================] - 0s 284us/step - loss: 3578.8066 - r2_score: 0.6856\n",
      "Epoch 54/300\n",
      "48/48 [==============================] - 0s 339us/step - loss: 3327.9927 - r2_score: 0.7077\n",
      "Epoch 55/300\n",
      "48/48 [==============================] - 0s 333us/step - loss: 3098.1790 - r2_score: 0.7279\n",
      "Epoch 56/300\n",
      "48/48 [==============================] - 0s 344us/step - loss: 2889.5049 - r2_score: 0.7462\n",
      "Epoch 57/300\n",
      "48/48 [==============================] - 0s 325us/step - loss: 2694.9014 - r2_score: 0.7633\n",
      "Epoch 58/300\n",
      "48/48 [==============================] - 0s 319us/step - loss: 2512.1519 - r2_score: 0.7793\n",
      "Epoch 59/300\n",
      "48/48 [==============================] - 0s 293us/step - loss: 2345.1948 - r2_score: 0.7940\n",
      "Epoch 60/300\n",
      "48/48 [==============================] - 0s 297us/step - loss: 2187.2803 - r2_score: 0.8079\n",
      "Epoch 61/300\n",
      "48/48 [==============================] - 0s 299us/step - loss: 2049.4043 - r2_score: 0.8200\n",
      "Epoch 62/300\n",
      "48/48 [==============================] - 0s 282us/step - loss: 1920.0890 - r2_score: 0.8313\n",
      "Epoch 63/300\n",
      "48/48 [==============================] - 0s 293us/step - loss: 1805.3375 - r2_score: 0.8414\n",
      "Epoch 64/300\n",
      "48/48 [==============================] - 0s 289us/step - loss: 1694.8044 - r2_score: 0.8511\n",
      "Epoch 65/300\n",
      "48/48 [==============================] - 0s 298us/step - loss: 1597.6415 - r2_score: 0.8597\n",
      "Epoch 66/300\n",
      "48/48 [==============================] - 0s 285us/step - loss: 1506.1217 - r2_score: 0.8677\n",
      "Epoch 67/300\n",
      "48/48 [==============================] - 0s 288us/step - loss: 1421.3672 - r2_score: 0.8752\n",
      "Epoch 68/300\n",
      "48/48 [==============================] - 0s 290us/step - loss: 1352.2405 - r2_score: 0.8812\n",
      "Epoch 69/300\n",
      "48/48 [==============================] - 0s 281us/step - loss: 1276.1123 - r2_score: 0.8879\n",
      "Epoch 70/300\n",
      "48/48 [==============================] - 0s 294us/step - loss: 1210.6100 - r2_score: 0.8937\n",
      "Epoch 71/300\n",
      "48/48 [==============================] - 0s 299us/step - loss: 1152.9579 - r2_score: 0.8987\n",
      "Epoch 72/300\n",
      "48/48 [==============================] - 0s 292us/step - loss: 1098.8860 - r2_score: 0.9035\n",
      "Epoch 73/300\n",
      "48/48 [==============================] - 0s 288us/step - loss: 1050.1610 - r2_score: 0.9078\n",
      "Epoch 74/300\n",
      "48/48 [==============================] - 0s 300us/step - loss: 1001.8757 - r2_score: 0.9120\n",
      "Epoch 75/300\n",
      "48/48 [==============================] - 0s 298us/step - loss: 958.6097 - r2_score: 0.9158\n",
      "Epoch 76/300\n",
      "48/48 [==============================] - 0s 285us/step - loss: 917.1584 - r2_score: 0.9194\n",
      "Epoch 77/300\n",
      "48/48 [==============================] - 0s 304us/step - loss: 877.4380 - r2_score: 0.9229\n",
      "Epoch 78/300\n"
     ]
    },
    {
     "name": "stdout",
     "output_type": "stream",
     "text": [
      "48/48 [==============================] - 0s 291us/step - loss: 840.0787 - r2_score: 0.9262\n",
      "Epoch 79/300\n",
      "48/48 [==============================] - 0s 292us/step - loss: 806.9789 - r2_score: 0.9291\n",
      "Epoch 80/300\n",
      "48/48 [==============================] - 0s 296us/step - loss: 776.2349 - r2_score: 0.9318\n",
      "Epoch 81/300\n",
      "48/48 [==============================] - 0s 293us/step - loss: 744.1288 - r2_score: 0.9346\n",
      "Epoch 82/300\n",
      "48/48 [==============================] - 0s 294us/step - loss: 714.7043 - r2_score: 0.9372\n",
      "Epoch 83/300\n",
      "48/48 [==============================] - 0s 287us/step - loss: 684.8367 - r2_score: 0.9398\n",
      "Epoch 84/300\n",
      "48/48 [==============================] - 0s 287us/step - loss: 656.1943 - r2_score: 0.9424\n",
      "Epoch 85/300\n",
      "48/48 [==============================] - 0s 284us/step - loss: 631.6326 - r2_score: 0.9445\n",
      "Epoch 86/300\n",
      "48/48 [==============================] - 0s 292us/step - loss: 612.7784 - r2_score: 0.9462\n",
      "Epoch 87/300\n",
      "48/48 [==============================] - 0s 289us/step - loss: 584.7268 - r2_score: 0.9486\n",
      "Epoch 88/300\n",
      "48/48 [==============================] - 0s 293us/step - loss: 564.3466 - r2_score: 0.9504\n",
      "Epoch 89/300\n",
      "48/48 [==============================] - 0s 289us/step - loss: 542.3468 - r2_score: 0.9524\n",
      "Epoch 90/300\n",
      "48/48 [==============================] - 0s 289us/step - loss: 522.9614 - r2_score: 0.9541\n",
      "Epoch 91/300\n",
      "48/48 [==============================] - 0s 295us/step - loss: 504.7413 - r2_score: 0.9557\n",
      "Epoch 92/300\n",
      "48/48 [==============================] - 0s 296us/step - loss: 486.6422 - r2_score: 0.9573\n",
      "Epoch 93/300\n",
      "48/48 [==============================] - 0s 292us/step - loss: 469.0016 - r2_score: 0.9588\n",
      "Epoch 94/300\n",
      "48/48 [==============================] - 0s 295us/step - loss: 451.8766 - r2_score: 0.9603\n",
      "Epoch 95/300\n",
      "48/48 [==============================] - 0s 291us/step - loss: 436.1479 - r2_score: 0.9617\n",
      "Epoch 96/300\n",
      "48/48 [==============================] - 0s 288us/step - loss: 419.3068 - r2_score: 0.9632\n",
      "Epoch 97/300\n",
      "48/48 [==============================] - 0s 338us/step - loss: 405.9320 - r2_score: 0.9643\n",
      "Epoch 98/300\n",
      "48/48 [==============================] - 0s 306us/step - loss: 388.8739 - r2_score: 0.9658\n",
      "Epoch 99/300\n",
      "48/48 [==============================] - 0s 297us/step - loss: 374.0890 - r2_score: 0.9671\n",
      "Epoch 100/300\n",
      "48/48 [==============================] - 0s 298us/step - loss: 362.4449 - r2_score: 0.9682\n",
      "Epoch 101/300\n",
      "48/48 [==============================] - 0s 289us/step - loss: 345.8823 - r2_score: 0.9696\n",
      "Epoch 102/300\n",
      "48/48 [==============================] - 0s 293us/step - loss: 333.7823 - r2_score: 0.9707\n",
      "Epoch 103/300\n",
      "48/48 [==============================] - 0s 283us/step - loss: 322.8363 - r2_score: 0.9716\n",
      "Epoch 104/300\n",
      "48/48 [==============================] - 0s 296us/step - loss: 308.8543 - r2_score: 0.9729\n",
      "Epoch 105/300\n",
      "48/48 [==============================] - 0s 293us/step - loss: 295.9085 - r2_score: 0.9740\n",
      "Epoch 106/300\n",
      "48/48 [==============================] - 0s 295us/step - loss: 286.8792 - r2_score: 0.9748\n",
      "Epoch 107/300\n",
      "48/48 [==============================] - 0s 298us/step - loss: 275.8923 - r2_score: 0.9758\n",
      "Epoch 108/300\n",
      "48/48 [==============================] - 0s 301us/step - loss: 266.3970 - r2_score: 0.9766\n",
      "Epoch 109/300\n",
      "48/48 [==============================] - 0s 301us/step - loss: 254.1561 - r2_score: 0.9777\n",
      "Epoch 110/300\n",
      "48/48 [==============================] - 0s 300us/step - loss: 244.5097 - r2_score: 0.9785\n",
      "Epoch 111/300\n",
      "48/48 [==============================] - 0s 298us/step - loss: 234.8289 - r2_score: 0.9794\n",
      "Epoch 112/300\n",
      "48/48 [==============================] - 0s 298us/step - loss: 225.3336 - r2_score: 0.9802\n",
      "Epoch 113/300\n",
      "48/48 [==============================] - 0s 302us/step - loss: 216.5548 - r2_score: 0.9810\n",
      "Epoch 114/300\n",
      "48/48 [==============================] - 0s 298us/step - loss: 208.5772 - r2_score: 0.9817\n",
      "Epoch 115/300\n",
      "48/48 [==============================] - 0s 289us/step - loss: 198.4571 - r2_score: 0.9826\n",
      "Epoch 116/300\n",
      "48/48 [==============================] - 0s 296us/step - loss: 192.4075 - r2_score: 0.9831\n",
      "Epoch 117/300\n",
      "48/48 [==============================] - 0s 294us/step - loss: 183.3272 - r2_score: 0.9839\n",
      "Epoch 118/300\n",
      "48/48 [==============================] - 0s 292us/step - loss: 174.9562 - r2_score: 0.9846\n",
      "Epoch 119/300\n",
      "48/48 [==============================] - 0s 290us/step - loss: 166.1251 - r2_score: 0.9854\n",
      "Epoch 120/300\n",
      "48/48 [==============================] - 0s 293us/step - loss: 159.1505 - r2_score: 0.9860\n",
      "Epoch 121/300\n",
      "48/48 [==============================] - 0s 291us/step - loss: 151.8670 - r2_score: 0.9867\n",
      "Epoch 122/300\n",
      "48/48 [==============================] - 0s 289us/step - loss: 145.6083 - r2_score: 0.9872\n",
      "Epoch 123/300\n",
      "48/48 [==============================] - 0s 290us/step - loss: 138.7832 - r2_score: 0.9878\n",
      "Epoch 124/300\n",
      "48/48 [==============================] - 0s 288us/step - loss: 132.0764 - r2_score: 0.9884\n",
      "Epoch 125/300\n",
      "48/48 [==============================] - 0s 300us/step - loss: 126.0051 - r2_score: 0.9889\n",
      "Epoch 126/300\n",
      "48/48 [==============================] - 0s 305us/step - loss: 120.2426 - r2_score: 0.9894\n",
      "Epoch 127/300\n",
      "48/48 [==============================] - 0s 293us/step - loss: 115.1216 - r2_score: 0.9899\n",
      "Epoch 128/300\n",
      "48/48 [==============================] - 0s 296us/step - loss: 109.4581 - r2_score: 0.9904\n",
      "Epoch 129/300\n",
      "48/48 [==============================] - 0s 294us/step - loss: 105.0278 - r2_score: 0.9908\n",
      "Epoch 130/300\n",
      "48/48 [==============================] - 0s 301us/step - loss: 98.2978 - r2_score: 0.9914\n",
      "Epoch 131/300\n",
      "48/48 [==============================] - 0s 293us/step - loss: 93.9891 - r2_score: 0.9917\n",
      "Epoch 132/300\n",
      "48/48 [==============================] - 0s 286us/step - loss: 89.3249 - r2_score: 0.9922\n",
      "Epoch 133/300\n",
      "48/48 [==============================] - 0s 298us/step - loss: 86.4669 - r2_score: 0.9924\n",
      "Epoch 134/300\n",
      "48/48 [==============================] - 0s 282us/step - loss: 82.4722 - r2_score: 0.9928\n",
      "Epoch 135/300\n",
      "48/48 [==============================] - 0s 284us/step - loss: 78.1166 - r2_score: 0.9931\n",
      "Epoch 136/300\n",
      "48/48 [==============================] - 0s 282us/step - loss: 73.6466 - r2_score: 0.9935\n",
      "Epoch 137/300\n",
      "48/48 [==============================] - 0s 376us/step - loss: 69.7297 - r2_score: 0.9939\n",
      "Epoch 138/300\n",
      "48/48 [==============================] - 0s 321us/step - loss: 67.3845 - r2_score: 0.9941\n",
      "Epoch 139/300\n",
      "48/48 [==============================] - 0s 306us/step - loss: 63.6600 - r2_score: 0.9944\n",
      "Epoch 140/300\n",
      "48/48 [==============================] - 0s 280us/step - loss: 60.8172 - r2_score: 0.9947\n",
      "Epoch 141/300\n",
      "48/48 [==============================] - 0s 298us/step - loss: 57.7054 - r2_score: 0.9949\n",
      "Epoch 142/300\n",
      "48/48 [==============================] - 0s 288us/step - loss: 55.0250 - r2_score: 0.9952\n",
      "Epoch 143/300\n",
      "48/48 [==============================] - 0s 293us/step - loss: 53.1409 - r2_score: 0.9953\n",
      "Epoch 144/300\n",
      "48/48 [==============================] - 0s 289us/step - loss: 51.0343 - r2_score: 0.9955\n",
      "Epoch 145/300\n",
      "48/48 [==============================] - 0s 288us/step - loss: 48.9874 - r2_score: 0.9957\n",
      "Epoch 146/300\n",
      "48/48 [==============================] - 0s 287us/step - loss: 46.8710 - r2_score: 0.9959\n",
      "Epoch 147/300\n",
      "48/48 [==============================] - 0s 292us/step - loss: 44.8950 - r2_score: 0.9961\n",
      "Epoch 148/300\n",
      "48/48 [==============================] - 0s 297us/step - loss: 43.4036 - r2_score: 0.9962\n",
      "Epoch 149/300\n",
      "48/48 [==============================] - 0s 290us/step - loss: 41.4864 - r2_score: 0.9964\n",
      "Epoch 150/300\n",
      "48/48 [==============================] - 0s 285us/step - loss: 40.8414 - r2_score: 0.9964\n",
      "Epoch 151/300\n",
      "48/48 [==============================] - 0s 297us/step - loss: 38.4935 - r2_score: 0.9966\n",
      "Epoch 152/300\n",
      "48/48 [==============================] - 0s 294us/step - loss: 37.8615 - r2_score: 0.9967\n",
      "Epoch 153/300\n",
      "48/48 [==============================] - 0s 296us/step - loss: 37.0435 - r2_score: 0.9967\n",
      "Epoch 154/300\n",
      "48/48 [==============================] - 0s 303us/step - loss: 35.3639 - r2_score: 0.9969\n",
      "Epoch 155/300\n",
      "48/48 [==============================] - 0s 292us/step - loss: 34.3054 - r2_score: 0.9970\n",
      "Epoch 156/300\n"
     ]
    },
    {
     "name": "stdout",
     "output_type": "stream",
     "text": [
      "48/48 [==============================] - 0s 280us/step - loss: 33.6709 - r2_score: 0.9970\n",
      "Epoch 157/300\n",
      "48/48 [==============================] - 0s 319us/step - loss: 32.6776 - r2_score: 0.9971\n",
      "Epoch 158/300\n",
      "48/48 [==============================] - 0s 305us/step - loss: 32.0816 - r2_score: 0.9972\n",
      "Epoch 159/300\n",
      "48/48 [==============================] - 0s 306us/step - loss: 31.3792 - r2_score: 0.9972\n",
      "Epoch 160/300\n",
      "48/48 [==============================] - 0s 298us/step - loss: 31.1380 - r2_score: 0.9973\n",
      "Epoch 161/300\n",
      "48/48 [==============================] - 0s 307us/step - loss: 30.2516 - r2_score: 0.9973\n",
      "Epoch 162/300\n",
      "48/48 [==============================] - 0s 309us/step - loss: 29.7812 - r2_score: 0.9974\n",
      "Epoch 163/300\n",
      "48/48 [==============================] - 0s 314us/step - loss: 29.0404 - r2_score: 0.9974\n",
      "Epoch 164/300\n",
      "48/48 [==============================] - 0s 293us/step - loss: 28.9806 - r2_score: 0.9975\n",
      "Epoch 165/300\n",
      "48/48 [==============================] - 0s 297us/step - loss: 28.3988 - r2_score: 0.9975\n",
      "Epoch 166/300\n",
      "48/48 [==============================] - 0s 339us/step - loss: 27.8244 - r2_score: 0.9976\n",
      "Epoch 167/300\n",
      "48/48 [==============================] - 0s 295us/step - loss: 27.2630 - r2_score: 0.9976\n",
      "Epoch 168/300\n",
      "48/48 [==============================] - 0s 300us/step - loss: 27.1723 - r2_score: 0.9976\n",
      "Epoch 169/300\n",
      "48/48 [==============================] - 0s 288us/step - loss: 26.8483 - r2_score: 0.9976\n",
      "Epoch 170/300\n",
      "48/48 [==============================] - 0s 292us/step - loss: 26.9045 - r2_score: 0.9976\n",
      "Epoch 171/300\n",
      "48/48 [==============================] - 0s 287us/step - loss: 26.2136 - r2_score: 0.9977\n",
      "Epoch 172/300\n",
      "48/48 [==============================] - 0s 286us/step - loss: 26.4676 - r2_score: 0.9977\n",
      "Epoch 173/300\n",
      "48/48 [==============================] - 0s 295us/step - loss: 25.9142 - r2_score: 0.9977\n",
      "Epoch 174/300\n",
      "48/48 [==============================] - 0s 296us/step - loss: 25.8341 - r2_score: 0.9977\n",
      "Epoch 175/300\n",
      "48/48 [==============================] - 0s 290us/step - loss: 25.5968 - r2_score: 0.9978\n",
      "Epoch 176/300\n",
      "48/48 [==============================] - 0s 298us/step - loss: 25.5862 - r2_score: 0.9978\n",
      "Epoch 177/300\n",
      "48/48 [==============================] - 0s 304us/step - loss: 25.5333 - r2_score: 0.9978\n",
      "Epoch 178/300\n",
      "48/48 [==============================] - 0s 294us/step - loss: 25.6020 - r2_score: 0.9978\n",
      "Epoch 179/300\n",
      "48/48 [==============================] - 0s 295us/step - loss: 25.1743 - r2_score: 0.9978\n",
      "Epoch 180/300\n",
      "48/48 [==============================] - 0s 293us/step - loss: 24.6453 - r2_score: 0.9978\n",
      "Epoch 181/300\n",
      "48/48 [==============================] - 0s 301us/step - loss: 24.7833 - r2_score: 0.9978\n",
      "Epoch 182/300\n",
      "48/48 [==============================] - 0s 296us/step - loss: 24.5997 - r2_score: 0.9978\n",
      "Epoch 183/300\n",
      "48/48 [==============================] - 0s 294us/step - loss: 24.3332 - r2_score: 0.9979\n",
      "Epoch 184/300\n",
      "48/48 [==============================] - 0s 293us/step - loss: 24.2953 - r2_score: 0.9979\n",
      "Epoch 185/300\n",
      "48/48 [==============================] - 0s 297us/step - loss: 24.3805 - r2_score: 0.9979\n",
      "Epoch 186/300\n",
      "48/48 [==============================] - 0s 297us/step - loss: 24.1702 - r2_score: 0.9979\n",
      "Epoch 187/300\n",
      "48/48 [==============================] - 0s 296us/step - loss: 24.4359 - r2_score: 0.9979\n",
      "Epoch 188/300\n",
      "48/48 [==============================] - 0s 302us/step - loss: 23.9528 - r2_score: 0.9979\n",
      "Epoch 189/300\n",
      "48/48 [==============================] - 0s 299us/step - loss: 23.9697 - r2_score: 0.9979\n",
      "Epoch 190/300\n",
      "48/48 [==============================] - 0s 290us/step - loss: 23.8469 - r2_score: 0.9979\n",
      "Epoch 191/300\n",
      "48/48 [==============================] - 0s 286us/step - loss: 23.7704 - r2_score: 0.9979\n",
      "Epoch 192/300\n",
      "48/48 [==============================] - 0s 288us/step - loss: 23.3043 - r2_score: 0.9980\n",
      "Epoch 193/300\n",
      "48/48 [==============================] - 0s 291us/step - loss: 23.4251 - r2_score: 0.9979\n",
      "Epoch 194/300\n",
      "48/48 [==============================] - 0s 302us/step - loss: 23.0993 - r2_score: 0.9980\n",
      "Epoch 195/300\n",
      "48/48 [==============================] - 0s 298us/step - loss: 23.1943 - r2_score: 0.9980\n",
      "Epoch 196/300\n",
      "48/48 [==============================] - 0s 292us/step - loss: 23.0930 - r2_score: 0.9980\n",
      "Epoch 197/300\n",
      "48/48 [==============================] - 0s 294us/step - loss: 22.9860 - r2_score: 0.9980\n",
      "Epoch 198/300\n",
      "48/48 [==============================] - 0s 293us/step - loss: 22.7686 - r2_score: 0.9980\n",
      "Epoch 199/300\n",
      "48/48 [==============================] - 0s 286us/step - loss: 22.7455 - r2_score: 0.9980\n",
      "Epoch 200/300\n",
      "48/48 [==============================] - 0s 296us/step - loss: 22.5156 - r2_score: 0.9980\n",
      "Epoch 201/300\n",
      "48/48 [==============================] - 0s 294us/step - loss: 22.4173 - r2_score: 0.9980\n",
      "Epoch 202/300\n",
      "48/48 [==============================] - 0s 297us/step - loss: 22.6779 - r2_score: 0.9980\n",
      "Epoch 203/300\n",
      "48/48 [==============================] - 0s 293us/step - loss: 22.9135 - r2_score: 0.9980\n",
      "Epoch 204/300\n",
      "48/48 [==============================] - 0s 284us/step - loss: 22.7161 - r2_score: 0.9980\n",
      "Epoch 205/300\n",
      "48/48 [==============================] - 0s 292us/step - loss: 22.4540 - r2_score: 0.9980\n",
      "Epoch 206/300\n",
      "48/48 [==============================] - 0s 287us/step - loss: 21.9423 - r2_score: 0.9981\n",
      "Epoch 207/300\n",
      "48/48 [==============================] - 0s 285us/step - loss: 22.3936 - r2_score: 0.9980\n",
      "Epoch 208/300\n",
      "48/48 [==============================] - 0s 294us/step - loss: 21.8706 - r2_score: 0.9981\n",
      "Epoch 209/300\n",
      "48/48 [==============================] - 0s 288us/step - loss: 21.8163 - r2_score: 0.9981\n",
      "Epoch 210/300\n",
      "48/48 [==============================] - 0s 290us/step - loss: 22.1787 - r2_score: 0.9981\n",
      "Epoch 211/300\n",
      "48/48 [==============================] - 0s 295us/step - loss: 21.7934 - r2_score: 0.9981\n",
      "Epoch 212/300\n",
      "48/48 [==============================] - 0s 298us/step - loss: 21.5642 - r2_score: 0.9981\n",
      "Epoch 213/300\n",
      "48/48 [==============================] - 0s 285us/step - loss: 21.7055 - r2_score: 0.9981\n",
      "Epoch 214/300\n",
      "48/48 [==============================] - 0s 280us/step - loss: 21.6321 - r2_score: 0.9981\n",
      "Epoch 215/300\n",
      "48/48 [==============================] - 0s 323us/step - loss: 22.6296 - r2_score: 0.9980\n",
      "Epoch 216/300\n",
      "48/48 [==============================] - 0s 305us/step - loss: 21.8888 - r2_score: 0.9981\n",
      "Epoch 217/300\n",
      "48/48 [==============================] - 0s 302us/step - loss: 21.2667 - r2_score: 0.9981\n",
      "Epoch 218/300\n",
      "48/48 [==============================] - 0s 291us/step - loss: 21.9847 - r2_score: 0.9981\n",
      "Epoch 219/300\n",
      "48/48 [==============================] - 0s 314us/step - loss: 21.4151 - r2_score: 0.9981\n",
      "Epoch 220/300\n",
      "48/48 [==============================] - 0s 290us/step - loss: 21.5016 - r2_score: 0.9981\n",
      "Epoch 221/300\n",
      "48/48 [==============================] - 0s 283us/step - loss: 21.1486 - r2_score: 0.9981\n",
      "Epoch 222/300\n",
      "48/48 [==============================] - 0s 293us/step - loss: 20.8059 - r2_score: 0.9982\n",
      "Epoch 223/300\n",
      "48/48 [==============================] - 0s 282us/step - loss: 21.3939 - r2_score: 0.9981\n",
      "Epoch 224/300\n",
      "48/48 [==============================] - 0s 290us/step - loss: 21.0604 - r2_score: 0.9982\n",
      "Epoch 225/300\n",
      "48/48 [==============================] - 0s 290us/step - loss: 21.7472 - r2_score: 0.9981\n",
      "Epoch 226/300\n",
      "48/48 [==============================] - 0s 287us/step - loss: 20.7462 - r2_score: 0.9982\n",
      "Epoch 227/300\n",
      "48/48 [==============================] - 0s 292us/step - loss: 20.5946 - r2_score: 0.9982\n",
      "Epoch 228/300\n",
      "48/48 [==============================] - 0s 284us/step - loss: 20.4302 - r2_score: 0.9982\n",
      "Epoch 229/300\n",
      "48/48 [==============================] - 0s 293us/step - loss: 20.4830 - r2_score: 0.9982\n",
      "Epoch 230/300\n",
      "48/48 [==============================] - 0s 298us/step - loss: 20.9137 - r2_score: 0.9982\n",
      "Epoch 231/300\n",
      "48/48 [==============================] - 0s 292us/step - loss: 20.6461 - r2_score: 0.9982\n",
      "Epoch 232/300\n",
      "48/48 [==============================] - 0s 291us/step - loss: 20.3333 - r2_score: 0.9982\n",
      "Epoch 233/300\n",
      "48/48 [==============================] - 0s 302us/step - loss: 20.5268 - r2_score: 0.9982\n",
      "Epoch 234/300\n"
     ]
    },
    {
     "name": "stdout",
     "output_type": "stream",
     "text": [
      "48/48 [==============================] - 0s 275us/step - loss: 19.8680 - r2_score: 0.9983\n",
      "Epoch 235/300\n",
      "48/48 [==============================] - 0s 293us/step - loss: 20.0207 - r2_score: 0.9982\n",
      "Epoch 236/300\n",
      "48/48 [==============================] - 0s 304us/step - loss: 20.4772 - r2_score: 0.9982\n",
      "Epoch 237/300\n",
      "48/48 [==============================] - 0s 289us/step - loss: 19.8416 - r2_score: 0.9983\n",
      "Epoch 238/300\n",
      "48/48 [==============================] - 0s 299us/step - loss: 20.9659 - r2_score: 0.9982\n",
      "Epoch 239/300\n",
      "48/48 [==============================] - 0s 296us/step - loss: 20.3208 - r2_score: 0.9982\n",
      "Epoch 240/300\n",
      "48/48 [==============================] - 0s 297us/step - loss: 20.6384 - r2_score: 0.9982\n",
      "Epoch 241/300\n",
      "48/48 [==============================] - 0s 291us/step - loss: 19.9533 - r2_score: 0.9982\n",
      "Epoch 242/300\n",
      "48/48 [==============================] - 0s 289us/step - loss: 19.7427 - r2_score: 0.9983\n",
      "Epoch 243/300\n",
      "48/48 [==============================] - 0s 287us/step - loss: 19.6040 - r2_score: 0.9983\n",
      "Epoch 244/300\n",
      "48/48 [==============================] - 0s 288us/step - loss: 19.4917 - r2_score: 0.9983\n",
      "Epoch 245/300\n",
      "48/48 [==============================] - 0s 290us/step - loss: 19.7198 - r2_score: 0.9983\n",
      "Epoch 246/300\n",
      "48/48 [==============================] - 0s 299us/step - loss: 19.5251 - r2_score: 0.9983\n",
      "Epoch 247/300\n",
      "48/48 [==============================] - 0s 293us/step - loss: 19.8468 - r2_score: 0.9983\n",
      "Epoch 248/300\n",
      "48/48 [==============================] - 0s 298us/step - loss: 19.7756 - r2_score: 0.9983\n",
      "Epoch 249/300\n",
      "48/48 [==============================] - 0s 295us/step - loss: 19.3560 - r2_score: 0.9983\n",
      "Epoch 250/300\n",
      "48/48 [==============================] - 0s 298us/step - loss: 19.4548 - r2_score: 0.9983\n",
      "Epoch 251/300\n",
      "48/48 [==============================] - 0s 294us/step - loss: 19.5745 - r2_score: 0.9983\n",
      "Epoch 252/300\n",
      "48/48 [==============================] - 0s 296us/step - loss: 19.3385 - r2_score: 0.9983\n",
      "Epoch 253/300\n",
      "48/48 [==============================] - 0s 297us/step - loss: 19.2200 - r2_score: 0.9983\n",
      "Epoch 254/300\n",
      "48/48 [==============================] - 0s 295us/step - loss: 18.9506 - r2_score: 0.9983\n",
      "Epoch 255/300\n",
      "48/48 [==============================] - 0s 292us/step - loss: 19.6246 - r2_score: 0.9983\n",
      "Epoch 256/300\n",
      "48/48 [==============================] - 0s 296us/step - loss: 19.4249 - r2_score: 0.9983\n",
      "Epoch 257/300\n",
      "48/48 [==============================] - 0s 294us/step - loss: 19.2805 - r2_score: 0.9983\n",
      "Epoch 258/300\n",
      "48/48 [==============================] - 0s 299us/step - loss: 19.2651 - r2_score: 0.9983\n",
      "Epoch 259/300\n",
      "48/48 [==============================] - 0s 293us/step - loss: 19.9150 - r2_score: 0.9983\n",
      "Epoch 260/300\n",
      "48/48 [==============================] - 0s 293us/step - loss: 18.8216 - r2_score: 0.9983\n",
      "Epoch 261/300\n",
      "48/48 [==============================] - 0s 293us/step - loss: 18.8016 - r2_score: 0.9983\n",
      "Epoch 262/300\n",
      "48/48 [==============================] - 0s 288us/step - loss: 18.5672 - r2_score: 0.9984\n",
      "Epoch 263/300\n",
      "48/48 [==============================] - 0s 293us/step - loss: 18.5869 - r2_score: 0.9984\n",
      "Epoch 264/300\n",
      "48/48 [==============================] - 0s 300us/step - loss: 19.0581 - r2_score: 0.9983\n",
      "Epoch 265/300\n",
      "48/48 [==============================] - 0s 335us/step - loss: 18.8465 - r2_score: 0.9983\n",
      "Epoch 266/300\n",
      "48/48 [==============================] - 0s 345us/step - loss: 18.6072 - r2_score: 0.9984\n",
      "Epoch 267/300\n",
      "48/48 [==============================] - 0s 334us/step - loss: 18.1420 - r2_score: 0.9984\n",
      "Epoch 268/300\n",
      "48/48 [==============================] - 0s 345us/step - loss: 18.3106 - r2_score: 0.9984\n",
      "Epoch 269/300\n",
      "48/48 [==============================] - 0s 310us/step - loss: 18.0333 - r2_score: 0.9984\n",
      "Epoch 270/300\n",
      "48/48 [==============================] - 0s 312us/step - loss: 18.5708 - r2_score: 0.9984\n",
      "Epoch 271/300\n",
      "48/48 [==============================] - 0s 316us/step - loss: 18.1321 - r2_score: 0.9984\n",
      "Epoch 272/300\n",
      "48/48 [==============================] - 0s 302us/step - loss: 18.4201 - r2_score: 0.9984\n",
      "Epoch 273/300\n",
      "48/48 [==============================] - 0s 314us/step - loss: 18.5273 - r2_score: 0.9984\n",
      "Epoch 274/300\n",
      "48/48 [==============================] - 0s 333us/step - loss: 18.4130 - r2_score: 0.9984\n",
      "Epoch 275/300\n",
      "48/48 [==============================] - 0s 303us/step - loss: 17.8453 - r2_score: 0.9984\n",
      "Epoch 276/300\n",
      "48/48 [==============================] - 0s 329us/step - loss: 18.1710 - r2_score: 0.9984\n",
      "Epoch 277/300\n",
      "48/48 [==============================] - 0s 292us/step - loss: 18.1934 - r2_score: 0.9984\n",
      "Epoch 278/300\n",
      "48/48 [==============================] - 0s 293us/step - loss: 17.8330 - r2_score: 0.9984\n",
      "Epoch 279/300\n",
      "48/48 [==============================] - 0s 288us/step - loss: 17.5396 - r2_score: 0.9985\n",
      "Epoch 280/300\n",
      "48/48 [==============================] - 0s 283us/step - loss: 18.2218 - r2_score: 0.9984\n",
      "Epoch 281/300\n",
      "48/48 [==============================] - 0s 294us/step - loss: 17.6534 - r2_score: 0.9984\n",
      "Epoch 282/300\n",
      "48/48 [==============================] - 0s 287us/step - loss: 18.1598 - r2_score: 0.9984\n",
      "Epoch 283/300\n",
      "48/48 [==============================] - 0s 290us/step - loss: 17.8603 - r2_score: 0.9984\n",
      "Epoch 284/300\n",
      "48/48 [==============================] - 0s 296us/step - loss: 17.6429 - r2_score: 0.9985\n",
      "Epoch 285/300\n",
      "48/48 [==============================] - 0s 328us/step - loss: 17.5340 - r2_score: 0.9985\n",
      "Epoch 286/300\n",
      "48/48 [==============================] - 0s 284us/step - loss: 18.4311 - r2_score: 0.9984\n",
      "Epoch 287/300\n",
      "48/48 [==============================] - 0s 309us/step - loss: 17.9612 - r2_score: 0.9984\n",
      "Epoch 288/300\n",
      "48/48 [==============================] - 0s 322us/step - loss: 18.0727 - r2_score: 0.9984\n",
      "Epoch 289/300\n",
      "48/48 [==============================] - 0s 304us/step - loss: 17.3319 - r2_score: 0.9985\n",
      "Epoch 290/300\n",
      "48/48 [==============================] - 0s 287us/step - loss: 17.2228 - r2_score: 0.9985\n",
      "Epoch 291/300\n",
      "48/48 [==============================] - 0s 302us/step - loss: 17.8424 - r2_score: 0.9984\n",
      "Epoch 292/300\n",
      "48/48 [==============================] - 0s 342us/step - loss: 17.2850 - r2_score: 0.9985\n",
      "Epoch 293/300\n",
      "48/48 [==============================] - 0s 305us/step - loss: 18.2608 - r2_score: 0.9984\n",
      "Epoch 294/300\n",
      "48/48 [==============================] - 0s 292us/step - loss: 17.8475 - r2_score: 0.9984\n",
      "Epoch 295/300\n",
      "48/48 [==============================] - 0s 288us/step - loss: 17.8574 - r2_score: 0.9984\n",
      "Epoch 296/300\n",
      "48/48 [==============================] - 0s 284us/step - loss: 17.2439 - r2_score: 0.9985\n",
      "Epoch 297/300\n",
      "48/48 [==============================] - 0s 290us/step - loss: 16.9761 - r2_score: 0.9985\n",
      "Epoch 298/300\n",
      "48/48 [==============================] - 0s 292us/step - loss: 17.5203 - r2_score: 0.9985\n",
      "Epoch 299/300\n",
      "48/48 [==============================] - 0s 298us/step - loss: 16.9097 - r2_score: 0.9985\n",
      "Epoch 300/300\n",
      "48/48 [==============================] - 0s 295us/step - loss: 17.4678 - r2_score: 0.9985\n"
     ]
    },
    {
     "data": {
      "text/plain": [
       "<keras.src.callbacks.History at 0x29213fac0>"
      ]
     },
     "execution_count": 233,
     "metadata": {},
     "output_type": "execute_result"
    }
   ],
   "source": [
    "# Training an ANN\n",
    "ann.fit(X_train, y_train, batch_size = 16, epochs = 300)"
   ]
  },
  {
   "cell_type": "code",
   "execution_count": 267,
   "id": "87f0b81e",
   "metadata": {},
   "outputs": [
    {
     "name": "stdout",
     "output_type": "stream",
     "text": [
      "8/8 [==============================] - 0s 428us/step\n"
     ]
    },
    {
     "data": {
      "text/plain": [
       "array([[363.418  ],\n",
       "       [360.14584],\n",
       "       [270.6936 ],\n",
       "       [551.07166],\n",
       "       [260.39267]], dtype=float32)"
      ]
     },
     "execution_count": 267,
     "metadata": {},
     "output_type": "execute_result"
    }
   ],
   "source": [
    "y_pred = ann.predict(X_test)\n",
    "y_pred[:5]"
   ]
  },
  {
   "cell_type": "code",
   "execution_count": 240,
   "id": "94d55880",
   "metadata": {},
   "outputs": [
    {
     "data": {
      "text/plain": [
       "20.838947120969692"
      ]
     },
     "execution_count": 240,
     "metadata": {},
     "output_type": "execute_result"
    }
   ],
   "source": [
    "mean_squared_error(y_test, y_pred)"
   ]
  },
  {
   "cell_type": "code",
   "execution_count": 236,
   "id": "9851e985",
   "metadata": {},
   "outputs": [
    {
     "name": "stdout",
     "output_type": "stream",
     "text": [
      "24/24 [==============================] - 0s 309us/step\n"
     ]
    },
    {
     "data": {
      "text/plain": [
       "16.604560269241063"
      ]
     },
     "execution_count": 236,
     "metadata": {},
     "output_type": "execute_result"
    }
   ],
   "source": [
    "mean_squared_error(y_train, ann.predict(X_train))"
   ]
  },
  {
   "cell_type": "code",
   "execution_count": 237,
   "id": "7b8a7908",
   "metadata": {},
   "outputs": [
    {
     "data": {
      "text/plain": [
       "0.9983571401976753"
      ]
     },
     "execution_count": 237,
     "metadata": {},
     "output_type": "execute_result"
    }
   ],
   "source": [
    "r2_score(y_test, y_pred)"
   ]
  },
  {
   "cell_type": "code",
   "execution_count": 238,
   "id": "f67f2e3c",
   "metadata": {},
   "outputs": [
    {
     "name": "stdout",
     "output_type": "stream",
     "text": [
      "24/24 [==============================] - 0s 283us/step\n"
     ]
    },
    {
     "data": {
      "text/plain": [
       "0.9985415085803543"
      ]
     },
     "execution_count": 238,
     "metadata": {},
     "output_type": "execute_result"
    }
   ],
   "source": [
    "r2_score(y_train, ann.predict(X_train))"
   ]
  },
  {
   "cell_type": "code",
   "execution_count": 239,
   "id": "52fa49e5",
   "metadata": {},
   "outputs": [
    {
     "data": {
      "text/plain": [
       "3.4696369007689007"
      ]
     },
     "execution_count": 239,
     "metadata": {},
     "output_type": "execute_result"
    }
   ],
   "source": [
    "mean_absolute_error(y_test, y_pred)"
   ]
  },
  {
   "cell_type": "markdown",
   "id": "03161323",
   "metadata": {},
   "source": [
    "##### Plotting a scatter for the predictions"
   ]
  },
  {
   "cell_type": "code",
   "execution_count": 255,
   "id": "f4c9c5c5",
   "metadata": {},
   "outputs": [
    {
     "data": {
      "text/plain": [
       "<Axes: xlabel='Close'>"
      ]
     },
     "execution_count": 255,
     "metadata": {},
     "output_type": "execute_result"
    },
    {
     "data": {
      "image/png": "[encoded data removed]",
      "text/plain": [
       "<Figure size 640x480 with 1 Axes>"
      ]
     },
     "metadata": {},
     "output_type": "display_data"
    }
   ],
   "source": [
    "sns.scatterplot(x = y_test, y = y_pred.flatten())"
   ]
  },
  {
   "cell_type": "markdown",
   "id": "b088d976",
   "metadata": {},
   "source": [
    "This in a kind of evidence showing that the model is performing well for the given task. "
   ]
  },
  {
   "cell_type": "markdown",
   "id": "24bca346",
   "metadata": {},
   "source": [
    "##### Plotting residuals"
   ]
  },
  {
   "cell_type": "code",
   "execution_count": 258,
   "id": "80130fe0",
   "metadata": {},
   "outputs": [
    {
     "data": {
      "text/plain": [
       "284    2.812012\n",
       "118    2.724151\n",
       "432    0.576385\n",
       "805    3.368347\n",
       "221    0.187317\n",
       "         ...   \n",
       "955   -2.656005\n",
       "59     3.484162\n",
       "534   -8.733520\n",
       "426    2.184509\n",
       "404    0.232483\n",
       "Name: Close, Length: 253, dtype: float64"
      ]
     },
     "execution_count": 258,
     "metadata": {},
     "output_type": "execute_result"
    }
   ],
   "source": [
    "residuals = y_test - y_pred.flatten() \n",
    "residuals"
   ]
  },
  {
   "cell_type": "code",
   "execution_count": 259,
   "id": "d4101969",
   "metadata": {},
   "outputs": [
    {
     "data": {
      "text/plain": [
       "<seaborn.axisgrid.FacetGrid at 0x292df56f0>"
      ]
     },
     "execution_count": 259,
     "metadata": {},
     "output_type": "execute_result"
    },
    {
     "data": {
      "image/png": "[encoded data removed]",
      "text/plain": [
       "<Figure size 500x500 with 1 Axes>"
      ]
     },
     "metadata": {},
     "output_type": "display_data"
    }
   ],
   "source": [
    "sns.displot(residuals, kind = 'kde')"
   ]
  },
  {
   "cell_type": "markdown",
   "id": "e5920909",
   "metadata": {},
   "source": [
    "#### pickle the model file for deployment"
   ]
  },
  {
   "cell_type": "code",
   "execution_count": 263,
   "id": "1555f535",
   "metadata": {},
   "outputs": [
    {
     "name": "stderr",
     "output_type": "stream",
     "text": [
      "/Users/nithinkore/anaconda3/lib/python3.10/site-packages/keras/src/engine/training.py:3103: UserWarning: You are saving your model as an HDF5 file via `model.save()`. This file format is considered legacy. We recommend using instead the native Keras format, e.g. `model.save('my_model.keras')`.\n",
      "  saving_api.save_model(\n"
     ]
    }
   ],
   "source": [
    "# pickle.dump(ann, open(\"ann_model.pkl\", \"wb\"))\n",
    "\n",
    "ann.save(\"ann_model.h5\")"
   ]
  },
  {
   "cell_type": "code",
   "execution_count": 264,
   "id": "95b54819",
   "metadata": {},
   "outputs": [],
   "source": [
    "loaded_model = load_model('ann_model.h5')"
   ]
  },
  {
   "cell_type": "code",
   "execution_count": 265,
   "id": "d1798298",
   "metadata": {},
   "outputs": [
    {
     "name": "stdout",
     "output_type": "stream",
     "text": [
      "8/8 [==============================] - 0s 705us/step\n"
     ]
    },
    {
     "data": {
      "text/plain": [
       "array([[363.418  ],\n",
       "       [360.14584],\n",
       "       [270.6936 ],\n",
       "       [551.07166],\n",
       "       [260.39267],\n",
       "       [517.5325 ],\n",
       "       [283.69772],\n",
       "       [437.81143],\n",
       "       [483.29977],\n",
       "       [287.7408 ],\n",
       "       [291.02396],\n",
       "       [290.92648],\n",
       "       [296.50046],\n",
       "       [565.6561 ],\n",
       "       [487.15335],\n",
       "       [502.2814 ],\n",
       "       [294.42456],\n",
       "       [293.06583],\n",
       "       [361.00568],\n",
       "       [487.6017 ],\n",
       "       [366.06326],\n",
       "       [327.1844 ],\n",
       "       [416.49316],\n",
       "       [390.38535],\n",
       "       [504.4413 ],\n",
       "       [557.5775 ],\n",
       "       [384.83142],\n",
       "       [355.0668 ],\n",
       "       [483.60748],\n",
       "       [266.4    ],\n",
       "       [340.10446],\n",
       "       [587.827  ],\n",
       "       [295.25748],\n",
       "       [352.42627],\n",
       "       [322.03348],\n",
       "       [336.69446],\n",
       "       [379.485  ],\n",
       "       [357.93787],\n",
       "       [288.79163],\n",
       "       [355.24228],\n",
       "       [483.45078],\n",
       "       [558.5276 ],\n",
       "       [286.65582],\n",
       "       [521.32654],\n",
       "       [319.8155 ],\n",
       "       [508.54807],\n",
       "       [619.135  ],\n",
       "       [346.39615],\n",
       "       [359.07504],\n",
       "       [499.92587],\n",
       "       [347.66382],\n",
       "       [609.92084],\n",
       "       [271.76044],\n",
       "       [377.40335],\n",
       "       [448.68262],\n",
       "       [632.8795 ],\n",
       "       [504.93118],\n",
       "       [354.26425],\n",
       "       [500.05954],\n",
       "       [353.86227],\n",
       "       [611.8053 ],\n",
       "       [672.31396],\n",
       "       [288.53586],\n",
       "       [627.8915 ],\n",
       "       [295.19247],\n",
       "       [526.94385],\n",
       "       [417.15842],\n",
       "       [543.2154 ],\n",
       "       [337.569  ],\n",
       "       [422.3778 ],\n",
       "       [321.59293],\n",
       "       [500.0032 ],\n",
       "       [376.7246 ],\n",
       "       [511.7947 ],\n",
       "       [489.76938],\n",
       "       [325.8366 ],\n",
       "       [543.5045 ],\n",
       "       [511.86105],\n",
       "       [366.17154],\n",
       "       [614.2314 ],\n",
       "       [308.2067 ],\n",
       "       [314.74576],\n",
       "       [367.73892],\n",
       "       [366.90555],\n",
       "       [377.59845],\n",
       "       [532.2556 ],\n",
       "       [506.54376],\n",
       "       [340.35532],\n",
       "       [510.8658 ],\n",
       "       [500.89206],\n",
       "       [282.3978 ],\n",
       "       [357.7462 ],\n",
       "       [499.19565],\n",
       "       [449.065  ],\n",
       "       [293.18405],\n",
       "       [484.20203],\n",
       "       [679.3835 ],\n",
       "       [570.1975 ],\n",
       "       [359.602  ],\n",
       "       [559.04114],\n",
       "       [637.40076],\n",
       "       [666.2699 ],\n",
       "       [358.2185 ],\n",
       "       [585.8302 ],\n",
       "       [342.9081 ],\n",
       "       [623.30786],\n",
       "       [305.02933],\n",
       "       [398.8867 ],\n",
       "       [396.2191 ],\n",
       "       [356.2552 ],\n",
       "       [437.76907],\n",
       "       [502.42825],\n",
       "       [549.4233 ],\n",
       "       [417.98453],\n",
       "       [287.9536 ],\n",
       "       [525.28375],\n",
       "       [551.12805],\n",
       "       [578.1002 ],\n",
       "       [594.8989 ],\n",
       "       [619.1013 ],\n",
       "       [332.0626 ],\n",
       "       [351.8112 ],\n",
       "       [353.08136],\n",
       "       [520.36285],\n",
       "       [534.68176],\n",
       "       [502.89966],\n",
       "       [497.9393 ],\n",
       "       [275.54257],\n",
       "       [351.249  ],\n",
       "       [435.381  ],\n",
       "       [516.59717],\n",
       "       [348.19183],\n",
       "       [517.0168 ],\n",
       "       [358.2705 ],\n",
       "       [539.0464 ],\n",
       "       [337.4751 ],\n",
       "       [374.23352],\n",
       "       [327.63126],\n",
       "       [276.36694],\n",
       "       [574.692  ],\n",
       "       [295.0301 ],\n",
       "       [271.31137],\n",
       "       [537.1986 ],\n",
       "       [672.4154 ],\n",
       "       [520.5674 ],\n",
       "       [289.35995],\n",
       "       [423.42502],\n",
       "       [366.47113],\n",
       "       [360.59763],\n",
       "       [308.91476],\n",
       "       [367.25668],\n",
       "       [484.86438],\n",
       "       [666.9999 ],\n",
       "       [389.3648 ],\n",
       "       [608.04193],\n",
       "       [242.41135],\n",
       "       [272.72424],\n",
       "       [475.98257],\n",
       "       [371.71014],\n",
       "       [530.0943 ],\n",
       "       [354.9271 ],\n",
       "       [339.36487],\n",
       "       [529.6247 ],\n",
       "       [334.72195],\n",
       "       [322.92725],\n",
       "       [329.82236],\n",
       "       [310.35718],\n",
       "       [349.10684],\n",
       "       [351.69983],\n",
       "       [502.46518],\n",
       "       [275.10126],\n",
       "       [362.29684],\n",
       "       [488.55063],\n",
       "       [280.93323],\n",
       "       [256.60632],\n",
       "       [353.2408 ],\n",
       "       [534.2358 ],\n",
       "       [382.18973],\n",
       "       [301.6254 ],\n",
       "       [616.98236],\n",
       "       [527.61   ],\n",
       "       [683.50024],\n",
       "       [330.69318],\n",
       "       [589.03564],\n",
       "       [486.13425],\n",
       "       [291.62305],\n",
       "       [357.09103],\n",
       "       [484.23474],\n",
       "       [511.54343],\n",
       "       [450.306  ],\n",
       "       [325.29965],\n",
       "       [495.35526],\n",
       "       [446.20078],\n",
       "       [666.1371 ],\n",
       "       [422.94437],\n",
       "       [274.86624],\n",
       "       [316.84003],\n",
       "       [490.73486],\n",
       "       [313.782  ],\n",
       "       [293.87738],\n",
       "       [511.45   ],\n",
       "       [336.95407],\n",
       "       [289.9073 ],\n",
       "       [324.86652],\n",
       "       [366.6903 ],\n",
       "       [551.71655],\n",
       "       [372.49545],\n",
       "       [505.9916 ],\n",
       "       [305.0422 ],\n",
       "       [290.77798],\n",
       "       [366.26086],\n",
       "       [377.70428],\n",
       "       [359.87646],\n",
       "       [318.37802],\n",
       "       [309.2267 ],\n",
       "       [324.01263],\n",
       "       [401.44397],\n",
       "       [305.76776],\n",
       "       [266.0494 ],\n",
       "       [271.50137],\n",
       "       [472.65988],\n",
       "       [382.42932],\n",
       "       [452.91055],\n",
       "       [266.17545],\n",
       "       [427.99136],\n",
       "       [524.20764],\n",
       "       [331.48047],\n",
       "       [353.62735],\n",
       "       [307.35974],\n",
       "       [355.42923],\n",
       "       [338.3735 ],\n",
       "       [340.85144],\n",
       "       [368.19907],\n",
       "       [333.39108],\n",
       "       [416.24753],\n",
       "       [364.78107],\n",
       "       [333.11838],\n",
       "       [512.76996],\n",
       "       [489.12985],\n",
       "       [594.53394],\n",
       "       [485.93027],\n",
       "       [268.199  ],\n",
       "       [270.36404],\n",
       "       [246.22769],\n",
       "       [511.01144],\n",
       "       [361.68738],\n",
       "       [371.15652],\n",
       "       [515.4424 ],\n",
       "       [684.676  ],\n",
       "       [309.81583],\n",
       "       [341.5635 ],\n",
       "       [282.0655 ],\n",
       "       [293.9175 ]], dtype=float32)"
      ]
     },
     "execution_count": 265,
     "metadata": {},
     "output_type": "execute_result"
    }
   ],
   "source": [
    "loaded_model.predict(X_test)"
   ]
  },
  {
   "cell_type": "code",
   "execution_count": null,
   "id": "8068c9e5",
   "metadata": {},
   "outputs": [],
   "source": []
  }
 ],
 "metadata": {
  "kernelspec": {
   "display_name": "Python 3 (ipykernel)",
   "language": "python",
   "name": "python3"
  },
  "language_info": {
   "codemirror_mode": {
    "name": "ipython",
    "version": 3
   },
   "file_extension": ".py",
   "mimetype": "text/x-python",
   "name": "python",
   "nbconvert_exporter": "python",
   "pygments_lexer": "ipython3",
   "version": "3.11.0"
  }
 },
 "nbformat": 4,
 "nbformat_minor": 5
}

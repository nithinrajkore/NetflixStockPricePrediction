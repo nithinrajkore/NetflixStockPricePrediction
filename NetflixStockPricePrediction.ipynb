{
 "cells": [
  {
   "cell_type": "markdown",
   "id": "17b63802",
   "metadata": {},
   "source": [
    "#### Import Required Packages"
   ]
  },
  {
   "cell_type": "code",
   "execution_count": 1,
   "id": "f2afc63a",
   "metadata": {},
   "outputs": [
    {
     "name": "stderr",
     "output_type": "stream",
     "text": [
      "/var/folders/bv/lfhs9spj5ldb88y3g1cy9z_w0000gn/T/ipykernel_78098/952093508.py:2: DeprecationWarning: \n",
      "Pyarrow will become a required dependency of pandas in the next major release of pandas (pandas 3.0),\n",
      "(to allow more performant data types, such as the Arrow string type, and better interoperability with other libraries)\n",
      "but was not found to be installed on your system.\n",
      "If this would cause problems for you,\n",
      "please provide us feedback at https://github.com/pandas-dev/pandas/issues/54466\n",
      "        \n",
      "  import pandas as pd\n"
     ]
    }
   ],
   "source": [
    "import numpy as np\n",
    "import pandas as pd\n",
    "import matplotlib.pyplot as plt\n",
    "import seaborn as sns\n",
    "\n",
    "from sklearn.model_selection import train_test_split\n",
    "from sklearn.preprocessing import StandardScaler\n",
    "\n",
    "from sklearn.linear_model import LinearRegression\n",
    "from sklearn.svm import SVR\n",
    "\n",
    "from sklearn.metrics import mean_squared_error, r2_score, mean_absolute_error\n",
    "\n",
    "\n",
    "import tensorflow as tf\n",
    "from tensorflow.keras.models import load_model, save_model\n",
    "\n",
    "import pickle\n"
   ]
  },
  {
   "cell_type": "markdown",
   "id": "e8462c74",
   "metadata": {},
   "source": [
    "#### Loading the dataset"
   ]
  },
  {
   "cell_type": "code",
   "execution_count": 2,
   "id": "aa92f39e",
   "metadata": {},
   "outputs": [
    {
     "data": {
      "text/html": [
       "<div>\n",
       "<style scoped>\n",
       "    .dataframe tbody tr th:only-of-type {\n",
       "        vertical-align: middle;\n",
       "    }\n",
       "\n",
       "    .dataframe tbody tr th {\n",
       "        vertical-align: top;\n",
       "    }\n",
       "\n",
       "    .dataframe thead th {\n",
       "        text-align: right;\n",
       "    }\n",
       "</style>\n",
       "<table border=\"1\" class=\"dataframe\">\n",
       "  <thead>\n",
       "    <tr style=\"text-align: right;\">\n",
       "      <th></th>\n",
       "      <th>Date</th>\n",
       "      <th>Open</th>\n",
       "      <th>High</th>\n",
       "      <th>Low</th>\n",
       "      <th>Close</th>\n",
       "      <th>Adj Close</th>\n",
       "      <th>Volume</th>\n",
       "    </tr>\n",
       "  </thead>\n",
       "  <tbody>\n",
       "    <tr>\n",
       "      <th>0</th>\n",
       "      <td>2019-02-19</td>\n",
       "      <td>355.799988</td>\n",
       "      <td>365.000000</td>\n",
       "      <td>355.320007</td>\n",
       "      <td>361.920013</td>\n",
       "      <td>361.920013</td>\n",
       "      <td>7396600</td>\n",
       "    </tr>\n",
       "    <tr>\n",
       "      <th>1</th>\n",
       "      <td>2019-02-20</td>\n",
       "      <td>364.850006</td>\n",
       "      <td>366.709991</td>\n",
       "      <td>356.700012</td>\n",
       "      <td>359.910004</td>\n",
       "      <td>359.910004</td>\n",
       "      <td>8110700</td>\n",
       "    </tr>\n",
       "    <tr>\n",
       "      <th>2</th>\n",
       "      <td>2019-02-21</td>\n",
       "      <td>360.029999</td>\n",
       "      <td>362.850006</td>\n",
       "      <td>353.880005</td>\n",
       "      <td>356.970001</td>\n",
       "      <td>356.970001</td>\n",
       "      <td>6227900</td>\n",
       "    </tr>\n",
       "    <tr>\n",
       "      <th>3</th>\n",
       "      <td>2019-02-22</td>\n",
       "      <td>360.339996</td>\n",
       "      <td>366.130005</td>\n",
       "      <td>360.049988</td>\n",
       "      <td>363.019989</td>\n",
       "      <td>363.019989</td>\n",
       "      <td>7088200</td>\n",
       "    </tr>\n",
       "    <tr>\n",
       "      <th>4</th>\n",
       "      <td>2019-02-25</td>\n",
       "      <td>367.010010</td>\n",
       "      <td>371.489990</td>\n",
       "      <td>363.790009</td>\n",
       "      <td>363.910004</td>\n",
       "      <td>363.910004</td>\n",
       "      <td>7569300</td>\n",
       "    </tr>\n",
       "  </tbody>\n",
       "</table>\n",
       "</div>"
      ],
      "text/plain": [
       "         Date        Open        High         Low       Close   Adj Close  \\\n",
       "0  2019-02-19  355.799988  365.000000  355.320007  361.920013  361.920013   \n",
       "1  2019-02-20  364.850006  366.709991  356.700012  359.910004  359.910004   \n",
       "2  2019-02-21  360.029999  362.850006  353.880005  356.970001  356.970001   \n",
       "3  2019-02-22  360.339996  366.130005  360.049988  363.019989  363.019989   \n",
       "4  2019-02-25  367.010010  371.489990  363.790009  363.910004  363.910004   \n",
       "\n",
       "    Volume  \n",
       "0  7396600  \n",
       "1  8110700  \n",
       "2  6227900  \n",
       "3  7088200  \n",
       "4  7569300  "
      ]
     },
     "execution_count": 2,
     "metadata": {},
     "output_type": "execute_result"
    }
   ],
   "source": [
    "dataset = pd.read_csv('NFLX.csv')\n",
    "dataset.head()"
   ]
  },
  {
   "cell_type": "code",
   "execution_count": 3,
   "id": "b24d0837",
   "metadata": {},
   "outputs": [
    {
     "data": {
      "text/html": [
       "<div>\n",
       "<style scoped>\n",
       "    .dataframe tbody tr th:only-of-type {\n",
       "        vertical-align: middle;\n",
       "    }\n",
       "\n",
       "    .dataframe tbody tr th {\n",
       "        vertical-align: top;\n",
       "    }\n",
       "\n",
       "    .dataframe thead th {\n",
       "        text-align: right;\n",
       "    }\n",
       "</style>\n",
       "<table border=\"1\" class=\"dataframe\">\n",
       "  <thead>\n",
       "    <tr style=\"text-align: right;\">\n",
       "      <th></th>\n",
       "      <th>Date</th>\n",
       "      <th>Open</th>\n",
       "      <th>High</th>\n",
       "      <th>Low</th>\n",
       "      <th>Close</th>\n",
       "      <th>Adj Close</th>\n",
       "      <th>Volume</th>\n",
       "    </tr>\n",
       "  </thead>\n",
       "  <tbody>\n",
       "    <tr>\n",
       "      <th>1253</th>\n",
       "      <td>2024-02-09</td>\n",
       "      <td>565.000000</td>\n",
       "      <td>566.000000</td>\n",
       "      <td>558.099976</td>\n",
       "      <td>561.320007</td>\n",
       "      <td>561.320007</td>\n",
       "      <td>3055700</td>\n",
       "    </tr>\n",
       "    <tr>\n",
       "      <th>1254</th>\n",
       "      <td>2024-02-12</td>\n",
       "      <td>560.359985</td>\n",
       "      <td>568.440002</td>\n",
       "      <td>557.000000</td>\n",
       "      <td>557.849976</td>\n",
       "      <td>557.849976</td>\n",
       "      <td>3608500</td>\n",
       "    </tr>\n",
       "    <tr>\n",
       "      <th>1255</th>\n",
       "      <td>2024-02-13</td>\n",
       "      <td>550.799988</td>\n",
       "      <td>559.200012</td>\n",
       "      <td>549.000000</td>\n",
       "      <td>554.520020</td>\n",
       "      <td>554.520020</td>\n",
       "      <td>3511500</td>\n",
       "    </tr>\n",
       "    <tr>\n",
       "      <th>1256</th>\n",
       "      <td>2024-02-14</td>\n",
       "      <td>567.260010</td>\n",
       "      <td>581.250000</td>\n",
       "      <td>564.340027</td>\n",
       "      <td>579.330017</td>\n",
       "      <td>579.330017</td>\n",
       "      <td>5634200</td>\n",
       "    </tr>\n",
       "    <tr>\n",
       "      <th>1257</th>\n",
       "      <td>2024-02-15</td>\n",
       "      <td>581.909973</td>\n",
       "      <td>593.770020</td>\n",
       "      <td>580.320007</td>\n",
       "      <td>593.460022</td>\n",
       "      <td>593.460022</td>\n",
       "      <td>5214100</td>\n",
       "    </tr>\n",
       "  </tbody>\n",
       "</table>\n",
       "</div>"
      ],
      "text/plain": [
       "            Date        Open        High         Low       Close   Adj Close  \\\n",
       "1253  2024-02-09  565.000000  566.000000  558.099976  561.320007  561.320007   \n",
       "1254  2024-02-12  560.359985  568.440002  557.000000  557.849976  557.849976   \n",
       "1255  2024-02-13  550.799988  559.200012  549.000000  554.520020  554.520020   \n",
       "1256  2024-02-14  567.260010  581.250000  564.340027  579.330017  579.330017   \n",
       "1257  2024-02-15  581.909973  593.770020  580.320007  593.460022  593.460022   \n",
       "\n",
       "       Volume  \n",
       "1253  3055700  \n",
       "1254  3608500  \n",
       "1255  3511500  \n",
       "1256  5634200  \n",
       "1257  5214100  "
      ]
     },
     "execution_count": 3,
     "metadata": {},
     "output_type": "execute_result"
    }
   ],
   "source": [
    "dataset.tail()"
   ]
  },
  {
   "cell_type": "markdown",
   "id": "bdba1ec9",
   "metadata": {},
   "source": [
    "#### Dataset Meta Data Information"
   ]
  },
  {
   "cell_type": "code",
   "execution_count": 4,
   "id": "6fc85e3b",
   "metadata": {},
   "outputs": [
    {
     "name": "stdout",
     "output_type": "stream",
     "text": [
      "<class 'pandas.core.frame.DataFrame'>\n",
      "RangeIndex: 1258 entries, 0 to 1257\n",
      "Data columns (total 7 columns):\n",
      " #   Column     Non-Null Count  Dtype  \n",
      "---  ------     --------------  -----  \n",
      " 0   Date       1258 non-null   object \n",
      " 1   Open       1258 non-null   float64\n",
      " 2   High       1258 non-null   float64\n",
      " 3   Low        1258 non-null   float64\n",
      " 4   Close      1258 non-null   float64\n",
      " 5   Adj Close  1258 non-null   float64\n",
      " 6   Volume     1258 non-null   int64  \n",
      "dtypes: float64(5), int64(1), object(1)\n",
      "memory usage: 68.9+ KB\n",
      "None\n"
     ]
    }
   ],
   "source": [
    "print(dataset.info())"
   ]
  },
  {
   "cell_type": "markdown",
   "id": "d28c1d4f",
   "metadata": {},
   "source": [
    "#### Check for any nulls in the dataset"
   ]
  },
  {
   "cell_type": "code",
   "execution_count": 5,
   "id": "991becb2",
   "metadata": {},
   "outputs": [
    {
     "data": {
      "text/plain": [
       "Date         0\n",
       "Open         0\n",
       "High         0\n",
       "Low          0\n",
       "Close        0\n",
       "Adj Close    0\n",
       "Volume       0\n",
       "dtype: int64"
      ]
     },
     "execution_count": 5,
     "metadata": {},
     "output_type": "execute_result"
    }
   ],
   "source": [
    "dataset.isnull().sum()"
   ]
  },
  {
   "cell_type": "markdown",
   "id": "830b1b8c",
   "metadata": {},
   "source": [
    "There are no nulls in the dataset"
   ]
  },
  {
   "cell_type": "markdown",
   "id": "85ad34dd",
   "metadata": {},
   "source": [
    "#### Statisctical information "
   ]
  },
  {
   "cell_type": "code",
   "execution_count": 6,
   "id": "9f089212",
   "metadata": {},
   "outputs": [
    {
     "data": {
      "text/html": [
       "<div>\n",
       "<style scoped>\n",
       "    .dataframe tbody tr th:only-of-type {\n",
       "        vertical-align: middle;\n",
       "    }\n",
       "\n",
       "    .dataframe tbody tr th {\n",
       "        vertical-align: top;\n",
       "    }\n",
       "\n",
       "    .dataframe thead th {\n",
       "        text-align: right;\n",
       "    }\n",
       "</style>\n",
       "<table border=\"1\" class=\"dataframe\">\n",
       "  <thead>\n",
       "    <tr style=\"text-align: right;\">\n",
       "      <th></th>\n",
       "      <th>Open</th>\n",
       "      <th>High</th>\n",
       "      <th>Low</th>\n",
       "      <th>Close</th>\n",
       "      <th>Adj Close</th>\n",
       "      <th>Volume</th>\n",
       "    </tr>\n",
       "  </thead>\n",
       "  <tbody>\n",
       "    <tr>\n",
       "      <th>count</th>\n",
       "      <td>1258.000000</td>\n",
       "      <td>1258.000000</td>\n",
       "      <td>1258.000000</td>\n",
       "      <td>1258.000000</td>\n",
       "      <td>1258.000000</td>\n",
       "      <td>1.258000e+03</td>\n",
       "    </tr>\n",
       "    <tr>\n",
       "      <th>mean</th>\n",
       "      <td>406.696391</td>\n",
       "      <td>412.843346</td>\n",
       "      <td>400.479452</td>\n",
       "      <td>406.767035</td>\n",
       "      <td>406.767035</td>\n",
       "      <td>7.025740e+06</td>\n",
       "    </tr>\n",
       "    <tr>\n",
       "      <th>std</th>\n",
       "      <td>116.568514</td>\n",
       "      <td>117.313899</td>\n",
       "      <td>115.505357</td>\n",
       "      <td>116.323932</td>\n",
       "      <td>116.323932</td>\n",
       "      <td>6.365560e+06</td>\n",
       "    </tr>\n",
       "    <tr>\n",
       "      <th>min</th>\n",
       "      <td>163.960007</td>\n",
       "      <td>172.059998</td>\n",
       "      <td>162.710007</td>\n",
       "      <td>166.369995</td>\n",
       "      <td>166.369995</td>\n",
       "      <td>1.144000e+06</td>\n",
       "    </tr>\n",
       "    <tr>\n",
       "      <th>25%</th>\n",
       "      <td>323.452492</td>\n",
       "      <td>328.910004</td>\n",
       "      <td>317.985008</td>\n",
       "      <td>322.999992</td>\n",
       "      <td>322.999992</td>\n",
       "      <td>3.965550e+06</td>\n",
       "    </tr>\n",
       "    <tr>\n",
       "      <th>50%</th>\n",
       "      <td>388.524994</td>\n",
       "      <td>395.959992</td>\n",
       "      <td>380.569993</td>\n",
       "      <td>388.904999</td>\n",
       "      <td>388.904999</td>\n",
       "      <td>5.569450e+06</td>\n",
       "    </tr>\n",
       "    <tr>\n",
       "      <th>75%</th>\n",
       "      <td>499.997498</td>\n",
       "      <td>505.324997</td>\n",
       "      <td>492.054993</td>\n",
       "      <td>499.095001</td>\n",
       "      <td>499.095001</td>\n",
       "      <td>7.862600e+06</td>\n",
       "    </tr>\n",
       "    <tr>\n",
       "      <th>max</th>\n",
       "      <td>692.349976</td>\n",
       "      <td>700.989990</td>\n",
       "      <td>686.090027</td>\n",
       "      <td>691.690002</td>\n",
       "      <td>691.690002</td>\n",
       "      <td>1.333875e+08</td>\n",
       "    </tr>\n",
       "  </tbody>\n",
       "</table>\n",
       "</div>"
      ],
      "text/plain": [
       "              Open         High          Low        Close    Adj Close  \\\n",
       "count  1258.000000  1258.000000  1258.000000  1258.000000  1258.000000   \n",
       "mean    406.696391   412.843346   400.479452   406.767035   406.767035   \n",
       "std     116.568514   117.313899   115.505357   116.323932   116.323932   \n",
       "min     163.960007   172.059998   162.710007   166.369995   166.369995   \n",
       "25%     323.452492   328.910004   317.985008   322.999992   322.999992   \n",
       "50%     388.524994   395.959992   380.569993   388.904999   388.904999   \n",
       "75%     499.997498   505.324997   492.054993   499.095001   499.095001   \n",
       "max     692.349976   700.989990   686.090027   691.690002   691.690002   \n",
       "\n",
       "             Volume  \n",
       "count  1.258000e+03  \n",
       "mean   7.025740e+06  \n",
       "std    6.365560e+06  \n",
       "min    1.144000e+06  \n",
       "25%    3.965550e+06  \n",
       "50%    5.569450e+06  \n",
       "75%    7.862600e+06  \n",
       "max    1.333875e+08  "
      ]
     },
     "execution_count": 6,
     "metadata": {},
     "output_type": "execute_result"
    }
   ],
   "source": [
    "dataset.describe()"
   ]
  },
  {
   "cell_type": "markdown",
   "id": "b71fc5b5",
   "metadata": {},
   "source": [
    "#### EDA"
   ]
  },
  {
   "cell_type": "code",
   "execution_count": 7,
   "id": "cff6c809",
   "metadata": {},
   "outputs": [
    {
     "data": {
      "text/html": [
       "<div>\n",
       "<style scoped>\n",
       "    .dataframe tbody tr th:only-of-type {\n",
       "        vertical-align: middle;\n",
       "    }\n",
       "\n",
       "    .dataframe tbody tr th {\n",
       "        vertical-align: top;\n",
       "    }\n",
       "\n",
       "    .dataframe thead th {\n",
       "        text-align: right;\n",
       "    }\n",
       "</style>\n",
       "<table border=\"1\" class=\"dataframe\">\n",
       "  <thead>\n",
       "    <tr style=\"text-align: right;\">\n",
       "      <th></th>\n",
       "      <th>Open</th>\n",
       "      <th>High</th>\n",
       "      <th>Low</th>\n",
       "      <th>Close</th>\n",
       "      <th>Adj Close</th>\n",
       "      <th>Volume</th>\n",
       "    </tr>\n",
       "  </thead>\n",
       "  <tbody>\n",
       "    <tr>\n",
       "      <th>Open</th>\n",
       "      <td>1.000000</td>\n",
       "      <td>0.998846</td>\n",
       "      <td>0.998934</td>\n",
       "      <td>0.997570</td>\n",
       "      <td>0.997570</td>\n",
       "      <td>-0.341733</td>\n",
       "    </tr>\n",
       "    <tr>\n",
       "      <th>High</th>\n",
       "      <td>0.998846</td>\n",
       "      <td>1.000000</td>\n",
       "      <td>0.998671</td>\n",
       "      <td>0.998925</td>\n",
       "      <td>0.998925</td>\n",
       "      <td>-0.330327</td>\n",
       "    </tr>\n",
       "    <tr>\n",
       "      <th>Low</th>\n",
       "      <td>0.998934</td>\n",
       "      <td>0.998671</td>\n",
       "      <td>1.000000</td>\n",
       "      <td>0.998868</td>\n",
       "      <td>0.998868</td>\n",
       "      <td>-0.353510</td>\n",
       "    </tr>\n",
       "    <tr>\n",
       "      <th>Close</th>\n",
       "      <td>0.997570</td>\n",
       "      <td>0.998925</td>\n",
       "      <td>0.998868</td>\n",
       "      <td>1.000000</td>\n",
       "      <td>1.000000</td>\n",
       "      <td>-0.339938</td>\n",
       "    </tr>\n",
       "    <tr>\n",
       "      <th>Adj Close</th>\n",
       "      <td>0.997570</td>\n",
       "      <td>0.998925</td>\n",
       "      <td>0.998868</td>\n",
       "      <td>1.000000</td>\n",
       "      <td>1.000000</td>\n",
       "      <td>-0.339938</td>\n",
       "    </tr>\n",
       "    <tr>\n",
       "      <th>Volume</th>\n",
       "      <td>-0.341733</td>\n",
       "      <td>-0.330327</td>\n",
       "      <td>-0.353510</td>\n",
       "      <td>-0.339938</td>\n",
       "      <td>-0.339938</td>\n",
       "      <td>1.000000</td>\n",
       "    </tr>\n",
       "  </tbody>\n",
       "</table>\n",
       "</div>"
      ],
      "text/plain": [
       "               Open      High       Low     Close  Adj Close    Volume\n",
       "Open       1.000000  0.998846  0.998934  0.997570   0.997570 -0.341733\n",
       "High       0.998846  1.000000  0.998671  0.998925   0.998925 -0.330327\n",
       "Low        0.998934  0.998671  1.000000  0.998868   0.998868 -0.353510\n",
       "Close      0.997570  0.998925  0.998868  1.000000   1.000000 -0.339938\n",
       "Adj Close  0.997570  0.998925  0.998868  1.000000   1.000000 -0.339938\n",
       "Volume    -0.341733 -0.330327 -0.353510 -0.339938  -0.339938  1.000000"
      ]
     },
     "execution_count": 7,
     "metadata": {},
     "output_type": "execute_result"
    }
   ],
   "source": [
    "cor = dataset.iloc[:,1:].corr()\n",
    "cor"
   ]
  },
  {
   "cell_type": "code",
   "execution_count": 8,
   "id": "a7c37679",
   "metadata": {},
   "outputs": [
    {
     "data": {
      "text/plain": [
       "<Axes: >"
      ]
     },
     "execution_count": 8,
     "metadata": {},
     "output_type": "execute_result"
    },
    {
     "data": {
      "image/png": "[encoded data removed]",
      "text/plain": [
       "<Figure size 640x480 with 2 Axes>"
      ]
     },
     "metadata": {},
     "output_type": "display_data"
    }
   ],
   "source": [
    "sns.heatmap(cor)"
   ]
  },
  {
   "cell_type": "raw",
   "id": "5cb4db3f",
   "metadata": {},
   "source": [
    "The target variable is \"Close\". We see that the columns Open, High, and Low are highly correlated with the target column, indicates that there is a linear relationship b/w those features and the target variable. \n",
    "\n",
    "And also we see that Volume is having negative correlation value of -0.41, indicating some negative linear relastionship."
   ]
  },
  {
   "cell_type": "markdown",
   "id": "9305ab8e",
   "metadata": {},
   "source": [
    "##### Relation b/w Open and Close variables"
   ]
  },
  {
   "cell_type": "code",
   "execution_count": 9,
   "id": "900d25a6",
   "metadata": {},
   "outputs": [
    {
     "data": {
      "text/plain": [
       "<Axes: xlabel='Open', ylabel='Close'>"
      ]
     },
     "execution_count": 9,
     "metadata": {},
     "output_type": "execute_result"
    },
    {
     "data": {
      "image/png": "[encoded data removed]",
      "text/plain": [
       "<Figure size 640x480 with 1 Axes>"
      ]
     },
     "metadata": {},
     "output_type": "display_data"
    }
   ],
   "source": [
    "sns.scatterplot(data = dataset, \n",
    "                x= 'Open', \n",
    "                y = 'Close',\n",
    "               )"
   ]
  },
  {
   "cell_type": "markdown",
   "id": "3730216f",
   "metadata": {},
   "source": [
    "We see that as value of Open increases, the close value also increases, showing positive correlation."
   ]
  },
  {
   "cell_type": "markdown",
   "id": "34c7162b",
   "metadata": {},
   "source": [
    "##### Relation b/w High and Close Variables"
   ]
  },
  {
   "cell_type": "code",
   "execution_count": 10,
   "id": "4ef769d3",
   "metadata": {},
   "outputs": [
    {
     "data": {
      "text/plain": [
       "<Axes: xlabel='High', ylabel='Close'>"
      ]
     },
     "execution_count": 10,
     "metadata": {},
     "output_type": "execute_result"
    },
    {
     "data": {
      "image/png": "[encoded data removed]",
      "text/plain": [
       "<Figure size 640x480 with 1 Axes>"
      ]
     },
     "metadata": {},
     "output_type": "display_data"
    }
   ],
   "source": [
    "sns.scatterplot(data = dataset, \n",
    "                x= 'High', \n",
    "                y = 'Close',\n",
    "               )"
   ]
  },
  {
   "cell_type": "markdown",
   "id": "103c765e",
   "metadata": {},
   "source": [
    "We see that as value of High increases, the close value also increases, showing positive correlation."
   ]
  },
  {
   "cell_type": "markdown",
   "id": "8adfbf7c",
   "metadata": {},
   "source": [
    "##### Relation b/w Low and Close Variables"
   ]
  },
  {
   "cell_type": "code",
   "execution_count": 11,
   "id": "603c4ad0",
   "metadata": {},
   "outputs": [
    {
     "data": {
      "text/plain": [
       "<Axes: xlabel='Low', ylabel='Close'>"
      ]
     },
     "execution_count": 11,
     "metadata": {},
     "output_type": "execute_result"
    },
    {
     "data": {
      "image/png": "[encoded data removed]",
      "text/plain": [
       "<Figure size 640x480 with 1 Axes>"
      ]
     },
     "metadata": {},
     "output_type": "display_data"
    }
   ],
   "source": [
    "sns.scatterplot(data = dataset, \n",
    "                x= 'Low', \n",
    "                y = 'Close',\n",
    "               )"
   ]
  },
  {
   "cell_type": "markdown",
   "id": "15b891c1",
   "metadata": {},
   "source": [
    "We see that as value of Low increases, the close value also increases, showing positive correlation."
   ]
  },
  {
   "cell_type": "markdown",
   "id": "4cc7aca6",
   "metadata": {},
   "source": [
    "##### Relation b/w Volume and Close Variables"
   ]
  },
  {
   "cell_type": "code",
   "execution_count": 12,
   "id": "9c189f36",
   "metadata": {},
   "outputs": [
    {
     "data": {
      "text/plain": [
       "<Axes: xlabel='Volume', ylabel='Close'>"
      ]
     },
     "execution_count": 12,
     "metadata": {},
     "output_type": "execute_result"
    },
    {
     "data": {
      "image/png": "[encoded data removed]",
      "text/plain": [
       "<Figure size 640x480 with 1 Axes>"
      ]
     },
     "metadata": {},
     "output_type": "display_data"
    }
   ],
   "source": [
    "sns.scatterplot(data = dataset, \n",
    "                x= 'Volume', \n",
    "                y = 'Close',\n",
    "               )"
   ]
  },
  {
   "cell_type": "markdown",
   "id": "5f84dee2",
   "metadata": {},
   "source": [
    "As we see, most of the observations have value of close to be high at lower values of Volume, and there are only few observations at high volume region, that have low close values. This kind of behavior implies slightly negative correlation"
   ]
  },
  {
   "cell_type": "markdown",
   "id": "3f7dd2a5",
   "metadata": {},
   "source": [
    "##### Boxplot"
   ]
  },
  {
   "cell_type": "code",
   "execution_count": 13,
   "id": "16ca9f60",
   "metadata": {},
   "outputs": [
    {
     "data": {
      "text/plain": [
       "<Axes: >"
      ]
     },
     "execution_count": 13,
     "metadata": {},
     "output_type": "execute_result"
    },
    {
     "data": {
      "image/png": "[encoded data removed]",
      "text/plain": [
       "<Figure size 640x480 with 1 Axes>"
      ]
     },
     "metadata": {},
     "output_type": "display_data"
    }
   ],
   "source": [
    "sns.boxplot(data = dataset.iloc[:,:-1])"
   ]
  },
  {
   "cell_type": "markdown",
   "id": "3ede1fa5",
   "metadata": {},
   "source": [
    "And from above we see that all the variables are equally distributed, their means are close to each other."
   ]
  },
  {
   "cell_type": "markdown",
   "id": "e6a302c3",
   "metadata": {},
   "source": [
    "##### Relation b/w Open and High Variables"
   ]
  },
  {
   "cell_type": "code",
   "execution_count": 14,
   "id": "a8e59df7",
   "metadata": {},
   "outputs": [
    {
     "data": {
      "text/plain": [
       "<Axes: xlabel='Open', ylabel='High'>"
      ]
     },
     "execution_count": 14,
     "metadata": {},
     "output_type": "execute_result"
    },
    {
     "data": {
      "image/png": "[encoded data removed]",
      "text/plain": [
       "<Figure size 640x480 with 1 Axes>"
      ]
     },
     "metadata": {},
     "output_type": "display_data"
    }
   ],
   "source": [
    "sns.scatterplot(data = dataset, \n",
    "                x= 'Open', \n",
    "                y = 'High',\n",
    "               )"
   ]
  },
  {
   "cell_type": "markdown",
   "id": "779bee79",
   "metadata": {},
   "source": [
    "##### Relation b/w Open and Low Variables"
   ]
  },
  {
   "cell_type": "code",
   "execution_count": 15,
   "id": "e4ed9089",
   "metadata": {},
   "outputs": [
    {
     "data": {
      "text/plain": [
       "<Axes: xlabel='Open', ylabel='Low'>"
      ]
     },
     "execution_count": 15,
     "metadata": {},
     "output_type": "execute_result"
    },
    {
     "data": {
      "image/png": "[encoded data removed]",
      "text/plain": [
       "<Figure size 640x480 with 1 Axes>"
      ]
     },
     "metadata": {},
     "output_type": "display_data"
    }
   ],
   "source": [
    "sns.scatterplot(data = dataset, \n",
    "                x= 'Open', \n",
    "                y = 'Low',\n",
    "               )"
   ]
  },
  {
   "cell_type": "markdown",
   "id": "dd0ee59a",
   "metadata": {},
   "source": [
    "##### Relation b/w High and Low Variables"
   ]
  },
  {
   "cell_type": "code",
   "execution_count": 16,
   "id": "9aac1cdc",
   "metadata": {},
   "outputs": [
    {
     "data": {
      "text/plain": [
       "<Axes: xlabel='High', ylabel='Low'>"
      ]
     },
     "execution_count": 16,
     "metadata": {},
     "output_type": "execute_result"
    },
    {
     "data": {
      "image/png": "[encoded data removed]",
      "text/plain": [
       "<Figure size 640x480 with 1 Axes>"
      ]
     },
     "metadata": {},
     "output_type": "display_data"
    }
   ],
   "source": [
    "sns.scatterplot(data = dataset, \n",
    "                x= 'High', \n",
    "                y = 'Low',\n",
    "               )"
   ]
  },
  {
   "cell_type": "markdown",
   "id": "480af2f3",
   "metadata": {},
   "source": [
    "As we see, most of the relationships are linear."
   ]
  },
  {
   "cell_type": "markdown",
   "id": "20f83e1b",
   "metadata": {},
   "source": [
    "#### Train Test Split"
   ]
  },
  {
   "cell_type": "code",
   "execution_count": 17,
   "id": "0dedc37d",
   "metadata": {},
   "outputs": [],
   "source": [
    "X = dataset[['Open', 'High', 'Low', 'Volume']]\n",
    "y = dataset['Close']"
   ]
  },
  {
   "cell_type": "code",
   "execution_count": 18,
   "id": "5278b835",
   "metadata": {},
   "outputs": [
    {
     "data": {
      "text/html": [
       "<div>\n",
       "<style scoped>\n",
       "    .dataframe tbody tr th:only-of-type {\n",
       "        vertical-align: middle;\n",
       "    }\n",
       "\n",
       "    .dataframe tbody tr th {\n",
       "        vertical-align: top;\n",
       "    }\n",
       "\n",
       "    .dataframe thead th {\n",
       "        text-align: right;\n",
       "    }\n",
       "</style>\n",
       "<table border=\"1\" class=\"dataframe\">\n",
       "  <thead>\n",
       "    <tr style=\"text-align: right;\">\n",
       "      <th></th>\n",
       "      <th>Open</th>\n",
       "      <th>High</th>\n",
       "      <th>Low</th>\n",
       "      <th>Volume</th>\n",
       "    </tr>\n",
       "  </thead>\n",
       "  <tbody>\n",
       "    <tr>\n",
       "      <th>0</th>\n",
       "      <td>355.799988</td>\n",
       "      <td>365.000000</td>\n",
       "      <td>355.320007</td>\n",
       "      <td>7396600</td>\n",
       "    </tr>\n",
       "    <tr>\n",
       "      <th>1</th>\n",
       "      <td>364.850006</td>\n",
       "      <td>366.709991</td>\n",
       "      <td>356.700012</td>\n",
       "      <td>8110700</td>\n",
       "    </tr>\n",
       "    <tr>\n",
       "      <th>2</th>\n",
       "      <td>360.029999</td>\n",
       "      <td>362.850006</td>\n",
       "      <td>353.880005</td>\n",
       "      <td>6227900</td>\n",
       "    </tr>\n",
       "    <tr>\n",
       "      <th>3</th>\n",
       "      <td>360.339996</td>\n",
       "      <td>366.130005</td>\n",
       "      <td>360.049988</td>\n",
       "      <td>7088200</td>\n",
       "    </tr>\n",
       "    <tr>\n",
       "      <th>4</th>\n",
       "      <td>367.010010</td>\n",
       "      <td>371.489990</td>\n",
       "      <td>363.790009</td>\n",
       "      <td>7569300</td>\n",
       "    </tr>\n",
       "  </tbody>\n",
       "</table>\n",
       "</div>"
      ],
      "text/plain": [
       "         Open        High         Low   Volume\n",
       "0  355.799988  365.000000  355.320007  7396600\n",
       "1  364.850006  366.709991  356.700012  8110700\n",
       "2  360.029999  362.850006  353.880005  6227900\n",
       "3  360.339996  366.130005  360.049988  7088200\n",
       "4  367.010010  371.489990  363.790009  7569300"
      ]
     },
     "execution_count": 18,
     "metadata": {},
     "output_type": "execute_result"
    }
   ],
   "source": [
    "X.head()"
   ]
  },
  {
   "cell_type": "code",
   "execution_count": 19,
   "id": "0b28f92a",
   "metadata": {},
   "outputs": [
    {
     "data": {
      "text/plain": [
       "0    361.920013\n",
       "1    359.910004\n",
       "2    356.970001\n",
       "3    363.019989\n",
       "4    363.910004\n",
       "Name: Close, dtype: float64"
      ]
     },
     "execution_count": 19,
     "metadata": {},
     "output_type": "execute_result"
    }
   ],
   "source": [
    "y[:5]"
   ]
  },
  {
   "cell_type": "code",
   "execution_count": 20,
   "id": "f16410f1",
   "metadata": {},
   "outputs": [
    {
     "data": {
      "text/plain": [
       "((943, 4), (315, 4), (943,), (315,))"
      ]
     },
     "execution_count": 20,
     "metadata": {},
     "output_type": "execute_result"
    }
   ],
   "source": [
    "X_train, X_test, y_train, y_test = train_test_split(X, y, test_size = 0.25, random_state = 121)\n",
    "\n",
    "X_train.shape, X_test.shape, y_train.shape, y_test.shape"
   ]
  },
  {
   "cell_type": "markdown",
   "id": "c89e3d05",
   "metadata": {},
   "source": [
    "#### Feature Scaling"
   ]
  },
  {
   "cell_type": "code",
   "execution_count": 21,
   "id": "6118a5a8",
   "metadata": {},
   "outputs": [
    {
     "data": {
      "text/plain": [
       "array([[-0.18859014, -0.22571581, -0.30905939, -0.17880959],\n",
       "       [ 0.7063158 ,  0.7168404 ,  0.72844121, -0.48342275],\n",
       "       [ 0.93565483,  0.92465768,  0.98606422, -0.71441131],\n",
       "       ...,\n",
       "       [ 0.52077728,  0.53026822,  0.56125132, -0.16836468],\n",
       "       [-0.39835868, -0.34273444, -0.35504521, -0.12619487],\n",
       "       [ 0.94378822,  0.94885384,  0.92563305, -0.62705526]])"
      ]
     },
     "execution_count": 21,
     "metadata": {},
     "output_type": "execute_result"
    }
   ],
   "source": [
    "sc = StandardScaler()\n",
    "X_train = sc.fit_transform(X_train)\n",
    "X_test = sc.transform(X_test)\n",
    "X_train"
   ]
  },
  {
   "cell_type": "code",
   "execution_count": 22,
   "id": "4702a21f",
   "metadata": {},
   "outputs": [
    {
     "data": {
      "text/plain": [
       "array([ 0.7063158 ,  0.7168404 ,  0.72844121, -0.48342275])"
      ]
     },
     "execution_count": 22,
     "metadata": {},
     "output_type": "execute_result"
    }
   ],
   "source": [
    "X_train[1,:]"
   ]
  },
  {
   "cell_type": "markdown",
   "id": "d341670d",
   "metadata": {},
   "source": [
    "We save the scaler information in a pickle file"
   ]
  },
  {
   "cell_type": "code",
   "execution_count": 23,
   "id": "5085d95e",
   "metadata": {},
   "outputs": [],
   "source": [
    "pickle.dump(sc,open('scaler.pkl','wb'))"
   ]
  },
  {
   "cell_type": "markdown",
   "id": "63072631",
   "metadata": {},
   "source": [
    "#### We try building various models to predict the stock price, and then select the model with better performance"
   ]
  },
  {
   "cell_type": "markdown",
   "id": "acda04e2",
   "metadata": {},
   "source": [
    "#### 1. Simple Linear Regression"
   ]
  },
  {
   "cell_type": "markdown",
   "id": "e800359e",
   "metadata": {},
   "source": [
    "As we see, most of the features have linear relationship with each other, we start using a single column to predict the stock price."
   ]
  },
  {
   "cell_type": "code",
   "execution_count": 24,
   "id": "7919435e",
   "metadata": {},
   "outputs": [
    {
     "data": {
      "text/plain": [
       "Index(['Open', 'High', 'Low', 'Volume'], dtype='object')"
      ]
     },
     "execution_count": 24,
     "metadata": {},
     "output_type": "execute_result"
    }
   ],
   "source": [
    "colList = X.columns\n",
    "colList"
   ]
  },
  {
   "cell_type": "code",
   "execution_count": 25,
   "id": "94748f0f",
   "metadata": {},
   "outputs": [],
   "source": [
    "train_r2score = []\n",
    "test_r2score = []\n",
    "train_error = []\n",
    "test_error = []\n",
    "abs_train = []\n",
    "abs_test = []\n",
    "for i,col in enumerate(colList):\n",
    "#     print(i,col)\n",
    "    train_x = X_train[:,i].reshape(-1,1)\n",
    "    test_x = X_test[:,i].reshape(-1,1)\n",
    "    \n",
    "    LinearRegressor = LinearRegression()\n",
    "    LinearRegressor.fit(train_x,y_train)\n",
    "    \n",
    "    train_err = mean_squared_error(y_train, LinearRegressor.predict(train_x))\n",
    "    test_err = mean_squared_error(y_test, LinearRegressor.predict(test_x))\n",
    "    \n",
    "    train_r2 = r2_score(y_train, LinearRegressor.predict(train_x))\n",
    "    test_r2 = r2_score(y_test, LinearRegressor.predict(test_x))\n",
    "    \n",
    "    abs_train.append(mean_absolute_error(y_train, LinearRegressor.predict(train_x)))\n",
    "    abs_test.append(mean_absolute_error(y_test, LinearRegressor.predict(test_x)))\n",
    "    train_error.append(train_err)\n",
    "    test_error.append(test_err)\n",
    "    train_r2score.append(train_r2)\n",
    "    test_r2score.append(test_r2)\n",
    "    "
   ]
  },
  {
   "cell_type": "code",
   "execution_count": 26,
   "id": "e2dd70f6",
   "metadata": {},
   "outputs": [
    {
     "data": {
      "text/html": [
       "<div>\n",
       "<style scoped>\n",
       "    .dataframe tbody tr th:only-of-type {\n",
       "        vertical-align: middle;\n",
       "    }\n",
       "\n",
       "    .dataframe tbody tr th {\n",
       "        vertical-align: top;\n",
       "    }\n",
       "\n",
       "    .dataframe thead th {\n",
       "        text-align: right;\n",
       "    }\n",
       "</style>\n",
       "<table border=\"1\" class=\"dataframe\">\n",
       "  <thead>\n",
       "    <tr style=\"text-align: right;\">\n",
       "      <th></th>\n",
       "      <th>Features</th>\n",
       "      <th>train_error</th>\n",
       "      <th>test_error</th>\n",
       "    </tr>\n",
       "  </thead>\n",
       "  <tbody>\n",
       "    <tr>\n",
       "      <th>0</th>\n",
       "      <td>Open</td>\n",
       "      <td>63.660348</td>\n",
       "      <td>71.507764</td>\n",
       "    </tr>\n",
       "    <tr>\n",
       "      <th>1</th>\n",
       "      <td>High</td>\n",
       "      <td>26.918608</td>\n",
       "      <td>35.506271</td>\n",
       "    </tr>\n",
       "    <tr>\n",
       "      <th>2</th>\n",
       "      <td>Low</td>\n",
       "      <td>31.825443</td>\n",
       "      <td>26.885360</td>\n",
       "    </tr>\n",
       "    <tr>\n",
       "      <th>3</th>\n",
       "      <td>Volume</td>\n",
       "      <td>12222.580851</td>\n",
       "      <td>11177.103115</td>\n",
       "    </tr>\n",
       "  </tbody>\n",
       "</table>\n",
       "</div>"
      ],
      "text/plain": [
       "  Features   train_error    test_error\n",
       "0     Open     63.660348     71.507764\n",
       "1     High     26.918608     35.506271\n",
       "2      Low     31.825443     26.885360\n",
       "3   Volume  12222.580851  11177.103115"
      ]
     },
     "execution_count": 26,
     "metadata": {},
     "output_type": "execute_result"
    }
   ],
   "source": [
    "error_df = pd.DataFrame(zip(colList,train_error, test_error), columns = [\"Features\",\"train_error\",\"test_error\"])\n",
    "error_df"
   ]
  },
  {
   "cell_type": "code",
   "execution_count": 27,
   "id": "be269e03",
   "metadata": {},
   "outputs": [
    {
     "data": {
      "text/plain": [
       "<Axes: xlabel='None'>"
      ]
     },
     "execution_count": 27,
     "metadata": {},
     "output_type": "execute_result"
    },
    {
     "data": {
      "image/png": "[encoded data removed]",
      "text/plain": [
       "<Figure size 640x480 with 1 Axes>"
      ]
     },
     "metadata": {},
     "output_type": "display_data"
    }
   ],
   "source": [
    "sns.lineplot(x=colList, y = train_error, marker='o', color='r', label='Train Error')\n",
    "sns.lineplot(x=colList, y = test_error, marker='v', label='Test Error')\n"
   ]
  },
  {
   "cell_type": "raw",
   "id": "66832538",
   "metadata": {},
   "source": [
    "From above,\n",
    "    Both train and test errors are low when we used one of the Open, High, or low features.\n",
    "    And the errors are very high when Volume column is used"
   ]
  },
  {
   "cell_type": "code",
   "execution_count": 28,
   "id": "2953c2e7",
   "metadata": {},
   "outputs": [
    {
     "data": {
      "text/html": [
       "<div>\n",
       "<style scoped>\n",
       "    .dataframe tbody tr th:only-of-type {\n",
       "        vertical-align: middle;\n",
       "    }\n",
       "\n",
       "    .dataframe tbody tr th {\n",
       "        vertical-align: top;\n",
       "    }\n",
       "\n",
       "    .dataframe thead th {\n",
       "        text-align: right;\n",
       "    }\n",
       "</style>\n",
       "<table border=\"1\" class=\"dataframe\">\n",
       "  <thead>\n",
       "    <tr style=\"text-align: right;\">\n",
       "      <th></th>\n",
       "      <th>Features</th>\n",
       "      <th>train_r2</th>\n",
       "      <th>test_r2</th>\n",
       "    </tr>\n",
       "  </thead>\n",
       "  <tbody>\n",
       "    <tr>\n",
       "      <th>0</th>\n",
       "      <td>Open</td>\n",
       "      <td>0.995408</td>\n",
       "      <td>0.994263</td>\n",
       "    </tr>\n",
       "    <tr>\n",
       "      <th>1</th>\n",
       "      <td>High</td>\n",
       "      <td>0.998058</td>\n",
       "      <td>0.997151</td>\n",
       "    </tr>\n",
       "    <tr>\n",
       "      <th>2</th>\n",
       "      <td>Low</td>\n",
       "      <td>0.997704</td>\n",
       "      <td>0.997843</td>\n",
       "    </tr>\n",
       "    <tr>\n",
       "      <th>3</th>\n",
       "      <td>Volume</td>\n",
       "      <td>0.118280</td>\n",
       "      <td>0.103265</td>\n",
       "    </tr>\n",
       "  </tbody>\n",
       "</table>\n",
       "</div>"
      ],
      "text/plain": [
       "  Features  train_r2   test_r2\n",
       "0     Open  0.995408  0.994263\n",
       "1     High  0.998058  0.997151\n",
       "2      Low  0.997704  0.997843\n",
       "3   Volume  0.118280  0.103265"
      ]
     },
     "execution_count": 28,
     "metadata": {},
     "output_type": "execute_result"
    }
   ],
   "source": [
    "r2_df = pd.DataFrame(zip(colList,train_r2score, test_r2score), columns = [\"Features\",\"train_r2\",\"test_r2\"])\n",
    "r2_df"
   ]
  },
  {
   "cell_type": "code",
   "execution_count": 29,
   "id": "5f26c113",
   "metadata": {},
   "outputs": [
    {
     "data": {
      "text/plain": [
       "<Axes: xlabel='None'>"
      ]
     },
     "execution_count": 29,
     "metadata": {},
     "output_type": "execute_result"
    },
    {
     "data": {
      "image/png": "[encoded data removed]",
      "text/plain": [
       "<Figure size 640x480 with 1 Axes>"
      ]
     },
     "metadata": {},
     "output_type": "display_data"
    }
   ],
   "source": [
    "sns.lineplot(x=colList, y = train_r2score, marker='o', color='r', label='Train R2')\n",
    "sns.lineplot(x=colList, y = test_r2score, marker='v', label='Test R2')\n"
   ]
  },
  {
   "cell_type": "code",
   "execution_count": 30,
   "id": "e8fa4720",
   "metadata": {},
   "outputs": [
    {
     "data": {
      "text/html": [
       "<div>\n",
       "<style scoped>\n",
       "    .dataframe tbody tr th:only-of-type {\n",
       "        vertical-align: middle;\n",
       "    }\n",
       "\n",
       "    .dataframe tbody tr th {\n",
       "        vertical-align: top;\n",
       "    }\n",
       "\n",
       "    .dataframe thead th {\n",
       "        text-align: right;\n",
       "    }\n",
       "</style>\n",
       "<table border=\"1\" class=\"dataframe\">\n",
       "  <thead>\n",
       "    <tr style=\"text-align: right;\">\n",
       "      <th></th>\n",
       "      <th>Features</th>\n",
       "      <th>train_mae</th>\n",
       "      <th>test_mae</th>\n",
       "    </tr>\n",
       "  </thead>\n",
       "  <tbody>\n",
       "    <tr>\n",
       "      <th>0</th>\n",
       "      <td>Open</td>\n",
       "      <td>5.915487</td>\n",
       "      <td>6.308519</td>\n",
       "    </tr>\n",
       "    <tr>\n",
       "      <th>1</th>\n",
       "      <td>High</td>\n",
       "      <td>3.908190</td>\n",
       "      <td>4.225259</td>\n",
       "    </tr>\n",
       "    <tr>\n",
       "      <th>2</th>\n",
       "      <td>Low</td>\n",
       "      <td>3.968445</td>\n",
       "      <td>3.837656</td>\n",
       "    </tr>\n",
       "    <tr>\n",
       "      <th>3</th>\n",
       "      <td>Volume</td>\n",
       "      <td>91.942016</td>\n",
       "      <td>88.093729</td>\n",
       "    </tr>\n",
       "  </tbody>\n",
       "</table>\n",
       "</div>"
      ],
      "text/plain": [
       "  Features  train_mae   test_mae\n",
       "0     Open   5.915487   6.308519\n",
       "1     High   3.908190   4.225259\n",
       "2      Low   3.968445   3.837656\n",
       "3   Volume  91.942016  88.093729"
      ]
     },
     "execution_count": 30,
     "metadata": {},
     "output_type": "execute_result"
    }
   ],
   "source": [
    "mae_df = pd.DataFrame(zip(colList,abs_train, abs_test), columns = [\"Features\",\"train_mae\",\"test_mae\"])\n",
    "mae_df"
   ]
  },
  {
   "cell_type": "code",
   "execution_count": 31,
   "id": "0daa9311",
   "metadata": {},
   "outputs": [
    {
     "data": {
      "text/plain": [
       "<Axes: xlabel='None'>"
      ]
     },
     "execution_count": 31,
     "metadata": {},
     "output_type": "execute_result"
    },
    {
     "data": {
      "image/png": "[encoded data removed]",
      "text/plain": [
       "<Figure size 640x480 with 1 Axes>"
      ]
     },
     "metadata": {},
     "output_type": "display_data"
    }
   ],
   "source": [
    "sns.lineplot(x=colList, y = abs_train, marker='o', color='r', label='Train mae')\n",
    "sns.lineplot(x=colList, y = abs_test, marker='v', label='Test mae')\n"
   ]
  },
  {
   "cell_type": "raw",
   "id": "43cddfbd",
   "metadata": {},
   "source": [
    "We see that,\n",
    "    the r2 scores of the models are high and close to 1, when either of the one feature from High, Open, and Low are selected. This indicates either of the columns can perfectly explains the variablity in the target variable."
   ]
  },
  {
   "cell_type": "raw",
   "id": "873f6dbf",
   "metadata": {},
   "source": [
    "Therefore, we can proceed with a feature with low training and test loss and high train r2 and test r2 scores.\n",
    "From the above data, we see that High feature can be selected"
   ]
  },
  {
   "cell_type": "markdown",
   "id": "4557525f",
   "metadata": {},
   "source": [
    "#### Fitting a model with only one column i.e., using feature High"
   ]
  },
  {
   "cell_type": "code",
   "execution_count": 32,
   "id": "81c934cc",
   "metadata": {},
   "outputs": [
    {
     "data": {
      "text/html": [
       "<style>#sk-container-id-1 {\n",
       "  /* Definition of color scheme common for light and dark mode */\n",
       "  --sklearn-color-text: black;\n",
       "  --sklearn-color-line: gray;\n",
       "  /* Definition of color scheme for unfitted estimators */\n",
       "  --sklearn-color-unfitted-level-0: #fff5e6;\n",
       "  --sklearn-color-unfitted-level-1: #f6e4d2;\n",
       "  --sklearn-color-unfitted-level-2: #ffe0b3;\n",
       "  --sklearn-color-unfitted-level-3: chocolate;\n",
       "  /* Definition of color scheme for fitted estimators */\n",
       "  --sklearn-color-fitted-level-0: #f0f8ff;\n",
       "  --sklearn-color-fitted-level-1: #d4ebff;\n",
       "  --sklearn-color-fitted-level-2: #b3dbfd;\n",
       "  --sklearn-color-fitted-level-3: cornflowerblue;\n",
       "\n",
       "  /* Specific color for light theme */\n",
       "  --sklearn-color-text-on-default-background: var(--sg-text-color, var(--theme-code-foreground, var(--jp-content-font-color1, black)));\n",
       "  --sklearn-color-background: var(--sg-background-color, var(--theme-background, var(--jp-layout-color0, white)));\n",
       "  --sklearn-color-border-box: var(--sg-text-color, var(--theme-code-foreground, var(--jp-content-font-color1, black)));\n",
       "  --sklearn-color-icon: #696969;\n",
       "\n",
       "  @media (prefers-color-scheme: dark) {\n",
       "    /* Redefinition of color scheme for dark theme */\n",
       "    --sklearn-color-text-on-default-background: var(--sg-text-color, var(--theme-code-foreground, var(--jp-content-font-color1, white)));\n",
       "    --sklearn-color-background: var(--sg-background-color, var(--theme-background, var(--jp-layout-color0, #111)));\n",
       "    --sklearn-color-border-box: var(--sg-text-color, var(--theme-code-foreground, var(--jp-content-font-color1, white)));\n",
       "    --sklearn-color-icon: #878787;\n",
       "  }\n",
       "}\n",
       "\n",
       "#sk-container-id-1 {\n",
       "  color: var(--sklearn-color-text);\n",
       "}\n",
       "\n",
       "#sk-container-id-1 pre {\n",
       "  padding: 0;\n",
       "}\n",
       "\n",
       "#sk-container-id-1 input.sk-hidden--visually {\n",
       "  border: 0;\n",
       "  clip: rect(1px 1px 1px 1px);\n",
       "  clip: rect(1px, 1px, 1px, 1px);\n",
       "  height: 1px;\n",
       "  margin: -1px;\n",
       "  overflow: hidden;\n",
       "  padding: 0;\n",
       "  position: absolute;\n",
       "  width: 1px;\n",
       "}\n",
       "\n",
       "#sk-container-id-1 div.sk-dashed-wrapped {\n",
       "  border: 1px dashed var(--sklearn-color-line);\n",
       "  margin: 0 0.4em 0.5em 0.4em;\n",
       "  box-sizing: border-box;\n",
       "  padding-bottom: 0.4em;\n",
       "  background-color: var(--sklearn-color-background);\n",
       "}\n",
       "\n",
       "#sk-container-id-1 div.sk-container {\n",
       "  /* jupyter's `normalize.less` sets `[hidden] { display: none; }`\n",
       "     but bootstrap.min.css set `[hidden] { display: none !important; }`\n",
       "     so we also need the `!important` here to be able to override the\n",
       "     default hidden behavior on the sphinx rendered scikit-learn.org.\n",
       "     See: https://github.com/scikit-learn/scikit-learn/issues/21755 */\n",
       "  display: inline-block !important;\n",
       "  position: relative;\n",
       "}\n",
       "\n",
       "#sk-container-id-1 div.sk-text-repr-fallback {\n",
       "  display: none;\n",
       "}\n",
       "\n",
       "div.sk-parallel-item,\n",
       "div.sk-serial,\n",
       "div.sk-item {\n",
       "  /* draw centered vertical line to link estimators */\n",
       "  background-image: linear-gradient(var(--sklearn-color-text-on-default-background), var(--sklearn-color-text-on-default-background));\n",
       "  background-size: 2px 100%;\n",
       "  background-repeat: no-repeat;\n",
       "  background-position: center center;\n",
       "}\n",
       "\n",
       "/* Parallel-specific style estimator block */\n",
       "\n",
       "#sk-container-id-1 div.sk-parallel-item::after {\n",
       "  content: \"\";\n",
       "  width: 100%;\n",
       "  border-bottom: 2px solid var(--sklearn-color-text-on-default-background);\n",
       "  flex-grow: 1;\n",
       "}\n",
       "\n",
       "#sk-container-id-1 div.sk-parallel {\n",
       "  display: flex;\n",
       "  align-items: stretch;\n",
       "  justify-content: center;\n",
       "  background-color: var(--sklearn-color-background);\n",
       "  position: relative;\n",
       "}\n",
       "\n",
       "#sk-container-id-1 div.sk-parallel-item {\n",
       "  display: flex;\n",
       "  flex-direction: column;\n",
       "}\n",
       "\n",
       "#sk-container-id-1 div.sk-parallel-item:first-child::after {\n",
       "  align-self: flex-end;\n",
       "  width: 50%;\n",
       "}\n",
       "\n",
       "#sk-container-id-1 div.sk-parallel-item:last-child::after {\n",
       "  align-self: flex-start;\n",
       "  width: 50%;\n",
       "}\n",
       "\n",
       "#sk-container-id-1 div.sk-parallel-item:only-child::after {\n",
       "  width: 0;\n",
       "}\n",
       "\n",
       "/* Serial-specific style estimator block */\n",
       "\n",
       "#sk-container-id-1 div.sk-serial {\n",
       "  display: flex;\n",
       "  flex-direction: column;\n",
       "  align-items: center;\n",
       "  background-color: var(--sklearn-color-background);\n",
       "  padding-right: 1em;\n",
       "  padding-left: 1em;\n",
       "}\n",
       "\n",
       "\n",
       "/* Toggleable style: style used for estimator/Pipeline/ColumnTransformer box that is\n",
       "clickable and can be expanded/collapsed.\n",
       "- Pipeline and ColumnTransformer use this feature and define the default style\n",
       "- Estimators will overwrite some part of the style using the `sk-estimator` class\n",
       "*/\n",
       "\n",
       "/* Pipeline and ColumnTransformer style (default) */\n",
       "\n",
       "#sk-container-id-1 div.sk-toggleable {\n",
       "  /* Default theme specific background. It is overwritten whether we have a\n",
       "  specific estimator or a Pipeline/ColumnTransformer */\n",
       "  background-color: var(--sklearn-color-background);\n",
       "}\n",
       "\n",
       "/* Toggleable label */\n",
       "#sk-container-id-1 label.sk-toggleable__label {\n",
       "  cursor: pointer;\n",
       "  display: block;\n",
       "  width: 100%;\n",
       "  margin-bottom: 0;\n",
       "  padding: 0.5em;\n",
       "  box-sizing: border-box;\n",
       "  text-align: center;\n",
       "}\n",
       "\n",
       "#sk-container-id-1 label.sk-toggleable__label-arrow:before {\n",
       "  /* Arrow on the left of the label */\n",
       "  content: \"▸\";\n",
       "  float: left;\n",
       "  margin-right: 0.25em;\n",
       "  color: var(--sklearn-color-icon);\n",
       "}\n",
       "\n",
       "#sk-container-id-1 label.sk-toggleable__label-arrow:hover:before {\n",
       "  color: var(--sklearn-color-text);\n",
       "}\n",
       "\n",
       "/* Toggleable content - dropdown */\n",
       "\n",
       "#sk-container-id-1 div.sk-toggleable__content {\n",
       "  max-height: 0;\n",
       "  max-width: 0;\n",
       "  overflow: hidden;\n",
       "  text-align: left;\n",
       "  /* unfitted */\n",
       "  background-color: var(--sklearn-color-unfitted-level-0);\n",
       "}\n",
       "\n",
       "#sk-container-id-1 div.sk-toggleable__content.fitted {\n",
       "  /* fitted */\n",
       "  background-color: var(--sklearn-color-fitted-level-0);\n",
       "}\n",
       "\n",
       "#sk-container-id-1 div.sk-toggleable__content pre {\n",
       "  margin: 0.2em;\n",
       "  border-radius: 0.25em;\n",
       "  color: var(--sklearn-color-text);\n",
       "  /* unfitted */\n",
       "  background-color: var(--sklearn-color-unfitted-level-0);\n",
       "}\n",
       "\n",
       "#sk-container-id-1 div.sk-toggleable__content.fitted pre {\n",
       "  /* unfitted */\n",
       "  background-color: var(--sklearn-color-fitted-level-0);\n",
       "}\n",
       "\n",
       "#sk-container-id-1 input.sk-toggleable__control:checked~div.sk-toggleable__content {\n",
       "  /* Expand drop-down */\n",
       "  max-height: 200px;\n",
       "  max-width: 100%;\n",
       "  overflow: auto;\n",
       "}\n",
       "\n",
       "#sk-container-id-1 input.sk-toggleable__control:checked~label.sk-toggleable__label-arrow:before {\n",
       "  content: \"▾\";\n",
       "}\n",
       "\n",
       "/* Pipeline/ColumnTransformer-specific style */\n",
       "\n",
       "#sk-container-id-1 div.sk-label input.sk-toggleable__control:checked~label.sk-toggleable__label {\n",
       "  color: var(--sklearn-color-text);\n",
       "  background-color: var(--sklearn-color-unfitted-level-2);\n",
       "}\n",
       "\n",
       "#sk-container-id-1 div.sk-label.fitted input.sk-toggleable__control:checked~label.sk-toggleable__label {\n",
       "  background-color: var(--sklearn-color-fitted-level-2);\n",
       "}\n",
       "\n",
       "/* Estimator-specific style */\n",
       "\n",
       "/* Colorize estimator box */\n",
       "#sk-container-id-1 div.sk-estimator input.sk-toggleable__control:checked~label.sk-toggleable__label {\n",
       "  /* unfitted */\n",
       "  background-color: var(--sklearn-color-unfitted-level-2);\n",
       "}\n",
       "\n",
       "#sk-container-id-1 div.sk-estimator.fitted input.sk-toggleable__control:checked~label.sk-toggleable__label {\n",
       "  /* fitted */\n",
       "  background-color: var(--sklearn-color-fitted-level-2);\n",
       "}\n",
       "\n",
       "#sk-container-id-1 div.sk-label label.sk-toggleable__label,\n",
       "#sk-container-id-1 div.sk-label label {\n",
       "  /* The background is the default theme color */\n",
       "  color: var(--sklearn-color-text-on-default-background);\n",
       "}\n",
       "\n",
       "/* On hover, darken the color of the background */\n",
       "#sk-container-id-1 div.sk-label:hover label.sk-toggleable__label {\n",
       "  color: var(--sklearn-color-text);\n",
       "  background-color: var(--sklearn-color-unfitted-level-2);\n",
       "}\n",
       "\n",
       "/* Label box, darken color on hover, fitted */\n",
       "#sk-container-id-1 div.sk-label.fitted:hover label.sk-toggleable__label.fitted {\n",
       "  color: var(--sklearn-color-text);\n",
       "  background-color: var(--sklearn-color-fitted-level-2);\n",
       "}\n",
       "\n",
       "/* Estimator label */\n",
       "\n",
       "#sk-container-id-1 div.sk-label label {\n",
       "  font-family: monospace;\n",
       "  font-weight: bold;\n",
       "  display: inline-block;\n",
       "  line-height: 1.2em;\n",
       "}\n",
       "\n",
       "#sk-container-id-1 div.sk-label-container {\n",
       "  text-align: center;\n",
       "}\n",
       "\n",
       "/* Estimator-specific */\n",
       "#sk-container-id-1 div.sk-estimator {\n",
       "  font-family: monospace;\n",
       "  border: 1px dotted var(--sklearn-color-border-box);\n",
       "  border-radius: 0.25em;\n",
       "  box-sizing: border-box;\n",
       "  margin-bottom: 0.5em;\n",
       "  /* unfitted */\n",
       "  background-color: var(--sklearn-color-unfitted-level-0);\n",
       "}\n",
       "\n",
       "#sk-container-id-1 div.sk-estimator.fitted {\n",
       "  /* fitted */\n",
       "  background-color: var(--sklearn-color-fitted-level-0);\n",
       "}\n",
       "\n",
       "/* on hover */\n",
       "#sk-container-id-1 div.sk-estimator:hover {\n",
       "  /* unfitted */\n",
       "  background-color: var(--sklearn-color-unfitted-level-2);\n",
       "}\n",
       "\n",
       "#sk-container-id-1 div.sk-estimator.fitted:hover {\n",
       "  /* fitted */\n",
       "  background-color: var(--sklearn-color-fitted-level-2);\n",
       "}\n",
       "\n",
       "/* Specification for estimator info (e.g. \"i\" and \"?\") */\n",
       "\n",
       "/* Common style for \"i\" and \"?\" */\n",
       "\n",
       ".sk-estimator-doc-link,\n",
       "a:link.sk-estimator-doc-link,\n",
       "a:visited.sk-estimator-doc-link {\n",
       "  float: right;\n",
       "  font-size: smaller;\n",
       "  line-height: 1em;\n",
       "  font-family: monospace;\n",
       "  background-color: var(--sklearn-color-background);\n",
       "  border-radius: 1em;\n",
       "  height: 1em;\n",
       "  width: 1em;\n",
       "  text-decoration: none !important;\n",
       "  margin-left: 1ex;\n",
       "  /* unfitted */\n",
       "  border: var(--sklearn-color-unfitted-level-1) 1pt solid;\n",
       "  color: var(--sklearn-color-unfitted-level-1);\n",
       "}\n",
       "\n",
       ".sk-estimator-doc-link.fitted,\n",
       "a:link.sk-estimator-doc-link.fitted,\n",
       "a:visited.sk-estimator-doc-link.fitted {\n",
       "  /* fitted */\n",
       "  border: var(--sklearn-color-fitted-level-1) 1pt solid;\n",
       "  color: var(--sklearn-color-fitted-level-1);\n",
       "}\n",
       "\n",
       "/* On hover */\n",
       "div.sk-estimator:hover .sk-estimator-doc-link:hover,\n",
       ".sk-estimator-doc-link:hover,\n",
       "div.sk-label-container:hover .sk-estimator-doc-link:hover,\n",
       ".sk-estimator-doc-link:hover {\n",
       "  /* unfitted */\n",
       "  background-color: var(--sklearn-color-unfitted-level-3);\n",
       "  color: var(--sklearn-color-background);\n",
       "  text-decoration: none;\n",
       "}\n",
       "\n",
       "div.sk-estimator.fitted:hover .sk-estimator-doc-link.fitted:hover,\n",
       ".sk-estimator-doc-link.fitted:hover,\n",
       "div.sk-label-container:hover .sk-estimator-doc-link.fitted:hover,\n",
       ".sk-estimator-doc-link.fitted:hover {\n",
       "  /* fitted */\n",
       "  background-color: var(--sklearn-color-fitted-level-3);\n",
       "  color: var(--sklearn-color-background);\n",
       "  text-decoration: none;\n",
       "}\n",
       "\n",
       "/* Span, style for the box shown on hovering the info icon */\n",
       ".sk-estimator-doc-link span {\n",
       "  display: none;\n",
       "  z-index: 9999;\n",
       "  position: relative;\n",
       "  font-weight: normal;\n",
       "  right: .2ex;\n",
       "  padding: .5ex;\n",
       "  margin: .5ex;\n",
       "  width: min-content;\n",
       "  min-width: 20ex;\n",
       "  max-width: 50ex;\n",
       "  color: var(--sklearn-color-text);\n",
       "  box-shadow: 2pt 2pt 4pt #999;\n",
       "  /* unfitted */\n",
       "  background: var(--sklearn-color-unfitted-level-0);\n",
       "  border: .5pt solid var(--sklearn-color-unfitted-level-3);\n",
       "}\n",
       "\n",
       ".sk-estimator-doc-link.fitted span {\n",
       "  /* fitted */\n",
       "  background: var(--sklearn-color-fitted-level-0);\n",
       "  border: var(--sklearn-color-fitted-level-3);\n",
       "}\n",
       "\n",
       ".sk-estimator-doc-link:hover span {\n",
       "  display: block;\n",
       "}\n",
       "\n",
       "/* \"?\"-specific style due to the `<a>` HTML tag */\n",
       "\n",
       "#sk-container-id-1 a.estimator_doc_link {\n",
       "  float: right;\n",
       "  font-size: 1rem;\n",
       "  line-height: 1em;\n",
       "  font-family: monospace;\n",
       "  background-color: var(--sklearn-color-background);\n",
       "  border-radius: 1rem;\n",
       "  height: 1rem;\n",
       "  width: 1rem;\n",
       "  text-decoration: none;\n",
       "  /* unfitted */\n",
       "  color: var(--sklearn-color-unfitted-level-1);\n",
       "  border: var(--sklearn-color-unfitted-level-1) 1pt solid;\n",
       "}\n",
       "\n",
       "#sk-container-id-1 a.estimator_doc_link.fitted {\n",
       "  /* fitted */\n",
       "  border: var(--sklearn-color-fitted-level-1) 1pt solid;\n",
       "  color: var(--sklearn-color-fitted-level-1);\n",
       "}\n",
       "\n",
       "/* On hover */\n",
       "#sk-container-id-1 a.estimator_doc_link:hover {\n",
       "  /* unfitted */\n",
       "  background-color: var(--sklearn-color-unfitted-level-3);\n",
       "  color: var(--sklearn-color-background);\n",
       "  text-decoration: none;\n",
       "}\n",
       "\n",
       "#sk-container-id-1 a.estimator_doc_link.fitted:hover {\n",
       "  /* fitted */\n",
       "  background-color: var(--sklearn-color-fitted-level-3);\n",
       "}\n",
       "</style><div id=\"sk-container-id-1\" class=\"sk-top-container\"><div class=\"sk-text-repr-fallback\"><pre>LinearRegression()</pre><b>In a Jupyter environment, please rerun this cell to show the HTML representation or trust the notebook. <br />On GitHub, the HTML representation is unable to render, please try loading this page with nbviewer.org.</b></div><div class=\"sk-container\" hidden><div class=\"sk-item\"><div class=\"sk-estimator fitted sk-toggleable\"><input class=\"sk-toggleable__control sk-hidden--visually\" id=\"sk-estimator-id-1\" type=\"checkbox\" checked><label for=\"sk-estimator-id-1\" class=\"sk-toggleable__label fitted sk-toggleable__label-arrow fitted\">&nbsp;&nbsp;LinearRegression<a class=\"sk-estimator-doc-link fitted\" rel=\"noreferrer\" target=\"_blank\" href=\"https://scikit-learn.org/1.4/modules/generated/sklearn.linear_model.LinearRegression.html\">?<span>Documentation for LinearRegression</span></a><span class=\"sk-estimator-doc-link fitted\">i<span>Fitted</span></span></label><div class=\"sk-toggleable__content fitted\"><pre>LinearRegression()</pre></div> </div></div></div></div>"
      ],
      "text/plain": [
       "LinearRegression()"
      ]
     },
     "execution_count": 32,
     "metadata": {},
     "output_type": "execute_result"
    }
   ],
   "source": [
    "LinearRegressor = LinearRegression()\n",
    "train_x = X_train[:,1].reshape(-1,1)\n",
    "test_x = X_test[:,1].reshape(-1,1)\n",
    "LinearRegressor.fit(train_x, y_train)"
   ]
  },
  {
   "cell_type": "code",
   "execution_count": 33,
   "id": "89b1fd17",
   "metadata": {},
   "outputs": [
    {
     "data": {
      "text/plain": [
       "array([519.53130319, 478.23887852, 461.1626216 , 188.01194549,\n",
       "       501.57246068])"
      ]
     },
     "execution_count": 33,
     "metadata": {},
     "output_type": "execute_result"
    }
   ],
   "source": [
    "y_pred = LinearRegressor.predict(X_test[:,1].reshape(-1,1))\n",
    "y_pred[0:5]"
   ]
  },
  {
   "cell_type": "markdown",
   "id": "dbc624b5",
   "metadata": {},
   "source": [
    "#### Vizualize train set results"
   ]
  },
  {
   "cell_type": "code",
   "execution_count": 34,
   "id": "16757938",
   "metadata": {},
   "outputs": [
    {
     "data": {
      "text/plain": [
       "<Axes: ylabel='Close'>"
      ]
     },
     "execution_count": 34,
     "metadata": {},
     "output_type": "execute_result"
    },
    {
     "data": {
      "image/png": "[encoded data removed]",
      "text/plain": [
       "<Figure size 640x480 with 1 Axes>"
      ]
     },
     "metadata": {},
     "output_type": "display_data"
    }
   ],
   "source": [
    "sns.scatterplot(\n",
    "    x = sc.inverse_transform(\n",
    "        X_train)[:,1],\n",
    "        y = y_train,\n",
    "    color = 'orange'\n",
    ")\n",
    "sns.lineplot(\n",
    "    x = sc.inverse_transform(\n",
    "        X_train)[:,1],\n",
    "    y = LinearRegressor.predict(train_x),\n",
    "    color = 'red'\n",
    ")"
   ]
  },
  {
   "cell_type": "markdown",
   "id": "b1cb695e",
   "metadata": {},
   "source": [
    "#### Vizualize test set results"
   ]
  },
  {
   "cell_type": "code",
   "execution_count": 35,
   "id": "4f44f3fa",
   "metadata": {},
   "outputs": [
    {
     "data": {
      "text/plain": [
       "<Axes: ylabel='Close'>"
      ]
     },
     "execution_count": 35,
     "metadata": {},
     "output_type": "execute_result"
    },
    {
     "data": {
      "image/png": "[encoded data removed]",
      "text/plain": [
       "<Figure size 640x480 with 1 Axes>"
      ]
     },
     "metadata": {},
     "output_type": "display_data"
    }
   ],
   "source": [
    "sns.scatterplot(\n",
    "    x = sc.inverse_transform(\n",
    "        X_test)[:,1],\n",
    "        y = y_test,\n",
    "    color = 'orange'\n",
    ")\n",
    "sns.lineplot(\n",
    "    x = sc.inverse_transform(\n",
    "        X_test)[:,1],\n",
    "    y = LinearRegressor.predict(test_x),\n",
    "    color = 'red'\n",
    ")"
   ]
  },
  {
   "cell_type": "markdown",
   "id": "0c8cc347",
   "metadata": {},
   "source": [
    "#### 2. Multiple Linear Regression"
   ]
  },
  {
   "cell_type": "markdown",
   "id": "8da56732",
   "metadata": {},
   "source": [
    "Now we use all the existing features to build the model and check the train and test loss and r_squared value"
   ]
  },
  {
   "cell_type": "code",
   "execution_count": 36,
   "id": "0edb2170",
   "metadata": {},
   "outputs": [
    {
     "data": {
      "text/html": [
       "<style>#sk-container-id-2 {\n",
       "  /* Definition of color scheme common for light and dark mode */\n",
       "  --sklearn-color-text: black;\n",
       "  --sklearn-color-line: gray;\n",
       "  /* Definition of color scheme for unfitted estimators */\n",
       "  --sklearn-color-unfitted-level-0: #fff5e6;\n",
       "  --sklearn-color-unfitted-level-1: #f6e4d2;\n",
       "  --sklearn-color-unfitted-level-2: #ffe0b3;\n",
       "  --sklearn-color-unfitted-level-3: chocolate;\n",
       "  /* Definition of color scheme for fitted estimators */\n",
       "  --sklearn-color-fitted-level-0: #f0f8ff;\n",
       "  --sklearn-color-fitted-level-1: #d4ebff;\n",
       "  --sklearn-color-fitted-level-2: #b3dbfd;\n",
       "  --sklearn-color-fitted-level-3: cornflowerblue;\n",
       "\n",
       "  /* Specific color for light theme */\n",
       "  --sklearn-color-text-on-default-background: var(--sg-text-color, var(--theme-code-foreground, var(--jp-content-font-color1, black)));\n",
       "  --sklearn-color-background: var(--sg-background-color, var(--theme-background, var(--jp-layout-color0, white)));\n",
       "  --sklearn-color-border-box: var(--sg-text-color, var(--theme-code-foreground, var(--jp-content-font-color1, black)));\n",
       "  --sklearn-color-icon: #696969;\n",
       "\n",
       "  @media (prefers-color-scheme: dark) {\n",
       "    /* Redefinition of color scheme for dark theme */\n",
       "    --sklearn-color-text-on-default-background: var(--sg-text-color, var(--theme-code-foreground, var(--jp-content-font-color1, white)));\n",
       "    --sklearn-color-background: var(--sg-background-color, var(--theme-background, var(--jp-layout-color0, #111)));\n",
       "    --sklearn-color-border-box: var(--sg-text-color, var(--theme-code-foreground, var(--jp-content-font-color1, white)));\n",
       "    --sklearn-color-icon: #878787;\n",
       "  }\n",
       "}\n",
       "\n",
       "#sk-container-id-2 {\n",
       "  color: var(--sklearn-color-text);\n",
       "}\n",
       "\n",
       "#sk-container-id-2 pre {\n",
       "  padding: 0;\n",
       "}\n",
       "\n",
       "#sk-container-id-2 input.sk-hidden--visually {\n",
       "  border: 0;\n",
       "  clip: rect(1px 1px 1px 1px);\n",
       "  clip: rect(1px, 1px, 1px, 1px);\n",
       "  height: 1px;\n",
       "  margin: -1px;\n",
       "  overflow: hidden;\n",
       "  padding: 0;\n",
       "  position: absolute;\n",
       "  width: 1px;\n",
       "}\n",
       "\n",
       "#sk-container-id-2 div.sk-dashed-wrapped {\n",
       "  border: 1px dashed var(--sklearn-color-line);\n",
       "  margin: 0 0.4em 0.5em 0.4em;\n",
       "  box-sizing: border-box;\n",
       "  padding-bottom: 0.4em;\n",
       "  background-color: var(--sklearn-color-background);\n",
       "}\n",
       "\n",
       "#sk-container-id-2 div.sk-container {\n",
       "  /* jupyter's `normalize.less` sets `[hidden] { display: none; }`\n",
       "     but bootstrap.min.css set `[hidden] { display: none !important; }`\n",
       "     so we also need the `!important` here to be able to override the\n",
       "     default hidden behavior on the sphinx rendered scikit-learn.org.\n",
       "     See: https://github.com/scikit-learn/scikit-learn/issues/21755 */\n",
       "  display: inline-block !important;\n",
       "  position: relative;\n",
       "}\n",
       "\n",
       "#sk-container-id-2 div.sk-text-repr-fallback {\n",
       "  display: none;\n",
       "}\n",
       "\n",
       "div.sk-parallel-item,\n",
       "div.sk-serial,\n",
       "div.sk-item {\n",
       "  /* draw centered vertical line to link estimators */\n",
       "  background-image: linear-gradient(var(--sklearn-color-text-on-default-background), var(--sklearn-color-text-on-default-background));\n",
       "  background-size: 2px 100%;\n",
       "  background-repeat: no-repeat;\n",
       "  background-position: center center;\n",
       "}\n",
       "\n",
       "/* Parallel-specific style estimator block */\n",
       "\n",
       "#sk-container-id-2 div.sk-parallel-item::after {\n",
       "  content: \"\";\n",
       "  width: 100%;\n",
       "  border-bottom: 2px solid var(--sklearn-color-text-on-default-background);\n",
       "  flex-grow: 1;\n",
       "}\n",
       "\n",
       "#sk-container-id-2 div.sk-parallel {\n",
       "  display: flex;\n",
       "  align-items: stretch;\n",
       "  justify-content: center;\n",
       "  background-color: var(--sklearn-color-background);\n",
       "  position: relative;\n",
       "}\n",
       "\n",
       "#sk-container-id-2 div.sk-parallel-item {\n",
       "  display: flex;\n",
       "  flex-direction: column;\n",
       "}\n",
       "\n",
       "#sk-container-id-2 div.sk-parallel-item:first-child::after {\n",
       "  align-self: flex-end;\n",
       "  width: 50%;\n",
       "}\n",
       "\n",
       "#sk-container-id-2 div.sk-parallel-item:last-child::after {\n",
       "  align-self: flex-start;\n",
       "  width: 50%;\n",
       "}\n",
       "\n",
       "#sk-container-id-2 div.sk-parallel-item:only-child::after {\n",
       "  width: 0;\n",
       "}\n",
       "\n",
       "/* Serial-specific style estimator block */\n",
       "\n",
       "#sk-container-id-2 div.sk-serial {\n",
       "  display: flex;\n",
       "  flex-direction: column;\n",
       "  align-items: center;\n",
       "  background-color: var(--sklearn-color-background);\n",
       "  padding-right: 1em;\n",
       "  padding-left: 1em;\n",
       "}\n",
       "\n",
       "\n",
       "/* Toggleable style: style used for estimator/Pipeline/ColumnTransformer box that is\n",
       "clickable and can be expanded/collapsed.\n",
       "- Pipeline and ColumnTransformer use this feature and define the default style\n",
       "- Estimators will overwrite some part of the style using the `sk-estimator` class\n",
       "*/\n",
       "\n",
       "/* Pipeline and ColumnTransformer style (default) */\n",
       "\n",
       "#sk-container-id-2 div.sk-toggleable {\n",
       "  /* Default theme specific background. It is overwritten whether we have a\n",
       "  specific estimator or a Pipeline/ColumnTransformer */\n",
       "  background-color: var(--sklearn-color-background);\n",
       "}\n",
       "\n",
       "/* Toggleable label */\n",
       "#sk-container-id-2 label.sk-toggleable__label {\n",
       "  cursor: pointer;\n",
       "  display: block;\n",
       "  width: 100%;\n",
       "  margin-bottom: 0;\n",
       "  padding: 0.5em;\n",
       "  box-sizing: border-box;\n",
       "  text-align: center;\n",
       "}\n",
       "\n",
       "#sk-container-id-2 label.sk-toggleable__label-arrow:before {\n",
       "  /* Arrow on the left of the label */\n",
       "  content: \"▸\";\n",
       "  float: left;\n",
       "  margin-right: 0.25em;\n",
       "  color: var(--sklearn-color-icon);\n",
       "}\n",
       "\n",
       "#sk-container-id-2 label.sk-toggleable__label-arrow:hover:before {\n",
       "  color: var(--sklearn-color-text);\n",
       "}\n",
       "\n",
       "/* Toggleable content - dropdown */\n",
       "\n",
       "#sk-container-id-2 div.sk-toggleable__content {\n",
       "  max-height: 0;\n",
       "  max-width: 0;\n",
       "  overflow: hidden;\n",
       "  text-align: left;\n",
       "  /* unfitted */\n",
       "  background-color: var(--sklearn-color-unfitted-level-0);\n",
       "}\n",
       "\n",
       "#sk-container-id-2 div.sk-toggleable__content.fitted {\n",
       "  /* fitted */\n",
       "  background-color: var(--sklearn-color-fitted-level-0);\n",
       "}\n",
       "\n",
       "#sk-container-id-2 div.sk-toggleable__content pre {\n",
       "  margin: 0.2em;\n",
       "  border-radius: 0.25em;\n",
       "  color: var(--sklearn-color-text);\n",
       "  /* unfitted */\n",
       "  background-color: var(--sklearn-color-unfitted-level-0);\n",
       "}\n",
       "\n",
       "#sk-container-id-2 div.sk-toggleable__content.fitted pre {\n",
       "  /* unfitted */\n",
       "  background-color: var(--sklearn-color-fitted-level-0);\n",
       "}\n",
       "\n",
       "#sk-container-id-2 input.sk-toggleable__control:checked~div.sk-toggleable__content {\n",
       "  /* Expand drop-down */\n",
       "  max-height: 200px;\n",
       "  max-width: 100%;\n",
       "  overflow: auto;\n",
       "}\n",
       "\n",
       "#sk-container-id-2 input.sk-toggleable__control:checked~label.sk-toggleable__label-arrow:before {\n",
       "  content: \"▾\";\n",
       "}\n",
       "\n",
       "/* Pipeline/ColumnTransformer-specific style */\n",
       "\n",
       "#sk-container-id-2 div.sk-label input.sk-toggleable__control:checked~label.sk-toggleable__label {\n",
       "  color: var(--sklearn-color-text);\n",
       "  background-color: var(--sklearn-color-unfitted-level-2);\n",
       "}\n",
       "\n",
       "#sk-container-id-2 div.sk-label.fitted input.sk-toggleable__control:checked~label.sk-toggleable__label {\n",
       "  background-color: var(--sklearn-color-fitted-level-2);\n",
       "}\n",
       "\n",
       "/* Estimator-specific style */\n",
       "\n",
       "/* Colorize estimator box */\n",
       "#sk-container-id-2 div.sk-estimator input.sk-toggleable__control:checked~label.sk-toggleable__label {\n",
       "  /* unfitted */\n",
       "  background-color: var(--sklearn-color-unfitted-level-2);\n",
       "}\n",
       "\n",
       "#sk-container-id-2 div.sk-estimator.fitted input.sk-toggleable__control:checked~label.sk-toggleable__label {\n",
       "  /* fitted */\n",
       "  background-color: var(--sklearn-color-fitted-level-2);\n",
       "}\n",
       "\n",
       "#sk-container-id-2 div.sk-label label.sk-toggleable__label,\n",
       "#sk-container-id-2 div.sk-label label {\n",
       "  /* The background is the default theme color */\n",
       "  color: var(--sklearn-color-text-on-default-background);\n",
       "}\n",
       "\n",
       "/* On hover, darken the color of the background */\n",
       "#sk-container-id-2 div.sk-label:hover label.sk-toggleable__label {\n",
       "  color: var(--sklearn-color-text);\n",
       "  background-color: var(--sklearn-color-unfitted-level-2);\n",
       "}\n",
       "\n",
       "/* Label box, darken color on hover, fitted */\n",
       "#sk-container-id-2 div.sk-label.fitted:hover label.sk-toggleable__label.fitted {\n",
       "  color: var(--sklearn-color-text);\n",
       "  background-color: var(--sklearn-color-fitted-level-2);\n",
       "}\n",
       "\n",
       "/* Estimator label */\n",
       "\n",
       "#sk-container-id-2 div.sk-label label {\n",
       "  font-family: monospace;\n",
       "  font-weight: bold;\n",
       "  display: inline-block;\n",
       "  line-height: 1.2em;\n",
       "}\n",
       "\n",
       "#sk-container-id-2 div.sk-label-container {\n",
       "  text-align: center;\n",
       "}\n",
       "\n",
       "/* Estimator-specific */\n",
       "#sk-container-id-2 div.sk-estimator {\n",
       "  font-family: monospace;\n",
       "  border: 1px dotted var(--sklearn-color-border-box);\n",
       "  border-radius: 0.25em;\n",
       "  box-sizing: border-box;\n",
       "  margin-bottom: 0.5em;\n",
       "  /* unfitted */\n",
       "  background-color: var(--sklearn-color-unfitted-level-0);\n",
       "}\n",
       "\n",
       "#sk-container-id-2 div.sk-estimator.fitted {\n",
       "  /* fitted */\n",
       "  background-color: var(--sklearn-color-fitted-level-0);\n",
       "}\n",
       "\n",
       "/* on hover */\n",
       "#sk-container-id-2 div.sk-estimator:hover {\n",
       "  /* unfitted */\n",
       "  background-color: var(--sklearn-color-unfitted-level-2);\n",
       "}\n",
       "\n",
       "#sk-container-id-2 div.sk-estimator.fitted:hover {\n",
       "  /* fitted */\n",
       "  background-color: var(--sklearn-color-fitted-level-2);\n",
       "}\n",
       "\n",
       "/* Specification for estimator info (e.g. \"i\" and \"?\") */\n",
       "\n",
       "/* Common style for \"i\" and \"?\" */\n",
       "\n",
       ".sk-estimator-doc-link,\n",
       "a:link.sk-estimator-doc-link,\n",
       "a:visited.sk-estimator-doc-link {\n",
       "  float: right;\n",
       "  font-size: smaller;\n",
       "  line-height: 1em;\n",
       "  font-family: monospace;\n",
       "  background-color: var(--sklearn-color-background);\n",
       "  border-radius: 1em;\n",
       "  height: 1em;\n",
       "  width: 1em;\n",
       "  text-decoration: none !important;\n",
       "  margin-left: 1ex;\n",
       "  /* unfitted */\n",
       "  border: var(--sklearn-color-unfitted-level-1) 1pt solid;\n",
       "  color: var(--sklearn-color-unfitted-level-1);\n",
       "}\n",
       "\n",
       ".sk-estimator-doc-link.fitted,\n",
       "a:link.sk-estimator-doc-link.fitted,\n",
       "a:visited.sk-estimator-doc-link.fitted {\n",
       "  /* fitted */\n",
       "  border: var(--sklearn-color-fitted-level-1) 1pt solid;\n",
       "  color: var(--sklearn-color-fitted-level-1);\n",
       "}\n",
       "\n",
       "/* On hover */\n",
       "div.sk-estimator:hover .sk-estimator-doc-link:hover,\n",
       ".sk-estimator-doc-link:hover,\n",
       "div.sk-label-container:hover .sk-estimator-doc-link:hover,\n",
       ".sk-estimator-doc-link:hover {\n",
       "  /* unfitted */\n",
       "  background-color: var(--sklearn-color-unfitted-level-3);\n",
       "  color: var(--sklearn-color-background);\n",
       "  text-decoration: none;\n",
       "}\n",
       "\n",
       "div.sk-estimator.fitted:hover .sk-estimator-doc-link.fitted:hover,\n",
       ".sk-estimator-doc-link.fitted:hover,\n",
       "div.sk-label-container:hover .sk-estimator-doc-link.fitted:hover,\n",
       ".sk-estimator-doc-link.fitted:hover {\n",
       "  /* fitted */\n",
       "  background-color: var(--sklearn-color-fitted-level-3);\n",
       "  color: var(--sklearn-color-background);\n",
       "  text-decoration: none;\n",
       "}\n",
       "\n",
       "/* Span, style for the box shown on hovering the info icon */\n",
       ".sk-estimator-doc-link span {\n",
       "  display: none;\n",
       "  z-index: 9999;\n",
       "  position: relative;\n",
       "  font-weight: normal;\n",
       "  right: .2ex;\n",
       "  padding: .5ex;\n",
       "  margin: .5ex;\n",
       "  width: min-content;\n",
       "  min-width: 20ex;\n",
       "  max-width: 50ex;\n",
       "  color: var(--sklearn-color-text);\n",
       "  box-shadow: 2pt 2pt 4pt #999;\n",
       "  /* unfitted */\n",
       "  background: var(--sklearn-color-unfitted-level-0);\n",
       "  border: .5pt solid var(--sklearn-color-unfitted-level-3);\n",
       "}\n",
       "\n",
       ".sk-estimator-doc-link.fitted span {\n",
       "  /* fitted */\n",
       "  background: var(--sklearn-color-fitted-level-0);\n",
       "  border: var(--sklearn-color-fitted-level-3);\n",
       "}\n",
       "\n",
       ".sk-estimator-doc-link:hover span {\n",
       "  display: block;\n",
       "}\n",
       "\n",
       "/* \"?\"-specific style due to the `<a>` HTML tag */\n",
       "\n",
       "#sk-container-id-2 a.estimator_doc_link {\n",
       "  float: right;\n",
       "  font-size: 1rem;\n",
       "  line-height: 1em;\n",
       "  font-family: monospace;\n",
       "  background-color: var(--sklearn-color-background);\n",
       "  border-radius: 1rem;\n",
       "  height: 1rem;\n",
       "  width: 1rem;\n",
       "  text-decoration: none;\n",
       "  /* unfitted */\n",
       "  color: var(--sklearn-color-unfitted-level-1);\n",
       "  border: var(--sklearn-color-unfitted-level-1) 1pt solid;\n",
       "}\n",
       "\n",
       "#sk-container-id-2 a.estimator_doc_link.fitted {\n",
       "  /* fitted */\n",
       "  border: var(--sklearn-color-fitted-level-1) 1pt solid;\n",
       "  color: var(--sklearn-color-fitted-level-1);\n",
       "}\n",
       "\n",
       "/* On hover */\n",
       "#sk-container-id-2 a.estimator_doc_link:hover {\n",
       "  /* unfitted */\n",
       "  background-color: var(--sklearn-color-unfitted-level-3);\n",
       "  color: var(--sklearn-color-background);\n",
       "  text-decoration: none;\n",
       "}\n",
       "\n",
       "#sk-container-id-2 a.estimator_doc_link.fitted:hover {\n",
       "  /* fitted */\n",
       "  background-color: var(--sklearn-color-fitted-level-3);\n",
       "}\n",
       "</style><div id=\"sk-container-id-2\" class=\"sk-top-container\"><div class=\"sk-text-repr-fallback\"><pre>LinearRegression()</pre><b>In a Jupyter environment, please rerun this cell to show the HTML representation or trust the notebook. <br />On GitHub, the HTML representation is unable to render, please try loading this page with nbviewer.org.</b></div><div class=\"sk-container\" hidden><div class=\"sk-item\"><div class=\"sk-estimator fitted sk-toggleable\"><input class=\"sk-toggleable__control sk-hidden--visually\" id=\"sk-estimator-id-2\" type=\"checkbox\" checked><label for=\"sk-estimator-id-2\" class=\"sk-toggleable__label fitted sk-toggleable__label-arrow fitted\">&nbsp;&nbsp;LinearRegression<a class=\"sk-estimator-doc-link fitted\" rel=\"noreferrer\" target=\"_blank\" href=\"https://scikit-learn.org/1.4/modules/generated/sklearn.linear_model.LinearRegression.html\">?<span>Documentation for LinearRegression</span></a><span class=\"sk-estimator-doc-link fitted\">i<span>Fitted</span></span></label><div class=\"sk-toggleable__content fitted\"><pre>LinearRegression()</pre></div> </div></div></div></div>"
      ],
      "text/plain": [
       "LinearRegression()"
      ]
     },
     "execution_count": 36,
     "metadata": {},
     "output_type": "execute_result"
    }
   ],
   "source": [
    "MultipleRegressor = LinearRegression()\n",
    "MultipleRegressor.fit(X_train,y_train)"
   ]
  },
  {
   "cell_type": "code",
   "execution_count": 37,
   "id": "5b3b8a33",
   "metadata": {},
   "outputs": [
    {
     "data": {
      "text/plain": [
       "array([-61.24302115,  92.38827695,  86.60792079,   0.26869675])"
      ]
     },
     "execution_count": 37,
     "metadata": {},
     "output_type": "execute_result"
    }
   ],
   "source": [
    "MultipleRegressor.coef_"
   ]
  },
  {
   "cell_type": "code",
   "execution_count": 38,
   "id": "fd0cf05f",
   "metadata": {},
   "outputs": [
    {
     "data": {
      "text/plain": [
       "405.09753956097563"
      ]
     },
     "execution_count": 38,
     "metadata": {},
     "output_type": "execute_result"
    }
   ],
   "source": [
    "MultipleRegressor.intercept_"
   ]
  },
  {
   "cell_type": "code",
   "execution_count": 39,
   "id": "54c423b7",
   "metadata": {},
   "outputs": [],
   "source": [
    "y_pred = MultipleRegressor.predict(X_test)"
   ]
  },
  {
   "cell_type": "code",
   "execution_count": 40,
   "id": "d3901a2e",
   "metadata": {},
   "outputs": [
    {
     "data": {
      "text/plain": [
       "14.78180781602594"
      ]
     },
     "execution_count": 40,
     "metadata": {},
     "output_type": "execute_result"
    }
   ],
   "source": [
    "mean_squared_error(y_train, MultipleRegressor.predict(X_train))"
   ]
  },
  {
   "cell_type": "code",
   "execution_count": 41,
   "id": "8447f8d1",
   "metadata": {},
   "outputs": [
    {
     "data": {
      "text/plain": [
       "12.263927007335747"
      ]
     },
     "execution_count": 41,
     "metadata": {},
     "output_type": "execute_result"
    }
   ],
   "source": [
    "mean_squared_error(y_test, y_pred)"
   ]
  },
  {
   "cell_type": "code",
   "execution_count": 42,
   "id": "bd80d2d1",
   "metadata": {},
   "outputs": [
    {
     "data": {
      "text/plain": [
       "2.7722164004229253"
      ]
     },
     "execution_count": 42,
     "metadata": {},
     "output_type": "execute_result"
    }
   ],
   "source": [
    "mean_absolute_error(y_test, y_pred)"
   ]
  },
  {
   "cell_type": "code",
   "execution_count": 43,
   "id": "1e1ff607",
   "metadata": {},
   "outputs": [
    {
     "data": {
      "text/plain": [
       "0.9989336613925041"
      ]
     },
     "execution_count": 43,
     "metadata": {},
     "output_type": "execute_result"
    }
   ],
   "source": [
    "r2_score(y_train, MultipleRegressor.predict(X_train))"
   ]
  },
  {
   "cell_type": "code",
   "execution_count": 44,
   "id": "f8c65e9f",
   "metadata": {},
   "outputs": [
    {
     "data": {
      "text/plain": [
       "0.9990160699386574"
      ]
     },
     "execution_count": 44,
     "metadata": {},
     "output_type": "execute_result"
    }
   ],
   "source": [
    "r2_score(y_test, y_pred)"
   ]
  },
  {
   "cell_type": "markdown",
   "id": "80b1c273",
   "metadata": {},
   "source": [
    "#### 3. Artificial Neural Networks"
   ]
  },
  {
   "cell_type": "code",
   "execution_count": 100,
   "id": "ce78609b",
   "metadata": {},
   "outputs": [
    {
     "data": {
      "text/plain": [
       "<keras.src.engine.sequential.Sequential at 0x296a525d0>"
      ]
     },
     "execution_count": 100,
     "metadata": {},
     "output_type": "execute_result"
    }
   ],
   "source": [
    "# Initialize an ANN\n",
    "# Sequential() allows to build sequential layers\n",
    "ann = tf.keras.models.Sequential()\n",
    "ann"
   ]
  },
  {
   "cell_type": "code",
   "execution_count": 101,
   "id": "eefd254b",
   "metadata": {},
   "outputs": [],
   "source": [
    "# Adding input layer and first input layer\n",
    "# dense class is used to create a fully connnected layer as a dense class object at any phase in an ann.\n",
    "# add method is used to add any layer( hidden/ dropout/ conv2D) created using dense class\n",
    "# When you create a first hidden layer, it automatically creates an input layer by assining\n",
    "# # of neurons == # of input features. So in below, we mention # of neurons req for the first hidden layer\n",
    "ann.add(tf.keras.layers.Dense(units = 8, activation = 'relu'))"
   ]
  },
  {
   "cell_type": "code",
   "execution_count": 102,
   "id": "1b80df92",
   "metadata": {},
   "outputs": [],
   "source": [
    "# Add second sequnetial layer\n",
    "ann.add(tf.keras.layers.Dense(units = 4, activation = 'relu'))\n",
    "ann.add(tf.keras.layers.Dense(units = 4, activation = 'relu'))"
   ]
  },
  {
   "cell_type": "code",
   "execution_count": 103,
   "id": "6f9fba63",
   "metadata": {},
   "outputs": [],
   "source": [
    "# Add output layer\n",
    "# When doing multiclass classification, use softmax instead of sigmoid\n",
    "ann.add(tf.keras.layers.Dense(units = 1, activation = 'linear'))"
   ]
  },
  {
   "cell_type": "code",
   "execution_count": 104,
   "id": "0a235c15",
   "metadata": {},
   "outputs": [],
   "source": [
    "# Compiling an ANN\n",
    "# in this step, we mention the optimizer, loss function and metrics required to evaluate our model\n",
    "\n",
    "ann.compile(optimizer = 'adam', \n",
    "            loss = tf.keras.losses.MeanSquaredError(), \n",
    "            metrics = tf.keras.metrics.R2Score())"
   ]
  },
  {
   "cell_type": "code",
   "execution_count": 105,
   "id": "9360336a",
   "metadata": {},
   "outputs": [
    {
     "name": "stdout",
     "output_type": "stream",
     "text": [
      "Epoch 1/300\n",
      "59/59 [==============================] - 0s 424us/step - loss: 177574.6406 - r2_score: -11.8099\n",
      "Epoch 2/300\n",
      "59/59 [==============================] - 0s 346us/step - loss: 176837.5312 - r2_score: -11.7568\n",
      "Epoch 3/300\n",
      "59/59 [==============================] - 0s 332us/step - loss: 175048.1875 - r2_score: -11.6278\n",
      "Epoch 4/300\n",
      "59/59 [==============================] - 0s 328us/step - loss: 170705.3125 - r2_score: -11.3144\n",
      "Epoch 5/300\n",
      "59/59 [==============================] - 0s 314us/step - loss: 161590.5625 - r2_score: -10.6569\n",
      "Epoch 6/300\n",
      "59/59 [==============================] - 0s 326us/step - loss: 145793.6250 - r2_score: -9.5173\n",
      "Epoch 7/300\n",
      "59/59 [==============================] - 0s 333us/step - loss: 123261.3750 - r2_score: -7.8919\n",
      "Epoch 8/300\n",
      "59/59 [==============================] - 0s 326us/step - loss: 96530.0625 - r2_score: -5.9636\n",
      "Epoch 9/300\n",
      "59/59 [==============================] - 0s 321us/step - loss: 70233.8984 - r2_score: -4.0666\n",
      "Epoch 10/300\n",
      "59/59 [==============================] - 0s 327us/step - loss: 49029.6328 - r2_score: -2.5369\n",
      "Epoch 11/300\n",
      "59/59 [==============================] - 0s 333us/step - loss: 34483.5273 - r2_score: -1.4876\n",
      "Epoch 12/300\n",
      "59/59 [==============================] - 0s 325us/step - loss: 26121.3184 - r2_score: -0.8844\n",
      "Epoch 13/300\n",
      "59/59 [==============================] - 0s 327us/step - loss: 21767.1270 - r2_score: -0.5703\n",
      "Epoch 14/300\n",
      "59/59 [==============================] - 0s 317us/step - loss: 19284.7793 - r2_score: -0.3912\n",
      "Epoch 15/300\n",
      "59/59 [==============================] - 0s 331us/step - loss: 17406.7637 - r2_score: -0.2557\n",
      "Epoch 16/300\n",
      "59/59 [==============================] - 0s 327us/step - loss: 15678.1924 - r2_score: -0.1310\n",
      "Epoch 17/300\n",
      "59/59 [==============================] - 0s 329us/step - loss: 14016.2734 - r2_score: -0.0111\n",
      "Epoch 18/300\n",
      "59/59 [==============================] - 0s 338us/step - loss: 12390.5957 - r2_score: 0.1062\n",
      "Epoch 19/300\n",
      "59/59 [==============================] - 0s 340us/step - loss: 10913.6797 - r2_score: 0.2127\n",
      "Epoch 20/300\n",
      "59/59 [==============================] - 0s 324us/step - loss: 9522.4717 - r2_score: 0.3131\n",
      "Epoch 21/300\n",
      "59/59 [==============================] - 0s 328us/step - loss: 8288.1221 - r2_score: 0.4021\n",
      "Epoch 22/300\n",
      "59/59 [==============================] - 0s 332us/step - loss: 7214.4819 - r2_score: 0.4796\n",
      "Epoch 23/300\n",
      "59/59 [==============================] - 0s 324us/step - loss: 6322.8096 - r2_score: 0.5439\n",
      "Epoch 24/300\n",
      "59/59 [==============================] - 0s 323us/step - loss: 5557.7974 - r2_score: 0.5991\n",
      "Epoch 25/300\n",
      "59/59 [==============================] - 0s 323us/step - loss: 4930.7627 - r2_score: 0.6443\n",
      "Epoch 26/300\n",
      "59/59 [==============================] - 0s 318us/step - loss: 4369.2373 - r2_score: 0.6848\n",
      "Epoch 27/300\n",
      "59/59 [==============================] - 0s 322us/step - loss: 3904.9170 - r2_score: 0.7183\n",
      "Epoch 28/300\n",
      "59/59 [==============================] - 0s 424us/step - loss: 3489.5469 - r2_score: 0.7483\n",
      "Epoch 29/300\n",
      "59/59 [==============================] - 0s 327us/step - loss: 3114.3499 - r2_score: 0.7753\n",
      "Epoch 30/300\n",
      "59/59 [==============================] - 0s 313us/step - loss: 2776.7676 - r2_score: 0.7997\n",
      "Epoch 31/300\n",
      "59/59 [==============================] - 0s 320us/step - loss: 2480.1965 - r2_score: 0.8211\n",
      "Epoch 32/300\n",
      "59/59 [==============================] - 0s 326us/step - loss: 2205.9653 - r2_score: 0.8409\n",
      "Epoch 33/300\n",
      "59/59 [==============================] - 0s 325us/step - loss: 1954.4258 - r2_score: 0.8590\n",
      "Epoch 34/300\n",
      "59/59 [==============================] - 0s 325us/step - loss: 1736.4025 - r2_score: 0.8747\n",
      "Epoch 35/300\n",
      "59/59 [==============================] - 0s 332us/step - loss: 1542.4486 - r2_score: 0.8887\n",
      "Epoch 36/300\n",
      "59/59 [==============================] - 0s 335us/step - loss: 1370.4713 - r2_score: 0.9011\n",
      "Epoch 37/300\n",
      "59/59 [==============================] - 0s 333us/step - loss: 1223.8583 - r2_score: 0.9117\n",
      "Epoch 38/300\n",
      "59/59 [==============================] - 0s 323us/step - loss: 1092.9899 - r2_score: 0.9212\n",
      "Epoch 39/300\n",
      "59/59 [==============================] - 0s 317us/step - loss: 982.3600 - r2_score: 0.9291\n",
      "Epoch 40/300\n",
      "59/59 [==============================] - 0s 322us/step - loss: 880.6916 - r2_score: 0.9365\n",
      "Epoch 41/300\n",
      "59/59 [==============================] - 0s 330us/step - loss: 789.6978 - r2_score: 0.9430\n",
      "Epoch 42/300\n",
      "59/59 [==============================] - 0s 318us/step - loss: 712.6420 - r2_score: 0.9486\n",
      "Epoch 43/300\n",
      "59/59 [==============================] - 0s 318us/step - loss: 644.3091 - r2_score: 0.9535\n",
      "Epoch 44/300\n",
      "59/59 [==============================] - 0s 317us/step - loss: 585.3688 - r2_score: 0.9578\n",
      "Epoch 45/300\n",
      "59/59 [==============================] - 0s 323us/step - loss: 528.9270 - r2_score: 0.9618\n",
      "Epoch 46/300\n",
      "59/59 [==============================] - 0s 331us/step - loss: 480.4810 - r2_score: 0.9653\n",
      "Epoch 47/300\n",
      "59/59 [==============================] - 0s 317us/step - loss: 437.3194 - r2_score: 0.9685\n",
      "Epoch 48/300\n",
      "59/59 [==============================] - 0s 318us/step - loss: 398.9718 - r2_score: 0.9712\n",
      "Epoch 49/300\n",
      "59/59 [==============================] - 0s 320us/step - loss: 365.5073 - r2_score: 0.9736\n",
      "Epoch 50/300\n",
      "59/59 [==============================] - 0s 324us/step - loss: 335.0512 - r2_score: 0.9758\n",
      "Epoch 51/300\n",
      "59/59 [==============================] - 0s 324us/step - loss: 307.0763 - r2_score: 0.9778\n",
      "Epoch 52/300\n",
      "59/59 [==============================] - 0s 320us/step - loss: 282.3782 - r2_score: 0.9796\n",
      "Epoch 53/300\n",
      "59/59 [==============================] - 0s 319us/step - loss: 261.2190 - r2_score: 0.9812\n",
      "Epoch 54/300\n",
      "59/59 [==============================] - 0s 323us/step - loss: 241.9173 - r2_score: 0.9825\n",
      "Epoch 55/300\n",
      "59/59 [==============================] - 0s 320us/step - loss: 223.6963 - r2_score: 0.9839\n",
      "Epoch 56/300\n",
      "59/59 [==============================] - 0s 324us/step - loss: 209.5196 - r2_score: 0.9849\n",
      "Epoch 57/300\n",
      "59/59 [==============================] - 0s 319us/step - loss: 196.5436 - r2_score: 0.9858\n",
      "Epoch 58/300\n",
      "59/59 [==============================] - 0s 320us/step - loss: 183.6535 - r2_score: 0.9868\n",
      "Epoch 59/300\n",
      "59/59 [==============================] - 0s 326us/step - loss: 173.4344 - r2_score: 0.9875\n",
      "Epoch 60/300\n",
      "59/59 [==============================] - 0s 327us/step - loss: 162.9425 - r2_score: 0.9882\n",
      "Epoch 61/300\n",
      "59/59 [==============================] - 0s 322us/step - loss: 156.5645 - r2_score: 0.9887\n",
      "Epoch 62/300\n",
      "59/59 [==============================] - 0s 324us/step - loss: 147.2212 - r2_score: 0.9894\n",
      "Epoch 63/300\n",
      "59/59 [==============================] - 0s 320us/step - loss: 139.7011 - r2_score: 0.9899\n",
      "Epoch 64/300\n",
      "59/59 [==============================] - 0s 330us/step - loss: 132.3573 - r2_score: 0.9905\n",
      "Epoch 65/300\n",
      "59/59 [==============================] - 0s 317us/step - loss: 128.3730 - r2_score: 0.9907\n",
      "Epoch 66/300\n",
      "59/59 [==============================] - 0s 323us/step - loss: 120.3963 - r2_score: 0.9913\n",
      "Epoch 67/300\n",
      "59/59 [==============================] - 0s 326us/step - loss: 114.1035 - r2_score: 0.9918\n",
      "Epoch 68/300\n",
      "59/59 [==============================] - 0s 327us/step - loss: 110.5435 - r2_score: 0.9920\n",
      "Epoch 69/300\n",
      "59/59 [==============================] - 0s 313us/step - loss: 105.4833 - r2_score: 0.9924\n",
      "Epoch 70/300\n",
      "59/59 [==============================] - 0s 319us/step - loss: 101.3519 - r2_score: 0.9927\n",
      "Epoch 71/300\n",
      "59/59 [==============================] - 0s 317us/step - loss: 96.0990 - r2_score: 0.9931\n",
      "Epoch 72/300\n",
      "59/59 [==============================] - 0s 325us/step - loss: 91.4268 - r2_score: 0.9934\n",
      "Epoch 73/300\n",
      "59/59 [==============================] - 0s 318us/step - loss: 88.7851 - r2_score: 0.9936\n",
      "Epoch 74/300\n",
      "59/59 [==============================] - 0s 312us/step - loss: 84.4628 - r2_score: 0.9939\n",
      "Epoch 75/300\n",
      "59/59 [==============================] - 0s 320us/step - loss: 80.4482 - r2_score: 0.9942\n",
      "Epoch 76/300\n",
      "59/59 [==============================] - 0s 325us/step - loss: 77.4765 - r2_score: 0.9944\n",
      "Epoch 77/300\n",
      "59/59 [==============================] - 0s 320us/step - loss: 73.6265 - r2_score: 0.9947\n",
      "Epoch 78/300\n",
      "59/59 [==============================] - 0s 320us/step - loss: 71.9235 - r2_score: 0.9948\n",
      "Epoch 79/300\n",
      "59/59 [==============================] - 0s 320us/step - loss: 68.2709 - r2_score: 0.9951\n",
      "Epoch 80/300\n",
      "59/59 [==============================] - 0s 320us/step - loss: 66.5334 - r2_score: 0.9952\n",
      "Epoch 81/300\n",
      "59/59 [==============================] - 0s 324us/step - loss: 64.4920 - r2_score: 0.9953\n",
      "Epoch 82/300\n",
      "59/59 [==============================] - 0s 318us/step - loss: 62.0994 - r2_score: 0.9955\n",
      "Epoch 83/300\n",
      "59/59 [==============================] - 0s 318us/step - loss: 59.3806 - r2_score: 0.9957\n",
      "Epoch 84/300\n",
      "59/59 [==============================] - 0s 325us/step - loss: 58.0641 - r2_score: 0.9958\n",
      "Epoch 85/300\n",
      "59/59 [==============================] - 0s 318us/step - loss: 56.4927 - r2_score: 0.9959\n",
      "Epoch 86/300\n",
      "59/59 [==============================] - 0s 337us/step - loss: 53.7277 - r2_score: 0.9961\n",
      "Epoch 87/300\n",
      "59/59 [==============================] - 0s 316us/step - loss: 51.4453 - r2_score: 0.9963\n",
      "Epoch 88/300\n",
      "59/59 [==============================] - 0s 320us/step - loss: 50.5828 - r2_score: 0.9964\n",
      "Epoch 89/300\n",
      "59/59 [==============================] - 0s 329us/step - loss: 48.3743 - r2_score: 0.9965\n",
      "Epoch 90/300\n",
      "59/59 [==============================] - 0s 322us/step - loss: 47.2027 - r2_score: 0.9966\n",
      "Epoch 91/300\n",
      "59/59 [==============================] - 0s 329us/step - loss: 45.3551 - r2_score: 0.9967\n",
      "Epoch 92/300\n",
      "59/59 [==============================] - 0s 317us/step - loss: 44.0363 - r2_score: 0.9968\n",
      "Epoch 93/300\n",
      "59/59 [==============================] - 0s 323us/step - loss: 42.8660 - r2_score: 0.9969\n",
      "Epoch 94/300\n",
      "59/59 [==============================] - 0s 329us/step - loss: 41.6928 - r2_score: 0.9970\n",
      "Epoch 95/300\n",
      "59/59 [==============================] - 0s 323us/step - loss: 40.5836 - r2_score: 0.9971\n",
      "Epoch 96/300\n",
      "59/59 [==============================] - 0s 325us/step - loss: 39.1870 - r2_score: 0.9972\n",
      "Epoch 97/300\n",
      "59/59 [==============================] - 0s 384us/step - loss: 38.7288 - r2_score: 0.9972\n",
      "Epoch 98/300\n",
      "59/59 [==============================] - 0s 340us/step - loss: 38.2309 - r2_score: 0.9972\n",
      "Epoch 99/300\n",
      "59/59 [==============================] - 0s 319us/step - loss: 37.1997 - r2_score: 0.9973\n",
      "Epoch 100/300\n",
      "59/59 [==============================] - 0s 322us/step - loss: 36.0316 - r2_score: 0.9974\n",
      "Epoch 101/300\n",
      "59/59 [==============================] - 0s 321us/step - loss: 36.3461 - r2_score: 0.9974\n",
      "Epoch 102/300\n",
      "59/59 [==============================] - 0s 328us/step - loss: 35.2449 - r2_score: 0.9975\n",
      "Epoch 103/300\n",
      "59/59 [==============================] - 0s 325us/step - loss: 34.4585 - r2_score: 0.9975\n",
      "Epoch 104/300\n",
      "59/59 [==============================] - 0s 321us/step - loss: 34.0906 - r2_score: 0.9975\n",
      "Epoch 105/300\n",
      "59/59 [==============================] - 0s 326us/step - loss: 33.4045 - r2_score: 0.9976\n",
      "Epoch 106/300\n",
      "59/59 [==============================] - 0s 324us/step - loss: 33.2330 - r2_score: 0.9976\n",
      "Epoch 107/300\n",
      "59/59 [==============================] - 0s 820us/step - loss: 32.9756 - r2_score: 0.9976\n",
      "Epoch 108/300\n",
      "59/59 [==============================] - 0s 673us/step - loss: 32.3873 - r2_score: 0.9977\n",
      "Epoch 109/300\n",
      "59/59 [==============================] - 0s 324us/step - loss: 32.4665 - r2_score: 0.9977\n",
      "Epoch 110/300\n",
      "59/59 [==============================] - 0s 330us/step - loss: 32.0786 - r2_score: 0.9977\n",
      "Epoch 111/300\n",
      "59/59 [==============================] - 0s 335us/step - loss: 31.8461 - r2_score: 0.9977\n",
      "Epoch 112/300\n",
      "59/59 [==============================] - 0s 327us/step - loss: 31.5288 - r2_score: 0.9977\n",
      "Epoch 113/300\n",
      "59/59 [==============================] - 0s 328us/step - loss: 31.0966 - r2_score: 0.9978\n",
      "Epoch 114/300\n",
      "59/59 [==============================] - 0s 333us/step - loss: 31.0063 - r2_score: 0.9978\n",
      "Epoch 115/300\n",
      "59/59 [==============================] - 0s 329us/step - loss: 31.1548 - r2_score: 0.9978\n",
      "Epoch 116/300\n",
      "59/59 [==============================] - 0s 324us/step - loss: 30.4400 - r2_score: 0.9978\n",
      "Epoch 117/300\n",
      "59/59 [==============================] - 0s 328us/step - loss: 31.2639 - r2_score: 0.9977\n",
      "Epoch 118/300\n",
      "59/59 [==============================] - 0s 332us/step - loss: 30.2767 - r2_score: 0.9978\n",
      "Epoch 119/300\n",
      "59/59 [==============================] - 0s 322us/step - loss: 30.2290 - r2_score: 0.9978\n",
      "Epoch 120/300\n",
      "59/59 [==============================] - 0s 323us/step - loss: 30.4634 - r2_score: 0.9978\n",
      "Epoch 121/300\n",
      "59/59 [==============================] - 0s 330us/step - loss: 29.8257 - r2_score: 0.9978\n",
      "Epoch 122/300\n",
      "59/59 [==============================] - 0s 329us/step - loss: 30.3336 - r2_score: 0.9978\n",
      "Epoch 123/300\n",
      "59/59 [==============================] - 0s 330us/step - loss: 29.6865 - r2_score: 0.9979\n",
      "Epoch 124/300\n",
      "59/59 [==============================] - 0s 326us/step - loss: 29.3118 - r2_score: 0.9979\n",
      "Epoch 125/300\n",
      "59/59 [==============================] - 0s 332us/step - loss: 29.2423 - r2_score: 0.9979\n",
      "Epoch 126/300\n",
      "59/59 [==============================] - 0s 328us/step - loss: 29.0249 - r2_score: 0.9979\n",
      "Epoch 127/300\n",
      "59/59 [==============================] - 0s 318us/step - loss: 28.8714 - r2_score: 0.9979\n",
      "Epoch 128/300\n",
      "59/59 [==============================] - 0s 337us/step - loss: 29.4154 - r2_score: 0.9979\n",
      "Epoch 129/300\n",
      "59/59 [==============================] - 0s 326us/step - loss: 28.7557 - r2_score: 0.9979\n",
      "Epoch 130/300\n",
      "59/59 [==============================] - 0s 328us/step - loss: 28.5651 - r2_score: 0.9979\n",
      "Epoch 131/300\n",
      "59/59 [==============================] - 0s 329us/step - loss: 28.3310 - r2_score: 0.9980\n",
      "Epoch 132/300\n",
      "59/59 [==============================] - 0s 327us/step - loss: 28.3936 - r2_score: 0.9980\n",
      "Epoch 133/300\n",
      "59/59 [==============================] - 0s 334us/step - loss: 28.4259 - r2_score: 0.9979\n",
      "Epoch 134/300\n",
      "59/59 [==============================] - 0s 331us/step - loss: 28.3052 - r2_score: 0.9980\n",
      "Epoch 135/300\n",
      "59/59 [==============================] - 0s 329us/step - loss: 28.3282 - r2_score: 0.9980\n",
      "Epoch 136/300\n",
      "59/59 [==============================] - 0s 329us/step - loss: 28.2483 - r2_score: 0.9980\n",
      "Epoch 137/300\n",
      "59/59 [==============================] - 0s 329us/step - loss: 28.0640 - r2_score: 0.9980\n",
      "Epoch 138/300\n",
      "59/59 [==============================] - 0s 332us/step - loss: 27.4038 - r2_score: 0.9980\n",
      "Epoch 139/300\n",
      "59/59 [==============================] - 0s 327us/step - loss: 27.6458 - r2_score: 0.9980\n",
      "Epoch 140/300\n",
      "59/59 [==============================] - 0s 325us/step - loss: 27.5551 - r2_score: 0.9980\n",
      "Epoch 141/300\n",
      "59/59 [==============================] - 0s 326us/step - loss: 26.9775 - r2_score: 0.9981\n",
      "Epoch 142/300\n",
      "59/59 [==============================] - 0s 334us/step - loss: 27.0375 - r2_score: 0.9980\n",
      "Epoch 143/300\n",
      "59/59 [==============================] - 0s 333us/step - loss: 26.7870 - r2_score: 0.9981\n",
      "Epoch 144/300\n",
      "59/59 [==============================] - 0s 328us/step - loss: 26.5536 - r2_score: 0.9981\n",
      "Epoch 145/300\n",
      "59/59 [==============================] - 0s 330us/step - loss: 26.0560 - r2_score: 0.9981\n",
      "Epoch 146/300\n",
      "59/59 [==============================] - 0s 325us/step - loss: 27.4229 - r2_score: 0.9980\n",
      "Epoch 147/300\n",
      "59/59 [==============================] - 0s 326us/step - loss: 26.0090 - r2_score: 0.9981\n",
      "Epoch 148/300\n",
      "59/59 [==============================] - 0s 335us/step - loss: 25.6336 - r2_score: 0.9982\n",
      "Epoch 149/300\n",
      "59/59 [==============================] - 0s 341us/step - loss: 25.8599 - r2_score: 0.9981\n",
      "Epoch 150/300\n",
      "59/59 [==============================] - 0s 336us/step - loss: 25.9259 - r2_score: 0.9981\n",
      "Epoch 151/300\n",
      "59/59 [==============================] - 0s 325us/step - loss: 25.2617 - r2_score: 0.9982\n",
      "Epoch 152/300\n",
      "59/59 [==============================] - 0s 332us/step - loss: 25.7955 - r2_score: 0.9981\n",
      "Epoch 153/300\n",
      "59/59 [==============================] - 0s 322us/step - loss: 25.0700 - r2_score: 0.9982\n",
      "Epoch 154/300\n",
      "59/59 [==============================] - 0s 322us/step - loss: 25.1326 - r2_score: 0.9982\n",
      "Epoch 155/300\n",
      "59/59 [==============================] - 0s 326us/step - loss: 24.7788 - r2_score: 0.9982\n",
      "Epoch 156/300\n",
      "59/59 [==============================] - 0s 333us/step - loss: 24.5908 - r2_score: 0.9982\n",
      "Epoch 157/300\n",
      "59/59 [==============================] - 0s 334us/step - loss: 24.4907 - r2_score: 0.9982\n",
      "Epoch 158/300\n",
      "59/59 [==============================] - 0s 321us/step - loss: 24.3414 - r2_score: 0.9982\n",
      "Epoch 159/300\n",
      "59/59 [==============================] - 0s 332us/step - loss: 24.6867 - r2_score: 0.9982\n",
      "Epoch 160/300\n",
      "59/59 [==============================] - 0s 325us/step - loss: 24.4948 - r2_score: 0.9982\n",
      "Epoch 161/300\n",
      "59/59 [==============================] - 0s 377us/step - loss: 24.0728 - r2_score: 0.9983\n",
      "Epoch 162/300\n",
      "59/59 [==============================] - 0s 335us/step - loss: 24.0319 - r2_score: 0.9983\n",
      "Epoch 163/300\n",
      "59/59 [==============================] - 0s 325us/step - loss: 24.5599 - r2_score: 0.9982\n",
      "Epoch 164/300\n",
      "59/59 [==============================] - 0s 325us/step - loss: 23.6562 - r2_score: 0.9983\n",
      "Epoch 165/300\n",
      "59/59 [==============================] - 0s 322us/step - loss: 23.6243 - r2_score: 0.9983\n",
      "Epoch 166/300\n",
      "59/59 [==============================] - 0s 408us/step - loss: 23.5334 - r2_score: 0.9983\n",
      "Epoch 167/300\n",
      "59/59 [==============================] - 0s 415us/step - loss: 23.7110 - r2_score: 0.9983\n",
      "Epoch 168/300\n",
      "59/59 [==============================] - 0s 408us/step - loss: 23.6150 - r2_score: 0.9983\n",
      "Epoch 169/300\n",
      "59/59 [==============================] - 0s 315us/step - loss: 23.0441 - r2_score: 0.9983\n",
      "Epoch 170/300\n",
      "59/59 [==============================] - 0s 422us/step - loss: 23.1968 - r2_score: 0.9983\n",
      "Epoch 171/300\n",
      "59/59 [==============================] - 0s 388us/step - loss: 22.5800 - r2_score: 0.9984\n",
      "Epoch 172/300\n",
      "59/59 [==============================] - 0s 400us/step - loss: 23.4538 - r2_score: 0.9983\n",
      "Epoch 173/300\n",
      "59/59 [==============================] - 13s 218ms/step - loss: 22.6477 - r2_score: 0.9984\n",
      "Epoch 174/300\n",
      "59/59 [==============================] - 0s 371us/step - loss: 23.1553 - r2_score: 0.9983\n",
      "Epoch 175/300\n",
      "59/59 [==============================] - 0s 321us/step - loss: 22.9343 - r2_score: 0.9983\n",
      "Epoch 176/300\n",
      "59/59 [==============================] - 0s 326us/step - loss: 22.6888 - r2_score: 0.9984\n",
      "Epoch 177/300\n",
      "59/59 [==============================] - 0s 318us/step - loss: 22.8351 - r2_score: 0.9984\n",
      "Epoch 178/300\n",
      "59/59 [==============================] - 0s 326us/step - loss: 22.2173 - r2_score: 0.9984\n",
      "Epoch 179/300\n",
      "59/59 [==============================] - 0s 325us/step - loss: 21.6209 - r2_score: 0.9984\n",
      "Epoch 180/300\n",
      "59/59 [==============================] - 0s 327us/step - loss: 22.1831 - r2_score: 0.9984\n",
      "Epoch 181/300\n",
      "59/59 [==============================] - 0s 317us/step - loss: 21.4624 - r2_score: 0.9985\n",
      "Epoch 182/300\n",
      "59/59 [==============================] - 0s 334us/step - loss: 22.0125 - r2_score: 0.9984\n",
      "Epoch 183/300\n",
      "59/59 [==============================] - 0s 323us/step - loss: 22.7488 - r2_score: 0.9984\n",
      "Epoch 184/300\n",
      "59/59 [==============================] - 0s 329us/step - loss: 22.5625 - r2_score: 0.9984\n",
      "Epoch 185/300\n",
      "59/59 [==============================] - 0s 329us/step - loss: 21.3003 - r2_score: 0.9985\n",
      "Epoch 186/300\n",
      "59/59 [==============================] - 0s 314us/step - loss: 21.5850 - r2_score: 0.9984\n",
      "Epoch 187/300\n",
      "59/59 [==============================] - 0s 326us/step - loss: 21.7065 - r2_score: 0.9984\n",
      "Epoch 188/300\n",
      "59/59 [==============================] - 0s 326us/step - loss: 21.2937 - r2_score: 0.9985\n",
      "Epoch 189/300\n",
      "59/59 [==============================] - 0s 325us/step - loss: 21.3777 - r2_score: 0.9985\n",
      "Epoch 190/300\n",
      "59/59 [==============================] - 0s 335us/step - loss: 20.7014 - r2_score: 0.9985\n",
      "Epoch 191/300\n",
      "59/59 [==============================] - 0s 317us/step - loss: 20.5356 - r2_score: 0.9985\n",
      "Epoch 192/300\n",
      "59/59 [==============================] - 0s 322us/step - loss: 20.8920 - r2_score: 0.9985\n",
      "Epoch 193/300\n",
      "59/59 [==============================] - 0s 319us/step - loss: 20.6643 - r2_score: 0.9985\n",
      "Epoch 194/300\n",
      "59/59 [==============================] - 0s 318us/step - loss: 21.4327 - r2_score: 0.9985\n",
      "Epoch 195/300\n",
      "59/59 [==============================] - 0s 319us/step - loss: 20.0529 - r2_score: 0.9986\n",
      "Epoch 196/300\n",
      "59/59 [==============================] - 0s 313us/step - loss: 20.3340 - r2_score: 0.9985\n",
      "Epoch 197/300\n",
      "59/59 [==============================] - 0s 322us/step - loss: 21.0582 - r2_score: 0.9985\n",
      "Epoch 198/300\n",
      "59/59 [==============================] - 0s 322us/step - loss: 20.4366 - r2_score: 0.9985\n",
      "Epoch 199/300\n",
      "59/59 [==============================] - 0s 316us/step - loss: 20.2734 - r2_score: 0.9985\n",
      "Epoch 200/300\n",
      "59/59 [==============================] - 0s 317us/step - loss: 19.9488 - r2_score: 0.9986\n",
      "Epoch 201/300\n",
      "59/59 [==============================] - 0s 315us/step - loss: 19.8530 - r2_score: 0.9986\n",
      "Epoch 202/300\n",
      "59/59 [==============================] - 0s 323us/step - loss: 19.6612 - r2_score: 0.9986\n",
      "Epoch 203/300\n",
      "59/59 [==============================] - 0s 335us/step - loss: 20.3877 - r2_score: 0.9985\n",
      "Epoch 204/300\n",
      "59/59 [==============================] - 0s 318us/step - loss: 20.1997 - r2_score: 0.9985\n",
      "Epoch 205/300\n",
      "59/59 [==============================] - 0s 317us/step - loss: 19.6285 - r2_score: 0.9986\n",
      "Epoch 206/300\n",
      "59/59 [==============================] - 0s 321us/step - loss: 19.4039 - r2_score: 0.9986\n",
      "Epoch 207/300\n",
      "59/59 [==============================] - 0s 321us/step - loss: 19.6385 - r2_score: 0.9986\n",
      "Epoch 208/300\n",
      "59/59 [==============================] - 0s 318us/step - loss: 20.3838 - r2_score: 0.9985\n",
      "Epoch 209/300\n",
      "59/59 [==============================] - 0s 329us/step - loss: 19.3064 - r2_score: 0.9986\n",
      "Epoch 210/300\n",
      "59/59 [==============================] - 0s 311us/step - loss: 19.7915 - r2_score: 0.9986\n",
      "Epoch 211/300\n",
      "59/59 [==============================] - 0s 319us/step - loss: 19.1897 - r2_score: 0.9986\n",
      "Epoch 212/300\n",
      "59/59 [==============================] - 0s 321us/step - loss: 19.5866 - r2_score: 0.9986\n",
      "Epoch 213/300\n",
      "59/59 [==============================] - 0s 325us/step - loss: 19.9517 - r2_score: 0.9986\n",
      "Epoch 214/300\n",
      "59/59 [==============================] - 0s 314us/step - loss: 18.5346 - r2_score: 0.9987\n",
      "Epoch 215/300\n",
      "59/59 [==============================] - 0s 323us/step - loss: 18.7890 - r2_score: 0.9986\n",
      "Epoch 216/300\n",
      "59/59 [==============================] - 0s 317us/step - loss: 18.7004 - r2_score: 0.9987\n",
      "Epoch 217/300\n",
      "59/59 [==============================] - 0s 316us/step - loss: 18.7940 - r2_score: 0.9986\n",
      "Epoch 218/300\n",
      "59/59 [==============================] - 0s 323us/step - loss: 19.0453 - r2_score: 0.9986\n",
      "Epoch 219/300\n",
      "59/59 [==============================] - 0s 319us/step - loss: 19.2011 - r2_score: 0.9986\n",
      "Epoch 220/300\n",
      "59/59 [==============================] - 0s 321us/step - loss: 19.9894 - r2_score: 0.9986\n",
      "Epoch 221/300\n",
      "59/59 [==============================] - 0s 323us/step - loss: 18.6452 - r2_score: 0.9987\n",
      "Epoch 222/300\n",
      "59/59 [==============================] - 0s 319us/step - loss: 19.0776 - r2_score: 0.9986\n",
      "Epoch 223/300\n",
      "59/59 [==============================] - 0s 325us/step - loss: 18.3054 - r2_score: 0.9987\n",
      "Epoch 224/300\n",
      "59/59 [==============================] - 0s 321us/step - loss: 18.4517 - r2_score: 0.9987\n",
      "Epoch 225/300\n",
      "59/59 [==============================] - 0s 329us/step - loss: 18.3495 - r2_score: 0.9987\n",
      "Epoch 226/300\n",
      "59/59 [==============================] - 0s 328us/step - loss: 18.1451 - r2_score: 0.9987\n",
      "Epoch 227/300\n",
      "59/59 [==============================] - 0s 441us/step - loss: 18.3879 - r2_score: 0.9987\n",
      "Epoch 228/300\n",
      "59/59 [==============================] - 0s 1ms/step - loss: 18.2940 - r2_score: 0.9987\n",
      "Epoch 229/300\n",
      "59/59 [==============================] - 0s 526us/step - loss: 17.5047 - r2_score: 0.9987\n",
      "Epoch 230/300\n",
      "59/59 [==============================] - 0s 327us/step - loss: 18.1902 - r2_score: 0.9987\n",
      "Epoch 231/300\n",
      "59/59 [==============================] - 0s 321us/step - loss: 18.4716 - r2_score: 0.9987\n",
      "Epoch 232/300\n",
      "59/59 [==============================] - 0s 319us/step - loss: 18.3155 - r2_score: 0.9987\n",
      "Epoch 233/300\n",
      "59/59 [==============================] - 0s 322us/step - loss: 17.9415 - r2_score: 0.9987\n",
      "Epoch 234/300\n",
      "59/59 [==============================] - 0s 318us/step - loss: 18.1211 - r2_score: 0.9987\n",
      "Epoch 235/300\n",
      "59/59 [==============================] - 0s 404us/step - loss: 17.9310 - r2_score: 0.9987\n",
      "Epoch 236/300\n",
      "59/59 [==============================] - 0s 334us/step - loss: 18.0052 - r2_score: 0.9987\n",
      "Epoch 237/300\n",
      "59/59 [==============================] - 0s 338us/step - loss: 18.0249 - r2_score: 0.9987\n",
      "Epoch 238/300\n",
      "59/59 [==============================] - 0s 307us/step - loss: 17.4562 - r2_score: 0.9987\n",
      "Epoch 239/300\n",
      "59/59 [==============================] - 0s 322us/step - loss: 17.6865 - r2_score: 0.9987\n",
      "Epoch 240/300\n",
      "59/59 [==============================] - 0s 319us/step - loss: 17.9338 - r2_score: 0.9987\n",
      "Epoch 241/300\n",
      "59/59 [==============================] - 0s 315us/step - loss: 17.1974 - r2_score: 0.9988\n",
      "Epoch 242/300\n",
      "59/59 [==============================] - 0s 320us/step - loss: 17.3238 - r2_score: 0.9988\n",
      "Epoch 243/300\n",
      "59/59 [==============================] - 0s 330us/step - loss: 17.8107 - r2_score: 0.9987\n",
      "Epoch 244/300\n",
      "59/59 [==============================] - 0s 319us/step - loss: 17.4126 - r2_score: 0.9987\n",
      "Epoch 245/300\n",
      "59/59 [==============================] - 0s 324us/step - loss: 18.1406 - r2_score: 0.9987\n",
      "Epoch 246/300\n",
      "59/59 [==============================] - 0s 317us/step - loss: 17.1458 - r2_score: 0.9988\n",
      "Epoch 247/300\n",
      "59/59 [==============================] - 0s 319us/step - loss: 17.0704 - r2_score: 0.9988\n",
      "Epoch 248/300\n",
      "59/59 [==============================] - 0s 316us/step - loss: 17.2078 - r2_score: 0.9988\n",
      "Epoch 249/300\n",
      "59/59 [==============================] - 0s 319us/step - loss: 16.9917 - r2_score: 0.9988\n",
      "Epoch 250/300\n",
      "59/59 [==============================] - 0s 322us/step - loss: 17.0501 - r2_score: 0.9988\n",
      "Epoch 251/300\n",
      "59/59 [==============================] - 0s 326us/step - loss: 16.8337 - r2_score: 0.9988\n",
      "Epoch 252/300\n",
      "59/59 [==============================] - 0s 322us/step - loss: 17.1516 - r2_score: 0.9988\n",
      "Epoch 253/300\n",
      "59/59 [==============================] - 0s 315us/step - loss: 17.1447 - r2_score: 0.9988\n",
      "Epoch 254/300\n",
      "59/59 [==============================] - 0s 316us/step - loss: 17.0839 - r2_score: 0.9988\n",
      "Epoch 255/300\n",
      "59/59 [==============================] - 0s 317us/step - loss: 16.8293 - r2_score: 0.9988\n",
      "Epoch 256/300\n",
      "59/59 [==============================] - 0s 317us/step - loss: 18.4037 - r2_score: 0.9987\n",
      "Epoch 257/300\n",
      "59/59 [==============================] - 0s 314us/step - loss: 17.5133 - r2_score: 0.9987\n",
      "Epoch 258/300\n",
      "59/59 [==============================] - 0s 316us/step - loss: 16.9429 - r2_score: 0.9988\n",
      "Epoch 259/300\n",
      "59/59 [==============================] - 0s 313us/step - loss: 16.7503 - r2_score: 0.9988\n",
      "Epoch 260/300\n",
      "59/59 [==============================] - 0s 324us/step - loss: 16.6348 - r2_score: 0.9988\n",
      "Epoch 261/300\n",
      "59/59 [==============================] - 0s 316us/step - loss: 16.9141 - r2_score: 0.9988\n",
      "Epoch 262/300\n",
      "59/59 [==============================] - 0s 313us/step - loss: 16.8319 - r2_score: 0.9988\n",
      "Epoch 263/300\n",
      "59/59 [==============================] - 0s 329us/step - loss: 16.8936 - r2_score: 0.9988\n",
      "Epoch 264/300\n",
      "59/59 [==============================] - 0s 327us/step - loss: 16.5458 - r2_score: 0.9988\n",
      "Epoch 265/300\n",
      "59/59 [==============================] - 0s 326us/step - loss: 17.1736 - r2_score: 0.9988\n",
      "Epoch 266/300\n",
      "59/59 [==============================] - 0s 316us/step - loss: 16.6062 - r2_score: 0.9988\n",
      "Epoch 267/300\n",
      "59/59 [==============================] - 0s 324us/step - loss: 17.1809 - r2_score: 0.9988\n",
      "Epoch 268/300\n",
      "59/59 [==============================] - 0s 316us/step - loss: 17.1362 - r2_score: 0.9988\n",
      "Epoch 269/300\n",
      "59/59 [==============================] - 0s 320us/step - loss: 16.6376 - r2_score: 0.9988\n",
      "Epoch 270/300\n",
      "59/59 [==============================] - 0s 316us/step - loss: 16.8787 - r2_score: 0.9988\n",
      "Epoch 271/300\n",
      "59/59 [==============================] - 0s 319us/step - loss: 16.5140 - r2_score: 0.9988\n",
      "Epoch 272/300\n",
      "59/59 [==============================] - 0s 319us/step - loss: 16.2932 - r2_score: 0.9988\n",
      "Epoch 273/300\n",
      "59/59 [==============================] - 0s 317us/step - loss: 16.7941 - r2_score: 0.9988\n",
      "Epoch 274/300\n",
      "59/59 [==============================] - 0s 326us/step - loss: 17.0429 - r2_score: 0.9988\n",
      "Epoch 275/300\n",
      "59/59 [==============================] - 0s 325us/step - loss: 16.3588 - r2_score: 0.9988\n",
      "Epoch 276/300\n",
      "59/59 [==============================] - 0s 372us/step - loss: 16.7346 - r2_score: 0.9988\n",
      "Epoch 277/300\n",
      "59/59 [==============================] - 0s 726us/step - loss: 16.1750 - r2_score: 0.9988\n",
      "Epoch 278/300\n",
      "59/59 [==============================] - 0s 318us/step - loss: 16.8065 - r2_score: 0.9988\n",
      "Epoch 279/300\n",
      "59/59 [==============================] - 0s 319us/step - loss: 16.1181 - r2_score: 0.9988\n",
      "Epoch 280/300\n",
      "59/59 [==============================] - 0s 328us/step - loss: 16.5239 - r2_score: 0.9988\n",
      "Epoch 281/300\n",
      "59/59 [==============================] - 0s 326us/step - loss: 17.1918 - r2_score: 0.9988\n",
      "Epoch 282/300\n",
      "59/59 [==============================] - 0s 316us/step - loss: 16.5383 - r2_score: 0.9988\n",
      "Epoch 283/300\n",
      "59/59 [==============================] - 0s 319us/step - loss: 16.7504 - r2_score: 0.9988\n",
      "Epoch 284/300\n",
      "59/59 [==============================] - 0s 329us/step - loss: 16.2309 - r2_score: 0.9988\n",
      "Epoch 285/300\n",
      "59/59 [==============================] - 0s 324us/step - loss: 16.6530 - r2_score: 0.9988\n",
      "Epoch 286/300\n",
      "59/59 [==============================] - 0s 329us/step - loss: 16.4071 - r2_score: 0.9988\n",
      "Epoch 287/300\n",
      "59/59 [==============================] - 0s 351us/step - loss: 16.8634 - r2_score: 0.9988\n",
      "Epoch 288/300\n",
      "59/59 [==============================] - 0s 320us/step - loss: 17.0116 - r2_score: 0.9988\n",
      "Epoch 289/300\n",
      "59/59 [==============================] - 0s 325us/step - loss: 16.8805 - r2_score: 0.9988\n",
      "Epoch 290/300\n",
      "59/59 [==============================] - 0s 315us/step - loss: 16.6355 - r2_score: 0.9988\n",
      "Epoch 291/300\n",
      "59/59 [==============================] - 0s 320us/step - loss: 15.9945 - r2_score: 0.9988\n",
      "Epoch 292/300\n",
      "59/59 [==============================] - 0s 323us/step - loss: 16.0277 - r2_score: 0.9988\n",
      "Epoch 293/300\n",
      "59/59 [==============================] - 0s 321us/step - loss: 16.2087 - r2_score: 0.9988\n",
      "Epoch 294/300\n",
      "59/59 [==============================] - 0s 326us/step - loss: 16.4103 - r2_score: 0.9988\n",
      "Epoch 295/300\n",
      "59/59 [==============================] - 0s 312us/step - loss: 16.0205 - r2_score: 0.9988\n",
      "Epoch 296/300\n",
      "59/59 [==============================] - 0s 317us/step - loss: 16.6711 - r2_score: 0.9988\n",
      "Epoch 297/300\n",
      "59/59 [==============================] - 0s 324us/step - loss: 15.8615 - r2_score: 0.9989\n",
      "Epoch 298/300\n",
      "59/59 [==============================] - 0s 320us/step - loss: 16.1363 - r2_score: 0.9988\n",
      "Epoch 299/300\n",
      "59/59 [==============================] - 0s 310us/step - loss: 16.0241 - r2_score: 0.9988\n",
      "Epoch 300/300\n",
      "59/59 [==============================] - 0s 325us/step - loss: 15.8258 - r2_score: 0.9989\n"
     ]
    },
    {
     "data": {
      "text/plain": [
       "<keras.src.callbacks.History at 0x29a3f71d0>"
      ]
     },
     "execution_count": 105,
     "metadata": {},
     "output_type": "execute_result"
    }
   ],
   "source": [
    "# Training an ANN\n",
    "ann.fit(X_train, y_train, batch_size = 16, epochs = 300)"
   ]
  },
  {
   "cell_type": "code",
   "execution_count": 106,
   "id": "c5fdebc1",
   "metadata": {},
   "outputs": [
    {
     "name": "stdout",
     "output_type": "stream",
     "text": [
      "1/1 [==============================] - 0s 50ms/step\n"
     ]
    },
    {
     "name": "stderr",
     "output_type": "stream",
     "text": [
      "/Users/nithinkore/Documents/GitHub/NetflixSPPredE2E/NetflixStockPricePrediction/venv/lib/python3.11/site-packages/sklearn/base.py:493: UserWarning: X does not have valid feature names, but StandardScaler was fitted with feature names\n",
      "  warnings.warn(\n"
     ]
    },
    {
     "data": {
      "text/plain": [
       "array([[417.5234]], dtype=float32)"
      ]
     },
     "execution_count": 106,
     "metadata": {},
     "output_type": "execute_result"
    }
   ],
   "source": [
    "input_obs = [401.970001, 427.700012, 398.200012, 427.140015]\n",
    "ann.predict(sc.transform(np.array(list(input_obs)).reshape(1,-1)))"
   ]
  },
  {
   "cell_type": "code",
   "execution_count": 107,
   "id": "87f0b81e",
   "metadata": {},
   "outputs": [
    {
     "name": "stdout",
     "output_type": "stream",
     "text": [
      "10/10 [==============================] - 0s 448us/step\n"
     ]
    },
    {
     "data": {
      "text/plain": [
       "array([[518.33136],\n",
       "       [477.37094],\n",
       "       [464.16092],\n",
       "       [184.80118],\n",
       "       [505.72156]], dtype=float32)"
      ]
     },
     "execution_count": 107,
     "metadata": {},
     "output_type": "execute_result"
    }
   ],
   "source": [
    "y_pred = ann.predict(X_test)\n",
    "y_pred[:5]"
   ]
  },
  {
   "cell_type": "code",
   "execution_count": 108,
   "id": "94d55880",
   "metadata": {},
   "outputs": [
    {
     "data": {
      "text/plain": [
       "14.251648810600633"
      ]
     },
     "execution_count": 108,
     "metadata": {},
     "output_type": "execute_result"
    }
   ],
   "source": [
    "mean_squared_error(y_test, y_pred)"
   ]
  },
  {
   "cell_type": "code",
   "execution_count": 109,
   "id": "9851e985",
   "metadata": {},
   "outputs": [
    {
     "name": "stdout",
     "output_type": "stream",
     "text": [
      " 1/30 [>.............................] - ETA: 0s"
     ]
    },
    {
     "name": "stdout",
     "output_type": "stream",
     "text": [
      "30/30 [==============================] - 0s 377us/step\n"
     ]
    },
    {
     "data": {
      "text/plain": [
       "15.306355517953232"
      ]
     },
     "execution_count": 109,
     "metadata": {},
     "output_type": "execute_result"
    }
   ],
   "source": [
    "mean_squared_error(y_train, ann.predict(X_train))"
   ]
  },
  {
   "cell_type": "code",
   "execution_count": 110,
   "id": "7b8a7908",
   "metadata": {},
   "outputs": [
    {
     "data": {
      "text/plain": [
       "0.9988565957967575"
      ]
     },
     "execution_count": 110,
     "metadata": {},
     "output_type": "execute_result"
    }
   ],
   "source": [
    "r2_score(y_test, y_pred)"
   ]
  },
  {
   "cell_type": "code",
   "execution_count": 111,
   "id": "f67f2e3c",
   "metadata": {},
   "outputs": [
    {
     "name": "stdout",
     "output_type": "stream",
     "text": [
      " 1/30 [>.............................] - ETA: 0s"
     ]
    },
    {
     "name": "stdout",
     "output_type": "stream",
     "text": [
      "30/30 [==============================] - 0s 373us/step\n"
     ]
    },
    {
     "data": {
      "text/plain": [
       "0.9988958212667901"
      ]
     },
     "execution_count": 111,
     "metadata": {},
     "output_type": "execute_result"
    }
   ],
   "source": [
    "r2_score(y_train, ann.predict(X_train))"
   ]
  },
  {
   "cell_type": "code",
   "execution_count": 112,
   "id": "52fa49e5",
   "metadata": {},
   "outputs": [
    {
     "data": {
      "text/plain": [
       "2.9569763922619057"
      ]
     },
     "execution_count": 112,
     "metadata": {},
     "output_type": "execute_result"
    }
   ],
   "source": [
    "mean_absolute_error(y_test, y_pred)"
   ]
  },
  {
   "cell_type": "markdown",
   "id": "03161323",
   "metadata": {},
   "source": [
    "##### Plotting a scatter for the predictions"
   ]
  },
  {
   "cell_type": "code",
   "execution_count": 113,
   "id": "f4c9c5c5",
   "metadata": {},
   "outputs": [
    {
     "data": {
      "text/plain": [
       "<Axes: xlabel='Close'>"
      ]
     },
     "execution_count": 113,
     "metadata": {},
     "output_type": "execute_result"
    },
    {
     "data": {
      "image/png": "[encoded data removed]",
      "text/plain": [
       "<Figure size 640x480 with 1 Axes>"
      ]
     },
     "metadata": {},
     "output_type": "display_data"
    }
   ],
   "source": [
    "sns.scatterplot(x = y_test, y = y_pred.flatten())"
   ]
  },
  {
   "cell_type": "markdown",
   "id": "b088d976",
   "metadata": {},
   "source": [
    "This in a kind of evidence showing that the model is performing well for the given task. "
   ]
  },
  {
   "cell_type": "markdown",
   "id": "24bca346",
   "metadata": {},
   "source": [
    "##### Plotting residuals"
   ]
  },
  {
   "cell_type": "code",
   "execution_count": 114,
   "id": "80130fe0",
   "metadata": {},
   "outputs": [
    {
     "data": {
      "text/plain": [
       "520    -0.311340\n",
       "405     5.509064\n",
       "1197    1.749085\n",
       "846    -5.201172\n",
       "552     0.798431\n",
       "          ...   \n",
       "343     9.103515\n",
       "122    -0.859772\n",
       "1080   -0.195801\n",
       "899    -3.353836\n",
       "490    -6.064392\n",
       "Name: Close, Length: 315, dtype: float64"
      ]
     },
     "execution_count": 114,
     "metadata": {},
     "output_type": "execute_result"
    }
   ],
   "source": [
    "residuals = y_test - y_pred.flatten() \n",
    "residuals"
   ]
  },
  {
   "cell_type": "code",
   "execution_count": 115,
   "id": "d4101969",
   "metadata": {},
   "outputs": [
    {
     "data": {
      "text/plain": [
       "<seaborn.axisgrid.FacetGrid at 0x296b706d0>"
      ]
     },
     "execution_count": 115,
     "metadata": {},
     "output_type": "execute_result"
    },
    {
     "data": {
      "image/png": "[encoded data removed]",
      "text/plain": [
       "<Figure size 500x500 with 1 Axes>"
      ]
     },
     "metadata": {},
     "output_type": "display_data"
    }
   ],
   "source": [
    "sns.displot(residuals, kind = 'kde')"
   ]
  },
  {
   "cell_type": "markdown",
   "id": "e5920909",
   "metadata": {},
   "source": [
    "#### pickle the model file for deployment"
   ]
  },
  {
   "cell_type": "code",
   "execution_count": 116,
   "id": "1555f535",
   "metadata": {},
   "outputs": [
    {
     "name": "stderr",
     "output_type": "stream",
     "text": [
      "/Users/nithinkore/Documents/GitHub/NetflixSPPredE2E/NetflixStockPricePrediction/venv/lib/python3.11/site-packages/keras/src/engine/training.py:3103: UserWarning: You are saving your model as an HDF5 file via `model.save()`. This file format is considered legacy. We recommend using instead the native Keras format, e.g. `model.save('my_model.keras')`.\n",
      "  saving_api.save_model(\n"
     ]
    }
   ],
   "source": [
    "# pickle.dump(ann, open(\"ann_model.pkl\", \"wb\"))\n",
    "\n",
    "ann.save(\"ann_model.h5\")"
   ]
  },
  {
   "cell_type": "code",
   "execution_count": 117,
   "id": "95b54819",
   "metadata": {},
   "outputs": [],
   "source": [
    "loaded_model = load_model('ann_model.h5')"
   ]
  },
  {
   "cell_type": "code",
   "execution_count": 118,
   "id": "d1798298",
   "metadata": {},
   "outputs": [
    {
     "name": "stdout",
     "output_type": "stream",
     "text": [
      "10/10 [==============================] - 0s 364us/step\n"
     ]
    },
    {
     "data": {
      "text/plain": [
       "array([[518.33136],\n",
       "       [477.37094],\n",
       "       [464.16092],\n",
       "       [184.80118],\n",
       "       [505.72156],\n",
       "       [290.77933],\n",
       "       [498.87015],\n",
       "       [477.5847 ],\n",
       "       [300.18427],\n",
       "       [483.79395],\n",
       "       [331.17184],\n",
       "       [472.92496],\n",
       "       [339.7089 ],\n",
       "       [340.1559 ],\n",
       "       [365.13455],\n",
       "       [418.619  ],\n",
       "       [321.77963],\n",
       "       [223.76959],\n",
       "       [320.41165],\n",
       "       [362.1482 ],\n",
       "       [338.1924 ],\n",
       "       [356.50604],\n",
       "       [529.66833],\n",
       "       [431.77097],\n",
       "       [360.33072],\n",
       "       [272.94092],\n",
       "       [391.1018 ],\n",
       "       [646.59937],\n",
       "       [433.99817],\n",
       "       [332.45053],\n",
       "       [450.70462],\n",
       "       [529.0236 ],\n",
       "       [363.08002],\n",
       "       [333.03748],\n",
       "       [437.03275],\n",
       "       [187.74896],\n",
       "       [485.7888 ],\n",
       "       [446.72046],\n",
       "       [353.06998],\n",
       "       [488.5682 ],\n",
       "       [177.29561],\n",
       "       [340.28677],\n",
       "       [355.2733 ],\n",
       "       [510.38898],\n",
       "       [511.90005],\n",
       "       [492.22385],\n",
       "       [550.8451 ],\n",
       "       [413.86844],\n",
       "       [488.31796],\n",
       "       [525.6475 ],\n",
       "       [380.0488 ],\n",
       "       [186.218  ],\n",
       "       [485.42136],\n",
       "       [257.92496],\n",
       "       [493.87076],\n",
       "       [501.7379 ],\n",
       "       [348.2618 ],\n",
       "       [491.50327],\n",
       "       [240.21487],\n",
       "       [184.13632],\n",
       "       [499.0765 ],\n",
       "       [550.2178 ],\n",
       "       [286.91052],\n",
       "       [341.50162],\n",
       "       [311.24765],\n",
       "       [412.97388],\n",
       "       [293.35324],\n",
       "       [319.43576],\n",
       "       [179.55339],\n",
       "       [195.90836],\n",
       "       [423.30527],\n",
       "       [227.22205],\n",
       "       [685.35895],\n",
       "       [484.0978 ],\n",
       "       [448.66754],\n",
       "       [453.53214],\n",
       "       [479.3033 ],\n",
       "       [327.69675],\n",
       "       [547.4281 ],\n",
       "       [419.1749 ],\n",
       "       [551.54004],\n",
       "       [381.57864],\n",
       "       [347.14532],\n",
       "       [370.8842 ],\n",
       "       [326.68295],\n",
       "       [345.19427],\n",
       "       [434.69666],\n",
       "       [355.9006 ],\n",
       "       [363.84232],\n",
       "       [413.53262],\n",
       "       [390.08804],\n",
       "       [272.19037],\n",
       "       [587.85046],\n",
       "       [471.35782],\n",
       "       [428.6932 ],\n",
       "       [418.3352 ],\n",
       "       [359.89865],\n",
       "       [441.58273],\n",
       "       [371.8425 ],\n",
       "       [413.96207],\n",
       "       [572.4586 ],\n",
       "       [414.25204],\n",
       "       [542.06573],\n",
       "       [480.9357 ],\n",
       "       [407.36227],\n",
       "       [302.49347],\n",
       "       [374.6575 ],\n",
       "       [536.96936],\n",
       "       [491.75156],\n",
       "       [528.6006 ],\n",
       "       [359.81668],\n",
       "       [477.84555],\n",
       "       [494.84604],\n",
       "       [606.6601 ],\n",
       "       [507.21826],\n",
       "       [547.13354],\n",
       "       [379.25626],\n",
       "       [297.47253],\n",
       "       [667.667  ],\n",
       "       [511.1099 ],\n",
       "       [309.21722],\n",
       "       [507.16666],\n",
       "       [468.21255],\n",
       "       [195.39088],\n",
       "       [355.24606],\n",
       "       [357.30228],\n",
       "       [282.8159 ],\n",
       "       [173.84338],\n",
       "       [590.4353 ],\n",
       "       [433.8905 ],\n",
       "       [342.83963],\n",
       "       [522.4342 ],\n",
       "       [423.38916],\n",
       "       [575.0493 ],\n",
       "       [448.36465],\n",
       "       [534.08527],\n",
       "       [543.91516],\n",
       "       [481.40445],\n",
       "       [503.27158],\n",
       "       [488.4973 ],\n",
       "       [484.5828 ],\n",
       "       [528.66003],\n",
       "       [543.72327],\n",
       "       [359.12094],\n",
       "       [660.5419 ],\n",
       "       [278.2389 ],\n",
       "       [507.01974],\n",
       "       [377.80896],\n",
       "       [291.08975],\n",
       "       [555.65356],\n",
       "       [268.49716],\n",
       "       [281.16757],\n",
       "       [434.637  ],\n",
       "       [296.7323 ],\n",
       "       [422.64487],\n",
       "       [376.55817],\n",
       "       [364.1253 ],\n",
       "       [378.2623 ],\n",
       "       [367.5496 ],\n",
       "       [480.928  ],\n",
       "       [188.06793],\n",
       "       [305.9951 ],\n",
       "       [515.84045],\n",
       "       [514.26306],\n",
       "       [381.82272],\n",
       "       [405.3041 ],\n",
       "       [551.1001 ],\n",
       "       [271.07074],\n",
       "       [358.93045],\n",
       "       [465.68027],\n",
       "       [655.72064],\n",
       "       [358.31668],\n",
       "       [441.7157 ],\n",
       "       [415.6966 ],\n",
       "       [262.1519 ],\n",
       "       [499.5789 ],\n",
       "       [552.475  ],\n",
       "       [342.28317],\n",
       "       [402.41037],\n",
       "       [562.56116],\n",
       "       [184.97589],\n",
       "       [558.85565],\n",
       "       [240.69128],\n",
       "       [533.93915],\n",
       "       [323.45056],\n",
       "       [550.32947],\n",
       "       [299.59018],\n",
       "       [405.4479 ],\n",
       "       [363.99295],\n",
       "       [378.83   ],\n",
       "       [610.3784 ],\n",
       "       [236.69774],\n",
       "       [275.56036],\n",
       "       [528.2073 ],\n",
       "       [349.87723],\n",
       "       [305.63913],\n",
       "       [350.15854],\n",
       "       [368.03506],\n",
       "       [549.3469 ],\n",
       "       [338.93204],\n",
       "       [409.58463],\n",
       "       [324.40488],\n",
       "       [475.51657],\n",
       "       [487.95187],\n",
       "       [196.89647],\n",
       "       [529.5495 ],\n",
       "       [383.92618],\n",
       "       [333.08344],\n",
       "       [283.26752],\n",
       "       [585.91595],\n",
       "       [377.21506],\n",
       "       [303.78714],\n",
       "       [293.84943],\n",
       "       [545.25836],\n",
       "       [417.34653],\n",
       "       [395.37253],\n",
       "       [492.18448],\n",
       "       [278.24283],\n",
       "       [288.87173],\n",
       "       [486.52975],\n",
       "       [565.0071 ],\n",
       "       [498.6895 ],\n",
       "       [225.15509],\n",
       "       [498.14352],\n",
       "       [495.04486],\n",
       "       [415.92297],\n",
       "       [602.88916],\n",
       "       [340.36508],\n",
       "       [347.53665],\n",
       "       [293.2928 ],\n",
       "       [367.8392 ],\n",
       "       [532.6398 ],\n",
       "       [366.34857],\n",
       "       [334.50748],\n",
       "       [545.99347],\n",
       "       [347.4723 ],\n",
       "       [424.74332],\n",
       "       [284.95953],\n",
       "       [364.78555],\n",
       "       [526.2124 ],\n",
       "       [222.1896 ],\n",
       "       [406.1672 ],\n",
       "       [603.812  ],\n",
       "       [381.9194 ],\n",
       "       [284.16534],\n",
       "       [418.5345 ],\n",
       "       [220.02736],\n",
       "       [371.08542],\n",
       "       [327.99442],\n",
       "       [345.54675],\n",
       "       [389.28415],\n",
       "       [337.228  ],\n",
       "       [310.07834],\n",
       "       [628.5105 ],\n",
       "       [302.15417],\n",
       "       [429.07077],\n",
       "       [354.9524 ],\n",
       "       [329.9416 ],\n",
       "       [293.02853],\n",
       "       [519.3983 ],\n",
       "       [469.22318],\n",
       "       [536.09454],\n",
       "       [510.9816 ],\n",
       "       [383.7238 ],\n",
       "       [343.53226],\n",
       "       [610.14545],\n",
       "       [491.17258],\n",
       "       [288.57712],\n",
       "       [543.4714 ],\n",
       "       [346.97354],\n",
       "       [372.22372],\n",
       "       [176.27893],\n",
       "       [436.77258],\n",
       "       [500.56735],\n",
       "       [491.34634],\n",
       "       [605.82513],\n",
       "       [374.49863],\n",
       "       [529.43427],\n",
       "       [534.6183 ],\n",
       "       [342.1001 ],\n",
       "       [470.18637],\n",
       "       [470.12253],\n",
       "       [500.4274 ],\n",
       "       [610.35315],\n",
       "       [603.04736],\n",
       "       [500.9874 ],\n",
       "       [494.50504],\n",
       "       [173.31342],\n",
       "       [300.4263 ],\n",
       "       [503.7971 ],\n",
       "       [634.9252 ],\n",
       "       [365.58353],\n",
       "       [654.876  ],\n",
       "       [416.84305],\n",
       "       [489.26788],\n",
       "       [225.32306],\n",
       "       [356.23465],\n",
       "       [542.18384],\n",
       "       [352.8328 ],\n",
       "       [322.0051 ],\n",
       "       [314.77243],\n",
       "       [376.2902 ],\n",
       "       [334.86203],\n",
       "       [453.6202 ],\n",
       "       [365.25443],\n",
       "       [552.1654 ],\n",
       "       [438.88647],\n",
       "       [317.57224],\n",
       "       [336.93234],\n",
       "       [484.68936],\n",
       "       [438.13647],\n",
       "       [313.13977],\n",
       "       [400.6658 ],\n",
       "       [221.48384],\n",
       "       [544.66437]], dtype=float32)"
      ]
     },
     "execution_count": 118,
     "metadata": {},
     "output_type": "execute_result"
    }
   ],
   "source": [
    "loaded_model.predict(X_test)"
   ]
  },
  {
   "cell_type": "code",
   "execution_count": null,
   "id": "8068c9e5",
   "metadata": {},
   "outputs": [],
   "source": []
  }
 ],
 "metadata": {
  "kernelspec": {
   "display_name": "Python 3 (ipykernel)",
   "language": "python",
   "name": "python3"
  },
  "language_info": {
   "codemirror_mode": {
    "name": "ipython",
    "version": 3
   },
   "file_extension": ".py",
   "mimetype": "text/x-python",
   "name": "python",
   "nbconvert_exporter": "python",
   "pygments_lexer": "ipython3",
   "version": "3.11.0"
  }
 },
 "nbformat": 4,
 "nbformat_minor": 5
}

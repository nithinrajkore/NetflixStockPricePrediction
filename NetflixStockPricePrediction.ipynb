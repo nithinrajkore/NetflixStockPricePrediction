{
 "cells": [
  {
   "cell_type": "markdown",
   "id": "17b63802",
   "metadata": {},
   "source": [
    "#### Import Required Packages"
   ]
  },
  {
   "cell_type": "code",
   "execution_count": 73,
   "id": "f2afc63a",
   "metadata": {},
   "outputs": [],
   "source": [
    "import numpy as np\n",
    "import pandas as pd\n",
    "import matplotlib.pyplot as plt\n",
    "import seaborn as sns\n",
    "\n",
    "from sklearn.model_selection import train_test_split\n",
    "from sklearn.preprocessing import StandardScaler\n",
    "\n",
    "from sklearn.linear_model import LinearRegression\n",
    "from sklearn.svm import SVR\n",
    "\n",
    "from sklearn.metrics import mean_squared_error, r2_score, mean_absolute_error\n",
    "\n",
    "\n",
    "import tensorflow as tf\n",
    "from tensorflow.keras.models import load_model, save_model\n",
    "\n",
    "import pickle\n"
   ]
  },
  {
   "cell_type": "markdown",
   "id": "e8462c74",
   "metadata": {},
   "source": [
    "#### Loading the dataset"
   ]
  },
  {
   "cell_type": "code",
   "execution_count": 74,
   "id": "aa92f39e",
   "metadata": {},
   "outputs": [
    {
     "data": {
      "text/html": [
       "<div>\n",
       "<style scoped>\n",
       "    .dataframe tbody tr th:only-of-type {\n",
       "        vertical-align: middle;\n",
       "    }\n",
       "\n",
       "    .dataframe tbody tr th {\n",
       "        vertical-align: top;\n",
       "    }\n",
       "\n",
       "    .dataframe thead th {\n",
       "        text-align: right;\n",
       "    }\n",
       "</style>\n",
       "<table border=\"1\" class=\"dataframe\">\n",
       "  <thead>\n",
       "    <tr style=\"text-align: right;\">\n",
       "      <th></th>\n",
       "      <th>Date</th>\n",
       "      <th>Open</th>\n",
       "      <th>High</th>\n",
       "      <th>Low</th>\n",
       "      <th>Close</th>\n",
       "      <th>Adj Close</th>\n",
       "      <th>Volume</th>\n",
       "    </tr>\n",
       "  </thead>\n",
       "  <tbody>\n",
       "    <tr>\n",
       "      <th>0</th>\n",
       "      <td>2018-02-05</td>\n",
       "      <td>262.000000</td>\n",
       "      <td>267.899994</td>\n",
       "      <td>250.029999</td>\n",
       "      <td>254.259995</td>\n",
       "      <td>254.259995</td>\n",
       "      <td>11896100</td>\n",
       "    </tr>\n",
       "    <tr>\n",
       "      <th>1</th>\n",
       "      <td>2018-02-06</td>\n",
       "      <td>247.699997</td>\n",
       "      <td>266.700012</td>\n",
       "      <td>245.000000</td>\n",
       "      <td>265.720001</td>\n",
       "      <td>265.720001</td>\n",
       "      <td>12595800</td>\n",
       "    </tr>\n",
       "    <tr>\n",
       "      <th>2</th>\n",
       "      <td>2018-02-07</td>\n",
       "      <td>266.579987</td>\n",
       "      <td>272.450012</td>\n",
       "      <td>264.329987</td>\n",
       "      <td>264.559998</td>\n",
       "      <td>264.559998</td>\n",
       "      <td>8981500</td>\n",
       "    </tr>\n",
       "    <tr>\n",
       "      <th>3</th>\n",
       "      <td>2018-02-08</td>\n",
       "      <td>267.079987</td>\n",
       "      <td>267.619995</td>\n",
       "      <td>250.000000</td>\n",
       "      <td>250.100006</td>\n",
       "      <td>250.100006</td>\n",
       "      <td>9306700</td>\n",
       "    </tr>\n",
       "    <tr>\n",
       "      <th>4</th>\n",
       "      <td>2018-02-09</td>\n",
       "      <td>253.850006</td>\n",
       "      <td>255.800003</td>\n",
       "      <td>236.110001</td>\n",
       "      <td>249.470001</td>\n",
       "      <td>249.470001</td>\n",
       "      <td>16906900</td>\n",
       "    </tr>\n",
       "  </tbody>\n",
       "</table>\n",
       "</div>"
      ],
      "text/plain": [
       "         Date        Open        High         Low       Close   Adj Close  \\\n",
       "0  2018-02-05  262.000000  267.899994  250.029999  254.259995  254.259995   \n",
       "1  2018-02-06  247.699997  266.700012  245.000000  265.720001  265.720001   \n",
       "2  2018-02-07  266.579987  272.450012  264.329987  264.559998  264.559998   \n",
       "3  2018-02-08  267.079987  267.619995  250.000000  250.100006  250.100006   \n",
       "4  2018-02-09  253.850006  255.800003  236.110001  249.470001  249.470001   \n",
       "\n",
       "     Volume  \n",
       "0  11896100  \n",
       "1  12595800  \n",
       "2   8981500  \n",
       "3   9306700  \n",
       "4  16906900  "
      ]
     },
     "execution_count": 74,
     "metadata": {},
     "output_type": "execute_result"
    }
   ],
   "source": [
    "dataset = pd.read_csv('NFLX.csv')\n",
    "dataset.head()"
   ]
  },
  {
   "cell_type": "code",
   "execution_count": 75,
   "id": "b24d0837",
   "metadata": {},
   "outputs": [
    {
     "data": {
      "text/html": [
       "<div>\n",
       "<style scoped>\n",
       "    .dataframe tbody tr th:only-of-type {\n",
       "        vertical-align: middle;\n",
       "    }\n",
       "\n",
       "    .dataframe tbody tr th {\n",
       "        vertical-align: top;\n",
       "    }\n",
       "\n",
       "    .dataframe thead th {\n",
       "        text-align: right;\n",
       "    }\n",
       "</style>\n",
       "<table border=\"1\" class=\"dataframe\">\n",
       "  <thead>\n",
       "    <tr style=\"text-align: right;\">\n",
       "      <th></th>\n",
       "      <th>Date</th>\n",
       "      <th>Open</th>\n",
       "      <th>High</th>\n",
       "      <th>Low</th>\n",
       "      <th>Close</th>\n",
       "      <th>Adj Close</th>\n",
       "      <th>Volume</th>\n",
       "    </tr>\n",
       "  </thead>\n",
       "  <tbody>\n",
       "    <tr>\n",
       "      <th>1004</th>\n",
       "      <td>2022-01-31</td>\n",
       "      <td>401.970001</td>\n",
       "      <td>427.700012</td>\n",
       "      <td>398.200012</td>\n",
       "      <td>427.140015</td>\n",
       "      <td>427.140015</td>\n",
       "      <td>20047500</td>\n",
       "    </tr>\n",
       "    <tr>\n",
       "      <th>1005</th>\n",
       "      <td>2022-02-01</td>\n",
       "      <td>432.959991</td>\n",
       "      <td>458.480011</td>\n",
       "      <td>425.540009</td>\n",
       "      <td>457.130005</td>\n",
       "      <td>457.130005</td>\n",
       "      <td>22542300</td>\n",
       "    </tr>\n",
       "    <tr>\n",
       "      <th>1006</th>\n",
       "      <td>2022-02-02</td>\n",
       "      <td>448.250000</td>\n",
       "      <td>451.980011</td>\n",
       "      <td>426.480011</td>\n",
       "      <td>429.480011</td>\n",
       "      <td>429.480011</td>\n",
       "      <td>14346000</td>\n",
       "    </tr>\n",
       "    <tr>\n",
       "      <th>1007</th>\n",
       "      <td>2022-02-03</td>\n",
       "      <td>421.440002</td>\n",
       "      <td>429.260010</td>\n",
       "      <td>404.279999</td>\n",
       "      <td>405.600006</td>\n",
       "      <td>405.600006</td>\n",
       "      <td>9905200</td>\n",
       "    </tr>\n",
       "    <tr>\n",
       "      <th>1008</th>\n",
       "      <td>2022-02-04</td>\n",
       "      <td>407.309998</td>\n",
       "      <td>412.769989</td>\n",
       "      <td>396.640015</td>\n",
       "      <td>410.170013</td>\n",
       "      <td>410.170013</td>\n",
       "      <td>7782400</td>\n",
       "    </tr>\n",
       "  </tbody>\n",
       "</table>\n",
       "</div>"
      ],
      "text/plain": [
       "            Date        Open        High         Low       Close   Adj Close  \\\n",
       "1004  2022-01-31  401.970001  427.700012  398.200012  427.140015  427.140015   \n",
       "1005  2022-02-01  432.959991  458.480011  425.540009  457.130005  457.130005   \n",
       "1006  2022-02-02  448.250000  451.980011  426.480011  429.480011  429.480011   \n",
       "1007  2022-02-03  421.440002  429.260010  404.279999  405.600006  405.600006   \n",
       "1008  2022-02-04  407.309998  412.769989  396.640015  410.170013  410.170013   \n",
       "\n",
       "        Volume  \n",
       "1004  20047500  \n",
       "1005  22542300  \n",
       "1006  14346000  \n",
       "1007   9905200  \n",
       "1008   7782400  "
      ]
     },
     "execution_count": 75,
     "metadata": {},
     "output_type": "execute_result"
    }
   ],
   "source": [
    "dataset.tail()"
   ]
  },
  {
   "cell_type": "markdown",
   "id": "bdba1ec9",
   "metadata": {},
   "source": [
    "#### Dataset Meta Data Information"
   ]
  },
  {
   "cell_type": "code",
   "execution_count": 7,
   "id": "6fc85e3b",
   "metadata": {},
   "outputs": [
    {
     "name": "stdout",
     "output_type": "stream",
     "text": [
      "<class 'pandas.core.frame.DataFrame'>\n",
      "RangeIndex: 1009 entries, 0 to 1008\n",
      "Data columns (total 7 columns):\n",
      " #   Column     Non-Null Count  Dtype  \n",
      "---  ------     --------------  -----  \n",
      " 0   Date       1009 non-null   object \n",
      " 1   Open       1009 non-null   float64\n",
      " 2   High       1009 non-null   float64\n",
      " 3   Low        1009 non-null   float64\n",
      " 4   Close      1009 non-null   float64\n",
      " 5   Adj Close  1009 non-null   float64\n",
      " 6   Volume     1009 non-null   int64  \n",
      "dtypes: float64(5), int64(1), object(1)\n",
      "memory usage: 55.3+ KB\n",
      "None\n"
     ]
    }
   ],
   "source": [
    "print(dataset.info())"
   ]
  },
  {
   "cell_type": "markdown",
   "id": "d28c1d4f",
   "metadata": {},
   "source": [
    "#### Check for any nulls in the dataset"
   ]
  },
  {
   "cell_type": "code",
   "execution_count": 8,
   "id": "991becb2",
   "metadata": {},
   "outputs": [
    {
     "data": {
      "text/plain": [
       "Date         0\n",
       "Open         0\n",
       "High         0\n",
       "Low          0\n",
       "Close        0\n",
       "Adj Close    0\n",
       "Volume       0\n",
       "dtype: int64"
      ]
     },
     "execution_count": 8,
     "metadata": {},
     "output_type": "execute_result"
    }
   ],
   "source": [
    "dataset.isnull().sum()"
   ]
  },
  {
   "cell_type": "markdown",
   "id": "830b1b8c",
   "metadata": {},
   "source": [
    "There are no nulls in the dataset"
   ]
  },
  {
   "cell_type": "markdown",
   "id": "85ad34dd",
   "metadata": {},
   "source": [
    "#### Statisctical information "
   ]
  },
  {
   "cell_type": "code",
   "execution_count": 9,
   "id": "9f089212",
   "metadata": {},
   "outputs": [
    {
     "data": {
      "text/html": [
       "<div>\n",
       "<style scoped>\n",
       "    .dataframe tbody tr th:only-of-type {\n",
       "        vertical-align: middle;\n",
       "    }\n",
       "\n",
       "    .dataframe tbody tr th {\n",
       "        vertical-align: top;\n",
       "    }\n",
       "\n",
       "    .dataframe thead th {\n",
       "        text-align: right;\n",
       "    }\n",
       "</style>\n",
       "<table border=\"1\" class=\"dataframe\">\n",
       "  <thead>\n",
       "    <tr style=\"text-align: right;\">\n",
       "      <th></th>\n",
       "      <th>Open</th>\n",
       "      <th>High</th>\n",
       "      <th>Low</th>\n",
       "      <th>Close</th>\n",
       "      <th>Adj Close</th>\n",
       "      <th>Volume</th>\n",
       "    </tr>\n",
       "  </thead>\n",
       "  <tbody>\n",
       "    <tr>\n",
       "      <th>count</th>\n",
       "      <td>1009.000000</td>\n",
       "      <td>1009.000000</td>\n",
       "      <td>1009.000000</td>\n",
       "      <td>1009.000000</td>\n",
       "      <td>1009.000000</td>\n",
       "      <td>1.009000e+03</td>\n",
       "    </tr>\n",
       "    <tr>\n",
       "      <th>mean</th>\n",
       "      <td>419.059673</td>\n",
       "      <td>425.320703</td>\n",
       "      <td>412.374044</td>\n",
       "      <td>419.000733</td>\n",
       "      <td>419.000733</td>\n",
       "      <td>7.570685e+06</td>\n",
       "    </tr>\n",
       "    <tr>\n",
       "      <th>std</th>\n",
       "      <td>108.537532</td>\n",
       "      <td>109.262960</td>\n",
       "      <td>107.555867</td>\n",
       "      <td>108.289999</td>\n",
       "      <td>108.289999</td>\n",
       "      <td>5.465535e+06</td>\n",
       "    </tr>\n",
       "    <tr>\n",
       "      <th>min</th>\n",
       "      <td>233.919998</td>\n",
       "      <td>250.649994</td>\n",
       "      <td>231.229996</td>\n",
       "      <td>233.880005</td>\n",
       "      <td>233.880005</td>\n",
       "      <td>1.144000e+06</td>\n",
       "    </tr>\n",
       "    <tr>\n",
       "      <th>25%</th>\n",
       "      <td>331.489990</td>\n",
       "      <td>336.299988</td>\n",
       "      <td>326.000000</td>\n",
       "      <td>331.619995</td>\n",
       "      <td>331.619995</td>\n",
       "      <td>4.091900e+06</td>\n",
       "    </tr>\n",
       "    <tr>\n",
       "      <th>50%</th>\n",
       "      <td>377.769989</td>\n",
       "      <td>383.010010</td>\n",
       "      <td>370.880005</td>\n",
       "      <td>378.670013</td>\n",
       "      <td>378.670013</td>\n",
       "      <td>5.934500e+06</td>\n",
       "    </tr>\n",
       "    <tr>\n",
       "      <th>75%</th>\n",
       "      <td>509.130005</td>\n",
       "      <td>515.630005</td>\n",
       "      <td>502.529999</td>\n",
       "      <td>509.079987</td>\n",
       "      <td>509.079987</td>\n",
       "      <td>9.322400e+06</td>\n",
       "    </tr>\n",
       "    <tr>\n",
       "      <th>max</th>\n",
       "      <td>692.349976</td>\n",
       "      <td>700.989990</td>\n",
       "      <td>686.090027</td>\n",
       "      <td>691.690002</td>\n",
       "      <td>691.690002</td>\n",
       "      <td>5.890430e+07</td>\n",
       "    </tr>\n",
       "  </tbody>\n",
       "</table>\n",
       "</div>"
      ],
      "text/plain": [
       "              Open         High          Low        Close    Adj Close  \\\n",
       "count  1009.000000  1009.000000  1009.000000  1009.000000  1009.000000   \n",
       "mean    419.059673   425.320703   412.374044   419.000733   419.000733   \n",
       "std     108.537532   109.262960   107.555867   108.289999   108.289999   \n",
       "min     233.919998   250.649994   231.229996   233.880005   233.880005   \n",
       "25%     331.489990   336.299988   326.000000   331.619995   331.619995   \n",
       "50%     377.769989   383.010010   370.880005   378.670013   378.670013   \n",
       "75%     509.130005   515.630005   502.529999   509.079987   509.079987   \n",
       "max     692.349976   700.989990   686.090027   691.690002   691.690002   \n",
       "\n",
       "             Volume  \n",
       "count  1.009000e+03  \n",
       "mean   7.570685e+06  \n",
       "std    5.465535e+06  \n",
       "min    1.144000e+06  \n",
       "25%    4.091900e+06  \n",
       "50%    5.934500e+06  \n",
       "75%    9.322400e+06  \n",
       "max    5.890430e+07  "
      ]
     },
     "execution_count": 9,
     "metadata": {},
     "output_type": "execute_result"
    }
   ],
   "source": [
    "dataset.describe()"
   ]
  },
  {
   "cell_type": "markdown",
   "id": "b71fc5b5",
   "metadata": {},
   "source": [
    "#### EDA"
   ]
  },
  {
   "cell_type": "code",
   "execution_count": 10,
   "id": "cff6c809",
   "metadata": {},
   "outputs": [
    {
     "data": {
      "text/html": [
       "<div>\n",
       "<style scoped>\n",
       "    .dataframe tbody tr th:only-of-type {\n",
       "        vertical-align: middle;\n",
       "    }\n",
       "\n",
       "    .dataframe tbody tr th {\n",
       "        vertical-align: top;\n",
       "    }\n",
       "\n",
       "    .dataframe thead th {\n",
       "        text-align: right;\n",
       "    }\n",
       "</style>\n",
       "<table border=\"1\" class=\"dataframe\">\n",
       "  <thead>\n",
       "    <tr style=\"text-align: right;\">\n",
       "      <th></th>\n",
       "      <th>Open</th>\n",
       "      <th>High</th>\n",
       "      <th>Low</th>\n",
       "      <th>Close</th>\n",
       "      <th>Adj Close</th>\n",
       "      <th>Volume</th>\n",
       "    </tr>\n",
       "  </thead>\n",
       "  <tbody>\n",
       "    <tr>\n",
       "      <th>Open</th>\n",
       "      <td>1.000000</td>\n",
       "      <td>0.998605</td>\n",
       "      <td>0.998508</td>\n",
       "      <td>0.996812</td>\n",
       "      <td>0.996812</td>\n",
       "      <td>-0.415838</td>\n",
       "    </tr>\n",
       "    <tr>\n",
       "      <th>High</th>\n",
       "      <td>0.998605</td>\n",
       "      <td>1.000000</td>\n",
       "      <td>0.998203</td>\n",
       "      <td>0.998551</td>\n",
       "      <td>0.998551</td>\n",
       "      <td>-0.400699</td>\n",
       "    </tr>\n",
       "    <tr>\n",
       "      <th>Low</th>\n",
       "      <td>0.998508</td>\n",
       "      <td>0.998203</td>\n",
       "      <td>1.000000</td>\n",
       "      <td>0.998544</td>\n",
       "      <td>0.998544</td>\n",
       "      <td>-0.432116</td>\n",
       "    </tr>\n",
       "    <tr>\n",
       "      <th>Close</th>\n",
       "      <td>0.996812</td>\n",
       "      <td>0.998551</td>\n",
       "      <td>0.998544</td>\n",
       "      <td>1.000000</td>\n",
       "      <td>1.000000</td>\n",
       "      <td>-0.413362</td>\n",
       "    </tr>\n",
       "    <tr>\n",
       "      <th>Adj Close</th>\n",
       "      <td>0.996812</td>\n",
       "      <td>0.998551</td>\n",
       "      <td>0.998544</td>\n",
       "      <td>1.000000</td>\n",
       "      <td>1.000000</td>\n",
       "      <td>-0.413362</td>\n",
       "    </tr>\n",
       "    <tr>\n",
       "      <th>Volume</th>\n",
       "      <td>-0.415838</td>\n",
       "      <td>-0.400699</td>\n",
       "      <td>-0.432116</td>\n",
       "      <td>-0.413362</td>\n",
       "      <td>-0.413362</td>\n",
       "      <td>1.000000</td>\n",
       "    </tr>\n",
       "  </tbody>\n",
       "</table>\n",
       "</div>"
      ],
      "text/plain": [
       "               Open      High       Low     Close  Adj Close    Volume\n",
       "Open       1.000000  0.998605  0.998508  0.996812   0.996812 -0.415838\n",
       "High       0.998605  1.000000  0.998203  0.998551   0.998551 -0.400699\n",
       "Low        0.998508  0.998203  1.000000  0.998544   0.998544 -0.432116\n",
       "Close      0.996812  0.998551  0.998544  1.000000   1.000000 -0.413362\n",
       "Adj Close  0.996812  0.998551  0.998544  1.000000   1.000000 -0.413362\n",
       "Volume    -0.415838 -0.400699 -0.432116 -0.413362  -0.413362  1.000000"
      ]
     },
     "execution_count": 10,
     "metadata": {},
     "output_type": "execute_result"
    }
   ],
   "source": [
    "cor = dataset.iloc[:,1:].corr()\n",
    "cor"
   ]
  },
  {
   "cell_type": "code",
   "execution_count": 11,
   "id": "a7c37679",
   "metadata": {},
   "outputs": [
    {
     "data": {
      "text/plain": [
       "<Axes: >"
      ]
     },
     "execution_count": 11,
     "metadata": {},
     "output_type": "execute_result"
    },
    {
     "data": {
      "image/png": "[encoded data removed]",
      "text/plain": [
       "<Figure size 640x480 with 2 Axes>"
      ]
     },
     "metadata": {},
     "output_type": "display_data"
    }
   ],
   "source": [
    "sns.heatmap(cor)"
   ]
  },
  {
   "cell_type": "raw",
   "id": "5cb4db3f",
   "metadata": {},
   "source": [
    "The target variable is \"Close\". We see that the columns Open, High, and Low are highly correlated with the target column, indicates that there is a linear relationship b/w those features and the target variable. \n",
    "\n",
    "And also we see that Volume is having negative correlation value of -0.41, indicating some negative linear relastionship."
   ]
  },
  {
   "cell_type": "markdown",
   "id": "9305ab8e",
   "metadata": {},
   "source": [
    "##### Relation b/w Open and Close variables"
   ]
  },
  {
   "cell_type": "code",
   "execution_count": 12,
   "id": "900d25a6",
   "metadata": {},
   "outputs": [
    {
     "data": {
      "text/plain": [
       "<Axes: xlabel='Open', ylabel='Close'>"
      ]
     },
     "execution_count": 12,
     "metadata": {},
     "output_type": "execute_result"
    },
    {
     "data": {
      "image/png": "[encoded data removed]",
      "text/plain": [
       "<Figure size 640x480 with 1 Axes>"
      ]
     },
     "metadata": {},
     "output_type": "display_data"
    }
   ],
   "source": [
    "sns.scatterplot(data = dataset, \n",
    "                x= 'Open', \n",
    "                y = 'Close',\n",
    "               )"
   ]
  },
  {
   "cell_type": "markdown",
   "id": "3730216f",
   "metadata": {},
   "source": [
    "We see that as value of Open increases, the close value also increases, showing positive correlation."
   ]
  },
  {
   "cell_type": "markdown",
   "id": "34c7162b",
   "metadata": {},
   "source": [
    "##### Relation b/w High and Close Variables"
   ]
  },
  {
   "cell_type": "code",
   "execution_count": 13,
   "id": "4ef769d3",
   "metadata": {},
   "outputs": [
    {
     "data": {
      "text/plain": [
       "<Axes: xlabel='High', ylabel='Close'>"
      ]
     },
     "execution_count": 13,
     "metadata": {},
     "output_type": "execute_result"
    },
    {
     "data": {
      "image/png": "[encoded data removed]",
      "text/plain": [
       "<Figure size 640x480 with 1 Axes>"
      ]
     },
     "metadata": {},
     "output_type": "display_data"
    }
   ],
   "source": [
    "sns.scatterplot(data = dataset, \n",
    "                x= 'High', \n",
    "                y = 'Close',\n",
    "               )"
   ]
  },
  {
   "cell_type": "markdown",
   "id": "103c765e",
   "metadata": {},
   "source": [
    "We see that as value of High increases, the close value also increases, showing positive correlation."
   ]
  },
  {
   "cell_type": "markdown",
   "id": "8adfbf7c",
   "metadata": {},
   "source": [
    "##### Relation b/w Low and Close Variables"
   ]
  },
  {
   "cell_type": "code",
   "execution_count": 14,
   "id": "603c4ad0",
   "metadata": {},
   "outputs": [
    {
     "data": {
      "text/plain": [
       "<Axes: xlabel='Low', ylabel='Close'>"
      ]
     },
     "execution_count": 14,
     "metadata": {},
     "output_type": "execute_result"
    },
    {
     "data": {
      "image/png": "[encoded data removed]",
      "text/plain": [
       "<Figure size 640x480 with 1 Axes>"
      ]
     },
     "metadata": {},
     "output_type": "display_data"
    }
   ],
   "source": [
    "sns.scatterplot(data = dataset, \n",
    "                x= 'Low', \n",
    "                y = 'Close',\n",
    "               )"
   ]
  },
  {
   "cell_type": "markdown",
   "id": "15b891c1",
   "metadata": {},
   "source": [
    "We see that as value of Low increases, the close value also increases, showing positive correlation."
   ]
  },
  {
   "cell_type": "markdown",
   "id": "4cc7aca6",
   "metadata": {},
   "source": [
    "##### Relation b/w Volume and Close Variables"
   ]
  },
  {
   "cell_type": "code",
   "execution_count": 15,
   "id": "9c189f36",
   "metadata": {},
   "outputs": [
    {
     "data": {
      "text/plain": [
       "<Axes: xlabel='Volume', ylabel='Close'>"
      ]
     },
     "execution_count": 15,
     "metadata": {},
     "output_type": "execute_result"
    },
    {
     "data": {
      "image/png": "[encoded data removed]",
      "text/plain": [
       "<Figure size 640x480 with 1 Axes>"
      ]
     },
     "metadata": {},
     "output_type": "display_data"
    }
   ],
   "source": [
    "sns.scatterplot(data = dataset, \n",
    "                x= 'Volume', \n",
    "                y = 'Close',\n",
    "               )"
   ]
  },
  {
   "cell_type": "markdown",
   "id": "5f84dee2",
   "metadata": {},
   "source": [
    "As we see, most of the observations have value of close to be high at lower values of Volume, and there are only few observations at high volume region, that have low close values. This kind of behavior implies slightly negative correlation"
   ]
  },
  {
   "cell_type": "markdown",
   "id": "3f7dd2a5",
   "metadata": {},
   "source": [
    "##### Boxplot"
   ]
  },
  {
   "cell_type": "code",
   "execution_count": 16,
   "id": "16ca9f60",
   "metadata": {},
   "outputs": [
    {
     "data": {
      "text/plain": [
       "<Axes: >"
      ]
     },
     "execution_count": 16,
     "metadata": {},
     "output_type": "execute_result"
    },
    {
     "data": {
      "image/png": "[encoded data removed]",
      "text/plain": [
       "<Figure size 640x480 with 1 Axes>"
      ]
     },
     "metadata": {},
     "output_type": "display_data"
    }
   ],
   "source": [
    "sns.boxplot(data = dataset.iloc[:,:-1])"
   ]
  },
  {
   "cell_type": "markdown",
   "id": "3ede1fa5",
   "metadata": {},
   "source": [
    "And from above we see that all the variables are equally distributed, their means are close to each other."
   ]
  },
  {
   "cell_type": "markdown",
   "id": "e6a302c3",
   "metadata": {},
   "source": [
    "##### Relation b/w Open and High Variables"
   ]
  },
  {
   "cell_type": "code",
   "execution_count": 17,
   "id": "a8e59df7",
   "metadata": {},
   "outputs": [
    {
     "data": {
      "text/plain": [
       "<Axes: xlabel='Open', ylabel='High'>"
      ]
     },
     "execution_count": 17,
     "metadata": {},
     "output_type": "execute_result"
    },
    {
     "data": {
      "image/png": "[encoded data removed]",
      "text/plain": [
       "<Figure size 640x480 with 1 Axes>"
      ]
     },
     "metadata": {},
     "output_type": "display_data"
    }
   ],
   "source": [
    "sns.scatterplot(data = dataset, \n",
    "                x= 'Open', \n",
    "                y = 'High',\n",
    "               )"
   ]
  },
  {
   "cell_type": "markdown",
   "id": "779bee79",
   "metadata": {},
   "source": [
    "##### Relation b/w Open and Low Variables"
   ]
  },
  {
   "cell_type": "code",
   "execution_count": 18,
   "id": "e4ed9089",
   "metadata": {},
   "outputs": [
    {
     "data": {
      "text/plain": [
       "<Axes: xlabel='Open', ylabel='Low'>"
      ]
     },
     "execution_count": 18,
     "metadata": {},
     "output_type": "execute_result"
    },
    {
     "data": {
      "image/png": "[encoded data removed]",
      "text/plain": [
       "<Figure size 640x480 with 1 Axes>"
      ]
     },
     "metadata": {},
     "output_type": "display_data"
    }
   ],
   "source": [
    "sns.scatterplot(data = dataset, \n",
    "                x= 'Open', \n",
    "                y = 'Low',\n",
    "               )"
   ]
  },
  {
   "cell_type": "markdown",
   "id": "dd0ee59a",
   "metadata": {},
   "source": [
    "##### Relation b/w High and Low Variables"
   ]
  },
  {
   "cell_type": "code",
   "execution_count": 19,
   "id": "9aac1cdc",
   "metadata": {},
   "outputs": [
    {
     "data": {
      "text/plain": [
       "<Axes: xlabel='High', ylabel='Low'>"
      ]
     },
     "execution_count": 19,
     "metadata": {},
     "output_type": "execute_result"
    },
    {
     "data": {
      "image/png": "[encoded data removed]",
      "text/plain": [
       "<Figure size 640x480 with 1 Axes>"
      ]
     },
     "metadata": {},
     "output_type": "display_data"
    }
   ],
   "source": [
    "sns.scatterplot(data = dataset, \n",
    "                x= 'High', \n",
    "                y = 'Low',\n",
    "               )"
   ]
  },
  {
   "cell_type": "markdown",
   "id": "480af2f3",
   "metadata": {},
   "source": [
    "As we see, most of the relationships are linear."
   ]
  },
  {
   "cell_type": "markdown",
   "id": "20f83e1b",
   "metadata": {},
   "source": [
    "#### Train Test Split"
   ]
  },
  {
   "cell_type": "code",
   "execution_count": 20,
   "id": "0dedc37d",
   "metadata": {},
   "outputs": [],
   "source": [
    "X = dataset[['Open', 'High', 'Low', 'Volume']]\n",
    "y = dataset['Close']"
   ]
  },
  {
   "cell_type": "code",
   "execution_count": 21,
   "id": "5278b835",
   "metadata": {},
   "outputs": [
    {
     "data": {
      "text/html": [
       "<div>\n",
       "<style scoped>\n",
       "    .dataframe tbody tr th:only-of-type {\n",
       "        vertical-align: middle;\n",
       "    }\n",
       "\n",
       "    .dataframe tbody tr th {\n",
       "        vertical-align: top;\n",
       "    }\n",
       "\n",
       "    .dataframe thead th {\n",
       "        text-align: right;\n",
       "    }\n",
       "</style>\n",
       "<table border=\"1\" class=\"dataframe\">\n",
       "  <thead>\n",
       "    <tr style=\"text-align: right;\">\n",
       "      <th></th>\n",
       "      <th>Open</th>\n",
       "      <th>High</th>\n",
       "      <th>Low</th>\n",
       "      <th>Volume</th>\n",
       "    </tr>\n",
       "  </thead>\n",
       "  <tbody>\n",
       "    <tr>\n",
       "      <th>0</th>\n",
       "      <td>262.000000</td>\n",
       "      <td>267.899994</td>\n",
       "      <td>250.029999</td>\n",
       "      <td>11896100</td>\n",
       "    </tr>\n",
       "    <tr>\n",
       "      <th>1</th>\n",
       "      <td>247.699997</td>\n",
       "      <td>266.700012</td>\n",
       "      <td>245.000000</td>\n",
       "      <td>12595800</td>\n",
       "    </tr>\n",
       "    <tr>\n",
       "      <th>2</th>\n",
       "      <td>266.579987</td>\n",
       "      <td>272.450012</td>\n",
       "      <td>264.329987</td>\n",
       "      <td>8981500</td>\n",
       "    </tr>\n",
       "    <tr>\n",
       "      <th>3</th>\n",
       "      <td>267.079987</td>\n",
       "      <td>267.619995</td>\n",
       "      <td>250.000000</td>\n",
       "      <td>9306700</td>\n",
       "    </tr>\n",
       "    <tr>\n",
       "      <th>4</th>\n",
       "      <td>253.850006</td>\n",
       "      <td>255.800003</td>\n",
       "      <td>236.110001</td>\n",
       "      <td>16906900</td>\n",
       "    </tr>\n",
       "  </tbody>\n",
       "</table>\n",
       "</div>"
      ],
      "text/plain": [
       "         Open        High         Low    Volume\n",
       "0  262.000000  267.899994  250.029999  11896100\n",
       "1  247.699997  266.700012  245.000000  12595800\n",
       "2  266.579987  272.450012  264.329987   8981500\n",
       "3  267.079987  267.619995  250.000000   9306700\n",
       "4  253.850006  255.800003  236.110001  16906900"
      ]
     },
     "execution_count": 21,
     "metadata": {},
     "output_type": "execute_result"
    }
   ],
   "source": [
    "X.head()"
   ]
  },
  {
   "cell_type": "code",
   "execution_count": 22,
   "id": "0b28f92a",
   "metadata": {},
   "outputs": [
    {
     "data": {
      "text/plain": [
       "0    254.259995\n",
       "1    265.720001\n",
       "2    264.559998\n",
       "3    250.100006\n",
       "4    249.470001\n",
       "Name: Close, dtype: float64"
      ]
     },
     "execution_count": 22,
     "metadata": {},
     "output_type": "execute_result"
    }
   ],
   "source": [
    "y[:5]"
   ]
  },
  {
   "cell_type": "code",
   "execution_count": 46,
   "id": "f16410f1",
   "metadata": {},
   "outputs": [
    {
     "data": {
      "text/plain": [
       "((756, 4), (253, 4), (756,), (253,))"
      ]
     },
     "execution_count": 46,
     "metadata": {},
     "output_type": "execute_result"
    }
   ],
   "source": [
    "X_train, X_test, y_train, y_test = train_test_split(X, y, test_size = 0.25, random_state = 121)\n",
    "\n",
    "X_train.shape, X_test.shape, y_train.shape, y_test.shape"
   ]
  },
  {
   "cell_type": "markdown",
   "id": "c89e3d05",
   "metadata": {},
   "source": [
    "#### Feature Scaling"
   ]
  },
  {
   "cell_type": "code",
   "execution_count": 58,
   "id": "6118a5a8",
   "metadata": {},
   "outputs": [
    {
     "data": {
      "text/plain": [
       "array([[ 0.60274087,  0.65476309,  0.64920688,  0.10003629],\n",
       "       [ 1.84268394,  1.77661361,  1.81608365, -0.905156  ],\n",
       "       [ 0.36228902,  0.37703955,  0.38187437, -0.63267406],\n",
       "       ...,\n",
       "       [-0.49874313, -0.50989311, -0.46998237,  0.0423014 ],\n",
       "       [-1.11894897, -1.12068056, -1.08529103, -0.52962377],\n",
       "       [-0.59829849, -0.62010965, -0.56441279, -0.5165558 ]])"
      ]
     },
     "execution_count": 58,
     "metadata": {},
     "output_type": "execute_result"
    }
   ],
   "source": [
    "sc = StandardScaler()\n",
    "X_train = sc.fit_transform(X_train)\n",
    "X_test = sc.transform(X_test)\n",
    "X_train"
   ]
  },
  {
   "cell_type": "code",
   "execution_count": 72,
   "id": "4702a21f",
   "metadata": {},
   "outputs": [
    {
     "data": {
      "text/plain": [
       "array([ 1.84268394,  1.77661361,  1.81608365, -0.905156  ])"
      ]
     },
     "execution_count": 72,
     "metadata": {},
     "output_type": "execute_result"
    }
   ],
   "source": [
    "X_train[1,:]"
   ]
  },
  {
   "cell_type": "markdown",
   "id": "d341670d",
   "metadata": {},
   "source": [
    "We save the scaler information in a pickle file"
   ]
  },
  {
   "cell_type": "code",
   "execution_count": 26,
   "id": "5085d95e",
   "metadata": {},
   "outputs": [],
   "source": [
    "pickle.dump(sc,open('scaler.pkl','wb'))"
   ]
  },
  {
   "cell_type": "markdown",
   "id": "63072631",
   "metadata": {},
   "source": [
    "#### We try building various models to predict the stock price, and then select the model with better performance"
   ]
  },
  {
   "cell_type": "markdown",
   "id": "acda04e2",
   "metadata": {},
   "source": [
    "#### 1. Simple Linear Regression"
   ]
  },
  {
   "cell_type": "markdown",
   "id": "e800359e",
   "metadata": {},
   "source": [
    "As we see, most of the features have linear relationship with each other, we start using a single column to predict the stock price."
   ]
  },
  {
   "cell_type": "code",
   "execution_count": 209,
   "id": "7919435e",
   "metadata": {},
   "outputs": [
    {
     "data": {
      "text/plain": [
       "Index(['Open', 'High', 'Low', 'Volume'], dtype='object')"
      ]
     },
     "execution_count": 209,
     "metadata": {},
     "output_type": "execute_result"
    }
   ],
   "source": [
    "colList = X.columns\n",
    "colList"
   ]
  },
  {
   "cell_type": "code",
   "execution_count": 210,
   "id": "94748f0f",
   "metadata": {},
   "outputs": [],
   "source": [
    "train_r2score = []\n",
    "test_r2score = []\n",
    "train_error = []\n",
    "test_error = []\n",
    "abs_train = []\n",
    "abs_test = []\n",
    "for i,col in enumerate(colList):\n",
    "#     print(i,col)\n",
    "    train_x = X_train[:,i].reshape(-1,1)\n",
    "    test_x = X_test[:,i].reshape(-1,1)\n",
    "    \n",
    "    LinearRegressor = LinearRegression()\n",
    "    LinearRegressor.fit(train_x,y_train)\n",
    "    \n",
    "    train_err = mean_squared_error(y_train, LinearRegressor.predict(train_x))\n",
    "    test_err = mean_squared_error(y_test, LinearRegressor.predict(test_x))\n",
    "    \n",
    "    train_r2 = r2_score(y_train, LinearRegressor.predict(train_x))\n",
    "    test_r2 = r2_score(y_test, LinearRegressor.predict(test_x))\n",
    "    \n",
    "    abs_train.append(mean_absolute_error(y_train, LinearRegressor.predict(train_x)))\n",
    "    abs_test.append(mean_absolute_error(y_test, LinearRegressor.predict(test_x)))\n",
    "    train_error.append(train_err)\n",
    "    test_error.append(test_err)\n",
    "    train_r2score.append(train_r2)\n",
    "    test_r2score.append(test_r2)\n",
    "    "
   ]
  },
  {
   "cell_type": "code",
   "execution_count": 211,
   "id": "e2dd70f6",
   "metadata": {},
   "outputs": [
    {
     "data": {
      "text/html": [
       "<div>\n",
       "<style scoped>\n",
       "    .dataframe tbody tr th:only-of-type {\n",
       "        vertical-align: middle;\n",
       "    }\n",
       "\n",
       "    .dataframe tbody tr th {\n",
       "        vertical-align: top;\n",
       "    }\n",
       "\n",
       "    .dataframe thead th {\n",
       "        text-align: right;\n",
       "    }\n",
       "</style>\n",
       "<table border=\"1\" class=\"dataframe\">\n",
       "  <thead>\n",
       "    <tr style=\"text-align: right;\">\n",
       "      <th></th>\n",
       "      <th>Features</th>\n",
       "      <th>train_error</th>\n",
       "      <th>test_error</th>\n",
       "    </tr>\n",
       "  </thead>\n",
       "  <tbody>\n",
       "    <tr>\n",
       "      <th>0</th>\n",
       "      <td>Open</td>\n",
       "      <td>71.385733</td>\n",
       "      <td>84.425377</td>\n",
       "    </tr>\n",
       "    <tr>\n",
       "      <th>1</th>\n",
       "      <td>High</td>\n",
       "      <td>32.260445</td>\n",
       "      <td>39.009717</td>\n",
       "    </tr>\n",
       "    <tr>\n",
       "      <th>2</th>\n",
       "      <td>Low</td>\n",
       "      <td>31.678438</td>\n",
       "      <td>41.338110</td>\n",
       "    </tr>\n",
       "    <tr>\n",
       "      <th>3</th>\n",
       "      <td>Volume</td>\n",
       "      <td>9143.830249</td>\n",
       "      <td>11565.041714</td>\n",
       "    </tr>\n",
       "  </tbody>\n",
       "</table>\n",
       "</div>"
      ],
      "text/plain": [
       "  Features  train_error    test_error\n",
       "0     Open    71.385733     84.425377\n",
       "1     High    32.260445     39.009717\n",
       "2      Low    31.678438     41.338110\n",
       "3   Volume  9143.830249  11565.041714"
      ]
     },
     "execution_count": 211,
     "metadata": {},
     "output_type": "execute_result"
    }
   ],
   "source": [
    "error_df = pd.DataFrame(zip(colList,train_error, test_error), columns = [\"Features\",\"train_error\",\"test_error\"])\n",
    "error_df"
   ]
  },
  {
   "cell_type": "code",
   "execution_count": 212,
   "id": "be269e03",
   "metadata": {},
   "outputs": [
    {
     "data": {
      "text/plain": [
       "<Axes: >"
      ]
     },
     "execution_count": 212,
     "metadata": {},
     "output_type": "execute_result"
    },
    {
     "data": {
      "image/png": "[encoded data removed]",
      "text/plain": [
       "<Figure size 640x480 with 1 Axes>"
      ]
     },
     "metadata": {},
     "output_type": "display_data"
    }
   ],
   "source": [
    "sns.lineplot(x=colList, y = train_error, marker='o', color='r', label='Train Error')\n",
    "sns.lineplot(x=colList, y = test_error, marker='v', label='Test Error')\n"
   ]
  },
  {
   "cell_type": "raw",
   "id": "66832538",
   "metadata": {},
   "source": [
    "From above,\n",
    "    Both train and test errors are low when we used one of the Open, High, or low features.\n",
    "    And the errors are very high when Volume column is used"
   ]
  },
  {
   "cell_type": "code",
   "execution_count": 213,
   "id": "2953c2e7",
   "metadata": {},
   "outputs": [
    {
     "data": {
      "text/html": [
       "<div>\n",
       "<style scoped>\n",
       "    .dataframe tbody tr th:only-of-type {\n",
       "        vertical-align: middle;\n",
       "    }\n",
       "\n",
       "    .dataframe tbody tr th {\n",
       "        vertical-align: top;\n",
       "    }\n",
       "\n",
       "    .dataframe thead th {\n",
       "        text-align: right;\n",
       "    }\n",
       "</style>\n",
       "<table border=\"1\" class=\"dataframe\">\n",
       "  <thead>\n",
       "    <tr style=\"text-align: right;\">\n",
       "      <th></th>\n",
       "      <th>Features</th>\n",
       "      <th>train_r2</th>\n",
       "      <th>test_r2</th>\n",
       "    </tr>\n",
       "  </thead>\n",
       "  <tbody>\n",
       "    <tr>\n",
       "      <th>0</th>\n",
       "      <td>Open</td>\n",
       "      <td>0.993730</td>\n",
       "      <td>0.993344</td>\n",
       "    </tr>\n",
       "    <tr>\n",
       "      <th>1</th>\n",
       "      <td>High</td>\n",
       "      <td>0.997166</td>\n",
       "      <td>0.996925</td>\n",
       "    </tr>\n",
       "    <tr>\n",
       "      <th>2</th>\n",
       "      <td>Low</td>\n",
       "      <td>0.997217</td>\n",
       "      <td>0.996741</td>\n",
       "    </tr>\n",
       "    <tr>\n",
       "      <th>3</th>\n",
       "      <td>Volume</td>\n",
       "      <td>0.196835</td>\n",
       "      <td>0.088258</td>\n",
       "    </tr>\n",
       "  </tbody>\n",
       "</table>\n",
       "</div>"
      ],
      "text/plain": [
       "  Features  train_r2   test_r2\n",
       "0     Open  0.993730  0.993344\n",
       "1     High  0.997166  0.996925\n",
       "2      Low  0.997217  0.996741\n",
       "3   Volume  0.196835  0.088258"
      ]
     },
     "execution_count": 213,
     "metadata": {},
     "output_type": "execute_result"
    }
   ],
   "source": [
    "r2_df = pd.DataFrame(zip(colList,train_r2score, test_r2score), columns = [\"Features\",\"train_r2\",\"test_r2\"])\n",
    "r2_df"
   ]
  },
  {
   "cell_type": "code",
   "execution_count": 214,
   "id": "5f26c113",
   "metadata": {},
   "outputs": [
    {
     "data": {
      "text/plain": [
       "<Axes: >"
      ]
     },
     "execution_count": 214,
     "metadata": {},
     "output_type": "execute_result"
    },
    {
     "data": {
      "image/png": "[encoded data removed]",
      "text/plain": [
       "<Figure size 640x480 with 1 Axes>"
      ]
     },
     "metadata": {},
     "output_type": "display_data"
    }
   ],
   "source": [
    "sns.lineplot(x=colList, y = train_r2score, marker='o', color='r', label='Train R2')\n",
    "sns.lineplot(x=colList, y = test_r2score, marker='v', label='Test R2')\n"
   ]
  },
  {
   "cell_type": "code",
   "execution_count": 215,
   "id": "e8fa4720",
   "metadata": {},
   "outputs": [
    {
     "data": {
      "text/html": [
       "<div>\n",
       "<style scoped>\n",
       "    .dataframe tbody tr th:only-of-type {\n",
       "        vertical-align: middle;\n",
       "    }\n",
       "\n",
       "    .dataframe tbody tr th {\n",
       "        vertical-align: top;\n",
       "    }\n",
       "\n",
       "    .dataframe thead th {\n",
       "        text-align: right;\n",
       "    }\n",
       "</style>\n",
       "<table border=\"1\" class=\"dataframe\">\n",
       "  <thead>\n",
       "    <tr style=\"text-align: right;\">\n",
       "      <th></th>\n",
       "      <th>Features</th>\n",
       "      <th>train_mae</th>\n",
       "      <th>test_mae</th>\n",
       "    </tr>\n",
       "  </thead>\n",
       "  <tbody>\n",
       "    <tr>\n",
       "      <th>0</th>\n",
       "      <td>Open</td>\n",
       "      <td>6.317449</td>\n",
       "      <td>6.529204</td>\n",
       "    </tr>\n",
       "    <tr>\n",
       "      <th>1</th>\n",
       "      <td>High</td>\n",
       "      <td>4.113193</td>\n",
       "      <td>4.485450</td>\n",
       "    </tr>\n",
       "    <tr>\n",
       "      <th>2</th>\n",
       "      <td>Low</td>\n",
       "      <td>4.092418</td>\n",
       "      <td>4.407517</td>\n",
       "    </tr>\n",
       "    <tr>\n",
       "      <th>3</th>\n",
       "      <td>Volume</td>\n",
       "      <td>81.123318</td>\n",
       "      <td>88.444595</td>\n",
       "    </tr>\n",
       "  </tbody>\n",
       "</table>\n",
       "</div>"
      ],
      "text/plain": [
       "  Features  train_mae   test_mae\n",
       "0     Open   6.317449   6.529204\n",
       "1     High   4.113193   4.485450\n",
       "2      Low   4.092418   4.407517\n",
       "3   Volume  81.123318  88.444595"
      ]
     },
     "execution_count": 215,
     "metadata": {},
     "output_type": "execute_result"
    }
   ],
   "source": [
    "mae_df = pd.DataFrame(zip(colList,abs_train, abs_test), columns = [\"Features\",\"train_mae\",\"test_mae\"])\n",
    "mae_df"
   ]
  },
  {
   "cell_type": "code",
   "execution_count": 217,
   "id": "0daa9311",
   "metadata": {},
   "outputs": [
    {
     "data": {
      "text/plain": [
       "<Axes: >"
      ]
     },
     "execution_count": 217,
     "metadata": {},
     "output_type": "execute_result"
    },
    {
     "data": {
      "image/png": "[encoded data removed]",
      "text/plain": [
       "<Figure size 640x480 with 1 Axes>"
      ]
     },
     "metadata": {},
     "output_type": "display_data"
    }
   ],
   "source": [
    "sns.lineplot(x=colList, y = abs_train, marker='o', color='r', label='Train mae')\n",
    "sns.lineplot(x=colList, y = abs_test, marker='v', label='Test mae')\n"
   ]
  },
  {
   "cell_type": "raw",
   "id": "43cddfbd",
   "metadata": {},
   "source": [
    "We see that,\n",
    "    the r2 scores of the models are high and close to 1, when either of the one feature from High, Open, and Low are selected. This indicates either of the columns can perfectly explains the variablity in the target variable."
   ]
  },
  {
   "cell_type": "raw",
   "id": "873f6dbf",
   "metadata": {},
   "source": [
    "Therefore, we can proceed with a feature with low training and test loss and high train r2 and test r2 scores.\n",
    "From the above data, we see that High feature can be selected"
   ]
  },
  {
   "cell_type": "markdown",
   "id": "4557525f",
   "metadata": {},
   "source": [
    "#### Fitting a model with only one column i.e., using feature High"
   ]
  },
  {
   "cell_type": "code",
   "execution_count": 119,
   "id": "81c934cc",
   "metadata": {},
   "outputs": [
    {
     "data": {
      "text/html": [
       "<style>#sk-container-id-4 {color: black;background-color: white;}#sk-container-id-4 pre{padding: 0;}#sk-container-id-4 div.sk-toggleable {background-color: white;}#sk-container-id-4 label.sk-toggleable__label {cursor: pointer;display: block;width: 100%;margin-bottom: 0;padding: 0.3em;box-sizing: border-box;text-align: center;}#sk-container-id-4 label.sk-toggleable__label-arrow:before {content: \"▸\";float: left;margin-right: 0.25em;color: #696969;}#sk-container-id-4 label.sk-toggleable__label-arrow:hover:before {color: black;}#sk-container-id-4 div.sk-estimator:hover label.sk-toggleable__label-arrow:before {color: black;}#sk-container-id-4 div.sk-toggleable__content {max-height: 0;max-width: 0;overflow: hidden;text-align: left;background-color: #f0f8ff;}#sk-container-id-4 div.sk-toggleable__content pre {margin: 0.2em;color: black;border-radius: 0.25em;background-color: #f0f8ff;}#sk-container-id-4 input.sk-toggleable__control:checked~div.sk-toggleable__content {max-height: 200px;max-width: 100%;overflow: auto;}#sk-container-id-4 input.sk-toggleable__control:checked~label.sk-toggleable__label-arrow:before {content: \"▾\";}#sk-container-id-4 div.sk-estimator input.sk-toggleable__control:checked~label.sk-toggleable__label {background-color: #d4ebff;}#sk-container-id-4 div.sk-label input.sk-toggleable__control:checked~label.sk-toggleable__label {background-color: #d4ebff;}#sk-container-id-4 input.sk-hidden--visually {border: 0;clip: rect(1px 1px 1px 1px);clip: rect(1px, 1px, 1px, 1px);height: 1px;margin: -1px;overflow: hidden;padding: 0;position: absolute;width: 1px;}#sk-container-id-4 div.sk-estimator {font-family: monospace;background-color: #f0f8ff;border: 1px dotted black;border-radius: 0.25em;box-sizing: border-box;margin-bottom: 0.5em;}#sk-container-id-4 div.sk-estimator:hover {background-color: #d4ebff;}#sk-container-id-4 div.sk-parallel-item::after {content: \"\";width: 100%;border-bottom: 1px solid gray;flex-grow: 1;}#sk-container-id-4 div.sk-label:hover label.sk-toggleable__label {background-color: #d4ebff;}#sk-container-id-4 div.sk-serial::before {content: \"\";position: absolute;border-left: 1px solid gray;box-sizing: border-box;top: 0;bottom: 0;left: 50%;z-index: 0;}#sk-container-id-4 div.sk-serial {display: flex;flex-direction: column;align-items: center;background-color: white;padding-right: 0.2em;padding-left: 0.2em;position: relative;}#sk-container-id-4 div.sk-item {position: relative;z-index: 1;}#sk-container-id-4 div.sk-parallel {display: flex;align-items: stretch;justify-content: center;background-color: white;position: relative;}#sk-container-id-4 div.sk-item::before, #sk-container-id-4 div.sk-parallel-item::before {content: \"\";position: absolute;border-left: 1px solid gray;box-sizing: border-box;top: 0;bottom: 0;left: 50%;z-index: -1;}#sk-container-id-4 div.sk-parallel-item {display: flex;flex-direction: column;z-index: 1;position: relative;background-color: white;}#sk-container-id-4 div.sk-parallel-item:first-child::after {align-self: flex-end;width: 50%;}#sk-container-id-4 div.sk-parallel-item:last-child::after {align-self: flex-start;width: 50%;}#sk-container-id-4 div.sk-parallel-item:only-child::after {width: 0;}#sk-container-id-4 div.sk-dashed-wrapped {border: 1px dashed gray;margin: 0 0.4em 0.5em 0.4em;box-sizing: border-box;padding-bottom: 0.4em;background-color: white;}#sk-container-id-4 div.sk-label label {font-family: monospace;font-weight: bold;display: inline-block;line-height: 1.2em;}#sk-container-id-4 div.sk-label-container {text-align: center;}#sk-container-id-4 div.sk-container {/* jupyter's `normalize.less` sets `[hidden] { display: none; }` but bootstrap.min.css set `[hidden] { display: none !important; }` so we also need the `!important` here to be able to override the default hidden behavior on the sphinx rendered scikit-learn.org. See: https://github.com/scikit-learn/scikit-learn/issues/21755 */display: inline-block !important;position: relative;}#sk-container-id-4 div.sk-text-repr-fallback {display: none;}</style><div id=\"sk-container-id-4\" class=\"sk-top-container\"><div class=\"sk-text-repr-fallback\"><pre>LinearRegression()</pre><b>In a Jupyter environment, please rerun this cell to show the HTML representation or trust the notebook. <br />On GitHub, the HTML representation is unable to render, please try loading this page with nbviewer.org.</b></div><div class=\"sk-container\" hidden><div class=\"sk-item\"><div class=\"sk-estimator sk-toggleable\"><input class=\"sk-toggleable__control sk-hidden--visually\" id=\"sk-estimator-id-4\" type=\"checkbox\" checked><label for=\"sk-estimator-id-4\" class=\"sk-toggleable__label sk-toggleable__label-arrow\">LinearRegression</label><div class=\"sk-toggleable__content\"><pre>LinearRegression()</pre></div></div></div></div></div>"
      ],
      "text/plain": [
       "LinearRegression()"
      ]
     },
     "execution_count": 119,
     "metadata": {},
     "output_type": "execute_result"
    }
   ],
   "source": [
    "LinearRegressor = LinearRegression()\n",
    "train_x = X_train[:,1].reshape(-1,1)\n",
    "test_x = X_test[:,1].reshape(-1,1)\n",
    "LinearRegressor.fit(train_x, y_train)"
   ]
  },
  {
   "cell_type": "code",
   "execution_count": 120,
   "id": "89b1fd17",
   "metadata": {},
   "outputs": [
    {
     "data": {
      "text/plain": [
       "array([361.48824577, 357.76834976, 269.36170831, 548.86760896,\n",
       "       265.38457722])"
      ]
     },
     "execution_count": 120,
     "metadata": {},
     "output_type": "execute_result"
    }
   ],
   "source": [
    "y_pred = LinearRegressor.predict(X_test[:,1].reshape(-1,1))\n",
    "y_pred[0:5]"
   ]
  },
  {
   "cell_type": "markdown",
   "id": "dbc624b5",
   "metadata": {},
   "source": [
    "#### Vizualize train set results"
   ]
  },
  {
   "cell_type": "code",
   "execution_count": 152,
   "id": "16757938",
   "metadata": {},
   "outputs": [
    {
     "data": {
      "text/plain": [
       "<Axes: ylabel='Close'>"
      ]
     },
     "execution_count": 152,
     "metadata": {},
     "output_type": "execute_result"
    },
    {
     "data": {
      "image/png": "[encoded data removed]",
      "text/plain": [
       "<Figure size 640x480 with 1 Axes>"
      ]
     },
     "metadata": {},
     "output_type": "display_data"
    }
   ],
   "source": [
    "sns.scatterplot(\n",
    "    x = sc.inverse_transform(\n",
    "        X_train)[:,1],\n",
    "        y = y_train,\n",
    "    color = 'orange'\n",
    ")\n",
    "sns.lineplot(\n",
    "    x = sc.inverse_transform(\n",
    "        X_train)[:,1],\n",
    "    y = LinearRegressor.predict(train_x),\n",
    "    color = 'red'\n",
    ")"
   ]
  },
  {
   "cell_type": "markdown",
   "id": "b1cb695e",
   "metadata": {},
   "source": [
    "#### Vizualize test set results"
   ]
  },
  {
   "cell_type": "code",
   "execution_count": 153,
   "id": "4f44f3fa",
   "metadata": {},
   "outputs": [
    {
     "data": {
      "text/plain": [
       "<Axes: ylabel='Close'>"
      ]
     },
     "execution_count": 153,
     "metadata": {},
     "output_type": "execute_result"
    },
    {
     "data": {
      "image/png": "[encoded data removed]",
      "text/plain": [
       "<Figure size 640x480 with 1 Axes>"
      ]
     },
     "metadata": {},
     "output_type": "display_data"
    }
   ],
   "source": [
    "sns.scatterplot(\n",
    "    x = sc.inverse_transform(\n",
    "        X_test)[:,1],\n",
    "        y = y_test,\n",
    "    color = 'orange'\n",
    ")\n",
    "sns.lineplot(\n",
    "    x = sc.inverse_transform(\n",
    "        X_test)[:,1],\n",
    "    y = LinearRegressor.predict(test_x),\n",
    "    color = 'red'\n",
    ")"
   ]
  },
  {
   "cell_type": "markdown",
   "id": "0c8cc347",
   "metadata": {},
   "source": [
    "#### 2. Multiple Linear Regression"
   ]
  },
  {
   "cell_type": "markdown",
   "id": "8da56732",
   "metadata": {},
   "source": [
    "Now we use all the existing features to build the model and check the train and test loss and r_squared value"
   ]
  },
  {
   "cell_type": "code",
   "execution_count": 218,
   "id": "0edb2170",
   "metadata": {},
   "outputs": [
    {
     "data": {
      "text/html": [
       "<style>#sk-container-id-7 {color: black;background-color: white;}#sk-container-id-7 pre{padding: 0;}#sk-container-id-7 div.sk-toggleable {background-color: white;}#sk-container-id-7 label.sk-toggleable__label {cursor: pointer;display: block;width: 100%;margin-bottom: 0;padding: 0.3em;box-sizing: border-box;text-align: center;}#sk-container-id-7 label.sk-toggleable__label-arrow:before {content: \"▸\";float: left;margin-right: 0.25em;color: #696969;}#sk-container-id-7 label.sk-toggleable__label-arrow:hover:before {color: black;}#sk-container-id-7 div.sk-estimator:hover label.sk-toggleable__label-arrow:before {color: black;}#sk-container-id-7 div.sk-toggleable__content {max-height: 0;max-width: 0;overflow: hidden;text-align: left;background-color: #f0f8ff;}#sk-container-id-7 div.sk-toggleable__content pre {margin: 0.2em;color: black;border-radius: 0.25em;background-color: #f0f8ff;}#sk-container-id-7 input.sk-toggleable__control:checked~div.sk-toggleable__content {max-height: 200px;max-width: 100%;overflow: auto;}#sk-container-id-7 input.sk-toggleable__control:checked~label.sk-toggleable__label-arrow:before {content: \"▾\";}#sk-container-id-7 div.sk-estimator input.sk-toggleable__control:checked~label.sk-toggleable__label {background-color: #d4ebff;}#sk-container-id-7 div.sk-label input.sk-toggleable__control:checked~label.sk-toggleable__label {background-color: #d4ebff;}#sk-container-id-7 input.sk-hidden--visually {border: 0;clip: rect(1px 1px 1px 1px);clip: rect(1px, 1px, 1px, 1px);height: 1px;margin: -1px;overflow: hidden;padding: 0;position: absolute;width: 1px;}#sk-container-id-7 div.sk-estimator {font-family: monospace;background-color: #f0f8ff;border: 1px dotted black;border-radius: 0.25em;box-sizing: border-box;margin-bottom: 0.5em;}#sk-container-id-7 div.sk-estimator:hover {background-color: #d4ebff;}#sk-container-id-7 div.sk-parallel-item::after {content: \"\";width: 100%;border-bottom: 1px solid gray;flex-grow: 1;}#sk-container-id-7 div.sk-label:hover label.sk-toggleable__label {background-color: #d4ebff;}#sk-container-id-7 div.sk-serial::before {content: \"\";position: absolute;border-left: 1px solid gray;box-sizing: border-box;top: 0;bottom: 0;left: 50%;z-index: 0;}#sk-container-id-7 div.sk-serial {display: flex;flex-direction: column;align-items: center;background-color: white;padding-right: 0.2em;padding-left: 0.2em;position: relative;}#sk-container-id-7 div.sk-item {position: relative;z-index: 1;}#sk-container-id-7 div.sk-parallel {display: flex;align-items: stretch;justify-content: center;background-color: white;position: relative;}#sk-container-id-7 div.sk-item::before, #sk-container-id-7 div.sk-parallel-item::before {content: \"\";position: absolute;border-left: 1px solid gray;box-sizing: border-box;top: 0;bottom: 0;left: 50%;z-index: -1;}#sk-container-id-7 div.sk-parallel-item {display: flex;flex-direction: column;z-index: 1;position: relative;background-color: white;}#sk-container-id-7 div.sk-parallel-item:first-child::after {align-self: flex-end;width: 50%;}#sk-container-id-7 div.sk-parallel-item:last-child::after {align-self: flex-start;width: 50%;}#sk-container-id-7 div.sk-parallel-item:only-child::after {width: 0;}#sk-container-id-7 div.sk-dashed-wrapped {border: 1px dashed gray;margin: 0 0.4em 0.5em 0.4em;box-sizing: border-box;padding-bottom: 0.4em;background-color: white;}#sk-container-id-7 div.sk-label label {font-family: monospace;font-weight: bold;display: inline-block;line-height: 1.2em;}#sk-container-id-7 div.sk-label-container {text-align: center;}#sk-container-id-7 div.sk-container {/* jupyter's `normalize.less` sets `[hidden] { display: none; }` but bootstrap.min.css set `[hidden] { display: none !important; }` so we also need the `!important` here to be able to override the default hidden behavior on the sphinx rendered scikit-learn.org. See: https://github.com/scikit-learn/scikit-learn/issues/21755 */display: inline-block !important;position: relative;}#sk-container-id-7 div.sk-text-repr-fallback {display: none;}</style><div id=\"sk-container-id-7\" class=\"sk-top-container\"><div class=\"sk-text-repr-fallback\"><pre>LinearRegression()</pre><b>In a Jupyter environment, please rerun this cell to show the HTML representation or trust the notebook. <br />On GitHub, the HTML representation is unable to render, please try loading this page with nbviewer.org.</b></div><div class=\"sk-container\" hidden><div class=\"sk-item\"><div class=\"sk-estimator sk-toggleable\"><input class=\"sk-toggleable__control sk-hidden--visually\" id=\"sk-estimator-id-7\" type=\"checkbox\" checked><label for=\"sk-estimator-id-7\" class=\"sk-toggleable__label sk-toggleable__label-arrow\">LinearRegression</label><div class=\"sk-toggleable__content\"><pre>LinearRegression()</pre></div></div></div></div></div>"
      ],
      "text/plain": [
       "LinearRegression()"
      ]
     },
     "execution_count": 218,
     "metadata": {},
     "output_type": "execute_result"
    }
   ],
   "source": [
    "MultipleRegressor = LinearRegression()\n",
    "MultipleRegressor.fit(X_train,y_train)"
   ]
  },
  {
   "cell_type": "code",
   "execution_count": 219,
   "id": "5b3b8a33",
   "metadata": {},
   "outputs": [
    {
     "data": {
      "text/plain": [
       "array([-61.00325074,  84.50526387,  83.24649151,   0.31850984])"
      ]
     },
     "execution_count": 219,
     "metadata": {},
     "output_type": "execute_result"
    }
   ],
   "source": [
    "MultipleRegressor.coef_"
   ]
  },
  {
   "cell_type": "code",
   "execution_count": 220,
   "id": "fd0cf05f",
   "metadata": {},
   "outputs": [
    {
     "data": {
      "text/plain": [
       "420.21887505423285"
      ]
     },
     "execution_count": 220,
     "metadata": {},
     "output_type": "execute_result"
    }
   ],
   "source": [
    "MultipleRegressor.intercept_"
   ]
  },
  {
   "cell_type": "code",
   "execution_count": 221,
   "id": "54c423b7",
   "metadata": {},
   "outputs": [],
   "source": [
    "y_pred = MultipleRegressor.predict(X_test)"
   ]
  },
  {
   "cell_type": "code",
   "execution_count": 222,
   "id": "d3901a2e",
   "metadata": {},
   "outputs": [
    {
     "data": {
      "text/plain": [
       "14.543984735254213"
      ]
     },
     "execution_count": 222,
     "metadata": {},
     "output_type": "execute_result"
    }
   ],
   "source": [
    "mean_squared_error(y_train, MultipleRegressor.predict(X_train))"
   ]
  },
  {
   "cell_type": "code",
   "execution_count": 223,
   "id": "8447f8d1",
   "metadata": {},
   "outputs": [
    {
     "data": {
      "text/plain": [
       "16.62026384511313"
      ]
     },
     "execution_count": 223,
     "metadata": {},
     "output_type": "execute_result"
    }
   ],
   "source": [
    "mean_squared_error(y_test, y_pred)"
   ]
  },
  {
   "cell_type": "code",
   "execution_count": 224,
   "id": "bd80d2d1",
   "metadata": {},
   "outputs": [
    {
     "data": {
      "text/plain": [
       "3.0537774971199956"
      ]
     },
     "execution_count": 224,
     "metadata": {},
     "output_type": "execute_result"
    }
   ],
   "source": [
    "mean_absolute_error(y_test, y_pred)"
   ]
  },
  {
   "cell_type": "code",
   "execution_count": 225,
   "id": "1e1ff607",
   "metadata": {},
   "outputs": [
    {
     "data": {
      "text/plain": [
       "0.9987225029389595"
      ]
     },
     "execution_count": 225,
     "metadata": {},
     "output_type": "execute_result"
    }
   ],
   "source": [
    "r2_score(y_train, MultipleRegressor.predict(X_train))"
   ]
  },
  {
   "cell_type": "code",
   "execution_count": 226,
   "id": "f8c65e9f",
   "metadata": {},
   "outputs": [
    {
     "data": {
      "text/plain": [
       "0.9986897244272149"
      ]
     },
     "execution_count": 226,
     "metadata": {},
     "output_type": "execute_result"
    }
   ],
   "source": [
    "r2_score(y_test, y_pred)"
   ]
  },
  {
   "cell_type": "markdown",
   "id": "80b1c273",
   "metadata": {},
   "source": [
    "#### 3. Artificial Neural Networks"
   ]
  },
  {
   "cell_type": "code",
   "execution_count": 60,
   "id": "ce78609b",
   "metadata": {},
   "outputs": [
    {
     "data": {
      "text/plain": [
       "<keras.src.engine.sequential.Sequential at 0x2986da390>"
      ]
     },
     "execution_count": 60,
     "metadata": {},
     "output_type": "execute_result"
    }
   ],
   "source": [
    "# Initialize an ANN\n",
    "# Sequential() allows to build sequential layers\n",
    "ann = tf.keras.models.Sequential()\n",
    "ann"
   ]
  },
  {
   "cell_type": "code",
   "execution_count": 61,
   "id": "eefd254b",
   "metadata": {},
   "outputs": [],
   "source": [
    "# Adding input layer and first input layer\n",
    "# dense class is used to create a fully connnected layer as a dense class object at any phase in an ann.\n",
    "# add method is used to add any layer( hidden/ dropout/ conv2D) created using dense class\n",
    "# When you create a first hidden layer, it automatically creates an input layer by assining\n",
    "# # of neurons == # of input features. So in below, we mention # of neurons req for the first hidden layer\n",
    "ann.add(tf.keras.layers.Dense(units = 8, activation = 'relu'))"
   ]
  },
  {
   "cell_type": "code",
   "execution_count": 62,
   "id": "1b80df92",
   "metadata": {},
   "outputs": [],
   "source": [
    "# Add second sequnetial layer\n",
    "ann.add(tf.keras.layers.Dense(units = 8, activation = 'relu'))"
   ]
  },
  {
   "cell_type": "code",
   "execution_count": 63,
   "id": "6f9fba63",
   "metadata": {},
   "outputs": [],
   "source": [
    "# Add output layer\n",
    "# When doing multiclass classification, use softmax instead of sigmoid\n",
    "ann.add(tf.keras.layers.Dense(units = 1, activation = 'linear'))"
   ]
  },
  {
   "cell_type": "code",
   "execution_count": 64,
   "id": "0a235c15",
   "metadata": {},
   "outputs": [],
   "source": [
    "# Compiling an ANN\n",
    "# in this step, we mention the optimizer, loss function and metrics required to evaluate our model\n",
    "\n",
    "ann.compile(optimizer = 'adam', \n",
    "            loss = tf.keras.losses.MeanSquaredError(), \n",
    "            metrics = tf.keras.metrics.R2Score())"
   ]
  },
  {
   "cell_type": "code",
   "execution_count": 65,
   "id": "52a6050d",
   "metadata": {},
   "outputs": [
    {
     "data": {
      "text/plain": [
       "array([[ 0.60274087,  0.65476309,  0.64920688,  0.10003629],\n",
       "       [ 1.84268394,  1.77661361,  1.81608365, -0.905156  ],\n",
       "       [ 0.36228902,  0.37703955,  0.38187437, -0.63267406],\n",
       "       ...,\n",
       "       [-0.49874313, -0.50989311, -0.46998237,  0.0423014 ],\n",
       "       [-1.11894897, -1.12068056, -1.08529103, -0.52962377],\n",
       "       [-0.59829849, -0.62010965, -0.56441279, -0.5165558 ]])"
      ]
     },
     "execution_count": 65,
     "metadata": {},
     "output_type": "execute_result"
    }
   ],
   "source": [
    "X_train"
   ]
  },
  {
   "cell_type": "code",
   "execution_count": 66,
   "id": "9360336a",
   "metadata": {},
   "outputs": [
    {
     "name": "stdout",
     "output_type": "stream",
     "text": [
      "Epoch 1/300\n",
      "48/48 [==============================] - 0s 396us/step - loss: 188342.9375 - r2_score: -15.5434\n",
      "Epoch 2/300\n",
      "48/48 [==============================] - 0s 338us/step - loss: 187984.7812 - r2_score: -15.5120\n",
      "Epoch 3/300\n",
      "48/48 [==============================] - 0s 306us/step - loss: 187621.5625 - r2_score: -15.4800\n",
      "Epoch 4/300\n",
      "48/48 [==============================] - 0s 300us/step - loss: 187062.0469 - r2_score: -15.4310\n",
      "Epoch 5/300\n",
      "48/48 [==============================] - 0s 297us/step - loss: 186197.0625 - r2_score: -15.3549\n",
      "Epoch 6/300\n",
      "48/48 [==============================] - 0s 296us/step - loss: 184898.2188 - r2_score: -15.2411\n",
      "Epoch 7/300\n",
      "48/48 [==============================] - 0s 299us/step - loss: 183040.7344 - r2_score: -15.0777\n",
      "Epoch 8/300\n",
      "48/48 [==============================] - 0s 300us/step - loss: 180446.2656 - r2_score: -14.8498\n",
      "Epoch 9/300\n",
      "48/48 [==============================] - 0s 308us/step - loss: 176969.1562 - r2_score: -14.5444\n",
      "Epoch 10/300\n",
      "48/48 [==============================] - 0s 302us/step - loss: 172423.3906 - r2_score: -14.1451\n",
      "Epoch 11/300\n",
      "48/48 [==============================] - 0s 303us/step - loss: 166851.8906 - r2_score: -13.6557\n",
      "Epoch 12/300\n",
      "48/48 [==============================] - 0s 303us/step - loss: 160192.2188 - r2_score: -13.0708\n",
      "Epoch 13/300\n",
      "48/48 [==============================] - 0s 308us/step - loss: 152531.4531 - r2_score: -12.3979\n",
      "Epoch 14/300\n",
      "48/48 [==============================] - 0s 301us/step - loss: 143952.4062 - r2_score: -11.6443\n",
      "Epoch 15/300\n",
      "48/48 [==============================] - 0s 303us/step - loss: 134504.5781 - r2_score: -10.8144\n",
      "Epoch 16/300\n",
      "48/48 [==============================] - 0s 302us/step - loss: 124250.8906 - r2_score: -9.9138\n",
      "Epoch 17/300\n",
      "48/48 [==============================] - 0s 306us/step - loss: 113575.2266 - r2_score: -8.9761\n",
      "Epoch 18/300\n",
      "48/48 [==============================] - 0s 305us/step - loss: 102605.4062 - r2_score: -8.0125\n",
      "Epoch 19/300\n",
      "48/48 [==============================] - 0s 306us/step - loss: 91594.0234 - r2_score: -7.0453\n",
      "Epoch 20/300\n",
      "48/48 [==============================] - 0s 303us/step - loss: 80891.9219 - r2_score: -6.1053\n",
      "Epoch 21/300\n",
      "48/48 [==============================] - 0s 301us/step - loss: 70750.9531 - r2_score: -5.2145\n",
      "Epoch 22/300\n",
      "48/48 [==============================] - 0s 298us/step - loss: 61311.5273 - r2_score: -4.3854\n",
      "Epoch 23/300\n",
      "48/48 [==============================] - 0s 298us/step - loss: 52857.0938 - r2_score: -3.6428\n",
      "Epoch 24/300\n",
      "48/48 [==============================] - 0s 301us/step - loss: 45457.3555 - r2_score: -2.9928\n",
      "Epoch 25/300\n",
      "48/48 [==============================] - 0s 296us/step - loss: 39161.3086 - r2_score: -2.4398\n",
      "Epoch 26/300\n",
      "48/48 [==============================] - 0s 295us/step - loss: 34006.8477 - r2_score: -1.9871\n",
      "Epoch 27/300\n",
      "48/48 [==============================] - 0s 318us/step - loss: 29873.8008 - r2_score: -1.6240\n",
      "Epoch 28/300\n",
      "48/48 [==============================] - 0s 293us/step - loss: 26677.1348 - r2_score: -1.3433\n",
      "Epoch 29/300\n",
      "48/48 [==============================] - 0s 308us/step - loss: 24233.9844 - r2_score: -1.1286\n",
      "Epoch 30/300\n",
      "48/48 [==============================] - 0s 300us/step - loss: 22443.0137 - r2_score: -0.9713\n",
      "Epoch 31/300\n",
      "48/48 [==============================] - 0s 299us/step - loss: 21091.8477 - r2_score: -0.8526\n",
      "Epoch 32/300\n",
      "48/48 [==============================] - 0s 295us/step - loss: 20112.0645 - r2_score: -0.7666\n",
      "Epoch 33/300\n",
      "48/48 [==============================] - 0s 300us/step - loss: 19374.2188 - r2_score: -0.7018\n",
      "Epoch 34/300\n",
      "48/48 [==============================] - 0s 298us/step - loss: 18783.0625 - r2_score: -0.6498\n",
      "Epoch 35/300\n",
      "48/48 [==============================] - 0s 293us/step - loss: 18311.6055 - r2_score: -0.6084\n",
      "Epoch 36/300\n",
      "48/48 [==============================] - 0s 296us/step - loss: 17915.1738 - r2_score: -0.5736\n",
      "Epoch 37/300\n",
      "48/48 [==============================] - 0s 294us/step - loss: 17556.3633 - r2_score: -0.5421\n",
      "Epoch 38/300\n",
      "48/48 [==============================] - 0s 294us/step - loss: 17223.6562 - r2_score: -0.5129\n",
      "Epoch 39/300\n",
      "48/48 [==============================] - 0s 296us/step - loss: 16910.1074 - r2_score: -0.4853\n",
      "Epoch 40/300\n",
      "48/48 [==============================] - 0s 300us/step - loss: 16607.4297 - r2_score: -0.4587\n",
      "Epoch 41/300\n",
      "48/48 [==============================] - 0s 293us/step - loss: 16306.2539 - r2_score: -0.4323\n",
      "Epoch 42/300\n",
      "48/48 [==============================] - 0s 289us/step - loss: 16003.4580 - r2_score: -0.4057\n",
      "Epoch 43/300\n",
      "48/48 [==============================] - 0s 294us/step - loss: 15692.4697 - r2_score: -0.3784\n",
      "Epoch 44/300\n",
      "48/48 [==============================] - 0s 294us/step - loss: 15380.9844 - r2_score: -0.3510\n",
      "Epoch 45/300\n",
      "48/48 [==============================] - 0s 293us/step - loss: 15068.7773 - r2_score: -0.3236\n",
      "Epoch 46/300\n",
      "48/48 [==============================] - 0s 299us/step - loss: 14731.5215 - r2_score: -0.2940\n",
      "Epoch 47/300\n",
      "48/48 [==============================] - 0s 299us/step - loss: 14396.4434 - r2_score: -0.2645\n",
      "Epoch 48/300\n",
      "48/48 [==============================] - 0s 295us/step - loss: 14033.2158 - r2_score: -0.2326\n",
      "Epoch 49/300\n",
      "48/48 [==============================] - 0s 292us/step - loss: 13683.6523 - r2_score: -0.2019\n",
      "Epoch 50/300\n",
      "48/48 [==============================] - 0s 299us/step - loss: 13298.8838 - r2_score: -0.1681\n",
      "Epoch 51/300\n",
      "48/48 [==============================] - 0s 298us/step - loss: 12924.4600 - r2_score: -0.1352\n",
      "Epoch 52/300\n",
      "48/48 [==============================] - 0s 303us/step - loss: 12510.5967 - r2_score: -0.0989\n",
      "Epoch 53/300\n",
      "48/48 [==============================] - 0s 295us/step - loss: 12087.4316 - r2_score: -0.0617\n",
      "Epoch 54/300\n",
      "48/48 [==============================] - 0s 296us/step - loss: 11667.5596 - r2_score: -0.0248\n",
      "Epoch 55/300\n",
      "48/48 [==============================] - 0s 296us/step - loss: 11219.4229 - r2_score: 0.0145\n",
      "Epoch 56/300\n",
      "48/48 [==============================] - 0s 291us/step - loss: 10748.9932 - r2_score: 0.0558\n",
      "Epoch 57/300\n",
      "48/48 [==============================] - 0s 299us/step - loss: 10280.8125 - r2_score: 0.0970\n",
      "Epoch 58/300\n",
      "48/48 [==============================] - 0s 296us/step - loss: 9798.1084 - r2_score: 0.1394\n",
      "Epoch 59/300\n",
      "48/48 [==============================] - 0s 299us/step - loss: 9316.1650 - r2_score: 0.1817\n",
      "Epoch 60/300\n",
      "48/48 [==============================] - 0s 296us/step - loss: 8819.8994 - r2_score: 0.2253\n",
      "Epoch 61/300\n",
      "48/48 [==============================] - 0s 301us/step - loss: 8324.4014 - r2_score: 0.2688\n",
      "Epoch 62/300\n",
      "48/48 [==============================] - 0s 299us/step - loss: 7842.5039 - r2_score: 0.3111\n",
      "Epoch 63/300\n",
      "48/48 [==============================] - 0s 295us/step - loss: 7369.2046 - r2_score: 0.3527\n",
      "Epoch 64/300\n",
      "48/48 [==============================] - 0s 296us/step - loss: 6921.9121 - r2_score: 0.3920\n",
      "Epoch 65/300\n",
      "48/48 [==============================] - 0s 295us/step - loss: 6478.1475 - r2_score: 0.4310\n",
      "Epoch 66/300\n",
      "48/48 [==============================] - 0s 299us/step - loss: 6058.7422 - r2_score: 0.4678\n",
      "Epoch 67/300\n",
      "48/48 [==============================] - 0s 299us/step - loss: 5660.3320 - r2_score: 0.5028\n",
      "Epoch 68/300\n",
      "48/48 [==============================] - 0s 295us/step - loss: 5282.0098 - r2_score: 0.5360\n",
      "Epoch 69/300\n",
      "48/48 [==============================] - 0s 298us/step - loss: 4941.3682 - r2_score: 0.5660\n",
      "Epoch 70/300\n",
      "48/48 [==============================] - 0s 293us/step - loss: 4608.8613 - r2_score: 0.5952\n",
      "Epoch 71/300\n",
      "48/48 [==============================] - 0s 291us/step - loss: 4306.6069 - r2_score: 0.6217\n",
      "Epoch 72/300\n",
      "48/48 [==============================] - 0s 298us/step - loss: 4035.4910 - r2_score: 0.6455\n",
      "Epoch 73/300\n",
      "48/48 [==============================] - 0s 298us/step - loss: 3793.7080 - r2_score: 0.6668\n",
      "Epoch 74/300\n",
      "48/48 [==============================] - 0s 298us/step - loss: 3582.0254 - r2_score: 0.6854\n",
      "Epoch 75/300\n",
      "48/48 [==============================] - 0s 314us/step - loss: 3382.3032 - r2_score: 0.7029\n",
      "Epoch 76/300\n",
      "48/48 [==============================] - 0s 383us/step - loss: 3203.7480 - r2_score: 0.7186\n",
      "Epoch 77/300\n",
      "48/48 [==============================] - 0s 385us/step - loss: 3050.0281 - r2_score: 0.7321\n",
      "Epoch 78/300\n",
      "48/48 [==============================] - 0s 326us/step - loss: 2902.1975 - r2_score: 0.7451\n",
      "Epoch 79/300\n",
      "48/48 [==============================] - 0s 302us/step - loss: 2777.3472 - r2_score: 0.7560\n",
      "Epoch 80/300\n",
      "48/48 [==============================] - 0s 335us/step - loss: 2663.9895 - r2_score: 0.7660\n",
      "Epoch 81/300\n",
      "48/48 [==============================] - 0s 307us/step - loss: 2556.7456 - r2_score: 0.7754\n",
      "Epoch 82/300\n",
      "48/48 [==============================] - 0s 299us/step - loss: 2461.2993 - r2_score: 0.7838\n",
      "Epoch 83/300\n",
      "48/48 [==============================] - 0s 299us/step - loss: 2371.3547 - r2_score: 0.7917\n",
      "Epoch 84/300\n",
      "48/48 [==============================] - 0s 304us/step - loss: 2285.9089 - r2_score: 0.7992\n",
      "Epoch 85/300\n",
      "48/48 [==============================] - 0s 304us/step - loss: 2208.1548 - r2_score: 0.8060\n",
      "Epoch 86/300\n",
      "48/48 [==============================] - 0s 302us/step - loss: 2143.1421 - r2_score: 0.8118\n",
      "Epoch 87/300\n",
      "48/48 [==============================] - 0s 318us/step - loss: 2061.8521 - r2_score: 0.8189\n",
      "Epoch 88/300\n",
      "48/48 [==============================] - 0s 318us/step - loss: 1994.4683 - r2_score: 0.8248\n",
      "Epoch 89/300\n",
      "48/48 [==============================] - 0s 314us/step - loss: 1930.1937 - r2_score: 0.8305\n",
      "Epoch 90/300\n",
      "48/48 [==============================] - 0s 299us/step - loss: 1865.9707 - r2_score: 0.8361\n",
      "Epoch 91/300\n",
      "48/48 [==============================] - 0s 298us/step - loss: 1805.1613 - r2_score: 0.8414\n",
      "Epoch 92/300\n",
      "48/48 [==============================] - 0s 295us/step - loss: 1744.8700 - r2_score: 0.8467\n",
      "Epoch 93/300\n",
      "48/48 [==============================] - 0s 297us/step - loss: 1674.6340 - r2_score: 0.8529\n",
      "Epoch 94/300\n",
      "48/48 [==============================] - 0s 292us/step - loss: 1613.5349 - r2_score: 0.8583\n",
      "Epoch 95/300\n",
      "48/48 [==============================] - 0s 292us/step - loss: 1550.3180 - r2_score: 0.8638\n",
      "Epoch 96/300\n",
      "48/48 [==============================] - 0s 292us/step - loss: 1490.6888 - r2_score: 0.8691\n",
      "Epoch 97/300\n",
      "48/48 [==============================] - 0s 311us/step - loss: 1419.1720 - r2_score: 0.8753\n",
      "Epoch 98/300\n",
      "48/48 [==============================] - 0s 297us/step - loss: 1355.0035 - r2_score: 0.8810\n",
      "Epoch 99/300\n",
      "48/48 [==============================] - 0s 425us/step - loss: 1285.4830 - r2_score: 0.8871\n",
      "Epoch 100/300\n",
      "48/48 [==============================] - 0s 347us/step - loss: 1219.3638 - r2_score: 0.8929\n",
      "Epoch 101/300\n",
      "48/48 [==============================] - 0s 338us/step - loss: 1151.6697 - r2_score: 0.8988\n",
      "Epoch 102/300\n",
      "48/48 [==============================] - 0s 346us/step - loss: 1080.8356 - r2_score: 0.9051\n",
      "Epoch 103/300\n",
      "48/48 [==============================] - 0s 354us/step - loss: 1011.1987 - r2_score: 0.9112\n",
      "Epoch 104/300\n",
      "48/48 [==============================] - 0s 375us/step - loss: 942.5340 - r2_score: 0.9172\n",
      "Epoch 105/300\n",
      "48/48 [==============================] - 0s 339us/step - loss: 876.1361 - r2_score: 0.9230\n",
      "Epoch 106/300\n",
      "48/48 [==============================] - 0s 341us/step - loss: 806.9587 - r2_score: 0.9291\n",
      "Epoch 107/300\n",
      "48/48 [==============================] - 0s 317us/step - loss: 742.3136 - r2_score: 0.9348\n",
      "Epoch 108/300\n",
      "48/48 [==============================] - 0s 336us/step - loss: 680.7603 - r2_score: 0.9402\n",
      "Epoch 109/300\n",
      "48/48 [==============================] - 0s 341us/step - loss: 622.7578 - r2_score: 0.9453\n",
      "Epoch 110/300\n",
      "48/48 [==============================] - 0s 329us/step - loss: 569.5428 - r2_score: 0.9500\n",
      "Epoch 111/300\n",
      "48/48 [==============================] - 0s 331us/step - loss: 520.1711 - r2_score: 0.9543\n",
      "Epoch 112/300\n",
      "48/48 [==============================] - 0s 338us/step - loss: 476.1776 - r2_score: 0.9582\n",
      "Epoch 113/300\n",
      "48/48 [==============================] - 0s 334us/step - loss: 437.3296 - r2_score: 0.9616\n",
      "Epoch 114/300\n",
      "48/48 [==============================] - 0s 330us/step - loss: 402.8972 - r2_score: 0.9646\n",
      "Epoch 115/300\n",
      "48/48 [==============================] - 0s 339us/step - loss: 371.4366 - r2_score: 0.9674\n",
      "Epoch 116/300\n",
      "48/48 [==============================] - 0s 351us/step - loss: 344.4781 - r2_score: 0.9697\n",
      "Epoch 117/300\n",
      "48/48 [==============================] - 0s 343us/step - loss: 319.1797 - r2_score: 0.9720\n",
      "Epoch 118/300\n",
      "48/48 [==============================] - 0s 337us/step - loss: 297.4305 - r2_score: 0.9739\n",
      "Epoch 119/300\n",
      "48/48 [==============================] - 0s 307us/step - loss: 279.4611 - r2_score: 0.9755\n",
      "Epoch 120/300\n",
      "48/48 [==============================] - 0s 322us/step - loss: 260.2893 - r2_score: 0.9771\n",
      "Epoch 121/300\n",
      "48/48 [==============================] - 0s 325us/step - loss: 243.9674 - r2_score: 0.9786\n",
      "Epoch 122/300\n",
      "48/48 [==============================] - 0s 310us/step - loss: 230.2742 - r2_score: 0.9798\n",
      "Epoch 123/300\n",
      "48/48 [==============================] - 0s 327us/step - loss: 217.4956 - r2_score: 0.9809\n",
      "Epoch 124/300\n",
      "48/48 [==============================] - 0s 315us/step - loss: 206.8957 - r2_score: 0.9818\n",
      "Epoch 125/300\n",
      "48/48 [==============================] - 0s 331us/step - loss: 195.6630 - r2_score: 0.9828\n",
      "Epoch 126/300\n",
      "48/48 [==============================] - 0s 305us/step - loss: 185.1166 - r2_score: 0.9837\n",
      "Epoch 127/300\n",
      "48/48 [==============================] - 0s 347us/step - loss: 176.0774 - r2_score: 0.9845\n",
      "Epoch 128/300\n",
      "48/48 [==============================] - 0s 889us/step - loss: 167.4461 - r2_score: 0.9853\n",
      "Epoch 129/300\n",
      "48/48 [==============================] - 0s 403us/step - loss: 159.2866 - r2_score: 0.9860\n",
      "Epoch 130/300\n",
      "48/48 [==============================] - 0s 317us/step - loss: 152.6851 - r2_score: 0.9866\n",
      "Epoch 131/300\n",
      "48/48 [==============================] - 0s 321us/step - loss: 145.3498 - r2_score: 0.9872\n",
      "Epoch 132/300\n",
      "48/48 [==============================] - 0s 316us/step - loss: 138.4071 - r2_score: 0.9878\n",
      "Epoch 133/300\n",
      "48/48 [==============================] - 0s 325us/step - loss: 131.5276 - r2_score: 0.9884\n",
      "Epoch 134/300\n",
      "48/48 [==============================] - 0s 330us/step - loss: 125.9767 - r2_score: 0.9889\n",
      "Epoch 135/300\n",
      "48/48 [==============================] - 0s 324us/step - loss: 119.3998 - r2_score: 0.9895\n",
      "Epoch 136/300\n",
      "48/48 [==============================] - 0s 322us/step - loss: 113.6925 - r2_score: 0.9900\n",
      "Epoch 137/300\n",
      "48/48 [==============================] - 0s 318us/step - loss: 108.7441 - r2_score: 0.9904\n",
      "Epoch 138/300\n",
      "48/48 [==============================] - 0s 321us/step - loss: 103.5867 - r2_score: 0.9909\n",
      "Epoch 139/300\n",
      "48/48 [==============================] - 0s 327us/step - loss: 98.4932 - r2_score: 0.9913\n",
      "Epoch 140/300\n",
      "48/48 [==============================] - 0s 320us/step - loss: 94.2675 - r2_score: 0.9917\n",
      "Epoch 141/300\n",
      "48/48 [==============================] - 0s 326us/step - loss: 90.1988 - r2_score: 0.9921\n",
      "Epoch 142/300\n",
      "48/48 [==============================] - 0s 330us/step - loss: 85.9394 - r2_score: 0.9925\n",
      "Epoch 143/300\n",
      "48/48 [==============================] - 0s 321us/step - loss: 82.1431 - r2_score: 0.9928\n",
      "Epoch 144/300\n",
      "48/48 [==============================] - 0s 326us/step - loss: 79.0445 - r2_score: 0.9931\n",
      "Epoch 145/300\n",
      "48/48 [==============================] - 0s 324us/step - loss: 75.4808 - r2_score: 0.9934\n",
      "Epoch 146/300\n",
      "48/48 [==============================] - 0s 331us/step - loss: 72.2482 - r2_score: 0.9937\n",
      "Epoch 147/300\n",
      "48/48 [==============================] - 0s 310us/step - loss: 70.2232 - r2_score: 0.9938\n",
      "Epoch 148/300\n",
      "48/48 [==============================] - 0s 315us/step - loss: 66.2593 - r2_score: 0.9942\n",
      "Epoch 149/300\n",
      "48/48 [==============================] - 0s 322us/step - loss: 63.7641 - r2_score: 0.9944\n",
      "Epoch 150/300\n",
      "48/48 [==============================] - 0s 321us/step - loss: 61.2360 - r2_score: 0.9946\n",
      "Epoch 151/300\n",
      "48/48 [==============================] - 0s 345us/step - loss: 58.9107 - r2_score: 0.9948\n",
      "Epoch 152/300\n",
      "48/48 [==============================] - 0s 329us/step - loss: 56.8013 - r2_score: 0.9950\n",
      "Epoch 153/300\n",
      "48/48 [==============================] - 0s 324us/step - loss: 55.5791 - r2_score: 0.9951\n",
      "Epoch 154/300\n",
      "48/48 [==============================] - 0s 351us/step - loss: 53.5646 - r2_score: 0.9953\n",
      "Epoch 155/300\n",
      "48/48 [==============================] - 0s 363us/step - loss: 52.0313 - r2_score: 0.9954\n",
      "Epoch 156/300\n",
      "48/48 [==============================] - 0s 307us/step - loss: 50.6570 - r2_score: 0.9956\n",
      "Epoch 157/300\n",
      "48/48 [==============================] - 0s 315us/step - loss: 49.3656 - r2_score: 0.9957\n",
      "Epoch 158/300\n",
      "48/48 [==============================] - 0s 317us/step - loss: 47.9630 - r2_score: 0.9958\n",
      "Epoch 159/300\n",
      "48/48 [==============================] - 0s 303us/step - loss: 47.1367 - r2_score: 0.9959\n",
      "Epoch 160/300\n",
      "48/48 [==============================] - 0s 311us/step - loss: 46.4038 - r2_score: 0.9959\n",
      "Epoch 161/300\n",
      "48/48 [==============================] - 0s 350us/step - loss: 45.1804 - r2_score: 0.9960\n",
      "Epoch 162/300\n",
      "48/48 [==============================] - 0s 331us/step - loss: 44.0604 - r2_score: 0.9961\n",
      "Epoch 163/300\n",
      "48/48 [==============================] - 0s 316us/step - loss: 43.3269 - r2_score: 0.9962\n",
      "Epoch 164/300\n",
      "48/48 [==============================] - 0s 316us/step - loss: 42.4453 - r2_score: 0.9963\n",
      "Epoch 165/300\n",
      "48/48 [==============================] - 0s 313us/step - loss: 42.0933 - r2_score: 0.9963\n",
      "Epoch 166/300\n",
      "48/48 [==============================] - 0s 301us/step - loss: 41.4753 - r2_score: 0.9964\n",
      "Epoch 167/300\n",
      "48/48 [==============================] - 0s 322us/step - loss: 40.4776 - r2_score: 0.9964\n",
      "Epoch 168/300\n",
      "48/48 [==============================] - 0s 314us/step - loss: 39.6892 - r2_score: 0.9965\n",
      "Epoch 169/300\n",
      "48/48 [==============================] - 0s 314us/step - loss: 39.2495 - r2_score: 0.9966\n",
      "Epoch 170/300\n",
      "48/48 [==============================] - 0s 316us/step - loss: 39.0145 - r2_score: 0.9966\n",
      "Epoch 171/300\n",
      "48/48 [==============================] - 0s 310us/step - loss: 38.3483 - r2_score: 0.9966\n",
      "Epoch 172/300\n",
      "48/48 [==============================] - 0s 318us/step - loss: 37.6324 - r2_score: 0.9967\n",
      "Epoch 173/300\n",
      "48/48 [==============================] - 0s 316us/step - loss: 37.2185 - r2_score: 0.9967\n",
      "Epoch 174/300\n",
      "48/48 [==============================] - 0s 311us/step - loss: 36.6800 - r2_score: 0.9968\n",
      "Epoch 175/300\n",
      "48/48 [==============================] - 0s 318us/step - loss: 36.9053 - r2_score: 0.9968\n",
      "Epoch 176/300\n",
      "48/48 [==============================] - 0s 313us/step - loss: 36.0681 - r2_score: 0.9968\n",
      "Epoch 177/300\n",
      "48/48 [==============================] - 0s 315us/step - loss: 35.5307 - r2_score: 0.9969\n",
      "Epoch 178/300\n",
      "48/48 [==============================] - 0s 308us/step - loss: 34.9647 - r2_score: 0.9969\n",
      "Epoch 179/300\n",
      "48/48 [==============================] - 0s 307us/step - loss: 34.6110 - r2_score: 0.9970\n",
      "Epoch 180/300\n",
      "48/48 [==============================] - 0s 308us/step - loss: 34.6882 - r2_score: 0.9970\n",
      "Epoch 181/300\n",
      "48/48 [==============================] - 0s 315us/step - loss: 34.1778 - r2_score: 0.9970\n",
      "Epoch 182/300\n",
      "48/48 [==============================] - 0s 331us/step - loss: 34.2869 - r2_score: 0.9970\n",
      "Epoch 183/300\n",
      "48/48 [==============================] - 0s 305us/step - loss: 33.5965 - r2_score: 0.9970\n",
      "Epoch 184/300\n",
      "48/48 [==============================] - 0s 313us/step - loss: 33.4217 - r2_score: 0.9971\n",
      "Epoch 185/300\n",
      "48/48 [==============================] - 0s 318us/step - loss: 33.3643 - r2_score: 0.9971\n",
      "Epoch 186/300\n",
      "48/48 [==============================] - 0s 315us/step - loss: 33.2056 - r2_score: 0.9971\n",
      "Epoch 187/300\n",
      "48/48 [==============================] - 0s 313us/step - loss: 32.7101 - r2_score: 0.9971\n",
      "Epoch 188/300\n",
      "48/48 [==============================] - 0s 321us/step - loss: 32.7018 - r2_score: 0.9971\n",
      "Epoch 189/300\n",
      "48/48 [==============================] - 0s 317us/step - loss: 32.6705 - r2_score: 0.9971\n",
      "Epoch 190/300\n",
      "48/48 [==============================] - 0s 308us/step - loss: 32.1672 - r2_score: 0.9972\n",
      "Epoch 191/300\n",
      "48/48 [==============================] - 0s 991us/step - loss: 32.3246 - r2_score: 0.9972\n",
      "Epoch 192/300\n",
      "48/48 [==============================] - 0s 462us/step - loss: 32.1212 - r2_score: 0.9972\n",
      "Epoch 193/300\n",
      "48/48 [==============================] - 0s 306us/step - loss: 31.9293 - r2_score: 0.9972\n",
      "Epoch 194/300\n",
      "48/48 [==============================] - 0s 307us/step - loss: 31.6869 - r2_score: 0.9972\n",
      "Epoch 195/300\n",
      "48/48 [==============================] - 0s 309us/step - loss: 31.4634 - r2_score: 0.9972\n",
      "Epoch 196/300\n",
      "48/48 [==============================] - 0s 311us/step - loss: 31.1849 - r2_score: 0.9973\n",
      "Epoch 197/300\n",
      "48/48 [==============================] - 0s 323us/step - loss: 31.0454 - r2_score: 0.9973\n",
      "Epoch 198/300\n",
      "48/48 [==============================] - 0s 323us/step - loss: 31.3905 - r2_score: 0.9972\n",
      "Epoch 199/300\n",
      "48/48 [==============================] - 0s 309us/step - loss: 31.1250 - r2_score: 0.9973\n",
      "Epoch 200/300\n",
      "48/48 [==============================] - 0s 316us/step - loss: 30.9113 - r2_score: 0.9973\n",
      "Epoch 201/300\n",
      "48/48 [==============================] - 0s 316us/step - loss: 30.5152 - r2_score: 0.9973\n",
      "Epoch 202/300\n",
      "48/48 [==============================] - 0s 311us/step - loss: 30.3864 - r2_score: 0.9973\n",
      "Epoch 203/300\n",
      "48/48 [==============================] - 0s 314us/step - loss: 30.2925 - r2_score: 0.9973\n",
      "Epoch 204/300\n",
      "48/48 [==============================] - 0s 313us/step - loss: 30.3137 - r2_score: 0.9973\n",
      "Epoch 205/300\n",
      "48/48 [==============================] - 0s 314us/step - loss: 30.2955 - r2_score: 0.9973\n",
      "Epoch 206/300\n",
      "48/48 [==============================] - 0s 308us/step - loss: 29.9761 - r2_score: 0.9974\n",
      "Epoch 207/300\n",
      "48/48 [==============================] - 0s 332us/step - loss: 30.1655 - r2_score: 0.9974\n",
      "Epoch 208/300\n",
      "48/48 [==============================] - 0s 367us/step - loss: 30.0990 - r2_score: 0.9974\n",
      "Epoch 209/300\n",
      "48/48 [==============================] - 0s 322us/step - loss: 29.7767 - r2_score: 0.9974\n",
      "Epoch 210/300\n",
      "48/48 [==============================] - 0s 317us/step - loss: 30.3998 - r2_score: 0.9973\n",
      "Epoch 211/300\n",
      "48/48 [==============================] - 0s 308us/step - loss: 29.6125 - r2_score: 0.9974\n",
      "Epoch 212/300\n",
      "48/48 [==============================] - 0s 308us/step - loss: 29.2174 - r2_score: 0.9974\n",
      "Epoch 213/300\n",
      "48/48 [==============================] - 0s 321us/step - loss: 29.0361 - r2_score: 0.9974\n",
      "Epoch 214/300\n",
      "48/48 [==============================] - 0s 307us/step - loss: 29.1464 - r2_score: 0.9974\n",
      "Epoch 215/300\n",
      "48/48 [==============================] - 0s 421us/step - loss: 28.8430 - r2_score: 0.9975\n",
      "Epoch 216/300\n",
      "48/48 [==============================] - 0s 329us/step - loss: 28.6919 - r2_score: 0.9975\n",
      "Epoch 217/300\n",
      "48/48 [==============================] - 0s 308us/step - loss: 28.6676 - r2_score: 0.9975\n",
      "Epoch 218/300\n",
      "48/48 [==============================] - 0s 317us/step - loss: 28.9372 - r2_score: 0.9975\n",
      "Epoch 219/300\n",
      "48/48 [==============================] - 0s 310us/step - loss: 28.2521 - r2_score: 0.9975\n",
      "Epoch 220/300\n",
      "48/48 [==============================] - 0s 306us/step - loss: 28.5586 - r2_score: 0.9975\n",
      "Epoch 221/300\n",
      "48/48 [==============================] - 0s 309us/step - loss: 28.3769 - r2_score: 0.9975\n",
      "Epoch 222/300\n",
      "48/48 [==============================] - 0s 317us/step - loss: 27.8606 - r2_score: 0.9976\n",
      "Epoch 223/300\n",
      "48/48 [==============================] - 0s 319us/step - loss: 27.7671 - r2_score: 0.9976\n",
      "Epoch 224/300\n",
      "48/48 [==============================] - 0s 312us/step - loss: 28.2303 - r2_score: 0.9975\n",
      "Epoch 225/300\n",
      "48/48 [==============================] - 0s 321us/step - loss: 27.3816 - r2_score: 0.9976\n",
      "Epoch 226/300\n",
      "48/48 [==============================] - 0s 321us/step - loss: 27.6882 - r2_score: 0.9976\n",
      "Epoch 227/300\n",
      "48/48 [==============================] - 0s 311us/step - loss: 27.3723 - r2_score: 0.9976\n",
      "Epoch 228/300\n",
      "48/48 [==============================] - 0s 318us/step - loss: 27.4246 - r2_score: 0.9976\n",
      "Epoch 229/300\n",
      "48/48 [==============================] - 0s 341us/step - loss: 27.3959 - r2_score: 0.9976\n",
      "Epoch 230/300\n",
      "48/48 [==============================] - 0s 317us/step - loss: 27.1933 - r2_score: 0.9976\n",
      "Epoch 231/300\n",
      "48/48 [==============================] - 0s 322us/step - loss: 27.7994 - r2_score: 0.9976\n",
      "Epoch 232/300\n",
      "48/48 [==============================] - 0s 315us/step - loss: 26.9315 - r2_score: 0.9976\n",
      "Epoch 233/300\n",
      "48/48 [==============================] - 0s 315us/step - loss: 26.6173 - r2_score: 0.9977\n",
      "Epoch 234/300\n",
      "48/48 [==============================] - 0s 314us/step - loss: 27.0981 - r2_score: 0.9976\n",
      "Epoch 235/300\n",
      "48/48 [==============================] - 0s 318us/step - loss: 27.1641 - r2_score: 0.9976\n",
      "Epoch 236/300\n",
      "48/48 [==============================] - 0s 304us/step - loss: 26.0935 - r2_score: 0.9977\n",
      "Epoch 237/300\n",
      "48/48 [==============================] - 0s 313us/step - loss: 26.2527 - r2_score: 0.9977\n",
      "Epoch 238/300\n",
      "48/48 [==============================] - 0s 310us/step - loss: 26.0344 - r2_score: 0.9977\n",
      "Epoch 239/300\n",
      "48/48 [==============================] - 0s 786us/step - loss: 26.5526 - r2_score: 0.9977\n",
      "Epoch 240/300\n",
      "48/48 [==============================] - 0s 468us/step - loss: 26.4412 - r2_score: 0.9977\n",
      "Epoch 241/300\n",
      "48/48 [==============================] - 0s 314us/step - loss: 26.2023 - r2_score: 0.9977\n",
      "Epoch 242/300\n",
      "48/48 [==============================] - 0s 322us/step - loss: 25.4515 - r2_score: 0.9978\n",
      "Epoch 243/300\n",
      "48/48 [==============================] - 0s 321us/step - loss: 25.5195 - r2_score: 0.9978\n",
      "Epoch 244/300\n",
      "48/48 [==============================] - 0s 320us/step - loss: 25.4820 - r2_score: 0.9978\n",
      "Epoch 245/300\n",
      "48/48 [==============================] - 0s 315us/step - loss: 25.2171 - r2_score: 0.9978\n",
      "Epoch 246/300\n",
      "48/48 [==============================] - 0s 311us/step - loss: 25.1971 - r2_score: 0.9978\n",
      "Epoch 247/300\n",
      "48/48 [==============================] - 0s 314us/step - loss: 25.0475 - r2_score: 0.9978\n",
      "Epoch 248/300\n",
      "48/48 [==============================] - 0s 317us/step - loss: 25.5105 - r2_score: 0.9978\n",
      "Epoch 249/300\n",
      "48/48 [==============================] - 0s 312us/step - loss: 24.9092 - r2_score: 0.9978\n",
      "Epoch 250/300\n",
      "48/48 [==============================] - 0s 310us/step - loss: 25.6762 - r2_score: 0.9977\n",
      "Epoch 251/300\n",
      "48/48 [==============================] - 0s 315us/step - loss: 25.0792 - r2_score: 0.9978\n",
      "Epoch 252/300\n",
      "48/48 [==============================] - 0s 319us/step - loss: 25.1137 - r2_score: 0.9978\n",
      "Epoch 253/300\n",
      "48/48 [==============================] - 0s 315us/step - loss: 25.1346 - r2_score: 0.9978\n",
      "Epoch 254/300\n",
      "48/48 [==============================] - 0s 317us/step - loss: 24.7081 - r2_score: 0.9978\n",
      "Epoch 255/300\n",
      "48/48 [==============================] - 0s 314us/step - loss: 24.6363 - r2_score: 0.9978\n",
      "Epoch 256/300\n",
      "48/48 [==============================] - 0s 310us/step - loss: 24.3283 - r2_score: 0.9979\n",
      "Epoch 257/300\n",
      "48/48 [==============================] - 0s 318us/step - loss: 24.4003 - r2_score: 0.9979\n",
      "Epoch 258/300\n",
      "48/48 [==============================] - 0s 314us/step - loss: 24.2876 - r2_score: 0.9979\n",
      "Epoch 259/300\n",
      "48/48 [==============================] - 0s 317us/step - loss: 24.1199 - r2_score: 0.9979\n",
      "Epoch 260/300\n",
      "48/48 [==============================] - 0s 311us/step - loss: 23.8965 - r2_score: 0.9979\n",
      "Epoch 261/300\n",
      "48/48 [==============================] - 0s 334us/step - loss: 24.6486 - r2_score: 0.9978\n",
      "Epoch 262/300\n",
      "48/48 [==============================] - 0s 319us/step - loss: 24.1978 - r2_score: 0.9979\n",
      "Epoch 263/300\n",
      "48/48 [==============================] - 0s 310us/step - loss: 23.7313 - r2_score: 0.9979\n",
      "Epoch 264/300\n",
      "48/48 [==============================] - 0s 313us/step - loss: 23.7976 - r2_score: 0.9979\n",
      "Epoch 265/300\n",
      "48/48 [==============================] - 0s 314us/step - loss: 23.6542 - r2_score: 0.9979\n",
      "Epoch 266/300\n",
      "48/48 [==============================] - 0s 311us/step - loss: 23.4715 - r2_score: 0.9979\n",
      "Epoch 267/300\n",
      "48/48 [==============================] - 0s 308us/step - loss: 23.7662 - r2_score: 0.9979\n",
      "Epoch 268/300\n",
      "48/48 [==============================] - 0s 313us/step - loss: 23.5013 - r2_score: 0.9979\n",
      "Epoch 269/300\n",
      "48/48 [==============================] - 0s 309us/step - loss: 23.3475 - r2_score: 0.9979\n",
      "Epoch 270/300\n",
      "48/48 [==============================] - 0s 319us/step - loss: 23.1305 - r2_score: 0.9980\n",
      "Epoch 271/300\n",
      "48/48 [==============================] - 0s 308us/step - loss: 23.3974 - r2_score: 0.9979\n",
      "Epoch 272/300\n",
      "48/48 [==============================] - 0s 319us/step - loss: 23.8450 - r2_score: 0.9979\n",
      "Epoch 273/300\n",
      "48/48 [==============================] - 0s 311us/step - loss: 23.4571 - r2_score: 0.9979\n",
      "Epoch 274/300\n",
      "48/48 [==============================] - 0s 314us/step - loss: 23.0830 - r2_score: 0.9980\n",
      "Epoch 275/300\n",
      "48/48 [==============================] - 0s 308us/step - loss: 23.1901 - r2_score: 0.9980\n",
      "Epoch 276/300\n",
      "48/48 [==============================] - 0s 326us/step - loss: 23.0114 - r2_score: 0.9980\n",
      "Epoch 277/300\n",
      "48/48 [==============================] - 0s 315us/step - loss: 22.5656 - r2_score: 0.9980\n",
      "Epoch 278/300\n",
      "48/48 [==============================] - 0s 379us/step - loss: 23.8646 - r2_score: 0.9979\n",
      "Epoch 279/300\n",
      "48/48 [==============================] - 0s 318us/step - loss: 22.8776 - r2_score: 0.9980\n",
      "Epoch 280/300\n",
      "48/48 [==============================] - 0s 311us/step - loss: 22.4549 - r2_score: 0.9980\n",
      "Epoch 281/300\n",
      "48/48 [==============================] - 0s 323us/step - loss: 22.3692 - r2_score: 0.9980\n",
      "Epoch 282/300\n",
      "48/48 [==============================] - 0s 318us/step - loss: 22.2262 - r2_score: 0.9980\n",
      "Epoch 283/300\n",
      "48/48 [==============================] - 0s 314us/step - loss: 22.2749 - r2_score: 0.9980\n",
      "Epoch 284/300\n",
      "48/48 [==============================] - 0s 315us/step - loss: 22.4558 - r2_score: 0.9980\n",
      "Epoch 285/300\n",
      "48/48 [==============================] - 0s 656us/step - loss: 22.4360 - r2_score: 0.9980\n",
      "Epoch 286/300\n",
      "48/48 [==============================] - 0s 612us/step - loss: 22.1132 - r2_score: 0.9981\n",
      "Epoch 287/300\n",
      "48/48 [==============================] - 0s 312us/step - loss: 22.4004 - r2_score: 0.9980\n",
      "Epoch 288/300\n",
      "48/48 [==============================] - 0s 324us/step - loss: 21.7740 - r2_score: 0.9981\n",
      "Epoch 289/300\n",
      "48/48 [==============================] - 0s 315us/step - loss: 22.0199 - r2_score: 0.9981\n",
      "Epoch 290/300\n",
      "48/48 [==============================] - 0s 313us/step - loss: 22.2581 - r2_score: 0.9980\n",
      "Epoch 291/300\n",
      "48/48 [==============================] - 0s 316us/step - loss: 21.7516 - r2_score: 0.9981\n",
      "Epoch 292/300\n",
      "48/48 [==============================] - 0s 309us/step - loss: 22.2829 - r2_score: 0.9980\n",
      "Epoch 293/300\n",
      "48/48 [==============================] - 0s 315us/step - loss: 21.3186 - r2_score: 0.9981\n",
      "Epoch 294/300\n",
      "48/48 [==============================] - 0s 314us/step - loss: 21.7420 - r2_score: 0.9981\n",
      "Epoch 295/300\n",
      "48/48 [==============================] - 0s 306us/step - loss: 21.6753 - r2_score: 0.9981\n",
      "Epoch 296/300\n",
      "48/48 [==============================] - 0s 313us/step - loss: 22.3465 - r2_score: 0.9980\n",
      "Epoch 297/300\n",
      "48/48 [==============================] - 0s 313us/step - loss: 21.9662 - r2_score: 0.9981\n",
      "Epoch 298/300\n",
      "48/48 [==============================] - 0s 320us/step - loss: 21.6411 - r2_score: 0.9981\n",
      "Epoch 299/300\n",
      "48/48 [==============================] - 0s 312us/step - loss: 21.8759 - r2_score: 0.9981\n",
      "Epoch 300/300\n",
      "48/48 [==============================] - 0s 312us/step - loss: 21.1179 - r2_score: 0.9981\n"
     ]
    },
    {
     "data": {
      "text/plain": [
       "<keras.src.callbacks.History at 0x2990c8e90>"
      ]
     },
     "execution_count": 66,
     "metadata": {},
     "output_type": "execute_result"
    }
   ],
   "source": [
    "# Training an ANN\n",
    "ann.fit(X_train, y_train, batch_size = 16, epochs = 300)"
   ]
  },
  {
   "cell_type": "code",
   "execution_count": 77,
   "id": "c5fdebc1",
   "metadata": {},
   "outputs": [
    {
     "name": "stdout",
     "output_type": "stream",
     "text": [
      "1/1 [==============================] - 0s 23ms/step\n"
     ]
    },
    {
     "name": "stderr",
     "output_type": "stream",
     "text": [
      "/Users/nithinkore/Documents/GitHub/NetflixSPPredE2E/NetflixStockPricePrediction/venv/lib/python3.11/site-packages/sklearn/base.py:493: UserWarning: X does not have valid feature names, but StandardScaler was fitted with feature names\n",
      "  warnings.warn(\n"
     ]
    },
    {
     "data": {
      "text/plain": [
       "array([[413.49548]], dtype=float32)"
      ]
     },
     "execution_count": 77,
     "metadata": {},
     "output_type": "execute_result"
    }
   ],
   "source": [
    "input_obs = [401.970001, 427.700012, 398.200012, 427.140015]\n",
    "ann.predict(sc.transform(np.array(list(input_obs)).reshape(1,-1)))"
   ]
  },
  {
   "cell_type": "code",
   "execution_count": 34,
   "id": "87f0b81e",
   "metadata": {},
   "outputs": [
    {
     "name": "stdout",
     "output_type": "stream",
     "text": [
      "8/8 [==============================] - 0s 2ms/step\n"
     ]
    },
    {
     "data": {
      "text/plain": [
       "array([[362.73404],\n",
       "       [359.83057],\n",
       "       [270.50107],\n",
       "       [551.74915],\n",
       "       [260.49872]], dtype=float32)"
      ]
     },
     "execution_count": 34,
     "metadata": {},
     "output_type": "execute_result"
    }
   ],
   "source": [
    "y_pred = ann.predict(X_test)\n",
    "y_pred[:5]"
   ]
  },
  {
   "cell_type": "code",
   "execution_count": 35,
   "id": "94d55880",
   "metadata": {},
   "outputs": [
    {
     "data": {
      "text/plain": [
       "24.38261289564644"
      ]
     },
     "execution_count": 35,
     "metadata": {},
     "output_type": "execute_result"
    }
   ],
   "source": [
    "mean_squared_error(y_test, y_pred)"
   ]
  },
  {
   "cell_type": "code",
   "execution_count": 36,
   "id": "9851e985",
   "metadata": {},
   "outputs": [
    {
     "name": "stdout",
     "output_type": "stream",
     "text": [
      "24/24 [==============================] - 0s 351us/step\n"
     ]
    },
    {
     "data": {
      "text/plain": [
       "19.210989476226874"
      ]
     },
     "execution_count": 36,
     "metadata": {},
     "output_type": "execute_result"
    }
   ],
   "source": [
    "mean_squared_error(y_train, ann.predict(X_train))"
   ]
  },
  {
   "cell_type": "code",
   "execution_count": 37,
   "id": "7b8a7908",
   "metadata": {},
   "outputs": [
    {
     "data": {
      "text/plain": [
       "0.9980777716662281"
      ]
     },
     "execution_count": 37,
     "metadata": {},
     "output_type": "execute_result"
    }
   ],
   "source": [
    "r2_score(y_test, y_pred)"
   ]
  },
  {
   "cell_type": "code",
   "execution_count": 38,
   "id": "f67f2e3c",
   "metadata": {},
   "outputs": [
    {
     "name": "stdout",
     "output_type": "stream",
     "text": [
      " 1/24 [>.............................] - ETA: 0s"
     ]
    },
    {
     "name": "stdout",
     "output_type": "stream",
     "text": [
      "24/24 [==============================] - 0s 372us/step\n"
     ]
    },
    {
     "data": {
      "text/plain": [
       "0.9983125681824959"
      ]
     },
     "execution_count": 38,
     "metadata": {},
     "output_type": "execute_result"
    }
   ],
   "source": [
    "r2_score(y_train, ann.predict(X_train))"
   ]
  },
  {
   "cell_type": "code",
   "execution_count": 39,
   "id": "52fa49e5",
   "metadata": {},
   "outputs": [
    {
     "data": {
      "text/plain": [
       "3.681954926097766"
      ]
     },
     "execution_count": 39,
     "metadata": {},
     "output_type": "execute_result"
    }
   ],
   "source": [
    "mean_absolute_error(y_test, y_pred)"
   ]
  },
  {
   "cell_type": "markdown",
   "id": "03161323",
   "metadata": {},
   "source": [
    "##### Plotting a scatter for the predictions"
   ]
  },
  {
   "cell_type": "code",
   "execution_count": 40,
   "id": "f4c9c5c5",
   "metadata": {},
   "outputs": [
    {
     "data": {
      "text/plain": [
       "<Axes: xlabel='Close'>"
      ]
     },
     "execution_count": 40,
     "metadata": {},
     "output_type": "execute_result"
    },
    {
     "data": {
      "image/png": "[encoded data removed]",
      "text/plain": [
       "<Figure size 640x480 with 1 Axes>"
      ]
     },
     "metadata": {},
     "output_type": "display_data"
    }
   ],
   "source": [
    "sns.scatterplot(x = y_test, y = y_pred.flatten())"
   ]
  },
  {
   "cell_type": "markdown",
   "id": "b088d976",
   "metadata": {},
   "source": [
    "This in a kind of evidence showing that the model is performing well for the given task. "
   ]
  },
  {
   "cell_type": "markdown",
   "id": "24bca346",
   "metadata": {},
   "source": [
    "##### Plotting residuals"
   ]
  },
  {
   "cell_type": "code",
   "execution_count": 41,
   "id": "80130fe0",
   "metadata": {},
   "outputs": [
    {
     "data": {
      "text/plain": [
       "284    3.495972\n",
       "118    3.039429\n",
       "432    0.768921\n",
       "805    2.690856\n",
       "221    0.081269\n",
       "         ...   \n",
       "955   -3.470092\n",
       "59     3.234436\n",
       "534   -8.295898\n",
       "426    1.734406\n",
       "404    0.501221\n",
       "Name: Close, Length: 253, dtype: float64"
      ]
     },
     "execution_count": 41,
     "metadata": {},
     "output_type": "execute_result"
    }
   ],
   "source": [
    "residuals = y_test - y_pred.flatten() \n",
    "residuals"
   ]
  },
  {
   "cell_type": "code",
   "execution_count": 42,
   "id": "d4101969",
   "metadata": {},
   "outputs": [
    {
     "data": {
      "text/plain": [
       "<seaborn.axisgrid.FacetGrid at 0x289d97790>"
      ]
     },
     "execution_count": 42,
     "metadata": {},
     "output_type": "execute_result"
    },
    {
     "data": {
      "image/png": "[encoded data removed]",
      "text/plain": [
       "<Figure size 500x500 with 1 Axes>"
      ]
     },
     "metadata": {},
     "output_type": "display_data"
    }
   ],
   "source": [
    "sns.displot(residuals, kind = 'kde')"
   ]
  },
  {
   "cell_type": "markdown",
   "id": "e5920909",
   "metadata": {},
   "source": [
    "#### pickle the model file for deployment"
   ]
  },
  {
   "cell_type": "code",
   "execution_count": 263,
   "id": "1555f535",
   "metadata": {},
   "outputs": [
    {
     "name": "stderr",
     "output_type": "stream",
     "text": [
      "/Users/nithinkore/anaconda3/lib/python3.10/site-packages/keras/src/engine/training.py:3103: UserWarning: You are saving your model as an HDF5 file via `model.save()`. This file format is considered legacy. We recommend using instead the native Keras format, e.g. `model.save('my_model.keras')`.\n",
      "  saving_api.save_model(\n"
     ]
    }
   ],
   "source": [
    "# pickle.dump(ann, open(\"ann_model.pkl\", \"wb\"))\n",
    "\n",
    "ann.save(\"ann_model.h5\")"
   ]
  },
  {
   "cell_type": "code",
   "execution_count": 264,
   "id": "95b54819",
   "metadata": {},
   "outputs": [],
   "source": [
    "loaded_model = load_model('ann_model.h5')"
   ]
  },
  {
   "cell_type": "code",
   "execution_count": 265,
   "id": "d1798298",
   "metadata": {},
   "outputs": [
    {
     "name": "stdout",
     "output_type": "stream",
     "text": [
      "8/8 [==============================] - 0s 705us/step\n"
     ]
    },
    {
     "data": {
      "text/plain": [
       "array([[363.418  ],\n",
       "       [360.14584],\n",
       "       [270.6936 ],\n",
       "       [551.07166],\n",
       "       [260.39267],\n",
       "       [517.5325 ],\n",
       "       [283.69772],\n",
       "       [437.81143],\n",
       "       [483.29977],\n",
       "       [287.7408 ],\n",
       "       [291.02396],\n",
       "       [290.92648],\n",
       "       [296.50046],\n",
       "       [565.6561 ],\n",
       "       [487.15335],\n",
       "       [502.2814 ],\n",
       "       [294.42456],\n",
       "       [293.06583],\n",
       "       [361.00568],\n",
       "       [487.6017 ],\n",
       "       [366.06326],\n",
       "       [327.1844 ],\n",
       "       [416.49316],\n",
       "       [390.38535],\n",
       "       [504.4413 ],\n",
       "       [557.5775 ],\n",
       "       [384.83142],\n",
       "       [355.0668 ],\n",
       "       [483.60748],\n",
       "       [266.4    ],\n",
       "       [340.10446],\n",
       "       [587.827  ],\n",
       "       [295.25748],\n",
       "       [352.42627],\n",
       "       [322.03348],\n",
       "       [336.69446],\n",
       "       [379.485  ],\n",
       "       [357.93787],\n",
       "       [288.79163],\n",
       "       [355.24228],\n",
       "       [483.45078],\n",
       "       [558.5276 ],\n",
       "       [286.65582],\n",
       "       [521.32654],\n",
       "       [319.8155 ],\n",
       "       [508.54807],\n",
       "       [619.135  ],\n",
       "       [346.39615],\n",
       "       [359.07504],\n",
       "       [499.92587],\n",
       "       [347.66382],\n",
       "       [609.92084],\n",
       "       [271.76044],\n",
       "       [377.40335],\n",
       "       [448.68262],\n",
       "       [632.8795 ],\n",
       "       [504.93118],\n",
       "       [354.26425],\n",
       "       [500.05954],\n",
       "       [353.86227],\n",
       "       [611.8053 ],\n",
       "       [672.31396],\n",
       "       [288.53586],\n",
       "       [627.8915 ],\n",
       "       [295.19247],\n",
       "       [526.94385],\n",
       "       [417.15842],\n",
       "       [543.2154 ],\n",
       "       [337.569  ],\n",
       "       [422.3778 ],\n",
       "       [321.59293],\n",
       "       [500.0032 ],\n",
       "       [376.7246 ],\n",
       "       [511.7947 ],\n",
       "       [489.76938],\n",
       "       [325.8366 ],\n",
       "       [543.5045 ],\n",
       "       [511.86105],\n",
       "       [366.17154],\n",
       "       [614.2314 ],\n",
       "       [308.2067 ],\n",
       "       [314.74576],\n",
       "       [367.73892],\n",
       "       [366.90555],\n",
       "       [377.59845],\n",
       "       [532.2556 ],\n",
       "       [506.54376],\n",
       "       [340.35532],\n",
       "       [510.8658 ],\n",
       "       [500.89206],\n",
       "       [282.3978 ],\n",
       "       [357.7462 ],\n",
       "       [499.19565],\n",
       "       [449.065  ],\n",
       "       [293.18405],\n",
       "       [484.20203],\n",
       "       [679.3835 ],\n",
       "       [570.1975 ],\n",
       "       [359.602  ],\n",
       "       [559.04114],\n",
       "       [637.40076],\n",
       "       [666.2699 ],\n",
       "       [358.2185 ],\n",
       "       [585.8302 ],\n",
       "       [342.9081 ],\n",
       "       [623.30786],\n",
       "       [305.02933],\n",
       "       [398.8867 ],\n",
       "       [396.2191 ],\n",
       "       [356.2552 ],\n",
       "       [437.76907],\n",
       "       [502.42825],\n",
       "       [549.4233 ],\n",
       "       [417.98453],\n",
       "       [287.9536 ],\n",
       "       [525.28375],\n",
       "       [551.12805],\n",
       "       [578.1002 ],\n",
       "       [594.8989 ],\n",
       "       [619.1013 ],\n",
       "       [332.0626 ],\n",
       "       [351.8112 ],\n",
       "       [353.08136],\n",
       "       [520.36285],\n",
       "       [534.68176],\n",
       "       [502.89966],\n",
       "       [497.9393 ],\n",
       "       [275.54257],\n",
       "       [351.249  ],\n",
       "       [435.381  ],\n",
       "       [516.59717],\n",
       "       [348.19183],\n",
       "       [517.0168 ],\n",
       "       [358.2705 ],\n",
       "       [539.0464 ],\n",
       "       [337.4751 ],\n",
       "       [374.23352],\n",
       "       [327.63126],\n",
       "       [276.36694],\n",
       "       [574.692  ],\n",
       "       [295.0301 ],\n",
       "       [271.31137],\n",
       "       [537.1986 ],\n",
       "       [672.4154 ],\n",
       "       [520.5674 ],\n",
       "       [289.35995],\n",
       "       [423.42502],\n",
       "       [366.47113],\n",
       "       [360.59763],\n",
       "       [308.91476],\n",
       "       [367.25668],\n",
       "       [484.86438],\n",
       "       [666.9999 ],\n",
       "       [389.3648 ],\n",
       "       [608.04193],\n",
       "       [242.41135],\n",
       "       [272.72424],\n",
       "       [475.98257],\n",
       "       [371.71014],\n",
       "       [530.0943 ],\n",
       "       [354.9271 ],\n",
       "       [339.36487],\n",
       "       [529.6247 ],\n",
       "       [334.72195],\n",
       "       [322.92725],\n",
       "       [329.82236],\n",
       "       [310.35718],\n",
       "       [349.10684],\n",
       "       [351.69983],\n",
       "       [502.46518],\n",
       "       [275.10126],\n",
       "       [362.29684],\n",
       "       [488.55063],\n",
       "       [280.93323],\n",
       "       [256.60632],\n",
       "       [353.2408 ],\n",
       "       [534.2358 ],\n",
       "       [382.18973],\n",
       "       [301.6254 ],\n",
       "       [616.98236],\n",
       "       [527.61   ],\n",
       "       [683.50024],\n",
       "       [330.69318],\n",
       "       [589.03564],\n",
       "       [486.13425],\n",
       "       [291.62305],\n",
       "       [357.09103],\n",
       "       [484.23474],\n",
       "       [511.54343],\n",
       "       [450.306  ],\n",
       "       [325.29965],\n",
       "       [495.35526],\n",
       "       [446.20078],\n",
       "       [666.1371 ],\n",
       "       [422.94437],\n",
       "       [274.86624],\n",
       "       [316.84003],\n",
       "       [490.73486],\n",
       "       [313.782  ],\n",
       "       [293.87738],\n",
       "       [511.45   ],\n",
       "       [336.95407],\n",
       "       [289.9073 ],\n",
       "       [324.86652],\n",
       "       [366.6903 ],\n",
       "       [551.71655],\n",
       "       [372.49545],\n",
       "       [505.9916 ],\n",
       "       [305.0422 ],\n",
       "       [290.77798],\n",
       "       [366.26086],\n",
       "       [377.70428],\n",
       "       [359.87646],\n",
       "       [318.37802],\n",
       "       [309.2267 ],\n",
       "       [324.01263],\n",
       "       [401.44397],\n",
       "       [305.76776],\n",
       "       [266.0494 ],\n",
       "       [271.50137],\n",
       "       [472.65988],\n",
       "       [382.42932],\n",
       "       [452.91055],\n",
       "       [266.17545],\n",
       "       [427.99136],\n",
       "       [524.20764],\n",
       "       [331.48047],\n",
       "       [353.62735],\n",
       "       [307.35974],\n",
       "       [355.42923],\n",
       "       [338.3735 ],\n",
       "       [340.85144],\n",
       "       [368.19907],\n",
       "       [333.39108],\n",
       "       [416.24753],\n",
       "       [364.78107],\n",
       "       [333.11838],\n",
       "       [512.76996],\n",
       "       [489.12985],\n",
       "       [594.53394],\n",
       "       [485.93027],\n",
       "       [268.199  ],\n",
       "       [270.36404],\n",
       "       [246.22769],\n",
       "       [511.01144],\n",
       "       [361.68738],\n",
       "       [371.15652],\n",
       "       [515.4424 ],\n",
       "       [684.676  ],\n",
       "       [309.81583],\n",
       "       [341.5635 ],\n",
       "       [282.0655 ],\n",
       "       [293.9175 ]], dtype=float32)"
      ]
     },
     "execution_count": 265,
     "metadata": {},
     "output_type": "execute_result"
    }
   ],
   "source": [
    "loaded_model.predict(X_test)"
   ]
  },
  {
   "cell_type": "code",
   "execution_count": null,
   "id": "8068c9e5",
   "metadata": {},
   "outputs": [],
   "source": []
  }
 ],
 "metadata": {
  "kernelspec": {
   "display_name": "Python 3 (ipykernel)",
   "language": "python",
   "name": "python3"
  },
  "language_info": {
   "codemirror_mode": {
    "name": "ipython",
    "version": 3
   },
   "file_extension": ".py",
   "mimetype": "text/x-python",
   "name": "python",
   "nbconvert_exporter": "python",
   "pygments_lexer": "ipython3",
   "version": "3.11.0"
  }
 },
 "nbformat": 4,
 "nbformat_minor": 5
}
